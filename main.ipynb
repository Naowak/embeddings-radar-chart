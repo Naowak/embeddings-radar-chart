{
  "cells": [
    {
      "cell_type": "markdown",
      "metadata": {
        "id": "m1pNf54eW96N"
      },
      "source": [
        "# Install & load model"
      ]
    },
    {
      "cell_type": "code",
      "execution_count": 1,
      "metadata": {
        "colab": {
          "base_uri": "https://localhost:8080/"
        },
        "id": "CKcdwIbCQkSb",
        "outputId": "4e087d4a-1772-4f97-dd04-d539fe3f2ecb"
      },
      "outputs": [
        {
          "name": "stdout",
          "output_type": "stream",
          "text": [
            "\n",
            "\u001b[1m[\u001b[0m\u001b[34;49mnotice\u001b[0m\u001b[1;39;49m]\u001b[0m\u001b[39;49m A new release of pip is available: \u001b[0m\u001b[31;49m23.2.1\u001b[0m\u001b[39;49m -> \u001b[0m\u001b[32;49m23.3.1\u001b[0m\n",
            "\u001b[1m[\u001b[0m\u001b[34;49mnotice\u001b[0m\u001b[1;39;49m]\u001b[0m\u001b[39;49m To update, run: \u001b[0m\u001b[32;49mpip install --upgrade pip\u001b[0m\n",
            "Note: you may need to restart the kernel to use updated packages.\n"
          ]
        }
      ],
      "source": [
        "%pip install transformers plotly tqdm numpy torch torchvision torchaudio pandas nbformat scipy"
      ]
    },
    {
      "cell_type": "code",
      "execution_count": 2,
      "metadata": {
        "colab": {
          "base_uri": "https://localhost:8080/"
        },
        "id": "gPoskQM7dXC-",
        "outputId": "2d27d097-29ba-4c39-f806-20378cd5a363"
      },
      "outputs": [
        {
          "name": "stderr",
          "output_type": "stream",
          "text": [
            "/Users/naowak/Thesis/code/embeddings-radar-chart/venv/lib/python3.11/site-packages/tqdm/auto.py:21: TqdmWarning: IProgress not found. Please update jupyter and ipywidgets. See https://ipywidgets.readthedocs.io/en/stable/user_install.html\n",
            "  from .autonotebook import tqdm as notebook_tqdm\n"
          ]
        },
        {
          "data": {
            "text/plain": [
              "<torch.autograd.grad_mode.no_grad at 0x105e14090>"
            ]
          },
          "execution_count": 2,
          "metadata": {},
          "output_type": "execute_result"
        }
      ],
      "source": [
        "from transformers import BertModel, BertTokenizer\n",
        "import plotly.express as px\n",
        "from tqdm import tqdm\n",
        "import glob\n",
        "import numpy as np\n",
        "import scipy\n",
        "import torch\n",
        "import random\n",
        "import plotly.graph_objects as go\n",
        "torch.no_grad()"
      ]
    },
    {
      "cell_type": "code",
      "execution_count": 3,
      "metadata": {
        "id": "zVtaIIEnPbw1"
      },
      "outputs": [],
      "source": [
        "model = BertModel.from_pretrained('bert-base-uncased')\n",
        "tokenizer = BertTokenizer.from_pretrained('bert-base-uncased')"
      ]
    },
    {
      "cell_type": "markdown",
      "metadata": {
        "id": "oepUZ3mZXDWy"
      },
      "source": [
        "# First view of the embeddings"
      ]
    },
    {
      "cell_type": "code",
      "execution_count": null,
      "metadata": {
        "colab": {
          "base_uri": "https://localhost:8080/"
        },
        "id": "P_lLeTTRRghL",
        "outputId": "b62cbd95-0e36-4498-c194-4f57720e108e"
      },
      "outputs": [],
      "source": [
        "text = \"The cat hunts the mice, it will kill\"\n",
        "tokens = tokenizer.tokenize(text)\n",
        "input_ids = tokenizer.convert_tokens_to_ids(tokens)\n",
        "print('\\n'.join([f\"{k}: {v}\" for k, v in dict(zip(tokens, input_ids)).items()]))"
      ]
    },
    {
      "cell_type": "code",
      "execution_count": null,
      "metadata": {
        "colab": {
          "base_uri": "https://localhost:8080/"
        },
        "id": "p2UUHz1mRpXS",
        "outputId": "b10bcc1b-8917-49bc-916d-e0d02cd33647"
      },
      "outputs": [],
      "source": [
        "input_tensor = torch.tensor(input_ids).unsqueeze(0)\n",
        "outputs = model(input_tensor)\n",
        "embeddings = outputs.last_hidden_state[0]\n",
        "print(embeddings, '\\n')\n",
        "print(embeddings.shape)"
      ]
    },
    {
      "cell_type": "code",
      "execution_count": null,
      "metadata": {
        "colab": {
          "base_uri": "https://localhost:8080/"
        },
        "id": "wa3sjy8VU8qG",
        "outputId": "67c03efa-f58b-4933-e640-47edae53d61c"
      },
      "outputs": [],
      "source": [
        "outputs = model(torch.tensor([4937]).unsqueeze(0))\n",
        "cat_embed = outputs.last_hidden_state[0]\n",
        "print(embeddings[1, :3])\n",
        "print(cat_embed[:,:3])"
      ]
    },
    {
      "cell_type": "markdown",
      "metadata": {
        "id": "AoDCae63XNNH"
      },
      "source": [
        "# Get \"raw\" embeddings for each token"
      ]
    },
    {
      "cell_type": "code",
      "execution_count": null,
      "metadata": {
        "colab": {
          "base_uri": "https://localhost:8080/"
        },
        "id": "okHZzGFwTMPH",
        "outputId": "4ca06550-30c9-4572-dee7-2b0c5c791792"
      },
      "outputs": [],
      "source": [
        "vocab = list(tokenizer.get_vocab().keys())\n",
        "print(vocab[10000:10010])\n",
        "print(\"Length:\", len(vocab))"
      ]
    },
    {
      "cell_type": "code",
      "execution_count": null,
      "metadata": {
        "colab": {
          "base_uri": "https://localhost:8080/"
        },
        "id": "8jwKzuReXyn4",
        "outputId": "656aa8db-2c58-4c25-b0dc-cdfbcff3914e"
      },
      "outputs": [],
      "source": [
        "tokenizer.convert_tokens_to_ids(tokenizer.tokenize(\"hello\"))"
      ]
    },
    {
      "cell_type": "code",
      "execution_count": null,
      "metadata": {
        "colab": {
          "base_uri": "https://localhost:8080/",
          "height": 56
        },
        "id": "krMbg2HtYO2N",
        "outputId": "143d8f7d-958d-4930-f972-26890a2cd4cf"
      },
      "outputs": [],
      "source": [
        "tokenizer.decode(torch.tensor([7592]))"
      ]
    },
    {
      "cell_type": "code",
      "execution_count": null,
      "metadata": {
        "colab": {
          "base_uri": "https://localhost:8080/"
        },
        "id": "-h8lj2rOTDjt",
        "outputId": "040d0682-fa70-49ff-a6da-09153825e984"
      },
      "outputs": [],
      "source": [
        "begin = 0\n",
        "end = len(vocab)\n",
        "\n",
        "vocab_emb = [model(torch.tensor([i]).unsqueeze(0)).last_hidden_state[0] for i in tqdm(range(begin, end))]\n",
        "vocab_emb = torch.stack(vocab_emb).reshape(-1, 768).detach().numpy()\n",
        "np.save(f\"vocab_emb_matrix.npy\", vocab_emb)\n",
        "#np.save(f\"vocab_emb_matrix_{begin}-{end}.npy\", vocab_emb)"
      ]
    },
    {
      "cell_type": "code",
      "execution_count": null,
      "metadata": {
        "id": "i600DH9Tptcx"
      },
      "outputs": [],
      "source": [
        "# In case you want to concatenate the matrices from different runs\n",
        "\n",
        "file_list = glob.glob(\"*.npy\")\n",
        "matrices = [np.load(file) for file in file_list]\n",
        "vocab_emb_matrix = np.concatenate(matrices, axis=0)\n",
        "np.save('vocab_emb_matrix.npy', vocab_emb_matrix)"
      ]
    },
    {
      "cell_type": "code",
      "execution_count": null,
      "metadata": {
        "colab": {
          "base_uri": "https://localhost:8080/"
        },
        "id": "TYzwdkONqKgK",
        "outputId": "29e8f613-2c32-410a-8798-ee772e5070c6"
      },
      "outputs": [],
      "source": [
        "vocab_emb_matrix.shape"
      ]
    },
    {
      "cell_type": "code",
      "execution_count": null,
      "metadata": {},
      "outputs": [],
      "source": [
        "fig = px.histogram(vocab_emb_matrix[:, 200])\n",
        "fig.show()"
      ]
    },
    {
      "cell_type": "markdown",
      "metadata": {
        "id": "u_-kpq6NqPM-"
      },
      "source": [
        "Compute correlation and display it"
      ]
    },
    {
      "cell_type": "code",
      "execution_count": null,
      "metadata": {
        "colab": {
          "base_uri": "https://localhost:8080/"
        },
        "id": "XEfRZ6ASqUtZ",
        "outputId": "9a3de68d-da26-4322-9604-9a0ac4d44df6"
      },
      "outputs": [],
      "source": [
        "# Charger la matrice concaténée\n",
        "vocab_emb_matrix = np.load('vocab_emb_matrix.npy')\n",
        "\n",
        "# Calculer la moyenne et l'écart-type pour chaque colonne\n",
        "means = np.mean(vocab_emb_matrix, axis=0)\n",
        "std_devs = np.std(vocab_emb_matrix, axis=0)\n",
        "\n",
        "# Normalisation : soustraire la moyenne et diviser par l'écart-type pour chaque colonne\n",
        "vocab_emb_matrix = (vocab_emb_matrix - means) / std_devs\n",
        "\n",
        "# Vérification\n",
        "print(\"Moyennes:\", np.mean(vocab_emb_matrix, axis=0)[:5])\n",
        "print(\"Écarts-types:\", np.std(vocab_emb_matrix, axis=0)[:5])"
      ]
    },
    {
      "cell_type": "code",
      "execution_count": null,
      "metadata": {},
      "outputs": [],
      "source": [
        "# Calculer la matrice de corrélation\n",
        "correlation_matrix = np.corrcoef(vocab_emb_matrix, rowvar=False)\n",
        "np.save('correlation_matrix.npy', correlation_matrix)\n",
        "\n",
        "# Print the shape\n",
        "print('shape', correlation_matrix.shape)\n",
        "\n",
        "# Display heatmap\n",
        "fig = px.imshow(correlation_matrix)\n",
        "fig.show()"
      ]
    },
    {
      "cell_type": "code",
      "execution_count": null,
      "metadata": {},
      "outputs": [],
      "source": [
        "import numpy as np\n",
        "import plotly.graph_objects as go\n",
        "\n",
        "def matrix_stats(matrix):\n",
        "    \"\"\"Retourne les statistiques de la matrice en excluant la diagonale.\"\"\"\n",
        "    values = matrix[~np.eye(matrix.shape[0],dtype=bool)]\n",
        "    return {\n",
        "        'min': np.min(values),\n",
        "        'max': np.max(values),\n",
        "        'mean': np.mean(values),\n",
        "        'median': np.median(values)\n",
        "    }\n",
        "\n",
        "# Supposons que corr_matrix soit votre matrice de corrélation\n",
        "# corr_matrix = np.corrcoef(data, rowvar=False)  # Exemple\n",
        "\n",
        "stats = matrix_stats(correlation_matrix)\n",
        "print(\"Statistics:\", stats)\n",
        "\n",
        "# Histogramme des valeurs de corrélation\n",
        "fig2 = go.Figure(data=go.Histogram(x=correlation_matrix[~np.eye(correlation_matrix.shape[0], dtype=bool)], nbinsx=50))\n",
        "fig2.update_layout(title='Distribution des Valeurs de Corrélation', xaxis_title='Valeur de Corrélation', yaxis_title='Compte')\n",
        "fig2.show()\n"
      ]
    },
    {
      "cell_type": "code",
      "execution_count": null,
      "metadata": {
        "colab": {
          "base_uri": "https://localhost:8080/",
          "height": 562
        },
        "id": "jrE_RC9lrUV1",
        "outputId": "3896c6ba-d484-4fd3-c78a-3139b4e34136"
      },
      "outputs": [],
      "source": [
        "fig = px.line(correlation_matrix[100])\n",
        "fig.show()"
      ]
    },
    {
      "cell_type": "code",
      "execution_count": null,
      "metadata": {},
      "outputs": [],
      "source": [
        "corr_matrix_no_diag = np.copy(correlation_matrix)\n",
        "np.fill_diagonal(corr_matrix_no_diag, 0)\n",
        "maxs = np.max(corr_matrix_no_diag, axis=1)\n",
        "mins = np.min(corr_matrix_no_diag, axis=1)\n",
        "\n",
        "# Création des histogrammes avec plotly.graph_objects\n",
        "fig = go.Figure()\n",
        "fig.add_trace(go.Histogram(x=maxs, name='Maxs', opacity=0.75))\n",
        "fig.add_trace(go.Histogram(x=mins, name='Mins', opacity=0.75))\n",
        "\n",
        "# Mise à jour du layout pour mieux visualiser les histogrammes superposés\n",
        "fig.update_layout(barmode='overlay', title=\"Distribution des Maxs et Mins\")\n",
        "fig.show()"
      ]
    },
    {
      "cell_type": "code",
      "execution_count": null,
      "metadata": {},
      "outputs": [],
      "source": [
        "coef_corr = 0.5\n",
        "no_corr_dims = [dmax < coef_corr and dmin > -coef_corr for dmax, dmin in zip(maxs, mins)]\n",
        "print(f\"Nombre de dimensions sans corrélation: {sum(no_corr_dims)}/{len(no_corr_dims)}\")\n",
        "#print(f\"Dimensions sans corrélation: {np.where(no_corr_dims)}\")\n",
        "\n",
        "print('Moyenne des correlations max pour les dim sans corr:', np.mean(maxs[no_corr_dims]))\n",
        "print('Moyenne des correlations min pour les dim sans corr:', np.mean(mins[no_corr_dims]))"
      ]
    },
    {
      "cell_type": "markdown",
      "metadata": {},
      "source": [
        "# Study absolute correlation "
      ]
    },
    {
      "cell_type": "code",
      "execution_count": null,
      "metadata": {},
      "outputs": [],
      "source": [
        "# Charger la matrice concaténée\n",
        "correlation_matrix = np.load('correlation_matrix.npy')\n",
        "\n",
        "# Calculer la matrice de corrélation absolue\n",
        "abs_corr_matrix = np.abs(correlation_matrix)\n",
        "\n",
        "# Display heatmap\n",
        "fig = px.imshow(abs_corr_matrix)\n",
        "fig.show()\n",
        "\n",
        "# Histogramme des valeurs de corrélation absolue\n",
        "fig2 = go.Figure(data=go.Histogram(x=abs_corr_matrix[~np.eye(correlation_matrix.shape[0], dtype=bool)], nbinsx=50))\n",
        "fig2.update_layout(title='Distribution des Valeurs de Corrélation', xaxis_title='Valeur de Corrélation', yaxis_title='Compte')\n",
        "fig2.show()"
      ]
    },
    {
      "cell_type": "markdown",
      "metadata": {},
      "source": [
        "# Sort dimensions (absolute correlation)"
      ]
    },
    {
      "cell_type": "code",
      "execution_count": 45,
      "metadata": {},
      "outputs": [
        {
          "name": "stdout",
          "output_type": "stream",
          "text": [
            "Gen 0: 1085794.1356755034\n",
            "Gen 1: 1085643.418171864\n",
            "Gen 2: 1084824.2151979185\n",
            "Gen 3: 1084348.0236226844\n",
            "Gen 4: 1082817.056391608\n",
            "Gen 5: 1082290.0322586985\n",
            "Gen 6: 1081241.4408383835\n",
            "Gen 7: 1080115.1656163265\n",
            "Gen 8: 1079152.4288942986\n",
            "Gen 9: 1077364.3173742716\n",
            "Gen 10: 1075586.4845291423\n",
            "Gen 11: 1073924.99164325\n",
            "Gen 12: 1072395.5149253255\n",
            "Gen 13: 1070902.653328526\n",
            "Gen 14: 1068881.2657587673\n",
            "Gen 15: 1067558.5982620735\n",
            "Gen 16: 1065692.2082789359\n",
            "Gen 17: 1063155.6839707985\n",
            "Gen 18: 1061190.7020502056\n",
            "Gen 19: 1059052.819226459\n",
            "Gen 20: 1055963.476367694\n",
            "Gen 21: 1054495.98836774\n",
            "Gen 22: 1052445.2166018372\n",
            "Gen 23: 1051306.6335522057\n",
            "Gen 24: 1050050.2486386658\n",
            "Gen 25: 1048384.9362980399\n",
            "Gen 26: 1046300.5401706774\n",
            "Gen 27: 1044422.3200015379\n",
            "Gen 28: 1042190.1445735891\n",
            "Gen 29: 1041364.3004994459\n",
            "Gen 30: 1039118.6055399809\n",
            "Gen 31: 1038350.9711677422\n",
            "Gen 32: 1036989.1890940322\n",
            "Gen 33: 1035016.3315702028\n",
            "Gen 34: 1032540.8266377762\n",
            "Gen 35: 1030987.4130681419\n",
            "Gen 36: 1027438.5201953356\n",
            "Gen 37: 1026255.4308109595\n",
            "Gen 38: 1024741.4179758038\n",
            "Gen 39: 1022678.5882815862\n",
            "Gen 40: 1020843.1553006852\n",
            "Gen 41: 1017906.0761117914\n",
            "Gen 42: 1017039.1174630953\n",
            "Gen 43: 1015115.5275463935\n",
            "Gen 44: 1014052.6190152366\n",
            "Gen 45: 1011503.9497248388\n",
            "Gen 46: 1009900.0398343097\n",
            "Gen 47: 1007756.2777078699\n",
            "Gen 48: 1004844.1954526324\n",
            "Gen 49: 1004177.5025416106\n",
            "Gen 50: 1003096.5967478139\n",
            "Gen 51: 1001642.8699718976\n",
            "Gen 52: 1000247.2844345323\n",
            "Gen 53: 998212.578143732\n",
            "Gen 54: 995739.1372051432\n",
            "Gen 55: 994348.1708695021\n",
            "Gen 56: 993028.8416223961\n",
            "Gen 57: 992032.5895235459\n",
            "Gen 58: 989086.7581652411\n",
            "Gen 59: 988431.820962752\n",
            "Gen 60: 986725.8951850865\n",
            "Gen 61: 985156.1185466886\n",
            "Gen 62: 983414.1952797454\n",
            "Gen 63: 982348.3131985667\n",
            "Gen 64: 981529.8433886092\n",
            "Gen 65: 980815.0416589645\n",
            "Gen 66: 978455.2128800598\n",
            "Gen 67: 977878.6237660857\n",
            "Gen 68: 977036.4357338254\n",
            "Gen 69: 975498.6291303511\n",
            "Gen 70: 973995.2170741227\n",
            "Gen 71: 973618.0434879466\n",
            "Gen 72: 972571.143829144\n",
            "Gen 73: 971436.1241160688\n",
            "Gen 74: 970456.4507545236\n",
            "Gen 75: 968535.6546386173\n",
            "Gen 76: 967164.9363227356\n",
            "Gen 77: 966290.194493119\n",
            "Gen 78: 965283.3064766608\n",
            "Gen 79: 963259.9462533803\n",
            "Gen 80: 962126.9508999687\n",
            "Gen 81: 960744.7728684039\n",
            "Gen 82: 959719.1725810833\n",
            "Gen 83: 958471.7809806304\n",
            "Gen 84: 957225.8577401717\n",
            "Gen 85: 956522.012441248\n",
            "Gen 86: 955581.4414609141\n",
            "Gen 87: 954286.7617351295\n",
            "Gen 88: 953500.1998935802\n",
            "Gen 89: 952179.243629407\n",
            "Gen 90: 950713.033906931\n",
            "Gen 91: 949827.7481820062\n",
            "Gen 92: 948828.8722238465\n",
            "Gen 93: 948206.9185432624\n",
            "Gen 94: 947421.032947469\n",
            "Gen 95: 946021.6563108985\n",
            "Gen 96: 944750.1403036318\n",
            "Gen 97: 944321.8823510336\n",
            "Gen 98: 943141.5153256231\n",
            "Gen 99: 942145.5209911718\n",
            "Gen 100: 941317.7854814355\n",
            "Gen 101: 939866.3443414955\n",
            "Gen 102: 939287.2823122767\n",
            "Gen 103: 938127.2046935705\n",
            "Gen 104: 936951.5623142727\n",
            "Gen 105: 936251.480271284\n",
            "Gen 106: 935677.4857538746\n",
            "Gen 107: 935250.8620101336\n",
            "Gen 108: 934526.5298864171\n",
            "Gen 109: 933222.7741332189\n",
            "Gen 110: 932676.7122164601\n",
            "Gen 111: 931789.6669837392\n",
            "Gen 112: 931436.1507116306\n",
            "Gen 113: 931296.5792537018\n",
            "Gen 114: 931036.9285903941\n",
            "Gen 115: 930590.9190332592\n",
            "Gen 116: 929538.8952847301\n",
            "Gen 117: 929458.9226571776\n",
            "Gen 118: 928652.9172393251\n",
            "Gen 119: 928318.594132277\n",
            "Gen 120: 927403.2433755249\n",
            "Gen 121: 927389.9981613427\n",
            "Gen 122: 926969.6464530664\n",
            "Gen 123: 926024.8630222537\n",
            "Gen 124: 925600.8375293679\n",
            "Gen 125: 924853.5799430273\n",
            "Gen 126: 925070.0173756656\n",
            "Gen 127: 924375.1679718024\n",
            "Gen 128: 924228.739839697\n",
            "Gen 129: 923890.6852238288\n",
            "Gen 130: 923421.0996058149\n",
            "Gen 131: 922638.1849593285\n",
            "Gen 132: 922033.1757745817\n",
            "Gen 133: 921790.7983066222\n",
            "Gen 134: 921440.2954625504\n",
            "Gen 135: 921208.9765857231\n",
            "Gen 136: 920858.7594340912\n",
            "Gen 137: 920358.3685949472\n",
            "Gen 138: 919646.3143393383\n",
            "Gen 139: 919341.2076061094\n",
            "Gen 140: 919122.6673714851\n",
            "Gen 141: 918573.2449396608\n",
            "Gen 142: 917867.4691967351\n",
            "Gen 143: 917952.0772281257\n",
            "Gen 144: 917842.2562678731\n",
            "Gen 145: 917414.4037073154\n",
            "Gen 146: 916586.0673977067\n",
            "Gen 147: 915961.0831960634\n",
            "Gen 148: 915779.0543871623\n",
            "Gen 149: 915078.6986837287\n",
            "Gen 150: 915042.0093292036\n",
            "Gen 151: 914283.0911492393\n",
            "Gen 152: 914177.9587040703\n",
            "Gen 153: 913864.5340981784\n",
            "Gen 154: 913613.8176792609\n",
            "Gen 155: 913193.4735140301\n",
            "Gen 156: 912452.0385883586\n",
            "Gen 157: 912091.6578212099\n",
            "Gen 158: 911973.9828392579\n",
            "Gen 159: 911899.1539741507\n",
            "Gen 160: 911429.8517032553\n",
            "Gen 161: 911058.2097395731\n",
            "Gen 162: 911297.0864258625\n",
            "Gen 163: 911067.3671333638\n",
            "Gen 164: 910673.5519940616\n",
            "Gen 165: 910530.9569197051\n",
            "Gen 166: 910197.2594076573\n",
            "Gen 167: 909938.6987382713\n",
            "Gen 168: 909820.4362508715\n",
            "Gen 169: 909216.9890868568\n",
            "Gen 170: 908774.6406837649\n",
            "Gen 171: 908706.461469224\n",
            "Gen 172: 908842.070345916\n",
            "Gen 173: 908358.4721773755\n",
            "Gen 174: 908427.4577896792\n",
            "Gen 175: 908173.4434748957\n",
            "Gen 176: 908042.9046651968\n",
            "Gen 177: 907815.4132564968\n",
            "Gen 178: 907718.8718197307\n",
            "Gen 179: 907822.2208350702\n",
            "Gen 180: 907742.8985293584\n",
            "Gen 181: 907600.366143367\n",
            "Gen 182: 907564.735003001\n",
            "Gen 183: 907321.4826054754\n",
            "Gen 184: 907203.0387469023\n",
            "Gen 185: 907008.5181647147\n",
            "Gen 186: 907252.8414926617\n",
            "Gen 187: 906885.0420600907\n",
            "Gen 188: 906917.9270549251\n",
            "Gen 189: 906751.211372945\n",
            "Gen 190: 906646.6583294567\n",
            "Gen 191: 906494.8696275979\n",
            "Gen 192: 906085.6969800806\n",
            "Gen 193: 905577.5634303065\n",
            "Gen 194: 905200.3555278059\n",
            "Gen 195: 905036.0487920766\n",
            "Gen 196: 904799.2364776235\n",
            "Gen 197: 904068.7971602204\n",
            "Gen 198: 904187.0133684281\n",
            "Gen 199: 904322.2297475798\n",
            "Gen 200: 904204.7411128384\n",
            "Gen 201: 904224.170120649\n",
            "Gen 202: 903972.1319372512\n",
            "Gen 203: 903772.3789375996\n",
            "Gen 204: 903902.3491068706\n",
            "Gen 205: 903524.5620806416\n",
            "Gen 206: 902643.1442117089\n",
            "Gen 207: 902863.842031009\n",
            "Gen 208: 902754.744892141\n",
            "Gen 209: 902975.8662798429\n",
            "Gen 210: 902896.6552058752\n",
            "Gen 211: 902540.3902686232\n",
            "Gen 212: 902031.9236702175\n",
            "Gen 213: 902178.7781447908\n",
            "Gen 214: 902254.6038720196\n",
            "Gen 215: 902207.5821705132\n",
            "Gen 216: 902190.0144448575\n",
            "Gen 217: 902243.7267854778\n",
            "Gen 218: 901995.0777907176\n",
            "Gen 219: 901931.0073157409\n",
            "Gen 220: 901844.8492220769\n",
            "Gen 221: 901599.6770535214\n",
            "Gen 222: 901943.6339169813\n",
            "Gen 223: 901756.2931420278\n",
            "Gen 224: 901470.7488384147\n",
            "Gen 225: 901488.2645795211\n",
            "Gen 226: 901601.453767678\n",
            "Gen 227: 901281.3528305659\n",
            "Gen 228: 901197.9538813763\n",
            "Gen 229: 900797.6683586771\n",
            "Gen 230: 900974.5314032286\n",
            "Gen 231: 900677.8410776266\n",
            "Gen 232: 900289.2140437004\n",
            "Gen 233: 900703.4386845323\n",
            "Gen 234: 900270.3874958016\n",
            "Gen 235: 899995.3968327522\n",
            "Gen 236: 899947.3100195578\n",
            "Gen 237: 900084.1373074581\n",
            "Gen 238: 899717.7474383835\n",
            "Gen 239: 899928.6589490743\n",
            "Gen 240: 899785.2162001785\n",
            "Gen 241: 899826.5413211295\n",
            "Gen 242: 899777.0001695756\n",
            "Gen 243: 899705.8210175018\n",
            "Gen 244: 899856.2530652084\n",
            "Gen 245: 899781.4632930744\n",
            "Gen 246: 899763.1142042786\n",
            "Gen 247: 899659.2139578502\n",
            "Gen 248: 899430.2559149804\n",
            "Gen 249: 899307.6776096161\n",
            "Gen 250: 899303.3092429087\n",
            "Gen 251: 899209.2235324893\n",
            "Gen 252: 899085.2438615958\n",
            "Gen 253: 898333.5048852938\n",
            "Gen 254: 898528.24921998\n",
            "Gen 255: 898554.4830003859\n",
            "Gen 256: 898331.8622440527\n",
            "Gen 257: 898389.0305497742\n",
            "Gen 258: 898586.7868922612\n",
            "Gen 259: 898261.4713981079\n",
            "Gen 260: 898505.1183757506\n",
            "Gen 261: 898431.735538493\n",
            "Gen 262: 898354.6381198124\n",
            "Gen 263: 898550.6326388572\n",
            "Gen 264: 898547.4117837129\n",
            "Gen 265: 898644.7437008189\n",
            "Gen 266: 898640.1267151209\n",
            "Gen 267: 898370.2937013328\n",
            "Gen 268: 898354.9014571069\n",
            "Gen 269: 898420.2336691137\n",
            "Gen 270: 898022.8578500699\n",
            "Gen 271: 898173.894254662\n",
            "Gen 272: 898255.813520197\n",
            "Gen 273: 897885.8688601886\n",
            "Gen 274: 898289.806401738\n",
            "Gen 275: 898380.5720232528\n",
            "Gen 276: 897768.3848080382\n",
            "Gen 277: 897669.7446261849\n",
            "Gen 278: 897856.0802572176\n",
            "Gen 279: 897539.7525003204\n",
            "Gen 280: 897880.4424773846\n",
            "Gen 281: 897731.1520068904\n",
            "Gen 282: 897667.3061178436\n",
            "Gen 283: 897763.1613510832\n",
            "Gen 284: 897560.1725378024\n",
            "Gen 285: 897624.1213542791\n",
            "Gen 286: 897439.478561369\n",
            "Gen 287: 897450.4559329565\n",
            "Gen 288: 897356.6339716141\n",
            "Gen 289: 897380.8111762302\n",
            "Gen 290: 897467.397903529\n",
            "Gen 291: 897498.9707440602\n",
            "Gen 292: 897370.7054613444\n",
            "Gen 293: 897135.390888664\n",
            "Gen 294: 897213.1688704825\n",
            "Gen 295: 897136.6845557599\n",
            "Gen 296: 896844.498312376\n",
            "Gen 297: 896807.577470527\n",
            "Gen 298: 896638.7724041117\n",
            "Gen 299: 896979.3832802951\n",
            "Gen 300: 896844.4416580747\n",
            "Gen 301: 896847.1300851005\n",
            "Gen 302: 896797.003447377\n",
            "Gen 303: 896466.0530232235\n",
            "Gen 304: 896514.2742536194\n",
            "Gen 305: 896628.6405901602\n",
            "Gen 306: 896548.1005013388\n",
            "Gen 307: 896479.7862891925\n",
            "Gen 308: 896524.7093716183\n",
            "Gen 309: 896469.9697767436\n",
            "Gen 310: 896562.4982197096\n",
            "Gen 311: 896338.9022983562\n",
            "Gen 312: 896482.5741392908\n",
            "Gen 313: 896520.4750447623\n",
            "Gen 314: 896700.4613705658\n",
            "Gen 315: 896408.912190763\n",
            "Gen 316: 896225.6095307274\n",
            "Gen 317: 896485.1452816506\n",
            "Gen 318: 896231.4688204761\n",
            "Gen 319: 896374.1970839172\n",
            "Gen 320: 896284.6689337144\n",
            "Gen 321: 896354.6678782599\n",
            "Gen 322: 896326.1950615024\n",
            "Gen 323: 896495.1444345837\n",
            "Gen 324: 895919.3272432989\n",
            "Gen 325: 896142.1834704694\n",
            "Gen 326: 896266.4060492628\n",
            "Gen 327: 896232.0914420071\n",
            "Gen 328: 895457.6765406162\n",
            "Gen 329: 895553.8487133661\n",
            "Gen 330: 895362.6576153967\n",
            "Gen 331: 895641.4581289255\n",
            "Gen 332: 895687.8240019795\n",
            "Gen 333: 895645.7073127195\n",
            "Gen 334: 895593.5833352964\n",
            "Gen 335: 895736.7399623435\n",
            "Gen 336: 895633.0796265634\n",
            "Gen 337: 895478.6185977854\n",
            "Gen 338: 895290.6681627696\n",
            "Gen 339: 895331.1827275148\n",
            "Gen 340: 895305.2187448891\n",
            "Gen 341: 895259.8851781054\n",
            "Gen 342: 895318.5769016155\n",
            "Gen 343: 895283.7602147771\n",
            "Gen 344: 895271.2040670833\n",
            "Gen 345: 895406.2793531329\n",
            "Gen 346: 895159.7689836049\n",
            "Gen 347: 894888.2582269146\n",
            "Gen 348: 894908.2831132953\n",
            "Gen 349: 894842.5563237108\n",
            "Gen 350: 894862.4014353636\n",
            "Gen 351: 894873.2734959183\n",
            "Gen 352: 894731.9575651707\n",
            "Gen 353: 894789.4418073067\n",
            "Gen 354: 894592.1426597346\n",
            "Gen 355: 894527.3617605483\n",
            "Gen 356: 894675.7762911788\n",
            "Gen 357: 894683.8483083122\n",
            "Gen 358: 894584.6647030085\n",
            "Gen 359: 894455.3350090462\n",
            "Gen 360: 894526.9211019975\n",
            "Gen 361: 894448.2465915176\n",
            "Gen 362: 894060.4114208904\n",
            "Gen 363: 894108.0135304971\n",
            "Gen 364: 894114.2833768035\n",
            "Gen 365: 894115.396562527\n",
            "Gen 366: 893834.8046833139\n",
            "Gen 367: 894151.2835437718\n",
            "Gen 368: 893564.0141035987\n",
            "Gen 369: 893912.3763580367\n",
            "Gen 370: 893744.2669019842\n",
            "Gen 371: 894000.9469986672\n",
            "Gen 372: 893860.1527995765\n",
            "Gen 373: 893589.612115692\n",
            "Gen 374: 893605.276377063\n",
            "Gen 375: 893478.662026668\n",
            "Gen 376: 893182.8863952564\n",
            "Gen 377: 893298.4840759776\n",
            "Gen 378: 893249.2861291473\n",
            "Gen 379: 893172.162852108\n",
            "Gen 380: 892888.587906553\n",
            "Gen 381: 893079.2558449322\n",
            "Gen 382: 893080.7874242464\n",
            "Gen 383: 892937.0485367789\n",
            "Gen 384: 892952.3894952838\n",
            "Gen 385: 893085.3826997956\n",
            "Gen 386: 893020.9229066933\n",
            "Gen 387: 893115.8380357209\n",
            "Gen 388: 892813.1126122414\n",
            "Gen 389: 892788.0920200126\n",
            "Gen 390: 892565.626602486\n",
            "Gen 391: 892640.0937824256\n",
            "Gen 392: 892754.9716313959\n",
            "Gen 393: 892663.1115415485\n",
            "Gen 394: 892795.9847336329\n",
            "Gen 395: 892564.9952839197\n",
            "Gen 396: 892449.0482432592\n",
            "Gen 397: 892458.2635235982\n",
            "Gen 398: 892476.4551190749\n",
            "Gen 399: 892309.4663443672\n",
            "Gen 400: 892361.9377936162\n",
            "Gen 401: 892448.2798149264\n",
            "Gen 402: 892534.2171497266\n",
            "Gen 403: 892465.790037004\n",
            "Gen 404: 892695.3964823909\n",
            "Gen 405: 892693.6642016958\n",
            "Gen 406: 892621.5793543203\n",
            "Gen 407: 892673.0816288423\n",
            "Gen 408: 892573.4697386556\n",
            "Gen 409: 892526.7790116534\n",
            "Gen 410: 892564.4679932942\n",
            "Gen 411: 892511.5763744942\n",
            "Gen 412: 892468.6085839813\n",
            "Gen 413: 892429.4704558799\n",
            "Gen 414: 892652.7683206056\n",
            "Gen 415: 892500.8623084555\n",
            "Gen 416: 892516.7699426668\n",
            "Gen 417: 892610.7840351316\n",
            "Gen 418: 892797.4916616401\n",
            "Gen 419: 892767.8279728137\n",
            "Gen 420: 892887.9600624793\n",
            "Gen 421: 892685.9221134603\n",
            "Gen 422: 892481.5450479995\n",
            "Gen 423: 892680.8837475493\n",
            "Gen 424: 892471.162533099\n",
            "Gen 425: 892376.8699674101\n",
            "Gen 426: 892022.9127169243\n",
            "Gen 427: 892195.676609589\n",
            "Gen 428: 892261.9413595246\n",
            "Gen 429: 892330.1790278886\n",
            "Gen 430: 892324.5448951361\n",
            "Gen 431: 892120.3085215195\n",
            "Gen 432: 891890.0750274407\n",
            "Gen 433: 892116.7435272863\n",
            "Gen 434: 892067.5819583032\n",
            "Gen 435: 892065.7608881298\n",
            "Gen 436: 892074.5589837165\n",
            "Gen 437: 892084.3839776181\n",
            "Gen 438: 892154.4247109263\n",
            "Gen 439: 892023.2637135924\n",
            "Gen 440: 892055.7390692054\n",
            "Gen 441: 892003.0360166739\n",
            "Gen 442: 891986.6626034905\n",
            "Gen 443: 891630.8326535807\n",
            "Gen 444: 891943.3226855269\n",
            "Gen 445: 891871.4052371\n",
            "Gen 446: 891520.5441538865\n",
            "Gen 447: 891556.9744635007\n",
            "Gen 448: 891384.2980084256\n",
            "Gen 449: 891932.8526627882\n",
            "Gen 450: 891786.3423941567\n",
            "Gen 451: 891709.519357561\n",
            "Gen 452: 891857.1892884639\n",
            "Gen 453: 891578.5050651529\n",
            "Gen 454: 891693.1891464152\n",
            "Gen 455: 891711.1752628178\n",
            "Gen 456: 891672.3175450761\n",
            "Gen 457: 891869.2203169795\n",
            "Gen 458: 891749.1944675342\n",
            "Gen 459: 891677.6697490179\n",
            "Gen 460: 891729.9075215671\n",
            "Gen 461: 891390.7194995725\n",
            "Gen 462: 891618.3146364498\n",
            "Gen 463: 891512.8685955058\n",
            "Gen 464: 891535.5554388459\n",
            "Gen 465: 891446.1327577891\n",
            "Gen 466: 891454.5350189264\n",
            "Gen 467: 891597.4076412795\n",
            "Gen 468: 891617.9523385739\n",
            "Gen 469: 891496.1771323243\n",
            "Gen 470: 891566.1299018587\n",
            "Gen 471: 891324.6136383705\n",
            "Gen 472: 891349.9418800226\n",
            "Gen 473: 891409.1934609973\n",
            "Gen 474: 891383.2563312147\n",
            "Gen 475: 891377.2847369697\n",
            "Gen 476: 891504.7322056909\n",
            "Gen 477: 891251.8072070436\n",
            "Gen 478: 891232.6118530391\n",
            "Gen 479: 891177.9372051876\n",
            "Gen 480: 891167.2977441015\n",
            "Gen 481: 891281.2139274738\n",
            "Gen 482: 891346.735857121\n",
            "Gen 483: 891271.4434653666\n",
            "Gen 484: 891336.2948466841\n",
            "Gen 485: 891124.8600554725\n",
            "Gen 486: 890509.870658035\n",
            "Gen 487: 890824.3027462909\n",
            "Gen 488: 890820.7920929409\n",
            "Gen 489: 890672.6783498884\n",
            "Gen 490: 890660.4425440019\n",
            "Gen 491: 890668.6492128\n",
            "Gen 492: 890689.4965584701\n",
            "Gen 493: 890603.6201048258\n",
            "Gen 494: 890325.6133211676\n",
            "Gen 495: 890274.3380541977\n",
            "Gen 496: 890157.0379620885\n",
            "Gen 497: 890162.257521502\n",
            "Gen 498: 890156.4638503246\n",
            "Gen 499: 890149.2700587726\n",
            "Gen 500: 890261.7474929038\n",
            "Gen 501: 890158.9434751153\n",
            "Gen 502: 890250.8896168249\n",
            "Gen 503: 890238.1036782111\n",
            "Gen 504: 890158.185217142\n",
            "Gen 505: 890237.7262876072\n",
            "Gen 506: 890127.1518848942\n",
            "Gen 507: 890087.4272995314\n",
            "Gen 508: 890017.4974114858\n",
            "Gen 509: 890049.1374030898\n",
            "Gen 510: 890121.9650103837\n",
            "Gen 511: 890047.8808058705\n",
            "Gen 512: 890074.7646931543\n",
            "Gen 513: 889939.3723355697\n",
            "Gen 514: 889738.9389068348\n",
            "Gen 515: 889859.7054419107\n",
            "Gen 516: 889927.5121217793\n",
            "Gen 517: 889753.9496643821\n",
            "Gen 518: 889743.8223949673\n",
            "Gen 519: 889822.4353968316\n",
            "Gen 520: 889731.1665156572\n",
            "Gen 521: 889998.6297437496\n",
            "Gen 522: 889693.608655096\n",
            "Gen 523: 889787.8601032917\n",
            "Gen 524: 890024.0979507477\n",
            "Gen 525: 889840.1551306958\n",
            "Gen 526: 889820.1753140895\n",
            "Gen 527: 889846.538151414\n",
            "Gen 528: 889715.7927457286\n",
            "Gen 529: 889504.6816526981\n",
            "Gen 530: 889457.1554648571\n",
            "Gen 531: 889681.3707133321\n",
            "Gen 532: 889532.8941122444\n",
            "Gen 533: 889565.7644038528\n",
            "Gen 534: 889053.7597205311\n",
            "Gen 535: 889222.5125081878\n",
            "Gen 536: 889315.0783045851\n",
            "Gen 537: 889237.5199126069\n",
            "Gen 538: 889145.259038961\n",
            "Gen 539: 889355.1687558205\n",
            "Gen 540: 889393.2038306583\n",
            "Gen 541: 889279.186406166\n",
            "Gen 542: 889513.4475134966\n",
            "Gen 543: 889327.1980570599\n",
            "Gen 544: 889460.1467026776\n",
            "Gen 545: 889703.457074945\n",
            "Gen 546: 889646.0839735459\n",
            "Gen 547: 889445.4088893846\n",
            "Gen 548: 889538.6921346519\n",
            "Gen 549: 889458.8176832811\n",
            "Gen 550: 889344.0495688498\n",
            "Gen 551: 889527.3793793347\n",
            "Gen 552: 889388.2237009088\n",
            "Gen 553: 889398.9529104312\n",
            "Gen 554: 889179.9320818956\n",
            "Gen 555: 889279.244680248\n",
            "Gen 556: 889338.3323665346\n",
            "Gen 557: 889295.7619561744\n",
            "Gen 558: 889178.3021081032\n",
            "Gen 559: 889175.2478655986\n",
            "Gen 560: 888917.3454421412\n",
            "Gen 561: 888953.1439635832\n",
            "Gen 562: 888753.5788479573\n",
            "Gen 563: 888774.2413058899\n",
            "Gen 564: 888577.9291832313\n",
            "Gen 565: 888699.7515823919\n",
            "Gen 566: 888603.2293507414\n",
            "Gen 567: 888482.5578793884\n",
            "Gen 568: 888847.1232398587\n",
            "Gen 569: 888849.5815755413\n",
            "Gen 570: 888882.0818149702\n",
            "Gen 571: 888947.9513524821\n",
            "Gen 572: 888755.1864522638\n",
            "Gen 573: 888805.5365418006\n",
            "Gen 574: 888903.9967234803\n",
            "Gen 575: 888790.8140117994\n",
            "Gen 576: 888804.2419671579\n",
            "Gen 577: 888909.5461666805\n",
            "Gen 578: 888995.0922513249\n",
            "Gen 579: 888713.5542974556\n",
            "Gen 580: 888885.191606396\n",
            "Gen 581: 888843.1760828529\n",
            "Gen 582: 888683.5916494335\n",
            "Gen 583: 888897.1053807703\n",
            "Gen 584: 888870.8018862725\n",
            "Gen 585: 888843.3477210972\n",
            "Gen 586: 888814.5110325505\n",
            "Gen 587: 888801.7304418642\n",
            "Gen 588: 888889.8804701612\n",
            "Gen 589: 888892.7555825032\n",
            "Gen 590: 888648.6599677963\n",
            "Gen 591: 888707.2584117852\n",
            "Gen 592: 888813.6382374754\n",
            "Gen 593: 888814.4123681008\n",
            "Gen 594: 888824.3962305435\n",
            "Gen 595: 888711.2341355446\n",
            "Gen 596: 888906.3222311185\n",
            "Gen 597: 888950.4747197443\n",
            "Gen 598: 888752.6421029879\n",
            "Gen 599: 888601.8571189326\n",
            "Gen 600: 888799.3609965032\n",
            "Gen 601: 888812.4292256559\n",
            "Gen 602: 888718.7439746899\n",
            "Gen 603: 888641.8503328371\n",
            "Gen 604: 888847.6100568146\n",
            "Gen 605: 888844.5262598753\n",
            "Gen 606: 888981.3468690731\n",
            "Gen 607: 888884.5553385558\n",
            "Gen 608: 888978.6041848183\n",
            "Gen 609: 889100.5976956493\n",
            "Gen 610: 889070.8401934473\n",
            "Gen 611: 889290.4314853057\n",
            "Gen 612: 889362.6797623707\n",
            "Gen 613: 889557.3477778739\n",
            "Gen 614: 889423.476725529\n",
            "Gen 615: 889367.5066753232\n",
            "Gen 616: 889307.4797189264\n",
            "Gen 617: 889531.4952561047\n",
            "Gen 618: 889570.6880116017\n",
            "Gen 619: 889267.0923915559\n",
            "Gen 620: 889420.3247532416\n",
            "Gen 621: 889396.2226326467\n",
            "Gen 622: 889077.8094794536\n",
            "Gen 623: 888849.8010264174\n",
            "Gen 624: 888854.470306897\n",
            "Gen 625: 888850.0682377574\n",
            "Gen 626: 888999.4332366178\n",
            "Gen 627: 889065.4858089777\n",
            "Gen 628: 888890.1527222253\n",
            "Gen 629: 888854.4759784433\n",
            "Gen 630: 888956.6299569081\n",
            "Gen 631: 888772.5637388652\n",
            "Gen 632: 888877.7970699307\n",
            "Gen 633: 888841.0117889293\n",
            "Gen 634: 888860.0991781665\n",
            "Gen 635: 888884.704148636\n",
            "Gen 636: 888903.4831892933\n",
            "Gen 637: 889137.7630017559\n",
            "Gen 638: 889094.0196680739\n",
            "Gen 639: 888992.2942781114\n",
            "Gen 640: 888927.6985335344\n",
            "Gen 641: 889143.6122577363\n",
            "Gen 642: 889141.2043055377\n",
            "Gen 643: 889042.0489012531\n",
            "Gen 644: 889112.5180747045\n",
            "Gen 645: 889112.0447237038\n",
            "Gen 646: 889054.7544611538\n",
            "Gen 647: 889133.6356661876\n",
            "Gen 648: 889177.7948547121\n",
            "Gen 649: 888989.0923265411\n",
            "Gen 650: 889043.9136711935\n",
            "Gen 651: 888999.307369072\n",
            "Gen 652: 889031.1845611117\n",
            "Gen 653: 888991.9328466904\n",
            "Gen 654: 888982.6934236789\n",
            "Gen 655: 889084.9827852632\n",
            "Gen 656: 889115.6543955288\n",
            "Gen 657: 889218.9366826394\n",
            "Gen 658: 889207.2665938247\n",
            "Gen 659: 888923.5585208016\n",
            "Gen 660: 888954.6363687491\n",
            "Gen 661: 888813.3751187349\n",
            "Gen 662: 888783.0816752368\n",
            "Gen 663: 888889.7137805466\n",
            "Gen 664: 888895.9737130627\n",
            "Gen 665: 889056.9994293051\n",
            "Gen 666: 888964.5103316519\n",
            "Gen 667: 888985.9193861267\n",
            "Gen 668: 888812.4276390634\n",
            "Gen 669: 888664.315711999\n",
            "Gen 670: 888685.270153802\n",
            "Gen 671: 888759.0690095187\n",
            "Gen 672: 888990.0276466897\n",
            "Gen 673: 888966.7949243027\n",
            "Gen 674: 889016.109864714\n",
            "Gen 675: 889139.9013203257\n",
            "Gen 676: 889067.03056241\n",
            "Gen 677: 888936.0700849259\n",
            "Gen 678: 889093.2878928259\n",
            "Gen 679: 889277.5161363609\n",
            "Gen 680: 889158.638389263\n",
            "Gen 681: 889170.0242818289\n",
            "Gen 682: 888865.33038633\n",
            "Gen 683: 888858.8743309634\n",
            "Gen 684: 889108.4308287248\n",
            "Gen 685: 889085.2295025424\n",
            "Gen 686: 889037.8676466286\n",
            "Gen 687: 889134.2813562596\n",
            "Gen 688: 889306.0502076413\n",
            "Gen 689: 889055.514736871\n",
            "Gen 690: 888589.0017886448\n",
            "Gen 691: 888676.1842257729\n",
            "Gen 692: 888733.6250713029\n",
            "Gen 693: 888756.1618450736\n",
            "Gen 694: 888861.6343254764\n",
            "Gen 695: 888768.3251274147\n",
            "Gen 696: 888998.0311515633\n",
            "Gen 697: 888746.0481852227\n",
            "Gen 698: 888398.1100556996\n",
            "Gen 699: 888578.2601838371\n",
            "Gen 700: 888648.1139541237\n",
            "Gen 701: 888471.4359729412\n",
            "Gen 702: 888594.6920601971\n",
            "Gen 703: 888623.1988899496\n",
            "Gen 704: 888640.2372872859\n",
            "Gen 705: 888791.0621192934\n",
            "Gen 706: 888700.0711785591\n",
            "Gen 707: 888647.8384144044\n",
            "Gen 708: 888441.1317197145\n",
            "Gen 709: 888694.1452978113\n",
            "Gen 710: 888688.7181543185\n",
            "Gen 711: 888761.3704136919\n",
            "Gen 712: 888639.2421690315\n",
            "Gen 713: 888526.6017697024\n",
            "Gen 714: 888717.318554109\n",
            "Gen 715: 888962.0408118196\n",
            "Gen 716: 888871.8406913279\n",
            "Gen 717: 888468.0077122351\n",
            "Gen 718: 888637.9857522857\n",
            "Gen 719: 888835.2542887185\n",
            "Gen 720: 888672.6799133338\n",
            "Gen 721: 888862.5093160032\n",
            "Gen 722: 888834.4037694815\n",
            "Gen 723: 888664.8567070493\n",
            "Gen 724: 888603.0758226063\n",
            "Gen 725: 888740.3914265119\n",
            "Gen 726: 888835.692306229\n",
            "Gen 727: 888869.508566265\n",
            "Gen 728: 888895.3283597252\n",
            "Gen 729: 888868.4912624658\n",
            "Gen 730: 888965.8665870755\n",
            "Gen 731: 888845.7884284442\n",
            "Gen 732: 889232.6741714528\n",
            "Gen 733: 889242.3423199524\n",
            "Gen 734: 889212.4837183682\n",
            "Gen 735: 889019.4851815806\n",
            "Gen 736: 888799.485313174\n",
            "Gen 737: 888867.0679373938\n",
            "Gen 738: 889071.1868163885\n",
            "Gen 739: 888984.4900692313\n",
            "Gen 740: 888699.2144344306\n",
            "Gen 741: 888949.7779649297\n",
            "Gen 742: 889132.2082038572\n",
            "Gen 743: 889018.2479596062\n",
            "Gen 744: 888705.2440750892\n",
            "Gen 745: 888796.3822105395\n",
            "Gen 746: 888288.3340012004\n",
            "Gen 747: 888451.6528523377\n",
            "Gen 748: 888198.6104066222\n",
            "Gen 749: 888656.3039369725\n",
            "Gen 750: 888589.1592103904\n",
            "Gen 751: 888551.4115102733\n",
            "Gen 752: 888734.6157097527\n",
            "Gen 753: 888719.7719848666\n",
            "Gen 754: 888344.7976741984\n",
            "Gen 755: 888516.5571029715\n",
            "Gen 756: 888553.78469752\n",
            "Gen 757: 888537.1681296944\n",
            "Gen 758: 888752.2837130347\n",
            "Gen 759: 888515.3864529945\n",
            "Gen 760: 888645.0179725462\n",
            "Gen 761: 888862.0827989376\n",
            "Gen 762: 888863.2376158213\n",
            "Gen 763: 889113.3821191472\n",
            "Gen 764: 888767.1956014123\n",
            "Gen 765: 888908.5811922731\n",
            "Gen 766: 888820.056661641\n",
            "Gen 767: 888514.3931898162\n",
            "Gen 768: 888661.2671587089\n",
            "Gen 769: 888731.210124462\n",
            "Gen 770: 888784.753906849\n",
            "Gen 771: 888772.0668611714\n",
            "Gen 772: 888660.1972037569\n",
            "Gen 773: 888723.8095473646\n",
            "Gen 774: 888819.5786042876\n",
            "Gen 775: 888716.307849272\n",
            "Gen 776: 888698.0107990177\n",
            "Gen 777: 888729.2158483694\n",
            "Gen 778: 888805.2290047115\n",
            "Gen 779: 888789.481014035\n",
            "Gen 780: 888751.306268254\n",
            "Gen 781: 888641.2003344292\n",
            "Gen 782: 888475.0314271754\n",
            "Gen 783: 888649.2616264371\n",
            "Gen 784: 888702.6687891601\n",
            "Gen 785: 888728.4795438453\n",
            "Gen 786: 888514.0118417466\n",
            "Gen 787: 888469.0148855295\n",
            "Gen 788: 888559.8247770678\n",
            "Gen 789: 888301.9460444783\n",
            "Gen 790: 888404.2468934025\n",
            "Gen 791: 888334.7757395554\n",
            "Gen 792: 888415.3236594452\n",
            "Gen 793: 888537.2167796462\n",
            "Gen 794: 888497.2264274576\n",
            "Gen 795: 888513.4456279377\n",
            "Gen 796: 888630.5214813676\n",
            "Gen 797: 888577.0714193113\n",
            "Gen 798: 888518.0480509271\n",
            "Gen 799: 888945.1495797532\n",
            "Gen 800: 888861.4078182735\n",
            "Gen 801: 888859.2090187063\n",
            "Gen 802: 888515.6163375165\n",
            "Gen 803: 888810.4552984464\n",
            "Gen 804: 888908.1538936779\n",
            "Gen 805: 888801.6119172177\n",
            "Gen 806: 889031.968560478\n",
            "Gen 807: 888633.611368877\n",
            "Gen 808: 888719.4324013748\n",
            "Gen 809: 888471.4415006418\n",
            "Gen 810: 888473.9560621581\n",
            "Gen 811: 888451.3302887505\n",
            "Gen 812: 888452.457452064\n",
            "Gen 813: 888556.7968051812\n",
            "Gen 814: 888584.0205505387\n",
            "Gen 815: 888603.6459815307\n",
            "Gen 816: 888641.8171507713\n",
            "Gen 817: 888700.6521404277\n",
            "Gen 818: 888821.2538322868\n",
            "Gen 819: 888997.5431790138\n",
            "Gen 820: 888861.3782876633\n",
            "Gen 821: 888896.9103048283\n",
            "Gen 822: 888951.978161698\n",
            "Gen 823: 888795.4275187808\n",
            "Gen 824: 889004.9085369029\n",
            "Gen 825: 888629.8324601961\n",
            "Gen 826: 888740.9377534173\n",
            "Gen 827: 888296.1858405703\n",
            "Gen 828: 888232.7730879051\n",
            "Gen 829: 888541.9141380673\n",
            "Gen 830: 888728.3898250543\n",
            "Gen 831: 888697.6919788184\n",
            "Gen 832: 888773.0692858602\n",
            "Gen 833: 888469.4081756793\n",
            "Gen 834: 888579.840030365\n",
            "Gen 835: 888779.3358948968\n",
            "Gen 836: 888640.553748509\n",
            "Gen 837: 888477.4101818756\n",
            "Gen 838: 888530.1990467743\n",
            "Gen 839: 888566.2773941588\n",
            "Gen 840: 888525.9046170214\n",
            "Gen 841: 888668.8130253517\n",
            "Gen 842: 888594.4001074004\n",
            "Gen 843: 888404.5212871814\n",
            "Gen 844: 888399.6452726322\n",
            "Gen 845: 888124.532041161\n",
            "Gen 846: 888319.835600048\n",
            "Gen 847: 888186.8600708228\n",
            "Gen 848: 888031.8053590098\n",
            "Gen 849: 888093.7205607034\n",
            "Gen 850: 888166.5295032442\n",
            "Gen 851: 888296.4710292779\n",
            "Gen 852: 888253.9744871492\n",
            "Gen 853: 888426.6749253836\n",
            "Gen 854: 888308.829412635\n",
            "Gen 855: 888303.9458321105\n",
            "Gen 856: 888133.156387284\n",
            "Gen 857: 888283.6807663153\n",
            "Gen 858: 888406.4740734926\n",
            "Gen 859: 888417.0986919347\n",
            "Gen 860: 888264.5698916365\n",
            "Gen 861: 888346.1640137399\n",
            "Gen 862: 888408.0807548882\n",
            "Gen 863: 888301.9093602311\n",
            "Gen 864: 888362.808125973\n",
            "Gen 865: 888232.0584509316\n",
            "Gen 866: 888144.1875172866\n",
            "Gen 867: 888114.6322837471\n",
            "Gen 868: 888040.2287745394\n",
            "Gen 869: 887974.7923227574\n",
            "Gen 870: 888033.4636527153\n",
            "Gen 871: 887993.0147435813\n",
            "Gen 872: 887822.081491649\n",
            "Gen 873: 887855.0714759465\n",
            "Gen 874: 887804.0923219684\n",
            "Gen 875: 888028.8397181124\n",
            "Gen 876: 888034.4697317976\n",
            "Gen 877: 888204.2892501955\n",
            "Gen 878: 888245.3689051614\n",
            "Gen 879: 888246.4081583788\n",
            "Gen 880: 888392.6378473155\n",
            "Gen 881: 888269.8349712818\n",
            "Gen 882: 888386.7417882193\n",
            "Gen 883: 888564.6792565864\n",
            "Gen 884: 888449.6754463397\n",
            "Gen 885: 888492.139029154\n",
            "Gen 886: 888109.2097566533\n",
            "Gen 887: 888043.8119837638\n",
            "Gen 888: 887962.4184160318\n",
            "Gen 889: 888135.0473251927\n",
            "Gen 890: 888221.4116211969\n",
            "Gen 891: 888043.3380194042\n",
            "Gen 892: 888211.8915694515\n",
            "Gen 893: 887974.0412545773\n",
            "Gen 894: 888097.8292905731\n",
            "Gen 895: 887985.7271511223\n",
            "Gen 896: 887994.3515527677\n",
            "Gen 897: 888161.5063869797\n",
            "Gen 898: 888213.0039740842\n",
            "Gen 899: 888328.6877465395\n",
            "Gen 900: 888249.4269366551\n",
            "Gen 901: 888237.8657265974\n",
            "Gen 902: 888426.7372315784\n",
            "Gen 903: 888228.2722115554\n",
            "Gen 904: 888308.3911947211\n",
            "Gen 905: 888047.1620456775\n",
            "Gen 906: 888192.4672750913\n",
            "Gen 907: 888224.7034869494\n",
            "Gen 908: 888052.3091754246\n",
            "Gen 909: 887833.0578762619\n",
            "Gen 910: 888021.5273457028\n",
            "Gen 911: 887964.5857619456\n",
            "Gen 912: 888079.0422963618\n",
            "Gen 913: 888310.7944370486\n",
            "Gen 914: 888247.9355024988\n",
            "Gen 915: 888240.260072996\n",
            "Gen 916: 888268.7131318493\n",
            "Gen 917: 888153.4467215204\n",
            "Gen 918: 887894.119831023\n",
            "Gen 919: 887987.955806994\n",
            "Gen 920: 888161.6649533903\n",
            "Gen 921: 888093.205713791\n",
            "Gen 922: 888309.5330595394\n",
            "Gen 923: 888301.5297294299\n",
            "Gen 924: 888332.5978698544\n",
            "Gen 925: 888155.2987378306\n",
            "Gen 926: 888224.3342999439\n",
            "Gen 927: 888342.1607983118\n",
            "Gen 928: 888270.9983431099\n",
            "Gen 929: 888266.2939109101\n",
            "Gen 930: 888350.7683943784\n",
            "Gen 931: 888363.9022914158\n",
            "Gen 932: 888497.7497734095\n",
            "Gen 933: 888470.4205797028\n",
            "Gen 934: 888654.9402780962\n",
            "Gen 935: 888544.36402536\n",
            "Gen 936: 888655.1689263491\n",
            "Gen 937: 888713.6808740674\n",
            "Gen 938: 888661.0976706308\n",
            "Gen 939: 888740.2467506567\n",
            "Gen 940: 888765.5545327235\n",
            "Gen 941: 888805.3838042481\n",
            "Gen 942: 888975.6615150989\n",
            "Gen 943: 888899.335642531\n",
            "Gen 944: 889088.6357598018\n",
            "Gen 945: 889001.4372433244\n",
            "Gen 946: 889000.3975015625\n",
            "Gen 947: 889015.2949047812\n",
            "Gen 948: 889001.8967548088\n",
            "Gen 949: 889004.7860515798\n",
            "Gen 950: 889178.5536194099\n",
            "Gen 951: 889082.7112697555\n",
            "Gen 952: 889177.1211273477\n",
            "Gen 953: 889052.7625133796\n",
            "Gen 954: 889173.6048051148\n",
            "Gen 955: 889143.270861273\n",
            "Gen 956: 888739.8938531528\n",
            "Gen 957: 888927.8114601126\n",
            "Gen 958: 888887.0646792823\n",
            "Gen 959: 888820.4957885409\n",
            "Gen 960: 888895.8142025782\n",
            "Gen 961: 888629.2807780466\n",
            "Gen 962: 888684.0527011215\n",
            "Gen 963: 888622.5495888864\n",
            "Gen 964: 888631.1385854224\n",
            "Gen 965: 888841.5051981725\n",
            "Gen 966: 888995.2035695333\n",
            "Gen 967: 888839.7406839253\n",
            "Gen 968: 888816.9316526342\n",
            "Gen 969: 888863.7902339904\n",
            "Gen 970: 888955.3676622182\n",
            "Gen 971: 888821.2052733672\n",
            "Gen 972: 888980.9142092507\n",
            "Gen 973: 889040.4132808647\n",
            "Gen 974: 889195.2529769556\n",
            "Gen 975: 889242.619458509\n",
            "Gen 976: 889187.8674796991\n",
            "Gen 977: 889227.4707634394\n",
            "Gen 978: 889376.3224720582\n",
            "Gen 979: 889077.3186413902\n",
            "Gen 980: 888909.8889863113\n",
            "Gen 981: 888910.4236889867\n",
            "Gen 982: 888985.3398737324\n",
            "Gen 983: 888976.7673685432\n",
            "Gen 984: 889027.2205082922\n",
            "Gen 985: 889153.9588665575\n",
            "Gen 986: 889311.5054892922\n",
            "Gen 987: 889014.8243657628\n",
            "Gen 988: 889214.3460020594\n",
            "Gen 989: 889191.2982494271\n",
            "Gen 990: 889367.0921277138\n",
            "Gen 991: 889318.4130830689\n",
            "Gen 992: 889244.8671742695\n",
            "Gen 993: 889489.4444087431\n",
            "Gen 994: 889476.1893909015\n",
            "Gen 995: 889622.4161952569\n",
            "Gen 996: 889537.346180055\n",
            "Gen 997: 889707.2641431126\n",
            "Gen 998: 889650.8393037688\n",
            "Gen 999: 889678.9224159729\n",
            "Gen 1000: 889671.2036593664\n",
            "Gen 1001: 889535.8653356801\n",
            "Gen 1002: 889539.3939360752\n",
            "Gen 1003: 889541.0039335965\n",
            "Gen 1004: 889466.5480264067\n",
            "Gen 1005: 889592.7291615265\n",
            "Gen 1006: 889647.0298154765\n",
            "Gen 1007: 889861.4258828067\n",
            "Gen 1008: 889783.6886897546\n",
            "Gen 1009: 889852.7789602574\n",
            "Gen 1010: 889811.5096210813\n",
            "Gen 1011: 889744.7791550513\n",
            "Gen 1012: 889804.6393799372\n",
            "Gen 1013: 889784.7191127201\n",
            "Gen 1014: 889546.3879448548\n",
            "Gen 1015: 889667.3959722994\n",
            "Gen 1016: 889745.3199002129\n",
            "Gen 1017: 889531.7348247408\n",
            "Gen 1018: 889727.0213505389\n",
            "Gen 1019: 889522.8836021415\n",
            "Gen 1020: 889601.0249306042\n",
            "Gen 1021: 889728.6674527462\n",
            "Gen 1022: 889706.4739444291\n",
            "Gen 1023: 889813.8860303048\n",
            "Gen 1024: 889555.0201766666\n",
            "Gen 1025: 889575.9420000447\n",
            "Gen 1026: 889679.3633612801\n",
            "Gen 1027: 889746.5821810575\n",
            "Gen 1028: 889508.4390973736\n",
            "Gen 1029: 889575.6393421799\n",
            "Gen 1030: 889418.4611551963\n",
            "Gen 1031: 889352.6578232573\n",
            "Gen 1032: 889504.9303993159\n",
            "Gen 1033: 889466.9956460616\n",
            "Gen 1034: 889144.2693925223\n",
            "Gen 1035: 889534.5173722544\n",
            "Gen 1036: 889427.5042294816\n",
            "Gen 1037: 889407.8815850809\n",
            "Gen 1038: 889468.3869172602\n",
            "Gen 1039: 889429.7484542456\n",
            "Gen 1040: 889312.5502161464\n",
            "Gen 1041: 889270.0001221666\n",
            "Gen 1042: 889357.3843625746\n",
            "Gen 1043: 889303.2685851878\n",
            "Gen 1044: 889540.9289174223\n",
            "Gen 1045: 889453.2506292503\n",
            "Gen 1046: 889509.8859889643\n",
            "Gen 1047: 889650.4591428599\n",
            "Gen 1048: 889452.4564199426\n",
            "Gen 1049: 889528.8139985469\n",
            "Gen 1050: 889646.4455837518\n",
            "Gen 1051: 889460.8450426571\n",
            "Gen 1052: 889209.0644967019\n",
            "Gen 1053: 889233.1578705364\n",
            "Gen 1054: 889277.6149855868\n",
            "Gen 1055: 889253.2136394259\n",
            "Gen 1056: 888991.0390664302\n",
            "Gen 1057: 889283.7503817278\n",
            "Gen 1058: 889144.2700428334\n",
            "Gen 1059: 889078.8496616007\n",
            "Gen 1060: 889022.0798125472\n",
            "Gen 1061: 889138.157063886\n",
            "Gen 1062: 889194.2345777886\n",
            "Gen 1063: 889135.9392964407\n",
            "Gen 1064: 889090.5133351993\n",
            "Gen 1065: 889180.6520764908\n",
            "Gen 1066: 889132.1001963393\n",
            "Gen 1067: 889261.5762162703\n",
            "Gen 1068: 888974.9427180277\n",
            "Gen 1069: 888885.5892162712\n",
            "Gen 1070: 889029.0345696713\n",
            "Gen 1071: 888963.8099313539\n",
            "Gen 1072: 888935.9321818845\n",
            "Gen 1073: 888965.7490492834\n",
            "Gen 1074: 888896.6751365565\n",
            "Gen 1075: 888891.3274442268\n",
            "Gen 1076: 888779.8822820018\n",
            "Gen 1077: 888744.8356625938\n",
            "Gen 1078: 888761.8423908623\n",
            "Gen 1079: 888945.9423482632\n",
            "Gen 1080: 888852.6925915276\n",
            "Gen 1081: 888776.4129555809\n",
            "Gen 1082: 888829.4997904096\n",
            "Gen 1083: 888859.6087737279\n",
            "Gen 1084: 888763.0811653852\n",
            "Gen 1085: 888927.2656612999\n",
            "Gen 1086: 888825.6526247265\n",
            "Gen 1087: 888799.1991822075\n",
            "Gen 1088: 888971.7431573665\n",
            "Gen 1089: 888861.214574317\n",
            "Gen 1090: 888979.6299246022\n",
            "Gen 1091: 888930.5603834968\n",
            "Gen 1092: 888760.9715781503\n",
            "Gen 1093: 888976.0839180803\n",
            "Gen 1094: 888759.5986265847\n",
            "Gen 1095: 888757.5302243421\n",
            "Gen 1096: 889213.9171875879\n",
            "Gen 1097: 888954.7863720333\n",
            "Gen 1098: 888816.3355450543\n",
            "Gen 1099: 888995.3649450768\n",
            "Gen 1100: 888714.6625608413\n",
            "Gen 1101: 889044.7676920644\n",
            "Gen 1102: 888915.806200646\n",
            "Gen 1103: 888774.0477079323\n",
            "Gen 1104: 888708.3241062826\n",
            "Gen 1105: 888906.4735917698\n",
            "Gen 1106: 888919.6707743318\n",
            "Gen 1107: 888933.7233066331\n",
            "Gen 1108: 888979.1960791564\n",
            "Gen 1109: 889146.0626806065\n",
            "Gen 1110: 889153.8305716169\n",
            "Gen 1111: 888921.9192820103\n",
            "Gen 1112: 889101.1120091111\n",
            "Gen 1113: 889068.5134803925\n",
            "Gen 1114: 888886.9493072764\n",
            "Gen 1115: 888925.8140498535\n",
            "Gen 1116: 888914.055247521\n",
            "Gen 1117: 888669.9958020088\n",
            "Gen 1118: 888785.3611474687\n",
            "Gen 1119: 888639.8258713121\n",
            "Gen 1120: 888629.2654013867\n",
            "Gen 1121: 888796.3910628614\n",
            "Gen 1122: 888790.8314796735\n",
            "Gen 1123: 888702.2910334995\n",
            "Gen 1124: 888902.6625967373\n",
            "Gen 1125: 888977.3075429834\n",
            "Gen 1126: 888799.2545191045\n",
            "Gen 1127: 888594.4332338987\n",
            "Gen 1128: 888708.1521638092\n",
            "Gen 1129: 888956.2491562379\n",
            "Gen 1130: 888516.9242812311\n",
            "Gen 1131: 888738.8283430923\n",
            "Gen 1132: 888641.810229392\n",
            "Gen 1133: 888940.1118436418\n",
            "Gen 1134: 888389.3522072128\n",
            "Gen 1135: 888407.531337285\n",
            "Gen 1136: 888411.4563568833\n",
            "Gen 1137: 888703.9335573853\n",
            "Gen 1138: 888760.986240633\n",
            "Gen 1139: 888670.5777974396\n",
            "Gen 1140: 888858.391081129\n",
            "Gen 1141: 888705.735502668\n",
            "Gen 1142: 888440.1936657315\n",
            "Gen 1143: 888497.4710843485\n",
            "Gen 1144: 888434.3421225279\n",
            "Gen 1145: 888577.376214995\n",
            "Gen 1146: 888493.5984821847\n",
            "Gen 1147: 888466.9463201258\n",
            "Gen 1148: 888748.678374912\n",
            "Gen 1149: 888533.4533817878\n",
            "Gen 1150: 888619.8569281644\n",
            "Gen 1151: 888900.5954398896\n",
            "Gen 1152: 888744.7646288472\n",
            "Gen 1153: 888747.0777062211\n",
            "Gen 1154: 888761.2500990873\n",
            "Gen 1155: 888842.7514187832\n",
            "Gen 1156: 888461.6947981492\n",
            "Gen 1157: 888763.7782692943\n",
            "Gen 1158: 888504.6916069585\n",
            "Gen 1159: 888231.3739512834\n",
            "Gen 1160: 888438.6163168189\n",
            "Gen 1161: 888438.9425287442\n",
            "Gen 1162: 888252.2742050434\n",
            "Gen 1163: 888403.4956277487\n",
            "Gen 1164: 888597.6176473332\n",
            "Gen 1165: 888428.1177419549\n",
            "Gen 1166: 888339.7878359767\n",
            "Gen 1167: 888347.2046922683\n",
            "Gen 1168: 888272.7765136291\n",
            "Gen 1169: 888302.2365766512\n",
            "Gen 1170: 888370.8348930699\n",
            "Gen 1171: 888461.6040476965\n",
            "Gen 1172: 888402.9471801105\n",
            "Gen 1173: 888550.1463061351\n",
            "Gen 1174: 888491.8219840851\n",
            "Gen 1175: 888361.1578843358\n",
            "Gen 1176: 888472.4655170973\n",
            "Gen 1177: 888328.9857038815\n",
            "Gen 1178: 888443.4244712106\n",
            "Gen 1179: 888388.9116602846\n",
            "Gen 1180: 888469.9635555339\n",
            "Gen 1181: 888470.3729125306\n",
            "Gen 1182: 888457.0812274951\n",
            "Gen 1183: 888611.4015021293\n",
            "Gen 1184: 888581.8845868985\n",
            "Gen 1185: 888384.8782381334\n",
            "Gen 1186: 888450.0124134485\n",
            "Gen 1187: 888566.8715642\n",
            "Gen 1188: 888575.6524262219\n",
            "Gen 1189: 888612.4875725025\n",
            "Gen 1190: 888640.0848124909\n",
            "Gen 1191: 888730.4959234663\n",
            "Gen 1192: 888585.865112562\n",
            "Gen 1193: 888334.3919120958\n",
            "Gen 1194: 888579.7883507591\n",
            "Gen 1195: 888410.9934250265\n",
            "Gen 1196: 888482.2662328862\n",
            "Gen 1197: 888492.6096768792\n",
            "Gen 1198: 888362.7310074704\n",
            "Gen 1199: 888506.0387988461\n",
            "Gen 1200: 888417.422280509\n",
            "Gen 1201: 888519.1837423122\n",
            "Gen 1202: 888453.1441783941\n",
            "Gen 1203: 888202.753905006\n",
            "Gen 1204: 888212.8916383513\n",
            "Gen 1205: 888153.2879400626\n",
            "Gen 1206: 888193.9408309514\n",
            "Gen 1207: 888346.8406701498\n",
            "Gen 1208: 888367.906572846\n",
            "Gen 1209: 888369.4772290664\n",
            "Gen 1210: 888246.9734240045\n",
            "Gen 1211: 888499.0868506245\n",
            "Gen 1212: 888575.7321005423\n",
            "Gen 1213: 888600.5138132782\n",
            "Gen 1214: 888639.0447995565\n",
            "Gen 1215: 888517.9009590668\n",
            "Gen 1216: 888410.7916818116\n",
            "Gen 1217: 888571.3686232625\n",
            "Gen 1218: 888427.7794366449\n",
            "Gen 1219: 888465.7270988491\n",
            "Gen 1220: 888470.8434443292\n",
            "Gen 1221: 888487.4500114851\n",
            "Gen 1222: 888347.9483035823\n",
            "Gen 1223: 888494.5687747746\n",
            "Gen 1224: 888592.0896619431\n",
            "Gen 1225: 888381.8595144615\n",
            "Gen 1226: 888375.3996628454\n",
            "Gen 1227: 888590.774071502\n",
            "Gen 1228: 888357.810599551\n",
            "Gen 1229: 888278.2261942921\n",
            "Gen 1230: 888225.7768206173\n",
            "Gen 1231: 888277.1942319522\n",
            "Gen 1232: 888278.104947458\n",
            "Gen 1233: 888237.9142641948\n",
            "Gen 1234: 887998.0815822148\n",
            "Gen 1235: 888108.0050308029\n",
            "Gen 1236: 887915.5933951155\n",
            "Gen 1237: 887868.0972619483\n",
            "Gen 1238: 888085.6590040656\n",
            "Gen 1239: 888112.6750352136\n",
            "Gen 1240: 888125.4258500595\n",
            "Gen 1241: 888239.1773172126\n",
            "Gen 1242: 888181.3285244299\n",
            "Gen 1243: 888181.2352484219\n",
            "Gen 1244: 888241.9467155641\n",
            "Gen 1245: 888262.6486366807\n",
            "Gen 1246: 888168.0236297188\n",
            "Gen 1247: 888040.8973175256\n",
            "Gen 1248: 887964.4320882004\n",
            "Gen 1249: 888004.8760441216\n",
            "Gen 1250: 888182.8048956511\n",
            "Gen 1251: 888207.6048263224\n",
            "Gen 1252: 888157.0519389975\n",
            "Gen 1253: 888345.2755876423\n",
            "Gen 1254: 888405.4640179526\n",
            "Gen 1255: 888381.2595438127\n",
            "Gen 1256: 888489.6878337056\n",
            "Gen 1257: 888422.1473161081\n",
            "Gen 1258: 888502.5619113208\n",
            "Gen 1259: 888378.1956552269\n",
            "Gen 1260: 888329.6271138904\n",
            "Gen 1261: 888428.4939463218\n",
            "Gen 1262: 888462.2818876072\n",
            "Gen 1263: 888425.0021847144\n",
            "Gen 1264: 888268.5082649373\n",
            "Gen 1265: 888526.102430923\n",
            "Gen 1266: 888547.1646178517\n",
            "Gen 1267: 888493.9300280353\n",
            "Gen 1268: 888405.397853433\n",
            "Gen 1269: 888451.3215066511\n",
            "Gen 1270: 888479.8780551982\n",
            "Gen 1271: 888613.3265549381\n",
            "Gen 1272: 888503.7820774345\n",
            "Gen 1273: 888539.4318580056\n",
            "Gen 1274: 888655.8527915264\n",
            "Gen 1275: 888604.4149066476\n",
            "Gen 1276: 888796.1553319554\n",
            "Gen 1277: 888691.0559968902\n",
            "Gen 1278: 888884.7694520501\n",
            "Gen 1279: 888730.3952673769\n",
            "Gen 1280: 888956.0308305474\n",
            "Gen 1281: 889026.5689918888\n",
            "Gen 1282: 889031.5176574466\n",
            "Gen 1283: 889190.3264787797\n",
            "Gen 1284: 889045.198005227\n",
            "Gen 1285: 888846.5668341661\n",
            "Gen 1286: 888741.3060685579\n",
            "Gen 1287: 888943.8384039633\n",
            "Gen 1288: 888988.3757922682\n",
            "Gen 1289: 888806.4284708343\n",
            "Gen 1290: 888971.1544266541\n",
            "Gen 1291: 888646.4746826164\n",
            "Gen 1292: 888698.8637555264\n",
            "Gen 1293: 888820.1872794533\n",
            "Gen 1294: 888922.1162609125\n",
            "Gen 1295: 888849.5555480043\n",
            "Gen 1296: 888910.8475221463\n",
            "Gen 1297: 888748.128035194\n",
            "Gen 1298: 888783.2127076113\n",
            "Gen 1299: 888636.1156943601\n",
            "Gen 1300: 888974.1621469756\n",
            "Gen 1301: 888927.4361348974\n",
            "Gen 1302: 888711.4824303625\n",
            "Gen 1303: 888845.8367629364\n",
            "Gen 1304: 888441.5189388146\n",
            "Gen 1305: 888606.687271941\n",
            "Gen 1306: 888659.0241086764\n",
            "Gen 1307: 888653.9977716855\n",
            "Gen 1308: 888636.3073796232\n",
            "Gen 1309: 888676.7718346588\n",
            "Gen 1310: 888576.5404395323\n",
            "Gen 1311: 888557.5419721453\n",
            "Gen 1312: 888543.2570655551\n",
            "Gen 1313: 888549.773299002\n",
            "Gen 1314: 888606.1749883412\n",
            "Gen 1315: 888730.8262297931\n",
            "Gen 1316: 888607.2259254023\n",
            "Gen 1317: 888810.5529150803\n",
            "Gen 1318: 888560.1683022656\n",
            "Gen 1319: 888663.1362789302\n",
            "Gen 1320: 888794.0638793395\n",
            "Gen 1321: 888947.9405121144\n",
            "Gen 1322: 888886.2001676159\n",
            "Gen 1323: 888711.989056325\n",
            "Gen 1324: 888763.0906545109\n",
            "Gen 1325: 888818.3224373738\n",
            "Gen 1326: 888530.3612171075\n",
            "Gen 1327: 888576.4494725651\n",
            "Gen 1328: 888449.5025369655\n",
            "Gen 1329: 888472.7327629084\n",
            "Gen 1330: 888626.3170755212\n",
            "Gen 1331: 888695.8484641433\n",
            "Gen 1332: 888870.7159598867\n",
            "Gen 1333: 888874.7589301356\n",
            "Gen 1334: 888946.574924256\n",
            "Gen 1335: 889031.2667567383\n",
            "Gen 1336: 888987.277627285\n",
            "Gen 1337: 888923.1567957748\n",
            "Gen 1338: 888953.3714999305\n",
            "Gen 1339: 889018.4237624565\n",
            "Gen 1340: 889083.2926744658\n",
            "Gen 1341: 889145.3616404788\n",
            "Gen 1342: 889136.1646063604\n",
            "Gen 1343: 889116.8215879768\n",
            "Gen 1344: 888968.2078379556\n",
            "Gen 1345: 889057.4406903507\n",
            "Gen 1346: 888945.1737845187\n",
            "Gen 1347: 889034.687361531\n",
            "Gen 1348: 889119.5019505211\n",
            "Gen 1349: 888859.4833177452\n",
            "Gen 1350: 888960.6891319301\n",
            "Gen 1351: 889007.3886052133\n",
            "Gen 1352: 888766.7698095255\n",
            "Gen 1353: 888842.3371824013\n",
            "Gen 1354: 888787.8979717211\n",
            "Gen 1355: 888750.2862475123\n",
            "Gen 1356: 888764.2464426252\n",
            "Gen 1357: 888810.215304014\n",
            "Gen 1358: 888965.759894899\n",
            "Gen 1359: 889068.0444042942\n",
            "Gen 1360: 888826.1480822555\n",
            "Gen 1361: 888745.7745899737\n",
            "Gen 1362: 888925.1198573513\n",
            "Gen 1363: 888900.9970982983\n",
            "Gen 1364: 889060.0112286718\n",
            "Gen 1365: 889066.6382834461\n",
            "Gen 1366: 889085.4915877085\n",
            "Gen 1367: 889004.6379412543\n",
            "Gen 1368: 888965.1148312495\n",
            "Gen 1369: 888964.9735722321\n",
            "Gen 1370: 888761.9591900354\n",
            "Gen 1371: 888693.4226358467\n",
            "Gen 1372: 888809.4328794283\n",
            "Gen 1373: 889008.0743053174\n",
            "Gen 1374: 888838.3209510524\n",
            "Gen 1375: 888949.4325556074\n",
            "Gen 1376: 889106.1183283561\n",
            "Gen 1377: 889118.1805576942\n",
            "Gen 1378: 889028.6257225617\n",
            "Gen 1379: 889076.6535713468\n",
            "Gen 1380: 888977.7748056736\n",
            "Gen 1381: 888926.4411896742\n",
            "Gen 1382: 889067.3296543002\n",
            "Gen 1383: 888973.8573345047\n",
            "Gen 1384: 889266.6090828648\n",
            "Gen 1385: 889308.182329114\n",
            "Gen 1386: 889329.7820231816\n",
            "Gen 1387: 889190.3131295714\n",
            "Gen 1388: 889014.9718351468\n",
            "Gen 1389: 889022.8471684053\n",
            "Gen 1390: 889101.831237537\n",
            "Gen 1391: 889186.3313052586\n",
            "Gen 1392: 889283.7925190849\n",
            "Gen 1393: 889129.7839850561\n",
            "Gen 1394: 889076.0562924449\n",
            "Gen 1395: 888826.345772154\n",
            "Gen 1396: 888862.6164021882\n",
            "Gen 1397: 888807.6807874555\n",
            "Gen 1398: 888609.9402266939\n",
            "Gen 1399: 888732.7681945892\n",
            "Gen 1400: 888856.409447603\n",
            "Gen 1401: 888904.1562119371\n",
            "Gen 1402: 888886.5098514828\n",
            "Gen 1403: 888693.1022598511\n",
            "Gen 1404: 888728.7321979717\n",
            "Gen 1405: 888717.2956062244\n",
            "Gen 1406: 888903.0745681765\n",
            "Gen 1407: 888740.1376565626\n",
            "Gen 1408: 888679.0027214293\n",
            "Gen 1409: 888864.8483208946\n",
            "Gen 1410: 888721.5550777349\n",
            "Gen 1411: 888745.71248379\n",
            "Gen 1412: 888882.1723405061\n",
            "Gen 1413: 888841.3402458373\n",
            "Gen 1414: 888853.6575902761\n",
            "Gen 1415: 888643.8708687667\n",
            "Gen 1416: 888573.2982217107\n",
            "Gen 1417: 888757.2940423223\n",
            "Gen 1418: 888643.8797410829\n",
            "Gen 1419: 888728.9666224414\n",
            "Gen 1420: 888470.0789830419\n",
            "Gen 1421: 888442.1081874615\n",
            "Gen 1422: 888461.149532396\n",
            "Gen 1423: 888567.6461071356\n",
            "Gen 1424: 888689.8096124295\n",
            "Gen 1425: 888647.4080550753\n",
            "Gen 1426: 888756.2883498993\n",
            "Gen 1427: 888445.0462964594\n",
            "Gen 1428: 888536.9883288671\n",
            "Gen 1429: 888448.7336798114\n",
            "Gen 1430: 888618.8991907873\n",
            "Gen 1431: 888805.618210717\n",
            "Gen 1432: 888594.7703549616\n",
            "Gen 1433: 888597.8581892048\n",
            "Gen 1434: 888806.3848837551\n",
            "Gen 1435: 888892.3125816152\n",
            "Gen 1436: 888963.3200977781\n",
            "Gen 1437: 888947.7396067996\n",
            "Gen 1438: 888785.3035194906\n",
            "Gen 1439: 888848.4239318372\n",
            "Gen 1440: 888948.1735341713\n",
            "Gen 1441: 888927.5652998283\n",
            "Gen 1442: 888818.4554430662\n",
            "Gen 1443: 888862.9158402035\n",
            "Gen 1444: 888840.0220232618\n",
            "Gen 1445: 888832.971598843\n",
            "Gen 1446: 888829.1457048247\n",
            "Gen 1447: 888914.6368004567\n",
            "Gen 1448: 888802.595018926\n",
            "Gen 1449: 888840.5845403934\n",
            "Gen 1450: 888917.0297941882\n",
            "Gen 1451: 888782.7318333251\n",
            "Gen 1452: 888862.4313826442\n",
            "Gen 1453: 888969.7561981431\n",
            "Gen 1454: 888604.2434639544\n",
            "Gen 1455: 888855.4359843826\n",
            "Gen 1456: 888680.1827170886\n",
            "Gen 1457: 888866.5555036624\n",
            "Gen 1458: 888754.6446025732\n",
            "Gen 1459: 888800.2172783113\n",
            "Gen 1460: 888793.581670161\n",
            "Gen 1461: 888859.8066912182\n",
            "Gen 1462: 888792.2020140846\n",
            "Gen 1463: 888754.2131100063\n",
            "Gen 1464: 889004.5514331972\n",
            "Gen 1465: 888943.3905072759\n",
            "Gen 1466: 888953.4378328356\n",
            "Gen 1467: 888971.4095765287\n",
            "Gen 1468: 888767.8881506948\n",
            "Gen 1469: 889077.6728765692\n",
            "Gen 1470: 889091.765523089\n",
            "Gen 1471: 888842.8477421808\n",
            "Gen 1472: 889013.3681674565\n",
            "Gen 1473: 888829.1990544945\n",
            "Gen 1474: 888876.0505469035\n",
            "Gen 1475: 889004.8255744362\n",
            "Gen 1476: 888967.7825360427\n",
            "Gen 1477: 888755.6549021143\n",
            "Gen 1478: 888694.5458645826\n",
            "Gen 1479: 888733.9701262532\n",
            "Gen 1480: 888766.6871022646\n",
            "Gen 1481: 888714.4970365893\n",
            "Gen 1482: 888836.1413030294\n",
            "Gen 1483: 888675.1773130293\n",
            "Gen 1484: 888697.6463619965\n",
            "Gen 1485: 888906.2591568767\n",
            "Gen 1486: 888947.6503385443\n",
            "Gen 1487: 888809.9452900663\n",
            "Gen 1488: 888792.0438982134\n",
            "Gen 1489: 888867.1526244392\n",
            "Gen 1490: 888898.4445105724\n",
            "Gen 1491: 888853.1906180219\n",
            "Gen 1492: 888959.3551473329\n",
            "Gen 1493: 888852.8563380565\n",
            "Gen 1494: 888946.4535603422\n",
            "Gen 1495: 888853.6909950875\n",
            "Gen 1496: 888789.0202454978\n",
            "Gen 1497: 888700.1859055947\n",
            "Gen 1498: 888791.7811998595\n",
            "Gen 1499: 888658.0230975639\n",
            "Meilleur chemin: [12, 259, 52, 296, 654, 488, 194, 97, 269, 307, 126, 693, 412, 392, 182, 328, 703, 42, 318, 652, 225, 706, 330, 267, 592, 428, 276, 419, 266, 612, 481, 174, 31, 91, 215, 285, 272, 504, 86, 416, 468, 764, 427, 240, 9, 429, 740, 474, 190, 301, 403, 487, 20, 19, 360, 469, 138, 65, 353, 755, 10, 62, 186, 540, 561, 767, 230, 623, 594, 560, 77, 278, 396, 342, 564, 753, 687, 36, 476, 573, 529, 367, 760, 697, 89, 256, 157, 711, 84, 312, 228, 691, 177, 448, 28, 72, 348, 74, 128, 326, 331, 407, 734, 646, 351, 111, 365, 580, 268, 156, 148, 163, 527, 544, 203, 456, 658, 168, 484, 398, 227, 377, 26, 720, 164, 664, 497, 355, 322, 219, 300, 495, 471, 73, 684, 492, 519, 390, 727, 520, 143, 5, 105, 152, 745, 641, 201, 192, 25, 200, 707, 534, 189, 762, 103, 590, 131, 729, 718, 442, 675, 369, 485, 287, 280, 668, 207, 144, 742, 477, 701, 613, 676, 524, 132, 437, 60, 705, 433, 59, 297, 598, 567, 27, 238, 537, 275, 34, 21, 447, 130, 49, 715, 557, 37, 648, 472, 450, 680, 630, 717, 593, 323, 216, 18, 61, 184, 635, 56, 751, 414, 415, 538, 78, 491, 221, 634, 241, 299, 712, 657, 173, 665, 233, 211, 133, 137, 574, 231, 343, 672, 314, 388, 562, 382, 523, 149, 374, 589, 457, 386, 234, 619, 417, 547, 375, 757, 291, 90, 364, 756, 141, 120, 313, 662, 670, 466, 6, 728, 3, 341, 411, 402, 134, 445, 400, 501, 80, 23, 603, 329, 473, 320, 671, 763, 69, 679, 226, 223, 245, 629, 251, 384, 418, 568, 310, 178, 446, 146, 325, 443, 765, 530, 193, 582, 68, 539, 361, 458, 371, 410, 535, 110, 357, 349, 198, 463, 383, 212, 614, 533, 583, 39, 273, 79, 405, 260, 413, 356, 75, 55, 236, 608, 7, 615, 139, 288, 498, 682, 263, 127, 16, 295, 64, 585, 244, 321, 510, 345, 695, 591, 167, 719, 293, 246, 95, 106, 150, 588, 735, 584, 0, 171, 651, 96, 98, 344, 643, 261, 237, 264, 337, 723, 502, 45, 368, 738, 289, 279, 432, 479, 724, 232, 404, 692, 605, 441, 362, 242, 702, 248, 124, 522, 644, 213, 93, 500, 136, 752, 112, 637, 316, 733, 656, 489, 493, 746, 546, 67, 552, 118, 747, 282, 222, 708, 165, 210, 319, 70, 83, 142, 185, 333, 683, 205, 667, 572, 653, 308, 46, 380, 453, 624, 579, 389, 161, 284, 359, 459, 274, 147, 525, 286, 512, 528, 758, 160, 53, 204, 187, 352, 335, 347, 109, 40, 506, 625, 438, 305, 431, 581, 100, 44, 633, 731, 521, 48, 578, 514, 596, 379, 191, 739, 505, 606, 616, 315, 425, 265, 607, 761, 461, 470, 690, 420, 617, 373, 563, 294, 101, 54, 338, 381, 117, 532, 214, 395, 449, 696, 302, 576, 397, 620, 57, 202, 609, 508, 209, 35, 749, 704, 577, 107, 172, 424, 545, 748, 659, 736, 324, 339, 639, 685, 121, 2, 480, 714, 509, 281, 334, 253, 571, 81, 391, 123, 154, 673, 409, 444, 51, 1, 179, 114, 262, 475, 548, 602, 239, 372, 317, 290, 306, 622, 518, 647, 298, 270, 113, 24, 249, 499, 370, 597, 744, 363, 180, 661, 422, 709, 482, 423, 115, 50, 87, 649, 183, 650, 387, 218, 58, 271, 570, 678, 250, 14, 750, 358, 595, 85, 604, 426, 462, 140, 490, 611, 699, 494, 621, 681, 71, 655, 63, 252, 553, 716, 452, 686, 153, 599, 304, 176, 15, 645, 243, 743, 725, 119, 38, 145, 434, 151, 199, 439, 421, 496, 551, 277, 122, 258, 311, 460, 636, 549, 8, 455, 669, 730, 309, 507, 129, 29, 754, 159, 467, 166, 175, 32, 666, 108, 536, 155, 88, 440, 366, 125, 526, 722, 17, 515, 393, 41, 642, 516, 542, 66, 196, 82, 13, 436, 541, 610, 385, 688, 618, 206, 559, 94, 30, 628, 713, 698, 116, 229, 503, 158, 430, 766, 631, 531, 454, 554, 336, 478, 556, 76, 188, 376, 435, 255, 517, 220, 575, 732, 632, 104, 47, 170, 600, 513, 737, 550, 759, 162, 674, 663, 224, 43, 4, 350, 332, 627, 217, 292, 689, 399, 511, 99, 726, 283, 346, 677, 566, 408, 543, 486, 257, 638, 558, 254, 135, 694, 587, 465, 303, 710, 451, 102, 586, 208, 235, 660, 483, 247, 197, 33, 22, 626, 92, 406, 327, 181, 394, 721, 195, 464, 354, 169, 565, 401, 11, 569, 378, 640, 601, 741, 700, 340, 555]\n",
            "Distance: 887804.0923219684\n"
          ]
        }
      ],
      "source": [
        "def fitness(path, abs_corr_matrix):\n",
        "    N = len(path)\n",
        "    distance = 0\n",
        "    for ia, dim_a in enumerate(path):\n",
        "        for ib, dim_b in enumerate(path):\n",
        "            ang_a = ia / N * 2 * np.pi\n",
        "            ang_b = ib / N * 2 * np.pi\n",
        "            ang_dist = np.pi - abs(np.pi - abs(ang_a - ang_b)) # Distance angulaire bornée par Pi\n",
        "            expected_dist = max(np.pi - 2*np.pi*abs_corr_matrix[dim_a, dim_b], 0) # Distance angulaire attendue\n",
        "            distance += (ang_dist - expected_dist) ** 2 # cout erreur quadratique\n",
        "    return distance\n",
        "\n",
        "def crossover(parent1, parent2):\n",
        "    \"\"\"Effectue un croisement en prenant un sous-chemin de parent1 et complète avec parent2.\"\"\"\n",
        "    # Sélectionne un sous-chemin aléatoire de parent1\n",
        "    start, end = random.sample(range(len(parent1)), 2)\n",
        "    \n",
        "    # Crée un enfant en copiant le sous-chemin de parent1\n",
        "    child = [-1]*len(parent1)\n",
        "    if start <= end:\n",
        "        for i in range(start, end + 1):\n",
        "            child[i] = parent1[i]\n",
        "    else:\n",
        "        for i in range(start, len(parent1)):\n",
        "            child[i] = parent1[i]\n",
        "        for i in range(0, end + 1):\n",
        "            child[i] = parent1[i]\n",
        "\n",
        "    # Complète l'enfant avec les éléments de parent2\n",
        "    pointer = 0\n",
        "    for i in range(len(child)):\n",
        "        if child[i] == -1:\n",
        "            while parent2[pointer] in child:\n",
        "                pointer += 1\n",
        "            child[i] = parent2[pointer]\n",
        "            pointer += 1\n",
        "\n",
        "    return child\n",
        "\n",
        "def mutate(path, mutation_rate, abs_corr_matrix, top_n):\n",
        "    \"\"\"Déplace quelques éléments du chemin à une autre position plus adaptée.\"\"\"\n",
        "    # Choose random elements to remove from the path\n",
        "    selected_elems = [elem for elem in path if random.random() < mutation_rate]\n",
        "    new_path = [elem for elem in path if elem not in selected_elems]\n",
        "\n",
        "    # Insert the removed elements at random best position\n",
        "    for elem in selected_elems:\n",
        "\n",
        "        # Compute the score of each position\n",
        "        scores = []\n",
        "        for i in range(len(new_path)):\n",
        "            prev = new_path[i]\n",
        "            next = new_path[(i+1)%len(new_path)]\n",
        "            scores += [abs_corr_matrix[prev, elem] + abs_corr_matrix[elem, next]]\n",
        "\n",
        "        # Select the top_n best positions\n",
        "        ranked_indices = np.argsort(scores)[-top_n:] # Index of the top_n positions\n",
        "        ranked_scores = np.sort(scores)[-top_n:] # Score of the top_n positions\n",
        "\n",
        "        # Normalize the scores to get a probability distribution\n",
        "        proba = ranked_scores / np.sum(ranked_scores)\n",
        "\n",
        "        # Choose a position according to the probability distribution\n",
        "        new_pos = np.random.choice(ranked_indices, p=proba)\n",
        "        new_path.insert(new_pos, elem)\n",
        "    \n",
        "    return new_path\n",
        "\n",
        "def genetic_algorithm(abs_corr_matrix, population_size, generations, mutation_rate, top_n_mutate, top_n_parents):\n",
        "    \"\"\"Effectue l'algorithme génétique pour le TSP.\"\"\"\n",
        "    \n",
        "    # Génère une population initiale de chemins aléatoires\n",
        "    population = [list(np.random.permutation(len(abs_corr_matrix))) for _ in range(population_size)]\n",
        "    best_distance = np.inf\n",
        "    best_path = None\n",
        "\n",
        "    for generation in range(generations):\n",
        "        # Évalue la fitness de chaque individu\n",
        "        distances = [fitness(path, abs_corr_matrix) for path in population]\n",
        "        ranked_indices = np.argsort(distances)\n",
        "        print(f\"Gen {generation}: {min(distances)}\")\n",
        "        #print('scores', distances)\n",
        "\n",
        "        # Sauvegarde le meilleur individu si meilleur que courant\n",
        "        if min(distances) < best_distance:\n",
        "            best_distance = min(distances)\n",
        "            best_path = population[np.argmin(distances)]\n",
        "\n",
        "        # Sélection des parents pour le croisement\n",
        "        parents = [population[i] for i in ranked_indices[:top_n_parents]]\n",
        "        #print('parents', parents)\n",
        "\n",
        "        # Création de la nouvelle population\n",
        "        new_population = [p for p in parents] # Copie les parents\n",
        "        while len(new_population) < population_size:\n",
        "            parent1, parent2 = random.sample(parents, 2)\n",
        "            child = crossover(parent1, parent2)\n",
        "            new_population.append(child)\n",
        "\n",
        "        # Appliquer la mutation\n",
        "        population = [mutate(path, mutation_rate, abs_corr_matrix, top_n_mutate) for path in new_population]\n",
        "\n",
        "    # Renvoie le meilleur chemin trouvé\n",
        "    return best_path, best_distance\n",
        "\n",
        "path, distance = genetic_algorithm(\n",
        "    # corr_matrix=correlation_matrix,\n",
        "    abs_corr_matrix=abs_corr_matrix, \n",
        "    population_size=100, \n",
        "    generations=1500, \n",
        "    mutation_rate=0.01, \n",
        "    top_n_mutate=5, \n",
        "    top_n_parents=10,\n",
        ")\n",
        "\n",
        "print(\"Meilleur chemin:\", path)\n",
        "print(\"Distance:\", distance)\n",
        "\n",
        "with open('path.txt', 'w') as f:\n",
        "    f.write(str(path) + '\\n')\n",
        "    f.write(str(distance))"
      ]
    },
    {
      "cell_type": "markdown",
      "metadata": {
        "id": "Dp4veVDBW321"
      },
      "source": [
        "# Radar Chart (absolute correlation)"
      ]
    },
    {
      "cell_type": "code",
      "execution_count": 9,
      "metadata": {},
      "outputs": [
        {
          "name": "stdout",
          "output_type": "stream",
          "text": [
            "[1, 1, 1, 1, 1, 1, 1, -1, 1, -1, 1, -1, -1, -1, 1, -1, -1, -1, 1, -1, -1, 1, -1, 1, -1, -1, -1, -1, 1, -1, 1, 1, 1, 1, 1, 1, -1, 1, -1, 1, 1, 1, -1, -1, -1, -1, 1, -1, 1, -1, 1, -1, -1, 1, -1, 1, 1, 1, 1, 1, 1, 1, 1, 1, -1, -1, 1, -1, 1, 1, 1, 1, 1, -1, 1, -1, 1, -1, 1, -1, -1, 1, 1, 1, 1, 1, 1, 1, -1, 1, 1, -1, 1, 1, -1, 1, 1, -1, -1, 1, -1, 1, -1, 1, -1, -1, -1, -1, 1, -1, 1, 1, -1, -1, 1, 1, 1, 1, -1, 1, -1, -1, -1, -1, 1, 1, -1, -1, 1, -1, -1, -1, 1, 1, -1, 1, 1, -1, -1, -1, 1, -1, -1, 1, -1, -1, -1, -1, -1, -1, 1, 1, -1, 1, -1, -1, -1, -1, -1, 1, -1, -1, -1, -1, 1, -1, 1, -1, -1, 1, 1, 1, -1, 1, 1, 1, 1, -1, -1, -1, -1, 1, -1, -1, 1, -1, 1, 1, 1, -1, -1, -1, 1, -1, -1, -1, 1, 1, 1, -1, 1, -1, 1, 1, -1, 1, 1, 1, -1, 1, -1, 1, -1, 1, 1, -1, -1, 1, 1, -1, -1, -1, 1, -1, -1, -1, -1, 1, 1, 1, -1, 1, -1, 1, -1, -1, 1, -1, 1, -1, 1, -1, 1, -1, 1, 1, 1, -1, 1, -1, -1, -1, 1, -1, 1, 1, 1, 1, -1, 1, -1, 1, -1, -1, 1, -1, 1, 1, 1, 1, -1, -1, -1, -1, -1, 1, -1, 1, -1, -1, -1, 1, 1, -1, -1, -1, 1, 1, 1, 1, 1, -1, 1, -1, 1, 1, -1, 1, 1, -1, -1, 1, -1, 1, 1, -1, -1, 1, -1, 1, 1, -1, -1, 1, -1, 1, -1, 1, -1, 1, -1, -1, 1, -1, -1, 1, -1, -1, -1, 1, 1, 1, -1, 1, 1, 1, -1, 1, -1, -1, -1, -1, 1, -1, -1, 1, 1, 1, -1, 1, -1, -1, 1, -1, 1, -1, -1, 1, 1, 1, 1, 1, 1, 1, 1, -1, 1, -1, 1, -1, 1, -1, -1, -1, 1, -1, 1, 1, 1, -1, 1, -1, 1, 1, 1, 1, -1, 1, -1, -1, 1, -1, 1, -1, -1, 1, 1, 1, -1, 1, -1, -1, 1, 1, -1, -1, -1, -1, 1, -1, -1, -1, 1, -1, -1, 1, -1, 1, 1, 1, -1, 1, 1, -1, 1, -1, -1, -1, -1, -1, 1, -1, -1, 1, 1, -1, -1, 1, -1, 1, -1, 1, 1, -1, -1, 1, -1, 1, 1, 1, -1, 1, -1, 1, 1, -1, 1, 1, 1, -1, -1, 1, -1, 1, 1, -1, 1, 1, 1, 1, 1, -1, -1, 1, 1, -1, -1, -1, 1, -1, 1, 1, -1, -1, -1, 1, -1, -1, 1, 1, -1, 1, 1, 1, -1, 1, 1, 1, 1, 1, 1, -1, -1, -1, -1, -1, 1, -1, -1, 1, 1, -1, -1, -1, 1, -1, -1, -1, -1, 1, 1, -1, -1, -1, 1, -1, -1, -1, 1, 1, -1, -1, 1, 1, 1, 1, -1, 1, -1, -1, -1, -1, 1, -1, 1, -1, 1, -1, -1, -1, 1, -1, -1, 1, 1, 1, -1, 1, -1, 1, 1, 1, -1, 1, 1, 1, 1, 1, -1, -1, -1, 1, 1, 1, 1, -1, 1, -1, 1, 1, 1, 1, -1, 1, -1, 1, 1, -1, 1, -1, 1, 1, 1, -1, -1, 1, 1, 1, 1, -1, 1, -1, -1, 1, 1, -1, -1, -1, -1, 1, 1, 1, -1, -1, -1, 1, -1, 1, -1, -1, 1, -1, -1, 1, -1, 1, 1, 1, -1, 1, -1, 1, 1, -1, 1, -1, 1, -1, 1, 1, -1, 1, -1, 1, 1, 1, -1, -1, -1, 1, -1, 1, -1, -1, 1, -1, -1, -1, -1, -1, -1, 1, -1, -1, 1, 1, 1, -1, 1, -1, 1, -1, 1, -1, -1, 1, -1, 1, -1, 1, 1, 1, -1, -1, -1, 1, -1, 1, 1, -1, 1, 1, -1, -1, -1, 1, -1, 1, 1, 1, -1, -1, -1, -1, 1, -1, 1, 1, 1, -1, -1, 1, -1, 1, 1, -1, 1, -1, -1, 1, -1, -1, -1, 1, 1, -1, -1, -1, 1, -1, -1, -1, 1, -1, -1, -1, 1, 1, 1, 1, -1, -1, -1, -1, -1, 1, 1, 1, -1, -1, -1, -1, -1, -1, -1, -1, -1, -1, 1, 1, -1, 1, -1, 1, 1, -1, -1, 1, 1]\n"
          ]
        }
      ],
      "source": [
        "# Load path\n",
        "with open('path.txt', 'r') as f:\n",
        "    path = eval(f.readline())\n",
        "\n",
        "# Load vocab_emb_matrix\n",
        "vocab_emb_matrix = np.load('vocab_emb_matrix.npy')\n",
        "\n",
        "# Load the correlation matrix\n",
        "correlation_matrix = np.load('correlation_matrix.npy')\n",
        "\n",
        "# Compute coef for each value in the path\n",
        "coefs = [1] # List that contains values {1, -1} for each value in the path\n",
        "current_coef = 1\n",
        "for i in range(len(path)):\n",
        "    current = path[i]\n",
        "    next = path[(i+1)%len(path)]\n",
        "    next_coef = int(np.sign(correlation_matrix[current, next]))\n",
        "    coefs += [current_coef * next_coef]\n",
        "    current_coef = next_coef\n",
        "\n",
        "print(coefs)"
      ]
    },
    {
      "cell_type": "code",
      "execution_count": 148,
      "metadata": {},
      "outputs": [
        {
          "data": {
            "application/vnd.plotly.v1+json": {
              "config": {
                "plotlyServerURL": "https://plot.ly"
              },
              "data": [
                {
                  "hovertemplate": "variable=0<br>index=%{x}<br>value=%{y}<extra></extra>",
                  "legendgroup": "0",
                  "line": {
                    "color": "#636efa",
                    "dash": "solid"
                  },
                  "marker": {
                    "symbol": "circle"
                  },
                  "mode": "lines",
                  "name": "0",
                  "orientation": "v",
                  "showlegend": true,
                  "type": "scatter",
                  "x": [
                    0,
                    1,
                    2,
                    3,
                    4,
                    5,
                    6,
                    7,
                    8,
                    9,
                    10,
                    11,
                    12,
                    13,
                    14,
                    15,
                    16,
                    17,
                    18,
                    19,
                    20,
                    21,
                    22,
                    23,
                    24,
                    25,
                    26,
                    27,
                    28,
                    29,
                    30,
                    31,
                    32,
                    33,
                    34,
                    35,
                    36,
                    37,
                    38,
                    39,
                    40,
                    41,
                    42,
                    43,
                    44,
                    45,
                    46,
                    47,
                    48,
                    49,
                    50,
                    51,
                    52,
                    53,
                    54,
                    55,
                    56,
                    57,
                    58,
                    59,
                    60,
                    61,
                    62,
                    63
                  ],
                  "xaxis": "x",
                  "y": [
                    0.0044318484119380075,
                    0.005845500468006694,
                    0.0076426058187464025,
                    0.009904765099539109,
                    0.012724181596831433,
                    0.016203114300393225,
                    0.0204526737727814,
                    0.02559084613085239,
                    0.03173965183566742,
                    0.03902138052597502,
                    0.04755389126063963,
                    0.05744502850548769,
                    0.0687862758266919,
                    0.08164584780389299,
                    0.09606150090511335,
                    0.11203341942700748,
                    0.12951759566589174,
                    0.1484201665251779,
                    0.16859318451811514,
                    0.189832283616435,
                    0.21187664577569948,
                    0.23441158124578176,
                    0.25707390734673474,
                    0.2794601522708544,
                    0.30113743215480443,
                    0.3216566635860753,
                    0.3405675943198307,
                    0.3574349775195373,
                    0.37185509386976895,
                    0.38347175385694454,
                    0.39199089825257194,
                    0.39719296261432385,
                    0.3989422804014327,
                    0.39719296261432385,
                    0.39199089825257194,
                    0.38347175385694454,
                    0.37185509386976895,
                    0.3574349775195373,
                    0.3405675943198307,
                    0.3216566635860753,
                    0.30113743215480443,
                    0.2794601522708544,
                    0.25707390734673474,
                    0.23441158124578176,
                    0.21187664577569948,
                    0.189832283616435,
                    0.16859318451811514,
                    0.1484201665251779,
                    0.12951759566589174,
                    0.11203341942700748,
                    0.09606150090511335,
                    0.08164584780389299,
                    0.0687862758266919,
                    0.05744502850548769,
                    0.04755389126063963,
                    0.03902138052597502,
                    0.03173965183566742,
                    0.02559084613085239,
                    0.0204526737727814,
                    0.016203114300393225,
                    0.012724181596831433,
                    0.009904765099539109,
                    0.0076426058187464025,
                    0.005845500468006694
                  ],
                  "yaxis": "y"
                }
              ],
              "layout": {
                "legend": {
                  "title": {
                    "text": "variable"
                  },
                  "tracegroupgap": 0
                },
                "margin": {
                  "t": 60
                },
                "template": {
                  "data": {
                    "bar": [
                      {
                        "error_x": {
                          "color": "#2a3f5f"
                        },
                        "error_y": {
                          "color": "#2a3f5f"
                        },
                        "marker": {
                          "line": {
                            "color": "#E5ECF6",
                            "width": 0.5
                          },
                          "pattern": {
                            "fillmode": "overlay",
                            "size": 10,
                            "solidity": 0.2
                          }
                        },
                        "type": "bar"
                      }
                    ],
                    "barpolar": [
                      {
                        "marker": {
                          "line": {
                            "color": "#E5ECF6",
                            "width": 0.5
                          },
                          "pattern": {
                            "fillmode": "overlay",
                            "size": 10,
                            "solidity": 0.2
                          }
                        },
                        "type": "barpolar"
                      }
                    ],
                    "carpet": [
                      {
                        "aaxis": {
                          "endlinecolor": "#2a3f5f",
                          "gridcolor": "white",
                          "linecolor": "white",
                          "minorgridcolor": "white",
                          "startlinecolor": "#2a3f5f"
                        },
                        "baxis": {
                          "endlinecolor": "#2a3f5f",
                          "gridcolor": "white",
                          "linecolor": "white",
                          "minorgridcolor": "white",
                          "startlinecolor": "#2a3f5f"
                        },
                        "type": "carpet"
                      }
                    ],
                    "choropleth": [
                      {
                        "colorbar": {
                          "outlinewidth": 0,
                          "ticks": ""
                        },
                        "type": "choropleth"
                      }
                    ],
                    "contour": [
                      {
                        "colorbar": {
                          "outlinewidth": 0,
                          "ticks": ""
                        },
                        "colorscale": [
                          [
                            0,
                            "#0d0887"
                          ],
                          [
                            0.1111111111111111,
                            "#46039f"
                          ],
                          [
                            0.2222222222222222,
                            "#7201a8"
                          ],
                          [
                            0.3333333333333333,
                            "#9c179e"
                          ],
                          [
                            0.4444444444444444,
                            "#bd3786"
                          ],
                          [
                            0.5555555555555556,
                            "#d8576b"
                          ],
                          [
                            0.6666666666666666,
                            "#ed7953"
                          ],
                          [
                            0.7777777777777778,
                            "#fb9f3a"
                          ],
                          [
                            0.8888888888888888,
                            "#fdca26"
                          ],
                          [
                            1,
                            "#f0f921"
                          ]
                        ],
                        "type": "contour"
                      }
                    ],
                    "contourcarpet": [
                      {
                        "colorbar": {
                          "outlinewidth": 0,
                          "ticks": ""
                        },
                        "type": "contourcarpet"
                      }
                    ],
                    "heatmap": [
                      {
                        "colorbar": {
                          "outlinewidth": 0,
                          "ticks": ""
                        },
                        "colorscale": [
                          [
                            0,
                            "#0d0887"
                          ],
                          [
                            0.1111111111111111,
                            "#46039f"
                          ],
                          [
                            0.2222222222222222,
                            "#7201a8"
                          ],
                          [
                            0.3333333333333333,
                            "#9c179e"
                          ],
                          [
                            0.4444444444444444,
                            "#bd3786"
                          ],
                          [
                            0.5555555555555556,
                            "#d8576b"
                          ],
                          [
                            0.6666666666666666,
                            "#ed7953"
                          ],
                          [
                            0.7777777777777778,
                            "#fb9f3a"
                          ],
                          [
                            0.8888888888888888,
                            "#fdca26"
                          ],
                          [
                            1,
                            "#f0f921"
                          ]
                        ],
                        "type": "heatmap"
                      }
                    ],
                    "heatmapgl": [
                      {
                        "colorbar": {
                          "outlinewidth": 0,
                          "ticks": ""
                        },
                        "colorscale": [
                          [
                            0,
                            "#0d0887"
                          ],
                          [
                            0.1111111111111111,
                            "#46039f"
                          ],
                          [
                            0.2222222222222222,
                            "#7201a8"
                          ],
                          [
                            0.3333333333333333,
                            "#9c179e"
                          ],
                          [
                            0.4444444444444444,
                            "#bd3786"
                          ],
                          [
                            0.5555555555555556,
                            "#d8576b"
                          ],
                          [
                            0.6666666666666666,
                            "#ed7953"
                          ],
                          [
                            0.7777777777777778,
                            "#fb9f3a"
                          ],
                          [
                            0.8888888888888888,
                            "#fdca26"
                          ],
                          [
                            1,
                            "#f0f921"
                          ]
                        ],
                        "type": "heatmapgl"
                      }
                    ],
                    "histogram": [
                      {
                        "marker": {
                          "pattern": {
                            "fillmode": "overlay",
                            "size": 10,
                            "solidity": 0.2
                          }
                        },
                        "type": "histogram"
                      }
                    ],
                    "histogram2d": [
                      {
                        "colorbar": {
                          "outlinewidth": 0,
                          "ticks": ""
                        },
                        "colorscale": [
                          [
                            0,
                            "#0d0887"
                          ],
                          [
                            0.1111111111111111,
                            "#46039f"
                          ],
                          [
                            0.2222222222222222,
                            "#7201a8"
                          ],
                          [
                            0.3333333333333333,
                            "#9c179e"
                          ],
                          [
                            0.4444444444444444,
                            "#bd3786"
                          ],
                          [
                            0.5555555555555556,
                            "#d8576b"
                          ],
                          [
                            0.6666666666666666,
                            "#ed7953"
                          ],
                          [
                            0.7777777777777778,
                            "#fb9f3a"
                          ],
                          [
                            0.8888888888888888,
                            "#fdca26"
                          ],
                          [
                            1,
                            "#f0f921"
                          ]
                        ],
                        "type": "histogram2d"
                      }
                    ],
                    "histogram2dcontour": [
                      {
                        "colorbar": {
                          "outlinewidth": 0,
                          "ticks": ""
                        },
                        "colorscale": [
                          [
                            0,
                            "#0d0887"
                          ],
                          [
                            0.1111111111111111,
                            "#46039f"
                          ],
                          [
                            0.2222222222222222,
                            "#7201a8"
                          ],
                          [
                            0.3333333333333333,
                            "#9c179e"
                          ],
                          [
                            0.4444444444444444,
                            "#bd3786"
                          ],
                          [
                            0.5555555555555556,
                            "#d8576b"
                          ],
                          [
                            0.6666666666666666,
                            "#ed7953"
                          ],
                          [
                            0.7777777777777778,
                            "#fb9f3a"
                          ],
                          [
                            0.8888888888888888,
                            "#fdca26"
                          ],
                          [
                            1,
                            "#f0f921"
                          ]
                        ],
                        "type": "histogram2dcontour"
                      }
                    ],
                    "mesh3d": [
                      {
                        "colorbar": {
                          "outlinewidth": 0,
                          "ticks": ""
                        },
                        "type": "mesh3d"
                      }
                    ],
                    "parcoords": [
                      {
                        "line": {
                          "colorbar": {
                            "outlinewidth": 0,
                            "ticks": ""
                          }
                        },
                        "type": "parcoords"
                      }
                    ],
                    "pie": [
                      {
                        "automargin": true,
                        "type": "pie"
                      }
                    ],
                    "scatter": [
                      {
                        "fillpattern": {
                          "fillmode": "overlay",
                          "size": 10,
                          "solidity": 0.2
                        },
                        "type": "scatter"
                      }
                    ],
                    "scatter3d": [
                      {
                        "line": {
                          "colorbar": {
                            "outlinewidth": 0,
                            "ticks": ""
                          }
                        },
                        "marker": {
                          "colorbar": {
                            "outlinewidth": 0,
                            "ticks": ""
                          }
                        },
                        "type": "scatter3d"
                      }
                    ],
                    "scattercarpet": [
                      {
                        "marker": {
                          "colorbar": {
                            "outlinewidth": 0,
                            "ticks": ""
                          }
                        },
                        "type": "scattercarpet"
                      }
                    ],
                    "scattergeo": [
                      {
                        "marker": {
                          "colorbar": {
                            "outlinewidth": 0,
                            "ticks": ""
                          }
                        },
                        "type": "scattergeo"
                      }
                    ],
                    "scattergl": [
                      {
                        "marker": {
                          "colorbar": {
                            "outlinewidth": 0,
                            "ticks": ""
                          }
                        },
                        "type": "scattergl"
                      }
                    ],
                    "scattermapbox": [
                      {
                        "marker": {
                          "colorbar": {
                            "outlinewidth": 0,
                            "ticks": ""
                          }
                        },
                        "type": "scattermapbox"
                      }
                    ],
                    "scatterpolar": [
                      {
                        "marker": {
                          "colorbar": {
                            "outlinewidth": 0,
                            "ticks": ""
                          }
                        },
                        "type": "scatterpolar"
                      }
                    ],
                    "scatterpolargl": [
                      {
                        "marker": {
                          "colorbar": {
                            "outlinewidth": 0,
                            "ticks": ""
                          }
                        },
                        "type": "scatterpolargl"
                      }
                    ],
                    "scatterternary": [
                      {
                        "marker": {
                          "colorbar": {
                            "outlinewidth": 0,
                            "ticks": ""
                          }
                        },
                        "type": "scatterternary"
                      }
                    ],
                    "surface": [
                      {
                        "colorbar": {
                          "outlinewidth": 0,
                          "ticks": ""
                        },
                        "colorscale": [
                          [
                            0,
                            "#0d0887"
                          ],
                          [
                            0.1111111111111111,
                            "#46039f"
                          ],
                          [
                            0.2222222222222222,
                            "#7201a8"
                          ],
                          [
                            0.3333333333333333,
                            "#9c179e"
                          ],
                          [
                            0.4444444444444444,
                            "#bd3786"
                          ],
                          [
                            0.5555555555555556,
                            "#d8576b"
                          ],
                          [
                            0.6666666666666666,
                            "#ed7953"
                          ],
                          [
                            0.7777777777777778,
                            "#fb9f3a"
                          ],
                          [
                            0.8888888888888888,
                            "#fdca26"
                          ],
                          [
                            1,
                            "#f0f921"
                          ]
                        ],
                        "type": "surface"
                      }
                    ],
                    "table": [
                      {
                        "cells": {
                          "fill": {
                            "color": "#EBF0F8"
                          },
                          "line": {
                            "color": "white"
                          }
                        },
                        "header": {
                          "fill": {
                            "color": "#C8D4E3"
                          },
                          "line": {
                            "color": "white"
                          }
                        },
                        "type": "table"
                      }
                    ]
                  },
                  "layout": {
                    "annotationdefaults": {
                      "arrowcolor": "#2a3f5f",
                      "arrowhead": 0,
                      "arrowwidth": 1
                    },
                    "autotypenumbers": "strict",
                    "coloraxis": {
                      "colorbar": {
                        "outlinewidth": 0,
                        "ticks": ""
                      }
                    },
                    "colorscale": {
                      "diverging": [
                        [
                          0,
                          "#8e0152"
                        ],
                        [
                          0.1,
                          "#c51b7d"
                        ],
                        [
                          0.2,
                          "#de77ae"
                        ],
                        [
                          0.3,
                          "#f1b6da"
                        ],
                        [
                          0.4,
                          "#fde0ef"
                        ],
                        [
                          0.5,
                          "#f7f7f7"
                        ],
                        [
                          0.6,
                          "#e6f5d0"
                        ],
                        [
                          0.7,
                          "#b8e186"
                        ],
                        [
                          0.8,
                          "#7fbc41"
                        ],
                        [
                          0.9,
                          "#4d9221"
                        ],
                        [
                          1,
                          "#276419"
                        ]
                      ],
                      "sequential": [
                        [
                          0,
                          "#0d0887"
                        ],
                        [
                          0.1111111111111111,
                          "#46039f"
                        ],
                        [
                          0.2222222222222222,
                          "#7201a8"
                        ],
                        [
                          0.3333333333333333,
                          "#9c179e"
                        ],
                        [
                          0.4444444444444444,
                          "#bd3786"
                        ],
                        [
                          0.5555555555555556,
                          "#d8576b"
                        ],
                        [
                          0.6666666666666666,
                          "#ed7953"
                        ],
                        [
                          0.7777777777777778,
                          "#fb9f3a"
                        ],
                        [
                          0.8888888888888888,
                          "#fdca26"
                        ],
                        [
                          1,
                          "#f0f921"
                        ]
                      ],
                      "sequentialminus": [
                        [
                          0,
                          "#0d0887"
                        ],
                        [
                          0.1111111111111111,
                          "#46039f"
                        ],
                        [
                          0.2222222222222222,
                          "#7201a8"
                        ],
                        [
                          0.3333333333333333,
                          "#9c179e"
                        ],
                        [
                          0.4444444444444444,
                          "#bd3786"
                        ],
                        [
                          0.5555555555555556,
                          "#d8576b"
                        ],
                        [
                          0.6666666666666666,
                          "#ed7953"
                        ],
                        [
                          0.7777777777777778,
                          "#fb9f3a"
                        ],
                        [
                          0.8888888888888888,
                          "#fdca26"
                        ],
                        [
                          1,
                          "#f0f921"
                        ]
                      ]
                    },
                    "colorway": [
                      "#636efa",
                      "#EF553B",
                      "#00cc96",
                      "#ab63fa",
                      "#FFA15A",
                      "#19d3f3",
                      "#FF6692",
                      "#B6E880",
                      "#FF97FF",
                      "#FECB52"
                    ],
                    "font": {
                      "color": "#2a3f5f"
                    },
                    "geo": {
                      "bgcolor": "white",
                      "lakecolor": "white",
                      "landcolor": "#E5ECF6",
                      "showlakes": true,
                      "showland": true,
                      "subunitcolor": "white"
                    },
                    "hoverlabel": {
                      "align": "left"
                    },
                    "hovermode": "closest",
                    "mapbox": {
                      "style": "light"
                    },
                    "paper_bgcolor": "white",
                    "plot_bgcolor": "#E5ECF6",
                    "polar": {
                      "angularaxis": {
                        "gridcolor": "white",
                        "linecolor": "white",
                        "ticks": ""
                      },
                      "bgcolor": "#E5ECF6",
                      "radialaxis": {
                        "gridcolor": "white",
                        "linecolor": "white",
                        "ticks": ""
                      }
                    },
                    "scene": {
                      "xaxis": {
                        "backgroundcolor": "#E5ECF6",
                        "gridcolor": "white",
                        "gridwidth": 2,
                        "linecolor": "white",
                        "showbackground": true,
                        "ticks": "",
                        "zerolinecolor": "white"
                      },
                      "yaxis": {
                        "backgroundcolor": "#E5ECF6",
                        "gridcolor": "white",
                        "gridwidth": 2,
                        "linecolor": "white",
                        "showbackground": true,
                        "ticks": "",
                        "zerolinecolor": "white"
                      },
                      "zaxis": {
                        "backgroundcolor": "#E5ECF6",
                        "gridcolor": "white",
                        "gridwidth": 2,
                        "linecolor": "white",
                        "showbackground": true,
                        "ticks": "",
                        "zerolinecolor": "white"
                      }
                    },
                    "shapedefaults": {
                      "line": {
                        "color": "#2a3f5f"
                      }
                    },
                    "ternary": {
                      "aaxis": {
                        "gridcolor": "white",
                        "linecolor": "white",
                        "ticks": ""
                      },
                      "baxis": {
                        "gridcolor": "white",
                        "linecolor": "white",
                        "ticks": ""
                      },
                      "bgcolor": "#E5ECF6",
                      "caxis": {
                        "gridcolor": "white",
                        "linecolor": "white",
                        "ticks": ""
                      }
                    },
                    "title": {
                      "x": 0.05
                    },
                    "xaxis": {
                      "automargin": true,
                      "gridcolor": "white",
                      "linecolor": "white",
                      "ticks": "",
                      "title": {
                        "standoff": 15
                      },
                      "zerolinecolor": "white",
                      "zerolinewidth": 2
                    },
                    "yaxis": {
                      "automargin": true,
                      "gridcolor": "white",
                      "linecolor": "white",
                      "ticks": "",
                      "title": {
                        "standoff": 15
                      },
                      "zerolinecolor": "white",
                      "zerolinewidth": 2
                    }
                  }
                },
                "xaxis": {
                  "anchor": "y",
                  "domain": [
                    0,
                    1
                  ],
                  "title": {
                    "text": "index"
                  }
                },
                "yaxis": {
                  "anchor": "x",
                  "domain": [
                    0,
                    1
                  ],
                  "title": {
                    "text": "value"
                  }
                }
              }
            }
          },
          "metadata": {},
          "output_type": "display_data"
        }
      ],
      "source": [
        "def circular_convolution(signal, kernel):\n",
        "    len_kernel = len(kernel)\n",
        "    half_kernel = len_kernel // 2\n",
        "    \n",
        "    # Étendre le signal aux deux extrémités pour gérer le cas circulaire\n",
        "    extended_signal = np.concatenate([signal[-half_kernel:], signal, signal[:half_kernel]])\n",
        "    \n",
        "    # Appliquer la convolution standard\n",
        "    result = np.convolve(extended_signal, kernel, mode='valid')\n",
        "    \n",
        "    return result\n",
        "\n",
        "N = 32\n",
        "filter = [scipy.stats.norm.pdf(3*x/N, 0, 1) for x in range(-N, N)]\n",
        "fig = px.line(filter)\n",
        "fig.show()"
      ]
    },
    {
      "cell_type": "code",
      "execution_count": 164,
      "metadata": {},
      "outputs": [
        {
          "name": "stdout",
          "output_type": "stream",
          "text": [
            "queen king "
          ]
        },
        {
          "data": {
            "application/vnd.plotly.v1+json": {
              "config": {
                "plotlyServerURL": "https://plot.ly"
              },
              "data": [
                {
                  "fill": "toself",
                  "name": "queen",
                  "opacity": 0.5,
                  "r": [
                    -0.4418438640731098,
                    -0.370975555957623,
                    -0.29623925868283435,
                    -0.22267707628043298,
                    -0.14104066797359327,
                    -0.05578174752353371,
                    0.032616652870489204,
                    0.11606174093303129,
                    0.19306608543293063,
                    0.2669813949635001,
                    0.32735243032610134,
                    0.3897775178359623,
                    0.4414685940407419,
                    0.4819746508942568,
                    0.5165304824314529,
                    0.5388231210758841,
                    0.5489234495818437,
                    0.5458456319311129,
                    0.5279554311296554,
                    0.5003246295231287,
                    0.46741508354861644,
                    0.42128142551975567,
                    0.3689556821028363,
                    0.30543615601639595,
                    0.24089138623659878,
                    0.17503710144629114,
                    0.10252900607283777,
                    0.03596668349772181,
                    -0.03034900956265918,
                    -0.09526079974735002,
                    -0.1499180857501472,
                    -0.20340885206230908,
                    -0.24668062859208545,
                    -0.2852496629181674,
                    -0.31789590446570826,
                    -0.34752631255655336,
                    -0.3629898641722351,
                    -0.3788073503587806,
                    -0.38452364757192425,
                    -0.3896861904863648,
                    -0.38853722825552167,
                    -0.38899591854670085,
                    -0.3864111513579512,
                    -0.3810160719924429,
                    -0.37603771564980715,
                    -0.3692528779409569,
                    -0.3647319495307751,
                    -0.3528615941517364,
                    -0.3435783471280162,
                    -0.3290433775304474,
                    -0.31758772019922815,
                    -0.3002190013666549,
                    -0.2723840883126524,
                    -0.2410000467367104,
                    -0.21203207143775166,
                    -0.1755826815609285,
                    -0.13050139714194986,
                    -0.08017537797050803,
                    -0.02991417413828301,
                    0.025305914564511908,
                    0.08383718354860516,
                    0.14242935833445936,
                    0.19547399168030916,
                    0.25713353883719775,
                    0.30846371654003596,
                    0.3527782852103577,
                    0.38747355357348007,
                    0.4192358827937853,
                    0.4390521837770949,
                    0.4497903933131915,
                    0.44894437897087897,
                    0.4438680955777302,
                    0.4357061993887934,
                    0.41159846043977466,
                    0.3869423663065664,
                    0.34962208471277895,
                    0.31469243268550395,
                    0.28349407468042787,
                    0.24835569025993787,
                    0.21175524467931028,
                    0.1798067723001897,
                    0.15685732563845523,
                    0.14083260777122902,
                    0.12543543443144933,
                    0.11553613711825325,
                    0.11768135024401294,
                    0.12095229528374717,
                    0.13227037357974292,
                    0.14176069540727715,
                    0.1557059109137558,
                    0.17597835565394807,
                    0.18561959320099575,
                    0.20018280587476797,
                    0.21402419416492788,
                    0.2205326161365122,
                    0.22282924533519938,
                    0.22254622210806851,
                    0.22069986068092984,
                    0.21109014248997468,
                    0.19897273054059708,
                    0.18356378131210388,
                    0.1702854609912554,
                    0.15016785270281444,
                    0.12917574368167778,
                    0.1097362039022371,
                    0.09829744901306717,
                    0.0853465337567747,
                    0.0772138101732523,
                    0.07456374188347467,
                    0.07686970642918245,
                    0.08634479488478199,
                    0.1011102313741831,
                    0.12426147098431084,
                    0.15019884335086167,
                    0.18311169148955195,
                    0.21989636247238348,
                    0.2595895618953258,
                    0.30077085951595206,
                    0.34623506413594923,
                    0.39146738405589326,
                    0.4372284493489086,
                    0.4758418914159373,
                    0.5101906021131798,
                    0.5450434749402353,
                    0.5672324181958978,
                    0.585759923746822,
                    0.6004234984136103,
                    0.6027170000634179,
                    0.6032782445159653,
                    0.5914799264066049,
                    0.5743971825062042,
                    0.5489620881921101,
                    0.5216352872694668,
                    0.48700784397479824,
                    0.4502238261426188,
                    0.4089899874511993,
                    0.36183594233402916,
                    0.3195932087468509,
                    0.2730953542132549,
                    0.22525585452424768,
                    0.18041664371269026,
                    0.13073558940628435,
                    0.08861842938680849,
                    0.05181465173389016,
                    0.015461398708590444,
                    -0.016437330370586544,
                    -0.04928359386387904,
                    -0.07549948413865692,
                    -0.10038723071179821,
                    -0.1271974819425925,
                    -0.14998526268402237,
                    -0.17407581805014763,
                    -0.19307530151070917,
                    -0.21771717553732292,
                    -0.2402612776202434,
                    -0.26409609834032477,
                    -0.29108803619771473,
                    -0.3252977953387054,
                    -0.35980939601120737,
                    -0.4006384530106812,
                    -0.4414350218157847,
                    -0.4898443285228691,
                    -0.5400334308925336,
                    -0.5964120749478492,
                    -0.6584045908766938,
                    -0.7226310055353551,
                    -0.7855542601874673,
                    -0.8515503983121431,
                    -0.9195307701841411,
                    -0.9890753623852686,
                    -1.0542238324241837,
                    -1.1186305316378657,
                    -1.1823306531125057,
                    -1.2380195057357044,
                    -1.2937421760429526,
                    -1.3435663217771687,
                    -1.3886627483986025,
                    -1.4201760312633764,
                    -1.4459628998131244,
                    -1.4638382714193598,
                    -1.4751023627885353,
                    -1.4769432985416697,
                    -1.4689360293038907,
                    -1.450235619062919,
                    -1.422461198741147,
                    -1.3827606999407944,
                    -1.334592589417839,
                    -1.2763625770119589,
                    -1.2059667784269015,
                    -1.1278110651548001,
                    -1.0414843519614039,
                    -0.951145162382175,
                    -0.8548181668152255,
                    -0.746433663240438,
                    -0.6433184148737788,
                    -0.5334772530575695,
                    -0.4238058204492434,
                    -0.3151152292624131,
                    -0.2027654271965687,
                    -0.0973079976852757,
                    0.0045657547870505966,
                    0.1012541589067947,
                    0.184312707894359,
                    0.2630115820449369,
                    0.3269821398546064,
                    0.3839283825013804,
                    0.42612365659386287,
                    0.4569033695640039,
                    0.4750989131586756,
                    0.48267615176785883,
                    0.47760014417271757,
                    0.46711692512501435,
                    0.44508659471332224,
                    0.41654822189900725,
                    0.3829160213857431,
                    0.3417890885680439,
                    0.30190597150377463,
                    0.26158809644359093,
                    0.22350830108199615,
                    0.19430240843232086,
                    0.16424869279850185,
                    0.14493854188928082,
                    0.1297015096536798,
                    0.1283988879088795,
                    0.12904658267626945,
                    0.14376377549558372,
                    0.16885055465644241,
                    0.19537106187476466,
                    0.22693579819680576,
                    0.2680191224345201,
                    0.30517732314577906,
                    0.345981968314129,
                    0.38855857873696875,
                    0.4292278365656189,
                    0.46646581550197963,
                    0.49638484792901116,
                    0.5284163294108755,
                    0.5511046713566492,
                    0.5766129541442873,
                    0.5968106613927444,
                    0.6101936564840983,
                    0.6179371275866105,
                    0.6283904825345853,
                    0.6346336139355291,
                    0.6440289249686109,
                    0.6544408869965401,
                    0.6682473094908221,
                    0.6819561559760599,
                    0.7017616697489666,
                    0.725472952626526,
                    0.7546124343913949,
                    0.7902463636910446,
                    0.8301308594883233,
                    0.8760694277825787,
                    0.9241245411526289,
                    0.9765706285638606,
                    1.0330200038306794,
                    1.0826662379730354,
                    1.1329298560734142,
                    1.1755139284569833,
                    1.2108389253353031,
                    1.2458634239590904,
                    1.2642972433931425,
                    1.2737627404507865,
                    1.2704667393991178,
                    1.2538543294488653,
                    1.2206320628384346,
                    1.1718408286420734,
                    1.1071418115072467,
                    1.0285670728974943,
                    0.9372719292940286,
                    0.8304509911204643,
                    0.7135745351516096,
                    0.580796651331734,
                    0.4488547927769888,
                    0.31010520674981656,
                    0.16359768816641126,
                    0.016557856051183345,
                    -0.13011607213222404,
                    -0.2710832531311534,
                    -0.41332233518266664,
                    -0.5479855676035172,
                    -0.6788601895827172,
                    -0.801957271187363,
                    -0.9088015481301235,
                    -1.0088388650522084,
                    -1.0964426500170137,
                    -1.1736344097598157,
                    -1.2421297728216831,
                    -1.30440955775663,
                    -1.3553149003512996,
                    -1.3955584644251826,
                    -1.4228577855300113,
                    -1.4493467460410945,
                    -1.4644966390561716,
                    -1.4768216173405033,
                    -1.4820379759213198,
                    -1.4831564378090594,
                    -1.4795869917042834,
                    -1.468457416577682,
                    -1.4538777846630206,
                    -1.4306846645258537,
                    -1.403914501263194,
                    -1.372076933785125,
                    -1.3308119679695043,
                    -1.2879398826842727,
                    -1.2366940451713815,
                    -1.1846114915684827,
                    -1.1239817219054724,
                    -1.058649933150205,
                    -0.9941622143023607,
                    -0.9197168243635863,
                    -0.8453802388455701,
                    -0.7706061565453244,
                    -0.6985836730175706,
                    -0.6294965964767523,
                    -0.5576002800399521,
                    -0.4926012908818774,
                    -0.4344387925079305,
                    -0.37743319639329864,
                    -0.33062767653668446,
                    -0.28614433682310775,
                    -0.2502499942593987,
                    -0.2184509964137685,
                    -0.19318539445924926,
                    -0.1773469317282826,
                    -0.16535255219227388,
                    -0.15759354472124265,
                    -0.15180482682351049,
                    -0.1504402201189627,
                    -0.14883388709242906,
                    -0.15131677317686515,
                    -0.15356414593645457,
                    -0.16046786713343786,
                    -0.16290883336505935,
                    -0.16916001046411255,
                    -0.1738438601051901,
                    -0.1774044433880858,
                    -0.1848117164731286,
                    -0.1986367596516329,
                    -0.21423418436762146,
                    -0.22923829280104988,
                    -0.25276725862524463,
                    -0.27692846511955704,
                    -0.3037686663116401,
                    -0.3351398620799978,
                    -0.374374987150223,
                    -0.4182735849542971,
                    -0.4625465079520893,
                    -0.5153171743976017,
                    -0.570823532418045,
                    -0.6334898932068469,
                    -0.6905446195869162,
                    -0.7534433643587537,
                    -0.8170220876688278,
                    -0.8796613159066652,
                    -0.9430967747455101,
                    -1.0041175513635103,
                    -1.0574283573758638,
                    -1.1100585358544406,
                    -1.1552306019275824,
                    -1.1943208806241676,
                    -1.230743177028486,
                    -1.261950962236221,
                    -1.284895422525052,
                    -1.3011531550986697,
                    -1.309830758987067,
                    -1.306094612177485,
                    -1.2925609456906348,
                    -1.263002126204896,
                    -1.2278440457588522,
                    -1.1796432323194588,
                    -1.1223491350384456,
                    -1.0506254027088962,
                    -0.9662847966777888,
                    -0.8760515792899453,
                    -0.7779196095602838,
                    -0.6682396369220307,
                    -0.5557891534271197,
                    -0.4354666560704836,
                    -0.3091505225023804,
                    -0.1832196626357162,
                    -0.05362982313591824,
                    0.06874985634325703,
                    0.1903149473129957,
                    0.3043917996263227,
                    0.41054192955773783,
                    0.47872242250145136,
                    0.5543535981549413,
                    0.6143325969333491,
                    0.6580400551582911,
                    0.6824676227607429,
                    0.6902678496125041,
                    0.6801815064534209,
                    0.6496511692781557,
                    0.5992155356122635,
                    0.5299634080190205,
                    0.4447207425309927,
                    0.3377509421308982,
                    0.2186781381639596,
                    0.07807210612475346,
                    -0.06800192491695034,
                    -0.23170063008146768,
                    -0.40002522059204115,
                    -0.5756127374874405,
                    -0.7578396824890621,
                    -0.9451009943989354,
                    -1.1285050245310715,
                    -1.3135640596869416,
                    -1.491776984164961,
                    -1.661864584001899,
                    -1.819560737744098,
                    -1.966060096940593,
                    -2.0910837687922696,
                    -2.1982425490301907,
                    -2.2814644074976673,
                    -2.3486885460675557,
                    -2.387243354387607,
                    -2.4063055849514847,
                    -2.403528416831196,
                    -2.3773963771395885,
                    -2.327336535135067,
                    -2.263789838264342,
                    -2.1783358789779235,
                    -2.078896352671358,
                    -1.9609953402933384,
                    -1.831884286690987,
                    -1.6944832201557407,
                    -1.5522794786103025,
                    -1.4075363726266754,
                    -1.2615265246094804,
                    -1.1156233237257194,
                    -0.9733197927746101,
                    -0.8383299080334425,
                    -0.7046327580948045,
                    -0.579202866963113,
                    -0.45974072212009576,
                    -0.3504785560145156,
                    -0.24790547835607696,
                    -0.15535073282866257,
                    -0.0631887440503085,
                    0.012993336681201784,
                    0.08210385729470804,
                    0.1428564706974147,
                    0.19013633714540507,
                    0.23157260846834848,
                    0.25802344442380204,
                    0.28181393460579673,
                    0.2915457612232726,
                    0.29290618639223276,
                    0.2838512029014294,
                    0.2903268303677004,
                    0.25436826400007795,
                    0.2127271799604829,
                    0.16649550571399724,
                    0.11063077796546192,
                    0.05029326367871744,
                    -0.012390526115075635,
                    -0.07545822323256228,
                    -0.1386422078841383,
                    -0.20013107495227506,
                    -0.25948057922116197,
                    -0.3132819670967585,
                    -0.3534993482471367,
                    -0.383157605035279,
                    -0.4085041629619496,
                    -0.41856826021780347,
                    -0.4176819294516946,
                    -0.4058819136482493,
                    -0.3809470244141463,
                    -0.3442086045981641,
                    -0.30035635608314476,
                    -0.24495492966663307,
                    -0.18469251456709224,
                    -0.11756523402228103,
                    -0.05227145715209375,
                    0.009565036085153855,
                    0.07038528889788265,
                    0.13046265580824068,
                    0.18176911656431433,
                    0.22146158843501354,
                    0.2566372670774413,
                    0.27862075316223556,
                    0.2949983168924978,
                    0.2982341052575645,
                    0.2899930708557283,
                    0.27486087561052364,
                    0.24638920083994426,
                    0.20761785471733674,
                    0.16179006829771997,
                    0.11412332148168639,
                    0.059284678461329836,
                    -0.003441596698087121,
                    -0.06036200252320606,
                    -0.12418860792507583,
                    -0.18698130600540389,
                    -0.24638965348939262,
                    -0.3053921093924319,
                    -0.3570289347845701,
                    -0.4080413949583229,
                    -0.45353924067417,
                    -0.49025051241258044,
                    -0.5203352801806658,
                    -0.5403297063507603,
                    -0.5633006222196222,
                    -0.5718206319825866,
                    -0.5719481501429362,
                    -0.5658412117893977,
                    -0.5502934654322931,
                    -0.5252627976368822,
                    -0.49327953387394147,
                    -0.46368882984583476,
                    -0.4235539907978728,
                    -0.37409199810961025,
                    -0.3282535841101618,
                    -0.27479603225002824,
                    -0.21951338012494948,
                    -0.163721077288411,
                    -0.11120494699974176,
                    -0.05921215025384424,
                    -0.00931564141856478,
                    0.03430959226674318,
                    0.07494473512569189,
                    0.11356986066166153,
                    0.14535940108828893,
                    0.17231227136122845,
                    0.19934673930026509,
                    0.21546958159115806,
                    0.23035389888789762,
                    0.24490522842888968,
                    0.25673025239733893,
                    0.2661249382357756,
                    0.27823606116695443,
                    0.28118012221691074,
                    0.2879114633694616,
                    0.2917916896706104,
                    0.3001077615031058,
                    0.3067486158232225,
                    0.31437444455205854,
                    0.32310304462856,
                    0.33494418738453685,
                    0.3463540308856459,
                    0.35056396718148963,
                    0.359743788142276,
                    0.3713202485047413,
                    0.37466334755617314,
                    0.3834811333846873,
                    0.38473872818698274,
                    0.38844071641927236,
                    0.40093168330959306,
                    0.41267287877898606,
                    0.42633883829472496,
                    0.4364115992143679,
                    0.4478963977267355,
                    0.4570314775797386,
                    0.47510650572644525,
                    0.4932255442625922,
                    0.5033761689978874,
                    0.5209913569816322,
                    0.5365249926252836,
                    0.552212969227199,
                    0.5687492739205455,
                    0.5783112493658473,
                    0.5945970110936187,
                    0.6068010522669446,
                    0.615190591848628,
                    0.619129313259623,
                    0.6193585243731214,
                    0.6188231059952338,
                    0.6120835737182727,
                    0.6035089330312213,
                    0.5910181242930088,
                    0.5792146570492324,
                    0.5590555934473009,
                    0.5360032073552122,
                    0.516775247254578,
                    0.49243560314409746,
                    0.4623556465761154,
                    0.4366996363217893,
                    0.4067286649702174,
                    0.3809312177662153,
                    0.35529551839634954,
                    0.32281015733333257,
                    0.29246392516672526,
                    0.2563513377442592,
                    0.22437663068728586,
                    0.19197962940428218,
                    0.15014414185570713,
                    0.11161886201263108,
                    0.073196086629952,
                    0.027600681630163576,
                    -0.01556890905001726,
                    -0.06484513182086235,
                    -0.11515988757929949,
                    -0.16648620914270829,
                    -0.2156303545848039,
                    -0.272681164389731,
                    -0.32585799549547567,
                    -0.379064982685267,
                    -0.43000312722498696,
                    -0.4864818593192062,
                    -0.5364052247215778,
                    -0.5855226533172122,
                    -0.6327551077978322,
                    -0.6779289684043597,
                    -0.7193712553646137,
                    -0.7447455213223738,
                    -0.774792412806843,
                    -0.79500370357416,
                    -0.8050205217671371,
                    -0.8097433005788843,
                    -0.8072516745010608,
                    -0.7977098859405114,
                    -0.7864878393949648,
                    -0.7658652237368748,
                    -0.7354680537952643,
                    -0.6917451260933446,
                    -0.6463303176977638,
                    -0.593298760677186,
                    -0.5389992501593239,
                    -0.47615090380958314,
                    -0.4063863246494871,
                    -0.33608442752694556,
                    -0.2638798913923115,
                    -0.19140575633454737,
                    -0.11817530441666378,
                    -0.048720789615899845,
                    0.018699093410267542,
                    0.07938897691639932,
                    0.13708861253102156,
                    0.1938207937424684,
                    0.2426278046116097,
                    0.2895671767707232,
                    0.3329086508144956,
                    0.3637085241018271,
                    0.3905489893324988,
                    0.4101381432602639,
                    0.42737924971631125,
                    0.4401544700071162,
                    0.4509063239085822,
                    0.45101654263797936,
                    0.45833351448507,
                    0.46053220334153633,
                    0.4580981026041664,
                    0.44866886790833127,
                    0.44421979082967955,
                    0.4378170390119613,
                    0.4322029919868008,
                    0.4223006974019583,
                    0.40897765096874894,
                    0.3860076792767136,
                    0.3653424453286551,
                    0.34071854817595093,
                    0.30310813892155236,
                    0.2685786763525088,
                    0.22250583558133907,
                    0.17229121964331467,
                    0.1111187813198738,
                    0.042613204222127,
                    -0.03321323283464711,
                    -0.11287852185597663,
                    -0.20113469096567155,
                    -0.2983781574620361,
                    -0.40057426673566887,
                    -0.5055611753806211,
                    -0.6176241891209255,
                    -0.7356458147211515,
                    -0.8524884187213777,
                    -0.9704580803877549,
                    -1.0921272277883374,
                    -1.219560538773234,
                    -1.3372282817752494,
                    -1.4615888207034342,
                    -1.5768589780431295,
                    -1.6845418705011141,
                    -1.78956604539894,
                    -1.8817654067385763,
                    -1.9697539781528384,
                    -2.0514178701860075,
                    -2.1184547924313404,
                    -2.1766652229822245,
                    -2.216098376498159,
                    -2.244083186581645,
                    -2.262712997445978,
                    -2.26724858646143,
                    -2.257725262712431,
                    -2.2329571230877354,
                    -2.196653980306952,
                    -2.144752749190463,
                    -2.0876768140766413,
                    -2.0175541304217472,
                    -1.9382596441606754,
                    -1.8555415396488943,
                    -1.763883372378432,
                    -1.6703202512581266,
                    -1.5718804253375303,
                    -1.4790774562823656,
                    -1.3858916254160387,
                    -1.2869149020949568,
                    -1.1936017084068882,
                    -1.0994371482092882,
                    -1.0078096562094034,
                    -0.9192690865402016,
                    -0.8375898824772632,
                    -0.7581761531459195,
                    -0.6893237372688599,
                    -0.6162953809562178,
                    -0.5439819516137142,
                    -0.47019072390008954,
                    -0.4048000997652474,
                    -0.3389409344760436,
                    -0.278894843213207,
                    -0.2184002284928867,
                    -0.1624383726683182,
                    -0.10004114026633493,
                    -0.04420478118166521,
                    0.007975359325292392,
                    0.06124716512588878,
                    0.10289421547561356,
                    0.14632075513238504,
                    0.1847886471250842,
                    0.22041107881402072,
                    0.2505894261127066,
                    0.27911439688480844,
                    0.3023234858063348,
                    0.3169687090248635,
                    0.32889280478061267,
                    0.3355440765212032,
                    0.3388389909195623,
                    0.335785918954452,
                    0.3284444049840925,
                    0.31691317274339914,
                    0.29874946286651227,
                    0.2791982225858657,
                    0.2527116474633324,
                    0.22460265824397024,
                    0.1976452000833238,
                    0.15674458681187958,
                    0.11409010268484471,
                    0.0770886179378087,
                    0.030722848989014017,
                    -0.01691375908308196,
                    -0.06587018063824682,
                    -0.11684100562583374,
                    -0.17136086659132455,
                    -0.2279378862496495,
                    -0.28502761468031995,
                    -0.3375000603081269,
                    -0.3905201039548091,
                    -0.44569135174224245,
                    -0.4951340161834177,
                    -0.5446976458705743,
                    -0.5902184670936488,
                    -0.6321246327071144,
                    -0.6684517190890369,
                    -0.7014588247652077,
                    -0.7278838609573576,
                    -0.7454136581973462,
                    -0.7560611998047578,
                    -0.7584615871104667,
                    -0.7574731978319409,
                    -0.7488335224034477,
                    -0.7285380099335106,
                    -0.7023390154007403,
                    -0.664770531482249,
                    -0.6208678777586139,
                    -0.5650968884743248,
                    -0.5081567579195732,
                    -0.4418438640731098
                  ],
                  "type": "scatterpolar"
                },
                {
                  "fill": "toself",
                  "name": "king",
                  "opacity": 0.5,
                  "r": [
                    -0.38951917790399043,
                    -0.30594752466547925,
                    -0.2214029788313705,
                    -0.1404808525332042,
                    -0.058474818866237954,
                    0.021802762789856378,
                    0.10181767372221451,
                    0.17746821515476818,
                    0.2500326503581398,
                    0.3140156086363883,
                    0.3692570323304859,
                    0.4252664896714101,
                    0.47618305524998655,
                    0.5255933252424262,
                    0.5644250966729837,
                    0.5947812293941646,
                    0.6226806255139503,
                    0.6466049523818238,
                    0.6566186194867191,
                    0.6686672328499588,
                    0.6800324477779298,
                    0.6842672938189656,
                    0.6805549474071589,
                    0.667665704873464,
                    0.6543006269669309,
                    0.6421164858955221,
                    0.6299945834304645,
                    0.6128039300899008,
                    0.5992601949797906,
                    0.5832773089236778,
                    0.5688316350132074,
                    0.5584286846385087,
                    0.5442419691864466,
                    0.5310617978971829,
                    0.5173727925599927,
                    0.5021664447056753,
                    0.49212749115628757,
                    0.4735093937326721,
                    0.4506973345249422,
                    0.4217137007092068,
                    0.39244307746580265,
                    0.35426714417312155,
                    0.3156105148131118,
                    0.26973301638453095,
                    0.21792448474543186,
                    0.15760326460776747,
                    0.09549634356099604,
                    0.030673930415769962,
                    -0.03563616843075895,
                    -0.10899121871896184,
                    -0.18146954544618432,
                    -0.25043106127906334,
                    -0.31604087642434275,
                    -0.37675016384353904,
                    -0.4419820846327355,
                    -0.4983598444361504,
                    -0.5455581209123334,
                    -0.5880796251286611,
                    -0.6278196774803751,
                    -0.6579593358798065,
                    -0.6809228632615132,
                    -0.6977531226846406,
                    -0.716717541634126,
                    -0.7287130104344457,
                    -0.7374798381665724,
                    -0.7492220753230372,
                    -0.7585534372890038,
                    -0.7625225306774686,
                    -0.7706250301856601,
                    -0.7833729290526102,
                    -0.7930252511419871,
                    -0.800392644270875,
                    -0.8076392984050873,
                    -0.8110672822633198,
                    -0.8134890142730786,
                    -0.8193016113307632,
                    -0.8168787516750851,
                    -0.8153238624544827,
                    -0.8015560481369017,
                    -0.786091001963097,
                    -0.7709349795782832,
                    -0.746955886162586,
                    -0.7140829382948529,
                    -0.6828470451437405,
                    -0.6452530010402058,
                    -0.6029343890726303,
                    -0.5577072739816312,
                    -0.5037033642053279,
                    -0.456599441498332,
                    -0.410866214158066,
                    -0.36260453735470477,
                    -0.3192813799157699,
                    -0.27440405131130124,
                    -0.2326830671405384,
                    -0.19742164344853888,
                    -0.16486809007949565,
                    -0.13046470676447647,
                    -0.09747816134407267,
                    -0.07134201356199249,
                    -0.04625664989711614,
                    -0.02635768370529512,
                    -0.0034544397111530567,
                    0.016891642728218137,
                    0.03411068844932358,
                    0.055410347831651,
                    0.07459231023926649,
                    0.09367798373459621,
                    0.1113519613492942,
                    0.12459774983116703,
                    0.1399827066726638,
                    0.156271804578926,
                    0.16908840368440248,
                    0.17746852872049249,
                    0.19098741314965795,
                    0.19698305950389033,
                    0.19977093427461368,
                    0.20245270658680864,
                    0.19863565183799653,
                    0.1933666806819455,
                    0.18371381878224635,
                    0.17090379673311,
                    0.15142004166124995,
                    0.12503577176832728,
                    0.09792999001679409,
                    0.05599042167689852,
                    0.012421985239737476,
                    -0.033122258533437254,
                    -0.08638219434663724,
                    -0.14329997283391627,
                    -0.20228739439793725,
                    -0.2688131442881598,
                    -0.34063405536391317,
                    -0.4091316088633346,
                    -0.4808437137725091,
                    -0.5577613394046855,
                    -0.6363494720097734,
                    -0.7125123128956259,
                    -0.7857200192911533,
                    -0.856038471485455,
                    -0.9243444684672701,
                    -0.98643391531864,
                    -1.042682914376869,
                    -1.088512464525027,
                    -1.12395123623754,
                    -1.1510492325894708,
                    -1.1649127904163459,
                    -1.169657534171665,
                    -1.1603735692635166,
                    -1.1420996878872396,
                    -1.109784442291655,
                    -1.0650926776557565,
                    -1.0090453992108808,
                    -0.9423224255327922,
                    -0.8664111389127662,
                    -0.780010029551323,
                    -0.6917319289874623,
                    -0.6019181312155832,
                    -0.5091928583067151,
                    -0.4119260408344674,
                    -0.32041133341599637,
                    -0.22864359191526784,
                    -0.14484393956100466,
                    -0.06630636447904126,
                    0.003690996846378969,
                    0.05954610538896932,
                    0.104671650765719,
                    0.14189261270152456,
                    0.16199555480481057,
                    0.16807831256652073,
                    0.1635809311219877,
                    0.14870310683693164,
                    0.1207485764321217,
                    0.08602902475447313,
                    0.0418538105441687,
                    -0.012304866617766863,
                    -0.06625612812342602,
                    -0.12632200300986696,
                    -0.1883779181876187,
                    -0.24518274011157348,
                    -0.3047831760965653,
                    -0.36591119380544435,
                    -0.4214992414785345,
                    -0.47058935426262094,
                    -0.5159264643569159,
                    -0.5552841941808281,
                    -0.586566444074297,
                    -0.6112875497412688,
                    -0.630212910862066,
                    -0.6428501743079115,
                    -0.6544075732339799,
                    -0.6628810113223508,
                    -0.6694965765587525,
                    -0.6754791128428959,
                    -0.6732855399074854,
                    -0.6766351421408051,
                    -0.6752187939828985,
                    -0.674230392443683,
                    -0.6742305832058382,
                    -0.6672912727953777,
                    -0.6678556507930389,
                    -0.6673616383005649,
                    -0.6653916311997091,
                    -0.6682781136993977,
                    -0.6682066035322687,
                    -0.676402837181463,
                    -0.6780388905742507,
                    -0.6817323071294246,
                    -0.6863911359806956,
                    -0.6905045350648589,
                    -0.6964769555457477,
                    -0.7006077168449631,
                    -0.7061601395272419,
                    -0.7108405813979459,
                    -0.7167991292272287,
                    -0.7195084741643576,
                    -0.7221669399623303,
                    -0.7197365476760472,
                    -0.7147352369481534,
                    -0.7108250942236871,
                    -0.6916320303820584,
                    -0.6677528009607563,
                    -0.6422801850717195,
                    -0.6138923956993785,
                    -0.5732407878035816,
                    -0.5321655400523302,
                    -0.483718597474742,
                    -0.424368953718252,
                    -0.36950017248547806,
                    -0.3107800104550674,
                    -0.2504289057957384,
                    -0.19553842265770732,
                    -0.13763515373210006,
                    -0.08350382554044307,
                    -0.0345758353077097,
                    0.006068140311041456,
                    0.042135742578745555,
                    0.07009537846089775,
                    0.09363211282494495,
                    0.11265887368755242,
                    0.12549814859179143,
                    0.13571169906836517,
                    0.13767268725259607,
                    0.14002014853733608,
                    0.14561645360040817,
                    0.15365454596292275,
                    0.1625417258704052,
                    0.1769866625900142,
                    0.19239427885396926,
                    0.21403350607401334,
                    0.2417735650893999,
                    0.27369354706070104,
                    0.30948795997221934,
                    0.35463302320900447,
                    0.40267049713195796,
                    0.4503849289143322,
                    0.4995802588187159,
                    0.5468268123062445,
                    0.5903591909784243,
                    0.6323575701668221,
                    0.6657862341131434,
                    0.6913400813661746,
                    0.7198434561223598,
                    0.7306556522619948,
                    0.739376660819663,
                    0.7380906041820409,
                    0.7245062463711688,
                    0.7006392771157102,
                    0.6705666192137884,
                    0.6336757825541867,
                    0.5848910147313395,
                    0.5296497900616757,
                    0.46742473145070473,
                    0.4008501959053124,
                    0.3216323771420154,
                    0.24290573660154893,
                    0.16065432508445807,
                    0.07040439854091929,
                    -0.020521792765610898,
                    -0.11076491976604427,
                    -0.2076202085393996,
                    -0.305205878724493,
                    -0.4044664791250824,
                    -0.5009527981671147,
                    -0.59870214168479,
                    -0.6941040121934706,
                    -0.7860352209129917,
                    -0.8732564505397806,
                    -0.9599848320776035,
                    -1.0493390926628627,
                    -1.1307224606483266,
                    -1.206497449831887,
                    -1.275694473505731,
                    -1.340417616532513,
                    -1.4030546099334127,
                    -1.4579396800623932,
                    -1.5082181767407215,
                    -1.5517020142073303,
                    -1.5890740007809694,
                    -1.6219088766904943,
                    -1.6450476618197452,
                    -1.6572062873784765,
                    -1.6647268836904763,
                    -1.6611436994684181,
                    -1.654891140788727,
                    -1.6348119195213329,
                    -1.6094233237383366,
                    -1.5724452015421058,
                    -1.5322178817391572,
                    -1.4843739290284335,
                    -1.4260213568125442,
                    -1.3658733723403516,
                    -1.2905063103237526,
                    -1.2111980481221,
                    -1.1304774082852278,
                    -1.0445632178236863,
                    -0.9539588160541705,
                    -0.8609773439123305,
                    -0.7639062101809341,
                    -0.6675380617554405,
                    -0.5672928821741567,
                    -0.4675208527901386,
                    -0.372619386195706,
                    -0.2808453335868694,
                    -0.18841667817609256,
                    -0.09405694261273126,
                    -0.007962901654190613,
                    0.08051546125346615,
                    0.16285848989437238,
                    0.24216261511067397,
                    0.3175421613964594,
                    0.39301066068083057,
                    0.4581566175335754,
                    0.5205341511313293,
                    0.572898662501158,
                    0.6147310722968407,
                    0.6490255641724194,
                    0.677677220482432,
                    0.6995708425592243,
                    0.7062347215941923,
                    0.695705087510411,
                    0.6722805373669998,
                    0.6318680000062528,
                    0.5739989693664406,
                    0.5093260546326618,
                    0.4313184772559595,
                    0.33751374611722895,
                    0.2266441008756884,
                    0.10258017232531924,
                    -0.029710527533075903,
                    -0.1682490177549305,
                    -0.31378664036353776,
                    -0.46578068312589477,
                    -0.6087860453868272,
                    -0.75943486648936,
                    -0.9075826740264108,
                    -1.047802020267971,
                    -1.1762379984659357,
                    -1.2951285478364987,
                    -1.3999400286152084,
                    -1.4932297686296634,
                    -1.5708571377393266,
                    -1.6314717489485588,
                    -1.6736885524206715,
                    -1.704431524281826,
                    -1.7218583809719006,
                    -1.7194123930617093,
                    -1.7076549759082331,
                    -1.6727592902267736,
                    -1.6273843400829562,
                    -1.572217588934033,
                    -1.5087231650985622,
                    -1.429318049921673,
                    -1.3483483473693743,
                    -1.2613389567315292,
                    -1.162248652904695,
                    -1.0679270633275075,
                    -0.9674034589519145,
                    -0.8643113185028434,
                    -0.7659874630811522,
                    -0.6669167063986795,
                    -0.5702719745300451,
                    -0.47891698901169544,
                    -0.386662234875779,
                    -0.30429156639100474,
                    -0.2238535481628331,
                    -0.15112665454632312,
                    -0.0809652377865212,
                    -0.047088639966135215,
                    -0.010205724796341298,
                    0.019176806960953585,
                    0.03674079966942434,
                    0.04559070024927403,
                    0.046560686600757406,
                    0.033978249681717254,
                    0.010306037243348665,
                    -0.026347952165544974,
                    -0.07507257073113349,
                    -0.1322199215679375,
                    -0.19733948340733642,
                    -0.2738392995356924,
                    -0.3669779833596991,
                    -0.46230683631753744,
                    -0.5650529498275179,
                    -0.6688616260130488,
                    -0.7738389164359913,
                    -0.8812366272863905,
                    -0.9942250283976289,
                    -1.1006385135508907,
                    -1.2021843041126323,
                    -1.297730066954711,
                    -1.380757650397746,
                    -1.4464151366539362,
                    -1.5013034703952601,
                    -1.5383630768323737,
                    -1.5516253251128063,
                    -1.5442212319647575,
                    -1.5207695336369298,
                    -1.466781732509758,
                    -1.3913905116197742,
                    -1.2964117054996374,
                    -1.1822077025075939,
                    -1.0506704106928353,
                    -0.9047513024874159,
                    -0.7426585273379795,
                    -0.5683200492771203,
                    -0.3867327478212008,
                    -0.1994287574093152,
                    -0.014324396769038739,
                    0.1728788647071381,
                    0.34774306300531543,
                    0.5164533996510147,
                    0.6712533106451756,
                    0.8163479244036056,
                    0.9487704347397328,
                    1.064581335866853,
                    1.1620384284864493,
                    1.2458321157692491,
                    1.3098801804623372,
                    1.354851148483233,
                    1.3878815789928065,
                    1.408130815044449,
                    1.4137045054219164,
                    1.4039622918441386,
                    1.380881339145453,
                    1.3407577956915122,
                    1.2934219220302883,
                    1.2286924997354458,
                    1.1564988522772093,
                    1.070620639212617,
                    0.9797258456841418,
                    0.8786652366273746,
                    0.7981206194120111,
                    0.6804750045056072,
                    0.5583584627397478,
                    0.4331964372657644,
                    0.29900354775515514,
                    0.16415877700302905,
                    0.0354795130795591,
                    -0.09599044123148626,
                    -0.22516219421587447,
                    -0.3432530227306607,
                    -0.45867901659380095,
                    -0.5647242224074132,
                    -0.6563900091873951,
                    -0.7352253502805348,
                    -0.8059958528441874,
                    -0.860788442925833,
                    -0.8979881948605124,
                    -0.9239846727502423,
                    -0.9301073416011901,
                    -0.917796333704126,
                    -0.8985592428282007,
                    -0.8559159110088209,
                    -0.7963105946461831,
                    -0.7326341802380534,
                    -0.6574108320471659,
                    -0.5722933253879972,
                    -0.4794141420624582,
                    -0.385003087140251,
                    -0.28537402470077444,
                    -0.1925678477497885,
                    -0.0964474643339403,
                    -0.00922185569343939,
                    0.07323961158875039,
                    0.1483274497331553,
                    0.2161077606676715,
                    0.27558123797968576,
                    0.3207372480818015,
                    0.35165299280757034,
                    0.3727889491584837,
                    0.38522423274498785,
                    0.38695273965383553,
                    0.370724044538847,
                    0.36123731964669054,
                    0.3340768037500062,
                    0.297625907282696,
                    0.255095564819034,
                    0.20547374586370423,
                    0.15386117687183448,
                    0.09306112710563555,
                    0.033480878042914,
                    -0.02528600187452884,
                    -0.09038582049854477,
                    -0.15458690212635018,
                    -0.22376123634210052,
                    -0.2878266580543869,
                    -0.3497638850743998,
                    -0.40928475760816896,
                    -0.4658023165411156,
                    -0.5187050717268629,
                    -0.5645681357092726,
                    -0.6146167240608333,
                    -0.6552368561537129,
                    -0.6893078196591997,
                    -0.7227020493111427,
                    -0.7484886852780124,
                    -0.7642210747710687,
                    -0.7768698093356923,
                    -0.7843145584054663,
                    -0.7823135817160172,
                    -0.7741938261415032,
                    -0.764968432760869,
                    -0.7437350254761123,
                    -0.714947614636388,
                    -0.6918412260269364,
                    -0.6536269513409773,
                    -0.6089068824054517,
                    -0.5608392420413792,
                    -0.5053894389822337,
                    -0.4443117810295513,
                    -0.3773008798504016,
                    -0.3124437112758132,
                    -0.2360855657661477,
                    -0.16001493741502948,
                    -0.08215242102616349,
                    -0.002668924538476447,
                    0.07792570176768104,
                    0.15662532670196955,
                    0.24266206681412505,
                    0.32238658715401325,
                    0.40260813271575124,
                    0.47976103458004854,
                    0.5517687485209579,
                    0.6216690244413713,
                    0.6923919868825162,
                    0.7497403969395205,
                    0.8088131329439194,
                    0.8549045667937671,
                    0.8929272895947856,
                    0.9269009219131519,
                    0.9506038607914263,
                    0.9716727586398899,
                    0.9803779379330466,
                    0.9855398381117597,
                    0.9700296353706175,
                    0.9540162124371779,
                    0.924480532353261,
                    0.8736816896746813,
                    0.8175248893873208,
                    0.7516619349098237,
                    0.6722535940874986,
                    0.5878346002260804,
                    0.48863467875470584,
                    0.38825737558923357,
                    0.2735068009874587,
                    0.15214367239818338,
                    0.030910877846752838,
                    -0.09521345741247089,
                    -0.21885669059455704,
                    -0.34427137559729887,
                    -0.4641484594712274,
                    -0.5766632591511884,
                    -0.6800525516037691,
                    -0.7760054249631244,
                    -0.8618387398096535,
                    -0.9252903825646336,
                    -0.9839931403866116,
                    -1.029161839223399,
                    -1.054067264572711,
                    -1.0697298717312884,
                    -1.068011049523165,
                    -1.0525297271862841,
                    -1.0251409532453808,
                    -0.9850643720135606,
                    -0.9395635435482477,
                    -0.8838725014489484,
                    -0.8261615373722605,
                    -0.7679259426639891,
                    -0.7026506894102661,
                    -0.6386851581841481,
                    -0.5819496396261699,
                    -0.5258430218655024,
                    -0.4772656038596951,
                    -0.43008501471894967,
                    -0.39316423758184904,
                    -0.35979536449080785,
                    -0.34631416370909646,
                    -0.3365099913744459,
                    -0.33417795346135915,
                    -0.3401281508079396,
                    -0.35492006067926185,
                    -0.37460075207174837,
                    -0.4033242349243714,
                    -0.43349841383072385,
                    -0.4668903600650254,
                    -0.5012599457213732,
                    -0.5301215950290843,
                    -0.5653060584900149,
                    -0.5924238002068916,
                    -0.619433299256122,
                    -0.6426578735917081,
                    -0.6594914176164389,
                    -0.6705282891539699,
                    -0.6752892727664649,
                    -0.6753780307731838,
                    -0.6715333028587653,
                    -0.6518864938766618,
                    -0.634748040516557,
                    -0.6062658924965993,
                    -0.5801944447991358,
                    -0.5450876026227051,
                    -0.5059303928330827,
                    -0.4641532910712999,
                    -0.42602760113461224,
                    -0.38300723419277183,
                    -0.3412903779474411,
                    -0.30292663390200025,
                    -0.2594077611505764,
                    -0.21629105751585276,
                    -0.17425137204094507,
                    -0.1368638122781597,
                    -0.0989827927360209,
                    -0.06442723591082072,
                    -0.029873789677838047,
                    -0.003248373475916333,
                    0.016741187566172155,
                    0.036301867109230945,
                    0.0508771860598084,
                    0.06058287263608064,
                    0.06202061906115208,
                    0.05716130906279737,
                    0.04767431506240449,
                    0.02691811558747703,
                    -0.0000029883367803629213,
                    -0.03407293832273106,
                    -0.07524309096973214,
                    -0.1268110138996532,
                    -0.18426441355434736,
                    -0.253111264698881,
                    -0.326386727369274,
                    -0.4118521860962806,
                    -0.49621605591745865,
                    -0.5931168292143635,
                    -0.6989643439953197,
                    -0.7988005877932308,
                    -0.9045395966625951,
                    -1.0121880094611164,
                    -1.1241232806181212,
                    -1.234740240588287,
                    -1.339931082590307,
                    -1.4433432892574767,
                    -1.544107155560944,
                    -1.639930964974998,
                    -1.7312539054578477,
                    -1.820922905109165,
                    -1.9009343264043692,
                    -1.976414553791235,
                    -2.046284982981968,
                    -2.111019534113372,
                    -2.169374367423068,
                    -2.2189957331215453,
                    -2.2544867791310788,
                    -2.2962475711429544,
                    -2.320221319851054,
                    -2.342328528254715,
                    -2.3521607973348715,
                    -2.3549034408880254,
                    -2.3549815692393534,
                    -2.3472245240682517,
                    -2.333564265717052,
                    -2.315972999495061,
                    -2.2867396855572184,
                    -2.252566124129434,
                    -2.2137649087747415,
                    -2.170442280799344,
                    -2.126958789590233,
                    -2.0769686355116126,
                    -2.0223917059522227,
                    -1.9699312309650694,
                    -1.9182161622298275,
                    -1.8628125833393057,
                    -1.811524436395374,
                    -1.763244740108952,
                    -1.7143028655778796,
                    -1.6652951279552648,
                    -1.6173171323445024,
                    -1.5762805830670752,
                    -1.5411117892160602,
                    -1.5033240991335115,
                    -1.4707475335002627,
                    -1.4429931403135945,
                    -1.4132320259208255,
                    -1.3856508769829543,
                    -1.3586694368561358,
                    -1.3312138414654462,
                    -1.3090186982544472,
                    -1.2815777690246384,
                    -1.2548972737878974,
                    -1.229475717240508,
                    -1.2000523253004856,
                    -1.1713519564119135,
                    -1.141495606808374,
                    -1.1108572244703043,
                    -1.0835309290110795,
                    -1.0449341044535791,
                    -1.0126243403272617,
                    -0.9769335824179539,
                    -0.9409569581498944,
                    -0.910481594708118,
                    -0.8734015672299609,
                    -0.8371029366944617,
                    -0.8026268957379734,
                    -0.7698847056106082,
                    -0.7394067894324239,
                    -0.709404414370632,
                    -0.689731047775625,
                    -0.6665425132637373,
                    -0.6461783940366277,
                    -0.6252309137624619,
                    -0.6136940612120414,
                    -0.608753499363564,
                    -0.6027948890211875,
                    -0.6072034608377906,
                    -0.6146015088833557,
                    -0.6285525360891869,
                    -0.6508181718388847,
                    -0.6678928877012216,
                    -0.6952455012539724,
                    -0.7246477948711392,
                    -0.7603089738897153,
                    -0.8040071224807415,
                    -0.8451964485289227,
                    -0.8877971474767377,
                    -0.9251471623511018,
                    -0.9694932241034151,
                    -1.0100283335547702,
                    -1.052466787307289,
                    -1.0889268514070176,
                    -1.1225359362775127,
                    -1.149079146164254,
                    -1.169058413791747,
                    -1.186200279944953,
                    -1.1954274228634023,
                    -1.1936258374812816,
                    -1.1865609850554435,
                    -1.1725993300883433,
                    -1.150987413611386,
                    -1.1221905820279965,
                    -1.0839284655014154,
                    -1.03682128898477,
                    -0.986151199844399,
                    -0.9268496585363714,
                    -0.8559741191288812,
                    -0.7904085821495133,
                    -0.7128984924237368,
                    -0.6365707602109856,
                    -0.5548973952009211,
                    -0.47177044717241956,
                    -0.38951917790399043
                  ],
                  "type": "scatterpolar"
                }
              ],
              "layout": {
                "polar": {
                  "radialaxis": {
                    "range": [
                      -3,
                      3
                    ]
                  }
                },
                "template": {
                  "data": {
                    "bar": [
                      {
                        "error_x": {
                          "color": "#2a3f5f"
                        },
                        "error_y": {
                          "color": "#2a3f5f"
                        },
                        "marker": {
                          "line": {
                            "color": "#E5ECF6",
                            "width": 0.5
                          },
                          "pattern": {
                            "fillmode": "overlay",
                            "size": 10,
                            "solidity": 0.2
                          }
                        },
                        "type": "bar"
                      }
                    ],
                    "barpolar": [
                      {
                        "marker": {
                          "line": {
                            "color": "#E5ECF6",
                            "width": 0.5
                          },
                          "pattern": {
                            "fillmode": "overlay",
                            "size": 10,
                            "solidity": 0.2
                          }
                        },
                        "type": "barpolar"
                      }
                    ],
                    "carpet": [
                      {
                        "aaxis": {
                          "endlinecolor": "#2a3f5f",
                          "gridcolor": "white",
                          "linecolor": "white",
                          "minorgridcolor": "white",
                          "startlinecolor": "#2a3f5f"
                        },
                        "baxis": {
                          "endlinecolor": "#2a3f5f",
                          "gridcolor": "white",
                          "linecolor": "white",
                          "minorgridcolor": "white",
                          "startlinecolor": "#2a3f5f"
                        },
                        "type": "carpet"
                      }
                    ],
                    "choropleth": [
                      {
                        "colorbar": {
                          "outlinewidth": 0,
                          "ticks": ""
                        },
                        "type": "choropleth"
                      }
                    ],
                    "contour": [
                      {
                        "colorbar": {
                          "outlinewidth": 0,
                          "ticks": ""
                        },
                        "colorscale": [
                          [
                            0,
                            "#0d0887"
                          ],
                          [
                            0.1111111111111111,
                            "#46039f"
                          ],
                          [
                            0.2222222222222222,
                            "#7201a8"
                          ],
                          [
                            0.3333333333333333,
                            "#9c179e"
                          ],
                          [
                            0.4444444444444444,
                            "#bd3786"
                          ],
                          [
                            0.5555555555555556,
                            "#d8576b"
                          ],
                          [
                            0.6666666666666666,
                            "#ed7953"
                          ],
                          [
                            0.7777777777777778,
                            "#fb9f3a"
                          ],
                          [
                            0.8888888888888888,
                            "#fdca26"
                          ],
                          [
                            1,
                            "#f0f921"
                          ]
                        ],
                        "type": "contour"
                      }
                    ],
                    "contourcarpet": [
                      {
                        "colorbar": {
                          "outlinewidth": 0,
                          "ticks": ""
                        },
                        "type": "contourcarpet"
                      }
                    ],
                    "heatmap": [
                      {
                        "colorbar": {
                          "outlinewidth": 0,
                          "ticks": ""
                        },
                        "colorscale": [
                          [
                            0,
                            "#0d0887"
                          ],
                          [
                            0.1111111111111111,
                            "#46039f"
                          ],
                          [
                            0.2222222222222222,
                            "#7201a8"
                          ],
                          [
                            0.3333333333333333,
                            "#9c179e"
                          ],
                          [
                            0.4444444444444444,
                            "#bd3786"
                          ],
                          [
                            0.5555555555555556,
                            "#d8576b"
                          ],
                          [
                            0.6666666666666666,
                            "#ed7953"
                          ],
                          [
                            0.7777777777777778,
                            "#fb9f3a"
                          ],
                          [
                            0.8888888888888888,
                            "#fdca26"
                          ],
                          [
                            1,
                            "#f0f921"
                          ]
                        ],
                        "type": "heatmap"
                      }
                    ],
                    "heatmapgl": [
                      {
                        "colorbar": {
                          "outlinewidth": 0,
                          "ticks": ""
                        },
                        "colorscale": [
                          [
                            0,
                            "#0d0887"
                          ],
                          [
                            0.1111111111111111,
                            "#46039f"
                          ],
                          [
                            0.2222222222222222,
                            "#7201a8"
                          ],
                          [
                            0.3333333333333333,
                            "#9c179e"
                          ],
                          [
                            0.4444444444444444,
                            "#bd3786"
                          ],
                          [
                            0.5555555555555556,
                            "#d8576b"
                          ],
                          [
                            0.6666666666666666,
                            "#ed7953"
                          ],
                          [
                            0.7777777777777778,
                            "#fb9f3a"
                          ],
                          [
                            0.8888888888888888,
                            "#fdca26"
                          ],
                          [
                            1,
                            "#f0f921"
                          ]
                        ],
                        "type": "heatmapgl"
                      }
                    ],
                    "histogram": [
                      {
                        "marker": {
                          "pattern": {
                            "fillmode": "overlay",
                            "size": 10,
                            "solidity": 0.2
                          }
                        },
                        "type": "histogram"
                      }
                    ],
                    "histogram2d": [
                      {
                        "colorbar": {
                          "outlinewidth": 0,
                          "ticks": ""
                        },
                        "colorscale": [
                          [
                            0,
                            "#0d0887"
                          ],
                          [
                            0.1111111111111111,
                            "#46039f"
                          ],
                          [
                            0.2222222222222222,
                            "#7201a8"
                          ],
                          [
                            0.3333333333333333,
                            "#9c179e"
                          ],
                          [
                            0.4444444444444444,
                            "#bd3786"
                          ],
                          [
                            0.5555555555555556,
                            "#d8576b"
                          ],
                          [
                            0.6666666666666666,
                            "#ed7953"
                          ],
                          [
                            0.7777777777777778,
                            "#fb9f3a"
                          ],
                          [
                            0.8888888888888888,
                            "#fdca26"
                          ],
                          [
                            1,
                            "#f0f921"
                          ]
                        ],
                        "type": "histogram2d"
                      }
                    ],
                    "histogram2dcontour": [
                      {
                        "colorbar": {
                          "outlinewidth": 0,
                          "ticks": ""
                        },
                        "colorscale": [
                          [
                            0,
                            "#0d0887"
                          ],
                          [
                            0.1111111111111111,
                            "#46039f"
                          ],
                          [
                            0.2222222222222222,
                            "#7201a8"
                          ],
                          [
                            0.3333333333333333,
                            "#9c179e"
                          ],
                          [
                            0.4444444444444444,
                            "#bd3786"
                          ],
                          [
                            0.5555555555555556,
                            "#d8576b"
                          ],
                          [
                            0.6666666666666666,
                            "#ed7953"
                          ],
                          [
                            0.7777777777777778,
                            "#fb9f3a"
                          ],
                          [
                            0.8888888888888888,
                            "#fdca26"
                          ],
                          [
                            1,
                            "#f0f921"
                          ]
                        ],
                        "type": "histogram2dcontour"
                      }
                    ],
                    "mesh3d": [
                      {
                        "colorbar": {
                          "outlinewidth": 0,
                          "ticks": ""
                        },
                        "type": "mesh3d"
                      }
                    ],
                    "parcoords": [
                      {
                        "line": {
                          "colorbar": {
                            "outlinewidth": 0,
                            "ticks": ""
                          }
                        },
                        "type": "parcoords"
                      }
                    ],
                    "pie": [
                      {
                        "automargin": true,
                        "type": "pie"
                      }
                    ],
                    "scatter": [
                      {
                        "fillpattern": {
                          "fillmode": "overlay",
                          "size": 10,
                          "solidity": 0.2
                        },
                        "type": "scatter"
                      }
                    ],
                    "scatter3d": [
                      {
                        "line": {
                          "colorbar": {
                            "outlinewidth": 0,
                            "ticks": ""
                          }
                        },
                        "marker": {
                          "colorbar": {
                            "outlinewidth": 0,
                            "ticks": ""
                          }
                        },
                        "type": "scatter3d"
                      }
                    ],
                    "scattercarpet": [
                      {
                        "marker": {
                          "colorbar": {
                            "outlinewidth": 0,
                            "ticks": ""
                          }
                        },
                        "type": "scattercarpet"
                      }
                    ],
                    "scattergeo": [
                      {
                        "marker": {
                          "colorbar": {
                            "outlinewidth": 0,
                            "ticks": ""
                          }
                        },
                        "type": "scattergeo"
                      }
                    ],
                    "scattergl": [
                      {
                        "marker": {
                          "colorbar": {
                            "outlinewidth": 0,
                            "ticks": ""
                          }
                        },
                        "type": "scattergl"
                      }
                    ],
                    "scattermapbox": [
                      {
                        "marker": {
                          "colorbar": {
                            "outlinewidth": 0,
                            "ticks": ""
                          }
                        },
                        "type": "scattermapbox"
                      }
                    ],
                    "scatterpolar": [
                      {
                        "marker": {
                          "colorbar": {
                            "outlinewidth": 0,
                            "ticks": ""
                          }
                        },
                        "type": "scatterpolar"
                      }
                    ],
                    "scatterpolargl": [
                      {
                        "marker": {
                          "colorbar": {
                            "outlinewidth": 0,
                            "ticks": ""
                          }
                        },
                        "type": "scatterpolargl"
                      }
                    ],
                    "scatterternary": [
                      {
                        "marker": {
                          "colorbar": {
                            "outlinewidth": 0,
                            "ticks": ""
                          }
                        },
                        "type": "scatterternary"
                      }
                    ],
                    "surface": [
                      {
                        "colorbar": {
                          "outlinewidth": 0,
                          "ticks": ""
                        },
                        "colorscale": [
                          [
                            0,
                            "#0d0887"
                          ],
                          [
                            0.1111111111111111,
                            "#46039f"
                          ],
                          [
                            0.2222222222222222,
                            "#7201a8"
                          ],
                          [
                            0.3333333333333333,
                            "#9c179e"
                          ],
                          [
                            0.4444444444444444,
                            "#bd3786"
                          ],
                          [
                            0.5555555555555556,
                            "#d8576b"
                          ],
                          [
                            0.6666666666666666,
                            "#ed7953"
                          ],
                          [
                            0.7777777777777778,
                            "#fb9f3a"
                          ],
                          [
                            0.8888888888888888,
                            "#fdca26"
                          ],
                          [
                            1,
                            "#f0f921"
                          ]
                        ],
                        "type": "surface"
                      }
                    ],
                    "table": [
                      {
                        "cells": {
                          "fill": {
                            "color": "#EBF0F8"
                          },
                          "line": {
                            "color": "white"
                          }
                        },
                        "header": {
                          "fill": {
                            "color": "#C8D4E3"
                          },
                          "line": {
                            "color": "white"
                          }
                        },
                        "type": "table"
                      }
                    ]
                  },
                  "layout": {
                    "annotationdefaults": {
                      "arrowcolor": "#2a3f5f",
                      "arrowhead": 0,
                      "arrowwidth": 1
                    },
                    "autotypenumbers": "strict",
                    "coloraxis": {
                      "colorbar": {
                        "outlinewidth": 0,
                        "ticks": ""
                      }
                    },
                    "colorscale": {
                      "diverging": [
                        [
                          0,
                          "#8e0152"
                        ],
                        [
                          0.1,
                          "#c51b7d"
                        ],
                        [
                          0.2,
                          "#de77ae"
                        ],
                        [
                          0.3,
                          "#f1b6da"
                        ],
                        [
                          0.4,
                          "#fde0ef"
                        ],
                        [
                          0.5,
                          "#f7f7f7"
                        ],
                        [
                          0.6,
                          "#e6f5d0"
                        ],
                        [
                          0.7,
                          "#b8e186"
                        ],
                        [
                          0.8,
                          "#7fbc41"
                        ],
                        [
                          0.9,
                          "#4d9221"
                        ],
                        [
                          1,
                          "#276419"
                        ]
                      ],
                      "sequential": [
                        [
                          0,
                          "#0d0887"
                        ],
                        [
                          0.1111111111111111,
                          "#46039f"
                        ],
                        [
                          0.2222222222222222,
                          "#7201a8"
                        ],
                        [
                          0.3333333333333333,
                          "#9c179e"
                        ],
                        [
                          0.4444444444444444,
                          "#bd3786"
                        ],
                        [
                          0.5555555555555556,
                          "#d8576b"
                        ],
                        [
                          0.6666666666666666,
                          "#ed7953"
                        ],
                        [
                          0.7777777777777778,
                          "#fb9f3a"
                        ],
                        [
                          0.8888888888888888,
                          "#fdca26"
                        ],
                        [
                          1,
                          "#f0f921"
                        ]
                      ],
                      "sequentialminus": [
                        [
                          0,
                          "#0d0887"
                        ],
                        [
                          0.1111111111111111,
                          "#46039f"
                        ],
                        [
                          0.2222222222222222,
                          "#7201a8"
                        ],
                        [
                          0.3333333333333333,
                          "#9c179e"
                        ],
                        [
                          0.4444444444444444,
                          "#bd3786"
                        ],
                        [
                          0.5555555555555556,
                          "#d8576b"
                        ],
                        [
                          0.6666666666666666,
                          "#ed7953"
                        ],
                        [
                          0.7777777777777778,
                          "#fb9f3a"
                        ],
                        [
                          0.8888888888888888,
                          "#fdca26"
                        ],
                        [
                          1,
                          "#f0f921"
                        ]
                      ]
                    },
                    "colorway": [
                      "#636efa",
                      "#EF553B",
                      "#00cc96",
                      "#ab63fa",
                      "#FFA15A",
                      "#19d3f3",
                      "#FF6692",
                      "#B6E880",
                      "#FF97FF",
                      "#FECB52"
                    ],
                    "font": {
                      "color": "#2a3f5f"
                    },
                    "geo": {
                      "bgcolor": "white",
                      "lakecolor": "white",
                      "landcolor": "#E5ECF6",
                      "showlakes": true,
                      "showland": true,
                      "subunitcolor": "white"
                    },
                    "hoverlabel": {
                      "align": "left"
                    },
                    "hovermode": "closest",
                    "mapbox": {
                      "style": "light"
                    },
                    "paper_bgcolor": "white",
                    "plot_bgcolor": "#E5ECF6",
                    "polar": {
                      "angularaxis": {
                        "gridcolor": "white",
                        "linecolor": "white",
                        "ticks": ""
                      },
                      "bgcolor": "#E5ECF6",
                      "radialaxis": {
                        "gridcolor": "white",
                        "linecolor": "white",
                        "ticks": ""
                      }
                    },
                    "scene": {
                      "xaxis": {
                        "backgroundcolor": "#E5ECF6",
                        "gridcolor": "white",
                        "gridwidth": 2,
                        "linecolor": "white",
                        "showbackground": true,
                        "ticks": "",
                        "zerolinecolor": "white"
                      },
                      "yaxis": {
                        "backgroundcolor": "#E5ECF6",
                        "gridcolor": "white",
                        "gridwidth": 2,
                        "linecolor": "white",
                        "showbackground": true,
                        "ticks": "",
                        "zerolinecolor": "white"
                      },
                      "zaxis": {
                        "backgroundcolor": "#E5ECF6",
                        "gridcolor": "white",
                        "gridwidth": 2,
                        "linecolor": "white",
                        "showbackground": true,
                        "ticks": "",
                        "zerolinecolor": "white"
                      }
                    },
                    "shapedefaults": {
                      "line": {
                        "color": "#2a3f5f"
                      }
                    },
                    "ternary": {
                      "aaxis": {
                        "gridcolor": "white",
                        "linecolor": "white",
                        "ticks": ""
                      },
                      "baxis": {
                        "gridcolor": "white",
                        "linecolor": "white",
                        "ticks": ""
                      },
                      "bgcolor": "#E5ECF6",
                      "caxis": {
                        "gridcolor": "white",
                        "linecolor": "white",
                        "ticks": ""
                      }
                    },
                    "title": {
                      "x": 0.05
                    },
                    "xaxis": {
                      "automargin": true,
                      "gridcolor": "white",
                      "linecolor": "white",
                      "ticks": "",
                      "title": {
                        "standoff": 15
                      },
                      "zerolinecolor": "white",
                      "zerolinewidth": 2
                    },
                    "yaxis": {
                      "automargin": true,
                      "gridcolor": "white",
                      "linecolor": "white",
                      "ticks": "",
                      "title": {
                        "standoff": 15
                      },
                      "zerolinecolor": "white",
                      "zerolinewidth": 2
                    }
                  }
                }
              }
            }
          },
          "metadata": {},
          "output_type": "display_data"
        }
      ],
      "source": [
        "def compute_representation(word, vocab_emb_matrix, path, coefs, filter):\n",
        "    \"\"\"Compute the word representation after applying coefficient and convolution filter.\"\"\"\n",
        "    id = tokenizer.convert_tokens_to_ids([word])[0]\n",
        "    print(str(tokenizer.decode([id])), end=' ')\n",
        "    word_repr = np.array([vocab_emb_matrix[id, dim] * coefs[i] for i, dim in enumerate(path)])\n",
        "    word_repr = circular_convolution(word_repr, filter)\n",
        "    return word_repr\n",
        "\n",
        "# List of words\n",
        "words = [\"queen\", \"king\"]\n",
        "\n",
        "# Compute representations for each word\n",
        "word_representations = [compute_representation(word, vocab_emb_matrix, path, coefs, filter) for word in words]\n",
        "\n",
        "# Plot the words\n",
        "fig = go.Figure()\n",
        "\n",
        "for word_repr, word in zip(word_representations, words):\n",
        "    fig.add_trace(go.Scatterpolar(r=word_repr, name=word, fill='toself', opacity=0.50))\n",
        "\n",
        "fig.update_layout(polar=dict(radialaxis=dict(range=[-3, 3])))\n",
        "fig.show()\n"
      ]
    },
    {
      "cell_type": "code",
      "execution_count": null,
      "metadata": {},
      "outputs": [],
      "source": [
        "def compute_representation(word, vocab_emb_matrix, path, coefs, filter):\n",
        "    \"\"\"Compute the word representation after applying coefficient and convolution filter.\"\"\"\n",
        "    tokens = tokenizer.tokenize(text)\n",
        "    ids = tokenizer.convert_tokens_to_ids(tokens)\n",
        "    #print(str(tokenizer.decode([id])), end=' ')\n",
        "    word_repr = np.array([vocab_emb_matrix[id, dim] * coefs[i] for i, dim in enumerate(path)])\n",
        "    word_repr = circular_convolution(word_repr, filter)\n",
        "    return word_repr\n",
        "\n",
        "# List of words\n",
        "words = [\"I love you\", \"I hate you\"]\n",
        "\n",
        "# Compute representations for each word\n",
        "word_representations = [compute_representation(word, vocab_emb_matrix, path, coefs, filter) for word in words]\n",
        "\n",
        "# Plot the words\n",
        "fig = go.Figure()\n",
        "\n",
        "for word_repr, word in zip(word_representations, words):\n",
        "    fig.add_trace(go.Scatterpolar(r=word_repr, name=word, fill='toself', opacity=0.50))\n",
        "\n",
        "fig.update_layout(polar=dict(radialaxis=dict(range=[-3, 3])))\n",
        "fig.show()"
      ]
    },
    {
      "cell_type": "code",
      "execution_count": 154,
      "metadata": {},
      "outputs": [],
      "source": [
        "king = vocab_emb_matrix[tokenizer.convert_tokens_to_ids(['king'])[0]]\n",
        "queen = vocab_emb_matrix[tokenizer.convert_tokens_to_ids(['queen'])[0]]\n",
        "man = vocab_emb_matrix[tokenizer.convert_tokens_to_ids(['man'])[0]]\n",
        "woman = vocab_emb_matrix[tokenizer.convert_tokens_to_ids(['woman'])[0]]"
      ]
    },
    {
      "cell_type": "code",
      "execution_count": 166,
      "metadata": {},
      "outputs": [
        {
          "data": {
            "text/plain": [
              "array([ 0.28745222,  0.55403894,  1.4389286 , -0.27940762,  0.06598663,\n",
              "       -0.45732236,  0.21624337, -0.81628627, -0.07890064,  0.72765577,\n",
              "       -0.7436846 , -0.65387917, -0.28966653, -0.5073112 ,  0.26128453,\n",
              "       -1.2018436 , -0.63944346,  1.2310009 , -1.2632341 , -0.47899967,\n",
              "        0.01736742,  0.43103233,  1.4671738 , -0.6306733 , -0.20527717,\n",
              "       -0.25533554,  0.47293732,  0.7369415 ,  0.37144983,  0.11314994,\n",
              "        0.8884843 , -0.03670627, -0.14988053,  0.11767861, -0.2553333 ,\n",
              "       -0.4353629 ,  1.2267281 ,  0.66542554, -0.0278075 ,  0.14432117,\n",
              "       -0.29335916,  0.13053124,  0.62435347, -0.4278408 , -1.0194693 ,\n",
              "        0.6473863 , -0.47906125,  0.1950776 ,  1.0896877 ,  0.14898306,\n",
              "       -0.5359824 , -0.52207893, -0.03102273,  0.25968853, -0.7441837 ,\n",
              "       -0.5080276 , -1.0690768 , -0.42062956, -0.31555355, -0.04450881,\n",
              "       -0.33676365, -0.4797001 , -0.33464578, -0.45824516, -0.3595776 ,\n",
              "       -0.02918017,  0.52571654,  0.42496833, -0.02963249,  0.9133669 ,\n",
              "        0.94394994, -1.3503088 , -0.63142645,  0.23916693, -0.01155543,\n",
              "        0.53380835,  0.7601844 ,  0.6064611 , -0.42843318,  0.07980081,\n",
              "       -0.22828814, -1.5741779 , -0.64579797, -0.3526227 , -0.6865205 ,\n",
              "        0.8096664 , -0.3286001 ,  0.45759898,  0.28102311,  0.29067418,\n",
              "        0.14785951, -0.72492164,  0.56129056, -0.11022487,  0.78507024,\n",
              "        0.21464914,  0.84246206, -0.78692704,  0.58142895,  0.32870284,\n",
              "       -0.7328824 , -1.5365837 ,  0.15113199, -0.884373  ,  0.8688612 ,\n",
              "       -0.04011343,  1.1138307 ,  0.43984327, -0.65004706,  0.02961637,\n",
              "        0.7740574 , -0.5065789 ,  0.44299668, -0.16265565, -1.0019267 ,\n",
              "       -0.22699517,  0.6112539 , -0.22701535, -0.8759563 ,  0.44113618,\n",
              "        0.61137784,  0.4878655 ,  0.88575387, -0.80653   , -1.1164098 ,\n",
              "        0.37561792,  0.46819136, -0.32549918,  0.29177564,  0.6156355 ,\n",
              "        0.04057321,  0.33419004,  0.340307  ,  0.46871674,  0.43790653,\n",
              "       -0.8592267 , -0.7281711 , -0.41443503,  0.5256824 , -0.39893183,\n",
              "        1.4960251 ,  1.2578762 ,  0.44495508,  0.07969671,  0.9636717 ,\n",
              "        0.9495283 , -1.3293754 , -0.29668567,  0.26900834, -0.48760253,\n",
              "       -0.45520118,  0.5111863 ,  0.36384648,  0.48333308,  0.29228756,\n",
              "       -0.17585349,  1.235082  , -0.9878508 , -0.23902875,  0.77681595,\n",
              "        0.13100475,  0.7781131 ,  1.2744124 ,  0.10572429,  0.20891148,\n",
              "        1.3592387 ,  0.6780279 ,  0.14452592,  0.44222626, -0.8927021 ,\n",
              "       -0.762886  ,  0.38254744,  0.13267091, -0.39311475, -1.2369823 ,\n",
              "        1.5644633 , -0.03154695, -0.6358197 ,  0.24130964, -0.05380896,\n",
              "       -0.0532971 , -0.07179481, -0.00830868,  0.49402094,  0.80197006,\n",
              "        0.21095139, -0.5550183 ,  0.31299523,  0.21487185, -0.01851574,\n",
              "        0.80867946,  0.06035822, -0.07990603, -0.8503095 , -0.88586557,\n",
              "        1.048137  , -0.05441317,  0.41241106, -0.20736554,  0.28283098,\n",
              "        0.06326762, -0.47735375,  0.74586594,  0.3555076 ,  0.26950842,\n",
              "       -0.33734155, -0.39315116, -0.06401168,  0.37426856,  0.7321465 ,\n",
              "       -0.11433388, -0.1947816 ,  1.118396  , -0.24548203,  0.15712565,\n",
              "       -0.6147363 ,  0.95826906, -0.6719915 , -0.3151459 , -0.0042569 ,\n",
              "       -0.6259056 ,  0.3296279 , -0.08097151,  1.4591396 , -1.2550344 ,\n",
              "       -0.56771445,  0.00874195, -0.43187708,  0.33806723,  0.07939053,\n",
              "        1.418561  ,  0.7980486 ,  0.15618879, -0.11836198,  0.36902413,\n",
              "        0.11830124,  1.168134  , -0.02114715, -0.85188466,  0.84080946,\n",
              "        0.44809586,  1.0034401 ,  0.6099152 ,  0.05962537, -0.20509419,\n",
              "       -0.4395029 ,  0.01467159,  0.43395346, -0.23284328, -0.8082834 ,\n",
              "        0.9015364 ,  0.05721276, -1.071966  ,  0.04775835,  0.39540735,\n",
              "        0.18711126,  0.91666895,  0.12681523, -0.6445819 , -0.51688385,\n",
              "        0.07523331, -0.56995946, -0.17612655,  0.24095768, -0.56923556,\n",
              "        1.3899789 ,  0.3760953 , -0.06256574,  0.283576  , -0.98008233,\n",
              "       -0.08800882, -0.33361435,  0.4215962 , -0.3018552 ,  0.665222  ,\n",
              "        0.63362354,  0.01117869, -0.21428889,  0.95501226, -1.4850488 ,\n",
              "        0.7367674 ,  0.613009  , -0.88293517,  0.33955926, -0.18802202,\n",
              "       -1.0077441 ,  0.38920468,  0.04979694,  0.09443838,  0.90639424,\n",
              "        0.10729337, -0.560601  , -0.07135004, -0.04565667,  1.5882666 ,\n",
              "        0.01792724,  0.93858093, -0.2804107 , -0.04984117, -0.33389693,\n",
              "       -0.33107743, -0.7541309 , -0.01570262, -0.69928706,  0.33850795,\n",
              "       -0.49142006, -0.030855  , -0.70795953, -1.9371431 ,  0.29245108,\n",
              "       -0.01329306,  0.23677287, -1.0221853 , -0.9053996 , -0.02949102,\n",
              "       -0.14679575,  0.26565766,  0.9233066 ,  0.42497218,  0.6158544 ,\n",
              "       -0.08833652,  0.547657  , -0.37892678,  0.46979874,  0.57258564,\n",
              "       -0.29382592,  0.6695663 , -0.61868703, -0.41135016, -0.06854498,\n",
              "        0.26284885,  0.18545324,  1.2222013 , -0.04743668,  0.22182721,\n",
              "       -0.8147804 ,  0.718768  , -0.25704524,  1.4578383 ,  0.62761563,\n",
              "       -0.71330523, -0.8908212 , -0.43657845, -0.8888726 , -0.45976424,\n",
              "       -0.27068034,  0.21817018,  0.22034423,  1.4554181 , -0.42581105,\n",
              "        0.01163212,  0.92267585, -1.4883976 , -0.1587745 , -2.4072258 ,\n",
              "       -0.19468677,  0.24383056, -0.6821293 , -0.51010805,  0.34624976,\n",
              "       -1.4733218 ,  0.07837582, -1.3384774 ,  1.0098467 , -0.956882  ,\n",
              "        0.35216397, -0.39016113, -0.03624815, -0.62108946, -1.1527321 ,\n",
              "       -0.10746792,  0.10914454, -0.49825805,  1.2182899 ,  0.13610864,\n",
              "        0.43516377, -0.4050867 ,  0.23778763,  0.30017847, -0.881088  ,\n",
              "        0.89177537,  0.54241174, -0.4237342 ,  0.74112594,  0.9690038 ,\n",
              "        0.16664612,  0.85308635,  0.7765622 ,  1.3156648 , -0.39163178,\n",
              "       -0.14855444,  0.65941286, -0.6246266 ,  0.44922146,  0.24400397,\n",
              "        0.13557765,  0.13511658, -1.1403375 , -0.51479363,  0.72332865,\n",
              "       -0.5962432 ,  0.345878  ,  0.2860751 , -0.45660925, -0.79415834,\n",
              "       -0.56380445,  0.10400296, -0.12928867,  0.6949934 ,  0.04239801,\n",
              "       -0.33397958, -0.2689814 ,  0.55377436, -0.39570463, -0.76826406,\n",
              "       -0.41641462, -0.68816966,  0.25523397,  0.22737068, -0.34114033,\n",
              "       -0.15032572, -0.24055433, -1.1428554 ,  0.21831468,  0.8476348 ,\n",
              "        0.0985543 ,  0.5865183 , -0.4112746 ,  0.8327694 ,  0.15005535,\n",
              "       -0.36197412, -0.9955963 , -0.7825599 ,  0.49242482, -0.2225405 ,\n",
              "        0.3247719 ,  0.38779202,  0.00690208, -0.88381225, -0.95487905,\n",
              "       -1.346972  ,  0.9178549 ,  0.65486825, -0.2775837 ,  0.16180629,\n",
              "        0.12015548,  1.4438661 ,  0.6559722 , -0.13988933, -0.6437254 ,\n",
              "       -0.45364285,  1.0818764 ,  1.2648139 , -0.41763476,  0.16049653,\n",
              "       -0.13135764, -0.28979015, -0.76372516, -0.1584221 , -0.3979805 ,\n",
              "       -0.6995943 , -0.60221946,  0.5505054 , -0.14942192, -0.48907578,\n",
              "        0.6693056 ,  0.15903455, -0.650159  , -0.17567056,  0.27382803,\n",
              "        0.29552734, -0.06468013, -0.3657153 , -0.1899197 , -0.89391416,\n",
              "        0.76336646,  0.14329559, -0.29728043, -0.7551912 , -0.25783664,\n",
              "       -0.2979887 , -1.0168507 , -0.71895766, -0.61446154,  0.35056114,\n",
              "        0.89612895, -0.6518527 , -0.78600097, -0.5266475 , -0.18612266,\n",
              "       -0.17792585, -1.221695  , -0.5030824 ,  0.11811103,  0.30742437,\n",
              "       -1.0771044 ,  0.49454176, -0.12843072, -0.06455325, -0.3818748 ,\n",
              "       -1.5426292 , -0.12883511,  0.21899344,  0.36157674, -0.47357756,\n",
              "       -0.2007888 , -0.72682196, -0.04282399,  0.02470455,  0.29253966,\n",
              "       -1.1180885 ,  0.25523028, -0.8191793 , -0.07349421, -0.17344166,\n",
              "        0.02932155,  0.15537244,  0.40274054,  0.0416761 , -0.3938775 ,\n",
              "       -0.16598918, -0.2021555 , -0.28598988, -0.5968317 , -0.36589435,\n",
              "        0.77844703, -0.14788683,  0.08244034,  0.5851586 , -0.52949524,\n",
              "       -0.4670083 , -0.04254509,  1.186619  ,  0.9168056 ,  0.8770046 ,\n",
              "       -0.44727507, -0.510079  , -0.549381  ,  0.34046757, -0.23542315,\n",
              "       -0.3078161 ,  0.28392813, -0.31000167,  0.6093378 , -1.2662657 ,\n",
              "       -0.8785828 , -0.19446535,  0.13348517, -0.1134398 , -0.5352379 ,\n",
              "       -0.43703893, -1.035759  ,  0.18652849,  1.9123144 , -0.09321295,\n",
              "       -0.56004155,  0.06815478,  0.62939787,  0.39114422,  1.3030057 ,\n",
              "        1.6968408 ,  0.79829407, -0.1619054 ,  0.6313471 ,  0.73565096,\n",
              "        0.8871033 , -0.9043802 , -0.07143646, -0.35708135,  0.3226335 ,\n",
              "        0.6523074 ,  0.10753673, -0.0456413 ,  0.9800106 , -0.2044107 ,\n",
              "        0.14311826, -0.9593556 ,  0.4186567 , -0.274215  ,  0.97251076,\n",
              "        0.31549203, -0.38671535, -0.3725746 , -0.02401841,  0.52776325,\n",
              "       -0.5688324 , -0.0420211 ,  0.07595992,  0.8692877 , -0.5092259 ,\n",
              "       -0.37494913, -0.5575922 ,  0.35637027, -0.550408  , -0.10474887,\n",
              "        0.7320119 ,  0.5022824 ,  0.8136648 ,  0.03385967,  0.20117205,\n",
              "       -0.26542905,  0.4557756 ,  1.2525352 ,  0.98281777, -0.00309843,\n",
              "       -1.3142421 ,  0.5110974 , -0.45948866,  0.35839528,  0.68230134,\n",
              "        0.32969248,  0.5147958 ,  0.12703672,  0.55546427, -0.8177725 ,\n",
              "        0.27222183, -0.3572361 , -1.0702684 , -0.27198708, -0.13584495,\n",
              "        0.03334486,  0.2809902 ,  1.1296226 ,  0.05282229, -0.87986386,\n",
              "        0.59872466, -1.3032765 ,  0.1205377 , -0.25259873,  0.71283996,\n",
              "        0.5292738 , -0.18017662, -0.11041817, -0.477131  ,  0.93451494,\n",
              "        0.81767195,  0.5779813 , -0.54559255, -0.7888632 ,  0.50403154,\n",
              "        0.11550505,  0.9926318 ,  0.42631954, -1.115169  , -0.8518607 ,\n",
              "       -0.1560449 ,  0.2832805 , -0.35679483,  1.1080557 , -0.7007911 ,\n",
              "       -0.06663764, -0.87650836,  0.17176607, -0.42182112, -0.46362394,\n",
              "       -0.14303546,  0.38637772, -0.24466279, -0.18586937,  0.84391576,\n",
              "       -0.3804375 ,  0.28610587,  0.6983144 , -0.33837962, -0.45510024,\n",
              "       -0.22867414,  0.25633776, -0.11943424, -0.47046307,  0.1445741 ,\n",
              "       -0.6124583 , -0.29030278,  0.01560971, -0.4581977 , -0.11995125,\n",
              "        1.6022307 , -0.08759969, -0.40216732,  0.70586544, -0.31107193,\n",
              "        0.7729945 , -0.67214936,  0.41013098, -0.20207855, -0.85805666,\n",
              "       -0.40203625,  0.31817633, -0.3172971 , -0.6197753 ,  1.0953193 ,\n",
              "        1.0139024 ,  0.68756264, -0.4400422 , -0.10202476,  0.3253919 ,\n",
              "       -0.9941101 , -0.68849254, -0.5579393 ,  0.26760846,  0.86792153,\n",
              "        0.7771538 , -0.79348135,  0.08512598, -0.71441257, -0.15854204,\n",
              "       -0.8218837 , -0.4777422 , -1.1858232 ,  0.5969355 , -0.5053251 ,\n",
              "        1.3037778 , -0.76711357, -0.32500482,  0.45077735,  0.02810861,\n",
              "       -0.5603837 ,  0.66415346, -0.2831326 , -0.27297425,  0.06023189,\n",
              "       -0.3426563 , -0.3382066 ,  0.46925932,  0.6209189 , -0.64837027,\n",
              "        0.03413498, -0.80212045, -0.6723808 , -0.05751681,  0.395117  ,\n",
              "        0.30983943, -0.4038838 ,  1.4390197 , -0.6974958 , -0.6110375 ,\n",
              "        0.34106392,  0.84853184,  0.75537765,  0.93053913,  0.48294836,\n",
              "        1.0242674 , -1.2028468 ,  1.0183368 ,  0.3708632 , -0.4882191 ,\n",
              "       -0.44324744,  0.9553863 ,  0.49021047, -0.6806231 ,  0.02771854,\n",
              "       -0.35642236,  0.10429615,  0.4666074 ,  0.30980217, -0.06558967,\n",
              "       -0.3039721 , -0.5952536 , -0.7640053 ,  0.5506284 ,  0.07813898,\n",
              "        0.6554132 , -0.15258783,  0.22734857, -0.58057284, -0.71065885,\n",
              "        0.13474709, -0.1761478 ,  0.2603631 ], dtype=float32)"
            ]
          },
          "execution_count": 166,
          "metadata": {},
          "output_type": "execute_result"
        }
      ],
      "source": [
        "queen - (king - man + woman)"
      ]
    },
    {
      "cell_type": "code",
      "execution_count": null,
      "metadata": {},
      "outputs": [],
      "source": []
    }
  ],
  "metadata": {
    "colab": {
      "provenance": []
    },
    "kernelspec": {
      "display_name": "Python 3",
      "name": "python3"
    },
    "language_info": {
      "codemirror_mode": {
        "name": "ipython",
        "version": 3
      },
      "file_extension": ".py",
      "mimetype": "text/x-python",
      "name": "python",
      "nbconvert_exporter": "python",
      "pygments_lexer": "ipython3",
      "version": "3.11.6"
    }
  },
  "nbformat": 4,
  "nbformat_minor": 0
}
