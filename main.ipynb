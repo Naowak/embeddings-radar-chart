{
  "cells": [
    {
      "cell_type": "markdown",
      "metadata": {
        "id": "m1pNf54eW96N"
      },
      "source": [
        "# Install & load model"
      ]
    },
    {
      "cell_type": "code",
      "execution_count": 1,
      "metadata": {
        "colab": {
          "base_uri": "https://localhost:8080/"
        },
        "id": "CKcdwIbCQkSb",
        "outputId": "4e087d4a-1772-4f97-dd04-d539fe3f2ecb"
      },
      "outputs": [
        {
          "name": "stdout",
          "output_type": "stream",
          "text": [
            "\n",
            "\u001b[1m[\u001b[0m\u001b[34;49mnotice\u001b[0m\u001b[1;39;49m]\u001b[0m\u001b[39;49m A new release of pip is available: \u001b[0m\u001b[31;49m23.2.1\u001b[0m\u001b[39;49m -> \u001b[0m\u001b[32;49m23.3.1\u001b[0m\n",
            "\u001b[1m[\u001b[0m\u001b[34;49mnotice\u001b[0m\u001b[1;39;49m]\u001b[0m\u001b[39;49m To update, run: \u001b[0m\u001b[32;49mpip install --upgrade pip\u001b[0m\n",
            "Note: you may need to restart the kernel to use updated packages.\n"
          ]
        }
      ],
      "source": [
        "%pip install transformers plotly tqdm numpy torch torchvision torchaudio pandas nbformat scipy"
      ]
    },
    {
      "cell_type": "code",
      "execution_count": 2,
      "metadata": {
        "colab": {
          "base_uri": "https://localhost:8080/"
        },
        "id": "gPoskQM7dXC-",
        "outputId": "2d27d097-29ba-4c39-f806-20378cd5a363"
      },
      "outputs": [
        {
          "name": "stderr",
          "output_type": "stream",
          "text": [
            "/Users/naowak/Thesis/code/embeddings-radar-chart/venv/lib/python3.11/site-packages/tqdm/auto.py:21: TqdmWarning: IProgress not found. Please update jupyter and ipywidgets. See https://ipywidgets.readthedocs.io/en/stable/user_install.html\n",
            "  from .autonotebook import tqdm as notebook_tqdm\n"
          ]
        },
        {
          "data": {
            "text/plain": [
              "<torch.autograd.grad_mode.no_grad at 0x105e14090>"
            ]
          },
          "execution_count": 2,
          "metadata": {},
          "output_type": "execute_result"
        }
      ],
      "source": [
        "from transformers import BertModel, BertTokenizer\n",
        "import plotly.express as px\n",
        "from tqdm import tqdm\n",
        "import glob\n",
        "import numpy as np\n",
        "import scipy\n",
        "import torch\n",
        "import random\n",
        "import plotly.graph_objects as go\n",
        "torch.no_grad()"
      ]
    },
    {
      "cell_type": "code",
      "execution_count": 3,
      "metadata": {
        "id": "zVtaIIEnPbw1"
      },
      "outputs": [],
      "source": [
        "model = BertModel.from_pretrained('bert-base-uncased')\n",
        "tokenizer = BertTokenizer.from_pretrained('bert-base-uncased')"
      ]
    },
    {
      "cell_type": "markdown",
      "metadata": {
        "id": "oepUZ3mZXDWy"
      },
      "source": [
        "# First view of the embeddings"
      ]
    },
    {
      "cell_type": "code",
      "execution_count": null,
      "metadata": {
        "colab": {
          "base_uri": "https://localhost:8080/"
        },
        "id": "P_lLeTTRRghL",
        "outputId": "b62cbd95-0e36-4498-c194-4f57720e108e"
      },
      "outputs": [],
      "source": [
        "text = \"The cat hunts the mice, it will kill\"\n",
        "tokens = tokenizer.tokenize(text)\n",
        "input_ids = tokenizer.convert_tokens_to_ids(tokens)\n",
        "print('\\n'.join([f\"{k}: {v}\" for k, v in dict(zip(tokens, input_ids)).items()]))"
      ]
    },
    {
      "cell_type": "code",
      "execution_count": null,
      "metadata": {
        "colab": {
          "base_uri": "https://localhost:8080/"
        },
        "id": "p2UUHz1mRpXS",
        "outputId": "b10bcc1b-8917-49bc-916d-e0d02cd33647"
      },
      "outputs": [],
      "source": [
        "input_tensor = torch.tensor(input_ids).unsqueeze(0)\n",
        "outputs = model(input_tensor)\n",
        "embeddings = outputs.last_hidden_state[0]\n",
        "print(embeddings, '\\n')\n",
        "print(embeddings.shape)"
      ]
    },
    {
      "cell_type": "code",
      "execution_count": null,
      "metadata": {
        "colab": {
          "base_uri": "https://localhost:8080/"
        },
        "id": "wa3sjy8VU8qG",
        "outputId": "67c03efa-f58b-4933-e640-47edae53d61c"
      },
      "outputs": [],
      "source": [
        "outputs = model(torch.tensor([4937]).unsqueeze(0))\n",
        "cat_embed = outputs.last_hidden_state[0]\n",
        "print(embeddings[1, :3])\n",
        "print(cat_embed[:,:3])"
      ]
    },
    {
      "cell_type": "markdown",
      "metadata": {
        "id": "AoDCae63XNNH"
      },
      "source": [
        "# Get \"raw\" embeddings for each token"
      ]
    },
    {
      "cell_type": "code",
      "execution_count": null,
      "metadata": {
        "colab": {
          "base_uri": "https://localhost:8080/"
        },
        "id": "okHZzGFwTMPH",
        "outputId": "4ca06550-30c9-4572-dee7-2b0c5c791792"
      },
      "outputs": [],
      "source": [
        "vocab = list(tokenizer.get_vocab().keys())\n",
        "print(vocab[10000:10010])\n",
        "print(\"Length:\", len(vocab))"
      ]
    },
    {
      "cell_type": "code",
      "execution_count": null,
      "metadata": {
        "colab": {
          "base_uri": "https://localhost:8080/"
        },
        "id": "8jwKzuReXyn4",
        "outputId": "656aa8db-2c58-4c25-b0dc-cdfbcff3914e"
      },
      "outputs": [],
      "source": [
        "tokenizer.convert_tokens_to_ids(tokenizer.tokenize(\"hello\"))"
      ]
    },
    {
      "cell_type": "code",
      "execution_count": null,
      "metadata": {
        "colab": {
          "base_uri": "https://localhost:8080/",
          "height": 56
        },
        "id": "krMbg2HtYO2N",
        "outputId": "143d8f7d-958d-4930-f972-26890a2cd4cf"
      },
      "outputs": [],
      "source": [
        "tokenizer.decode(torch.tensor([7592]))"
      ]
    },
    {
      "cell_type": "code",
      "execution_count": null,
      "metadata": {
        "colab": {
          "base_uri": "https://localhost:8080/"
        },
        "id": "-h8lj2rOTDjt",
        "outputId": "040d0682-fa70-49ff-a6da-09153825e984"
      },
      "outputs": [],
      "source": [
        "begin = 0\n",
        "end = len(vocab)\n",
        "\n",
        "vocab_emb = [model(torch.tensor([i]).unsqueeze(0)).last_hidden_state[0] for i in tqdm(range(begin, end))]\n",
        "vocab_emb = torch.stack(vocab_emb).reshape(-1, 768).detach().numpy()\n",
        "np.save(f\"vocab_emb_matrix.npy\", vocab_emb)\n",
        "#np.save(f\"vocab_emb_matrix_{begin}-{end}.npy\", vocab_emb)"
      ]
    },
    {
      "cell_type": "code",
      "execution_count": null,
      "metadata": {
        "id": "i600DH9Tptcx"
      },
      "outputs": [],
      "source": [
        "# In case you want to concatenate the matrices from different runs\n",
        "\n",
        "file_list = glob.glob(\"*.npy\")\n",
        "matrices = [np.load(file) for file in file_list]\n",
        "vocab_emb_matrix = np.concatenate(matrices, axis=0)\n",
        "np.save('vocab_emb_matrix.npy', vocab_emb_matrix)"
      ]
    },
    {
      "cell_type": "code",
      "execution_count": null,
      "metadata": {
        "colab": {
          "base_uri": "https://localhost:8080/"
        },
        "id": "TYzwdkONqKgK",
        "outputId": "29e8f613-2c32-410a-8798-ee772e5070c6"
      },
      "outputs": [],
      "source": [
        "vocab_emb_matrix.shape"
      ]
    },
    {
      "cell_type": "code",
      "execution_count": null,
      "metadata": {},
      "outputs": [],
      "source": [
        "fig = px.histogram(vocab_emb_matrix[:, 200])\n",
        "fig.show()"
      ]
    },
    {
      "cell_type": "markdown",
      "metadata": {
        "id": "u_-kpq6NqPM-"
      },
      "source": [
        "Compute correlation and display it"
      ]
    },
    {
      "cell_type": "code",
      "execution_count": null,
      "metadata": {
        "colab": {
          "base_uri": "https://localhost:8080/"
        },
        "id": "XEfRZ6ASqUtZ",
        "outputId": "9a3de68d-da26-4322-9604-9a0ac4d44df6"
      },
      "outputs": [],
      "source": [
        "# Charger la matrice concaténée\n",
        "vocab_emb_matrix = np.load('vocab_emb_matrix.npy')\n",
        "\n",
        "# Calculer la moyenne et l'écart-type pour chaque colonne\n",
        "means = np.mean(vocab_emb_matrix, axis=0)\n",
        "std_devs = np.std(vocab_emb_matrix, axis=0)\n",
        "\n",
        "# Normalisation : soustraire la moyenne et diviser par l'écart-type pour chaque colonne\n",
        "vocab_emb_matrix = (vocab_emb_matrix - means) / std_devs\n",
        "\n",
        "# Vérification\n",
        "print(\"Moyennes:\", np.mean(vocab_emb_matrix, axis=0)[:5])\n",
        "print(\"Écarts-types:\", np.std(vocab_emb_matrix, axis=0)[:5])"
      ]
    },
    {
      "cell_type": "code",
      "execution_count": null,
      "metadata": {},
      "outputs": [],
      "source": [
        "# Calculer la matrice de corrélation\n",
        "correlation_matrix = np.corrcoef(vocab_emb_matrix, rowvar=False)\n",
        "np.save('correlation_matrix.npy', correlation_matrix)\n",
        "\n",
        "# Print the shape\n",
        "print('shape', correlation_matrix.shape)\n",
        "\n",
        "# Display heatmap\n",
        "fig = px.imshow(correlation_matrix)\n",
        "fig.show()"
      ]
    },
    {
      "cell_type": "code",
      "execution_count": null,
      "metadata": {},
      "outputs": [],
      "source": [
        "import numpy as np\n",
        "import plotly.graph_objects as go\n",
        "\n",
        "def matrix_stats(matrix):\n",
        "    \"\"\"Retourne les statistiques de la matrice en excluant la diagonale.\"\"\"\n",
        "    values = matrix[~np.eye(matrix.shape[0],dtype=bool)]\n",
        "    return {\n",
        "        'min': np.min(values),\n",
        "        'max': np.max(values),\n",
        "        'mean': np.mean(values),\n",
        "        'median': np.median(values)\n",
        "    }\n",
        "\n",
        "# Supposons que corr_matrix soit votre matrice de corrélation\n",
        "# corr_matrix = np.corrcoef(data, rowvar=False)  # Exemple\n",
        "\n",
        "stats = matrix_stats(correlation_matrix)\n",
        "print(\"Statistics:\", stats)\n",
        "\n",
        "# Histogramme des valeurs de corrélation\n",
        "fig2 = go.Figure(data=go.Histogram(x=correlation_matrix[~np.eye(correlation_matrix.shape[0], dtype=bool)], nbinsx=50))\n",
        "fig2.update_layout(title='Distribution des Valeurs de Corrélation', xaxis_title='Valeur de Corrélation', yaxis_title='Compte')\n",
        "fig2.show()\n"
      ]
    },
    {
      "cell_type": "code",
      "execution_count": null,
      "metadata": {
        "colab": {
          "base_uri": "https://localhost:8080/",
          "height": 562
        },
        "id": "jrE_RC9lrUV1",
        "outputId": "3896c6ba-d484-4fd3-c78a-3139b4e34136"
      },
      "outputs": [],
      "source": [
        "fig = px.line(correlation_matrix[100])\n",
        "fig.show()"
      ]
    },
    {
      "cell_type": "code",
      "execution_count": null,
      "metadata": {},
      "outputs": [],
      "source": [
        "corr_matrix_no_diag = np.copy(correlation_matrix)\n",
        "np.fill_diagonal(corr_matrix_no_diag, 0)\n",
        "maxs = np.max(corr_matrix_no_diag, axis=1)\n",
        "mins = np.min(corr_matrix_no_diag, axis=1)\n",
        "\n",
        "# Création des histogrammes avec plotly.graph_objects\n",
        "fig = go.Figure()\n",
        "fig.add_trace(go.Histogram(x=maxs, name='Maxs', opacity=0.75))\n",
        "fig.add_trace(go.Histogram(x=mins, name='Mins', opacity=0.75))\n",
        "\n",
        "# Mise à jour du layout pour mieux visualiser les histogrammes superposés\n",
        "fig.update_layout(barmode='overlay', title=\"Distribution des Maxs et Mins\")\n",
        "fig.show()"
      ]
    },
    {
      "cell_type": "code",
      "execution_count": null,
      "metadata": {},
      "outputs": [],
      "source": [
        "coef_corr = 0.5\n",
        "no_corr_dims = [dmax < coef_corr and dmin > -coef_corr for dmax, dmin in zip(maxs, mins)]\n",
        "print(f\"Nombre de dimensions sans corrélation: {sum(no_corr_dims)}/{len(no_corr_dims)}\")\n",
        "#print(f\"Dimensions sans corrélation: {np.where(no_corr_dims)}\")\n",
        "\n",
        "print('Moyenne des correlations max pour les dim sans corr:', np.mean(maxs[no_corr_dims]))\n",
        "print('Moyenne des correlations min pour les dim sans corr:', np.mean(mins[no_corr_dims]))"
      ]
    },
    {
      "cell_type": "markdown",
      "metadata": {},
      "source": [
        "# Study absolute correlation "
      ]
    },
    {
      "cell_type": "code",
      "execution_count": null,
      "metadata": {},
      "outputs": [],
      "source": [
        "# Charger la matrice concaténée\n",
        "correlation_matrix = np.load('correlation_matrix.npy')\n",
        "\n",
        "# Calculer la matrice de corrélation absolue\n",
        "abs_corr_matrix = np.abs(correlation_matrix)\n",
        "\n",
        "# Display heatmap\n",
        "fig = px.imshow(abs_corr_matrix)\n",
        "fig.show()\n",
        "\n",
        "# Histogramme des valeurs de corrélation absolue\n",
        "fig2 = go.Figure(data=go.Histogram(x=abs_corr_matrix[~np.eye(correlation_matrix.shape[0], dtype=bool)], nbinsx=50))\n",
        "fig2.update_layout(title='Distribution des Valeurs de Corrélation', xaxis_title='Valeur de Corrélation', yaxis_title='Compte')\n",
        "fig2.show()"
      ]
    },
    {
      "cell_type": "markdown",
      "metadata": {},
      "source": [
        "# Sort dimensions (absolute correlation)"
      ]
    },
    {
      "cell_type": "code",
      "execution_count": 45,
      "metadata": {},
      "outputs": [
        {
          "name": "stdout",
          "output_type": "stream",
          "text": [
            "Gen 0: 1085794.1356755034\n",
            "Gen 1: 1085643.418171864\n",
            "Gen 2: 1084824.2151979185\n",
            "Gen 3: 1084348.0236226844\n",
            "Gen 4: 1082817.056391608\n",
            "Gen 5: 1082290.0322586985\n",
            "Gen 6: 1081241.4408383835\n",
            "Gen 7: 1080115.1656163265\n",
            "Gen 8: 1079152.4288942986\n",
            "Gen 9: 1077364.3173742716\n",
            "Gen 10: 1075586.4845291423\n",
            "Gen 11: 1073924.99164325\n",
            "Gen 12: 1072395.5149253255\n",
            "Gen 13: 1070902.653328526\n",
            "Gen 14: 1068881.2657587673\n",
            "Gen 15: 1067558.5982620735\n",
            "Gen 16: 1065692.2082789359\n",
            "Gen 17: 1063155.6839707985\n",
            "Gen 18: 1061190.7020502056\n",
            "Gen 19: 1059052.819226459\n",
            "Gen 20: 1055963.476367694\n",
            "Gen 21: 1054495.98836774\n",
            "Gen 22: 1052445.2166018372\n",
            "Gen 23: 1051306.6335522057\n",
            "Gen 24: 1050050.2486386658\n",
            "Gen 25: 1048384.9362980399\n",
            "Gen 26: 1046300.5401706774\n",
            "Gen 27: 1044422.3200015379\n",
            "Gen 28: 1042190.1445735891\n",
            "Gen 29: 1041364.3004994459\n",
            "Gen 30: 1039118.6055399809\n",
            "Gen 31: 1038350.9711677422\n",
            "Gen 32: 1036989.1890940322\n",
            "Gen 33: 1035016.3315702028\n",
            "Gen 34: 1032540.8266377762\n",
            "Gen 35: 1030987.4130681419\n",
            "Gen 36: 1027438.5201953356\n",
            "Gen 37: 1026255.4308109595\n",
            "Gen 38: 1024741.4179758038\n",
            "Gen 39: 1022678.5882815862\n",
            "Gen 40: 1020843.1553006852\n",
            "Gen 41: 1017906.0761117914\n",
            "Gen 42: 1017039.1174630953\n",
            "Gen 43: 1015115.5275463935\n",
            "Gen 44: 1014052.6190152366\n",
            "Gen 45: 1011503.9497248388\n",
            "Gen 46: 1009900.0398343097\n",
            "Gen 47: 1007756.2777078699\n",
            "Gen 48: 1004844.1954526324\n",
            "Gen 49: 1004177.5025416106\n",
            "Gen 50: 1003096.5967478139\n",
            "Gen 51: 1001642.8699718976\n",
            "Gen 52: 1000247.2844345323\n",
            "Gen 53: 998212.578143732\n",
            "Gen 54: 995739.1372051432\n",
            "Gen 55: 994348.1708695021\n",
            "Gen 56: 993028.8416223961\n",
            "Gen 57: 992032.5895235459\n",
            "Gen 58: 989086.7581652411\n",
            "Gen 59: 988431.820962752\n",
            "Gen 60: 986725.8951850865\n",
            "Gen 61: 985156.1185466886\n",
            "Gen 62: 983414.1952797454\n",
            "Gen 63: 982348.3131985667\n",
            "Gen 64: 981529.8433886092\n",
            "Gen 65: 980815.0416589645\n",
            "Gen 66: 978455.2128800598\n",
            "Gen 67: 977878.6237660857\n",
            "Gen 68: 977036.4357338254\n",
            "Gen 69: 975498.6291303511\n",
            "Gen 70: 973995.2170741227\n",
            "Gen 71: 973618.0434879466\n",
            "Gen 72: 972571.143829144\n",
            "Gen 73: 971436.1241160688\n",
            "Gen 74: 970456.4507545236\n",
            "Gen 75: 968535.6546386173\n",
            "Gen 76: 967164.9363227356\n",
            "Gen 77: 966290.194493119\n",
            "Gen 78: 965283.3064766608\n",
            "Gen 79: 963259.9462533803\n",
            "Gen 80: 962126.9508999687\n",
            "Gen 81: 960744.7728684039\n",
            "Gen 82: 959719.1725810833\n",
            "Gen 83: 958471.7809806304\n",
            "Gen 84: 957225.8577401717\n",
            "Gen 85: 956522.012441248\n",
            "Gen 86: 955581.4414609141\n",
            "Gen 87: 954286.7617351295\n",
            "Gen 88: 953500.1998935802\n",
            "Gen 89: 952179.243629407\n",
            "Gen 90: 950713.033906931\n",
            "Gen 91: 949827.7481820062\n",
            "Gen 92: 948828.8722238465\n",
            "Gen 93: 948206.9185432624\n",
            "Gen 94: 947421.032947469\n",
            "Gen 95: 946021.6563108985\n",
            "Gen 96: 944750.1403036318\n",
            "Gen 97: 944321.8823510336\n",
            "Gen 98: 943141.5153256231\n",
            "Gen 99: 942145.5209911718\n",
            "Gen 100: 941317.7854814355\n",
            "Gen 101: 939866.3443414955\n",
            "Gen 102: 939287.2823122767\n",
            "Gen 103: 938127.2046935705\n",
            "Gen 104: 936951.5623142727\n",
            "Gen 105: 936251.480271284\n",
            "Gen 106: 935677.4857538746\n",
            "Gen 107: 935250.8620101336\n",
            "Gen 108: 934526.5298864171\n",
            "Gen 109: 933222.7741332189\n",
            "Gen 110: 932676.7122164601\n",
            "Gen 111: 931789.6669837392\n",
            "Gen 112: 931436.1507116306\n",
            "Gen 113: 931296.5792537018\n",
            "Gen 114: 931036.9285903941\n",
            "Gen 115: 930590.9190332592\n",
            "Gen 116: 929538.8952847301\n",
            "Gen 117: 929458.9226571776\n",
            "Gen 118: 928652.9172393251\n",
            "Gen 119: 928318.594132277\n",
            "Gen 120: 927403.2433755249\n",
            "Gen 121: 927389.9981613427\n",
            "Gen 122: 926969.6464530664\n",
            "Gen 123: 926024.8630222537\n",
            "Gen 124: 925600.8375293679\n",
            "Gen 125: 924853.5799430273\n",
            "Gen 126: 925070.0173756656\n",
            "Gen 127: 924375.1679718024\n",
            "Gen 128: 924228.739839697\n",
            "Gen 129: 923890.6852238288\n",
            "Gen 130: 923421.0996058149\n",
            "Gen 131: 922638.1849593285\n",
            "Gen 132: 922033.1757745817\n",
            "Gen 133: 921790.7983066222\n",
            "Gen 134: 921440.2954625504\n",
            "Gen 135: 921208.9765857231\n",
            "Gen 136: 920858.7594340912\n",
            "Gen 137: 920358.3685949472\n",
            "Gen 138: 919646.3143393383\n",
            "Gen 139: 919341.2076061094\n",
            "Gen 140: 919122.6673714851\n",
            "Gen 141: 918573.2449396608\n",
            "Gen 142: 917867.4691967351\n",
            "Gen 143: 917952.0772281257\n",
            "Gen 144: 917842.2562678731\n",
            "Gen 145: 917414.4037073154\n",
            "Gen 146: 916586.0673977067\n",
            "Gen 147: 915961.0831960634\n",
            "Gen 148: 915779.0543871623\n",
            "Gen 149: 915078.6986837287\n",
            "Gen 150: 915042.0093292036\n",
            "Gen 151: 914283.0911492393\n",
            "Gen 152: 914177.9587040703\n",
            "Gen 153: 913864.5340981784\n",
            "Gen 154: 913613.8176792609\n",
            "Gen 155: 913193.4735140301\n",
            "Gen 156: 912452.0385883586\n",
            "Gen 157: 912091.6578212099\n",
            "Gen 158: 911973.9828392579\n",
            "Gen 159: 911899.1539741507\n",
            "Gen 160: 911429.8517032553\n",
            "Gen 161: 911058.2097395731\n",
            "Gen 162: 911297.0864258625\n",
            "Gen 163: 911067.3671333638\n",
            "Gen 164: 910673.5519940616\n",
            "Gen 165: 910530.9569197051\n",
            "Gen 166: 910197.2594076573\n",
            "Gen 167: 909938.6987382713\n",
            "Gen 168: 909820.4362508715\n",
            "Gen 169: 909216.9890868568\n",
            "Gen 170: 908774.6406837649\n",
            "Gen 171: 908706.461469224\n",
            "Gen 172: 908842.070345916\n",
            "Gen 173: 908358.4721773755\n",
            "Gen 174: 908427.4577896792\n",
            "Gen 175: 908173.4434748957\n",
            "Gen 176: 908042.9046651968\n",
            "Gen 177: 907815.4132564968\n",
            "Gen 178: 907718.8718197307\n",
            "Gen 179: 907822.2208350702\n",
            "Gen 180: 907742.8985293584\n",
            "Gen 181: 907600.366143367\n",
            "Gen 182: 907564.735003001\n",
            "Gen 183: 907321.4826054754\n",
            "Gen 184: 907203.0387469023\n",
            "Gen 185: 907008.5181647147\n",
            "Gen 186: 907252.8414926617\n",
            "Gen 187: 906885.0420600907\n",
            "Gen 188: 906917.9270549251\n",
            "Gen 189: 906751.211372945\n",
            "Gen 190: 906646.6583294567\n",
            "Gen 191: 906494.8696275979\n",
            "Gen 192: 906085.6969800806\n",
            "Gen 193: 905577.5634303065\n",
            "Gen 194: 905200.3555278059\n",
            "Gen 195: 905036.0487920766\n",
            "Gen 196: 904799.2364776235\n",
            "Gen 197: 904068.7971602204\n",
            "Gen 198: 904187.0133684281\n",
            "Gen 199: 904322.2297475798\n",
            "Gen 200: 904204.7411128384\n",
            "Gen 201: 904224.170120649\n",
            "Gen 202: 903972.1319372512\n",
            "Gen 203: 903772.3789375996\n",
            "Gen 204: 903902.3491068706\n",
            "Gen 205: 903524.5620806416\n",
            "Gen 206: 902643.1442117089\n",
            "Gen 207: 902863.842031009\n",
            "Gen 208: 902754.744892141\n",
            "Gen 209: 902975.8662798429\n",
            "Gen 210: 902896.6552058752\n",
            "Gen 211: 902540.3902686232\n",
            "Gen 212: 902031.9236702175\n",
            "Gen 213: 902178.7781447908\n",
            "Gen 214: 902254.6038720196\n",
            "Gen 215: 902207.5821705132\n",
            "Gen 216: 902190.0144448575\n",
            "Gen 217: 902243.7267854778\n",
            "Gen 218: 901995.0777907176\n",
            "Gen 219: 901931.0073157409\n",
            "Gen 220: 901844.8492220769\n",
            "Gen 221: 901599.6770535214\n",
            "Gen 222: 901943.6339169813\n",
            "Gen 223: 901756.2931420278\n",
            "Gen 224: 901470.7488384147\n",
            "Gen 225: 901488.2645795211\n",
            "Gen 226: 901601.453767678\n",
            "Gen 227: 901281.3528305659\n",
            "Gen 228: 901197.9538813763\n",
            "Gen 229: 900797.6683586771\n",
            "Gen 230: 900974.5314032286\n",
            "Gen 231: 900677.8410776266\n",
            "Gen 232: 900289.2140437004\n",
            "Gen 233: 900703.4386845323\n",
            "Gen 234: 900270.3874958016\n",
            "Gen 235: 899995.3968327522\n",
            "Gen 236: 899947.3100195578\n",
            "Gen 237: 900084.1373074581\n",
            "Gen 238: 899717.7474383835\n",
            "Gen 239: 899928.6589490743\n",
            "Gen 240: 899785.2162001785\n",
            "Gen 241: 899826.5413211295\n",
            "Gen 242: 899777.0001695756\n",
            "Gen 243: 899705.8210175018\n",
            "Gen 244: 899856.2530652084\n",
            "Gen 245: 899781.4632930744\n",
            "Gen 246: 899763.1142042786\n",
            "Gen 247: 899659.2139578502\n",
            "Gen 248: 899430.2559149804\n",
            "Gen 249: 899307.6776096161\n",
            "Gen 250: 899303.3092429087\n",
            "Gen 251: 899209.2235324893\n",
            "Gen 252: 899085.2438615958\n",
            "Gen 253: 898333.5048852938\n",
            "Gen 254: 898528.24921998\n",
            "Gen 255: 898554.4830003859\n",
            "Gen 256: 898331.8622440527\n",
            "Gen 257: 898389.0305497742\n",
            "Gen 258: 898586.7868922612\n",
            "Gen 259: 898261.4713981079\n",
            "Gen 260: 898505.1183757506\n",
            "Gen 261: 898431.735538493\n",
            "Gen 262: 898354.6381198124\n",
            "Gen 263: 898550.6326388572\n",
            "Gen 264: 898547.4117837129\n",
            "Gen 265: 898644.7437008189\n",
            "Gen 266: 898640.1267151209\n",
            "Gen 267: 898370.2937013328\n",
            "Gen 268: 898354.9014571069\n",
            "Gen 269: 898420.2336691137\n",
            "Gen 270: 898022.8578500699\n",
            "Gen 271: 898173.894254662\n",
            "Gen 272: 898255.813520197\n",
            "Gen 273: 897885.8688601886\n",
            "Gen 274: 898289.806401738\n",
            "Gen 275: 898380.5720232528\n",
            "Gen 276: 897768.3848080382\n",
            "Gen 277: 897669.7446261849\n",
            "Gen 278: 897856.0802572176\n",
            "Gen 279: 897539.7525003204\n",
            "Gen 280: 897880.4424773846\n",
            "Gen 281: 897731.1520068904\n",
            "Gen 282: 897667.3061178436\n",
            "Gen 283: 897763.1613510832\n",
            "Gen 284: 897560.1725378024\n",
            "Gen 285: 897624.1213542791\n",
            "Gen 286: 897439.478561369\n",
            "Gen 287: 897450.4559329565\n",
            "Gen 288: 897356.6339716141\n",
            "Gen 289: 897380.8111762302\n",
            "Gen 290: 897467.397903529\n",
            "Gen 291: 897498.9707440602\n",
            "Gen 292: 897370.7054613444\n",
            "Gen 293: 897135.390888664\n",
            "Gen 294: 897213.1688704825\n",
            "Gen 295: 897136.6845557599\n",
            "Gen 296: 896844.498312376\n",
            "Gen 297: 896807.577470527\n",
            "Gen 298: 896638.7724041117\n",
            "Gen 299: 896979.3832802951\n",
            "Gen 300: 896844.4416580747\n",
            "Gen 301: 896847.1300851005\n",
            "Gen 302: 896797.003447377\n",
            "Gen 303: 896466.0530232235\n",
            "Gen 304: 896514.2742536194\n",
            "Gen 305: 896628.6405901602\n",
            "Gen 306: 896548.1005013388\n",
            "Gen 307: 896479.7862891925\n",
            "Gen 308: 896524.7093716183\n",
            "Gen 309: 896469.9697767436\n",
            "Gen 310: 896562.4982197096\n",
            "Gen 311: 896338.9022983562\n",
            "Gen 312: 896482.5741392908\n",
            "Gen 313: 896520.4750447623\n",
            "Gen 314: 896700.4613705658\n",
            "Gen 315: 896408.912190763\n",
            "Gen 316: 896225.6095307274\n",
            "Gen 317: 896485.1452816506\n",
            "Gen 318: 896231.4688204761\n",
            "Gen 319: 896374.1970839172\n",
            "Gen 320: 896284.6689337144\n",
            "Gen 321: 896354.6678782599\n",
            "Gen 322: 896326.1950615024\n",
            "Gen 323: 896495.1444345837\n",
            "Gen 324: 895919.3272432989\n",
            "Gen 325: 896142.1834704694\n",
            "Gen 326: 896266.4060492628\n",
            "Gen 327: 896232.0914420071\n",
            "Gen 328: 895457.6765406162\n",
            "Gen 329: 895553.8487133661\n",
            "Gen 330: 895362.6576153967\n",
            "Gen 331: 895641.4581289255\n",
            "Gen 332: 895687.8240019795\n",
            "Gen 333: 895645.7073127195\n",
            "Gen 334: 895593.5833352964\n",
            "Gen 335: 895736.7399623435\n",
            "Gen 336: 895633.0796265634\n",
            "Gen 337: 895478.6185977854\n",
            "Gen 338: 895290.6681627696\n",
            "Gen 339: 895331.1827275148\n",
            "Gen 340: 895305.2187448891\n",
            "Gen 341: 895259.8851781054\n",
            "Gen 342: 895318.5769016155\n",
            "Gen 343: 895283.7602147771\n",
            "Gen 344: 895271.2040670833\n",
            "Gen 345: 895406.2793531329\n",
            "Gen 346: 895159.7689836049\n",
            "Gen 347: 894888.2582269146\n",
            "Gen 348: 894908.2831132953\n",
            "Gen 349: 894842.5563237108\n",
            "Gen 350: 894862.4014353636\n",
            "Gen 351: 894873.2734959183\n",
            "Gen 352: 894731.9575651707\n",
            "Gen 353: 894789.4418073067\n",
            "Gen 354: 894592.1426597346\n",
            "Gen 355: 894527.3617605483\n",
            "Gen 356: 894675.7762911788\n",
            "Gen 357: 894683.8483083122\n",
            "Gen 358: 894584.6647030085\n",
            "Gen 359: 894455.3350090462\n",
            "Gen 360: 894526.9211019975\n",
            "Gen 361: 894448.2465915176\n",
            "Gen 362: 894060.4114208904\n",
            "Gen 363: 894108.0135304971\n",
            "Gen 364: 894114.2833768035\n",
            "Gen 365: 894115.396562527\n",
            "Gen 366: 893834.8046833139\n",
            "Gen 367: 894151.2835437718\n",
            "Gen 368: 893564.0141035987\n",
            "Gen 369: 893912.3763580367\n",
            "Gen 370: 893744.2669019842\n",
            "Gen 371: 894000.9469986672\n",
            "Gen 372: 893860.1527995765\n",
            "Gen 373: 893589.612115692\n",
            "Gen 374: 893605.276377063\n",
            "Gen 375: 893478.662026668\n",
            "Gen 376: 893182.8863952564\n",
            "Gen 377: 893298.4840759776\n",
            "Gen 378: 893249.2861291473\n",
            "Gen 379: 893172.162852108\n",
            "Gen 380: 892888.587906553\n",
            "Gen 381: 893079.2558449322\n",
            "Gen 382: 893080.7874242464\n",
            "Gen 383: 892937.0485367789\n",
            "Gen 384: 892952.3894952838\n",
            "Gen 385: 893085.3826997956\n",
            "Gen 386: 893020.9229066933\n",
            "Gen 387: 893115.8380357209\n",
            "Gen 388: 892813.1126122414\n",
            "Gen 389: 892788.0920200126\n",
            "Gen 390: 892565.626602486\n",
            "Gen 391: 892640.0937824256\n",
            "Gen 392: 892754.9716313959\n",
            "Gen 393: 892663.1115415485\n",
            "Gen 394: 892795.9847336329\n",
            "Gen 395: 892564.9952839197\n",
            "Gen 396: 892449.0482432592\n",
            "Gen 397: 892458.2635235982\n",
            "Gen 398: 892476.4551190749\n",
            "Gen 399: 892309.4663443672\n",
            "Gen 400: 892361.9377936162\n",
            "Gen 401: 892448.2798149264\n",
            "Gen 402: 892534.2171497266\n",
            "Gen 403: 892465.790037004\n",
            "Gen 404: 892695.3964823909\n",
            "Gen 405: 892693.6642016958\n",
            "Gen 406: 892621.5793543203\n",
            "Gen 407: 892673.0816288423\n",
            "Gen 408: 892573.4697386556\n",
            "Gen 409: 892526.7790116534\n",
            "Gen 410: 892564.4679932942\n",
            "Gen 411: 892511.5763744942\n",
            "Gen 412: 892468.6085839813\n",
            "Gen 413: 892429.4704558799\n",
            "Gen 414: 892652.7683206056\n",
            "Gen 415: 892500.8623084555\n",
            "Gen 416: 892516.7699426668\n",
            "Gen 417: 892610.7840351316\n",
            "Gen 418: 892797.4916616401\n",
            "Gen 419: 892767.8279728137\n",
            "Gen 420: 892887.9600624793\n",
            "Gen 421: 892685.9221134603\n",
            "Gen 422: 892481.5450479995\n",
            "Gen 423: 892680.8837475493\n",
            "Gen 424: 892471.162533099\n",
            "Gen 425: 892376.8699674101\n",
            "Gen 426: 892022.9127169243\n",
            "Gen 427: 892195.676609589\n",
            "Gen 428: 892261.9413595246\n",
            "Gen 429: 892330.1790278886\n",
            "Gen 430: 892324.5448951361\n",
            "Gen 431: 892120.3085215195\n",
            "Gen 432: 891890.0750274407\n",
            "Gen 433: 892116.7435272863\n",
            "Gen 434: 892067.5819583032\n",
            "Gen 435: 892065.7608881298\n",
            "Gen 436: 892074.5589837165\n",
            "Gen 437: 892084.3839776181\n",
            "Gen 438: 892154.4247109263\n",
            "Gen 439: 892023.2637135924\n",
            "Gen 440: 892055.7390692054\n",
            "Gen 441: 892003.0360166739\n",
            "Gen 442: 891986.6626034905\n",
            "Gen 443: 891630.8326535807\n",
            "Gen 444: 891943.3226855269\n",
            "Gen 445: 891871.4052371\n",
            "Gen 446: 891520.5441538865\n",
            "Gen 447: 891556.9744635007\n",
            "Gen 448: 891384.2980084256\n",
            "Gen 449: 891932.8526627882\n",
            "Gen 450: 891786.3423941567\n",
            "Gen 451: 891709.519357561\n",
            "Gen 452: 891857.1892884639\n",
            "Gen 453: 891578.5050651529\n",
            "Gen 454: 891693.1891464152\n",
            "Gen 455: 891711.1752628178\n",
            "Gen 456: 891672.3175450761\n",
            "Gen 457: 891869.2203169795\n",
            "Gen 458: 891749.1944675342\n",
            "Gen 459: 891677.6697490179\n",
            "Gen 460: 891729.9075215671\n",
            "Gen 461: 891390.7194995725\n",
            "Gen 462: 891618.3146364498\n",
            "Gen 463: 891512.8685955058\n",
            "Gen 464: 891535.5554388459\n",
            "Gen 465: 891446.1327577891\n",
            "Gen 466: 891454.5350189264\n",
            "Gen 467: 891597.4076412795\n",
            "Gen 468: 891617.9523385739\n",
            "Gen 469: 891496.1771323243\n",
            "Gen 470: 891566.1299018587\n",
            "Gen 471: 891324.6136383705\n",
            "Gen 472: 891349.9418800226\n",
            "Gen 473: 891409.1934609973\n",
            "Gen 474: 891383.2563312147\n",
            "Gen 475: 891377.2847369697\n",
            "Gen 476: 891504.7322056909\n",
            "Gen 477: 891251.8072070436\n",
            "Gen 478: 891232.6118530391\n",
            "Gen 479: 891177.9372051876\n",
            "Gen 480: 891167.2977441015\n",
            "Gen 481: 891281.2139274738\n",
            "Gen 482: 891346.735857121\n",
            "Gen 483: 891271.4434653666\n",
            "Gen 484: 891336.2948466841\n",
            "Gen 485: 891124.8600554725\n",
            "Gen 486: 890509.870658035\n",
            "Gen 487: 890824.3027462909\n",
            "Gen 488: 890820.7920929409\n",
            "Gen 489: 890672.6783498884\n",
            "Gen 490: 890660.4425440019\n",
            "Gen 491: 890668.6492128\n",
            "Gen 492: 890689.4965584701\n",
            "Gen 493: 890603.6201048258\n",
            "Gen 494: 890325.6133211676\n",
            "Gen 495: 890274.3380541977\n",
            "Gen 496: 890157.0379620885\n",
            "Gen 497: 890162.257521502\n",
            "Gen 498: 890156.4638503246\n",
            "Gen 499: 890149.2700587726\n",
            "Gen 500: 890261.7474929038\n",
            "Gen 501: 890158.9434751153\n",
            "Gen 502: 890250.8896168249\n",
            "Gen 503: 890238.1036782111\n",
            "Gen 504: 890158.185217142\n",
            "Gen 505: 890237.7262876072\n",
            "Gen 506: 890127.1518848942\n",
            "Gen 507: 890087.4272995314\n",
            "Gen 508: 890017.4974114858\n",
            "Gen 509: 890049.1374030898\n",
            "Gen 510: 890121.9650103837\n",
            "Gen 511: 890047.8808058705\n",
            "Gen 512: 890074.7646931543\n",
            "Gen 513: 889939.3723355697\n",
            "Gen 514: 889738.9389068348\n",
            "Gen 515: 889859.7054419107\n",
            "Gen 516: 889927.5121217793\n",
            "Gen 517: 889753.9496643821\n",
            "Gen 518: 889743.8223949673\n",
            "Gen 519: 889822.4353968316\n",
            "Gen 520: 889731.1665156572\n",
            "Gen 521: 889998.6297437496\n",
            "Gen 522: 889693.608655096\n",
            "Gen 523: 889787.8601032917\n",
            "Gen 524: 890024.0979507477\n",
            "Gen 525: 889840.1551306958\n",
            "Gen 526: 889820.1753140895\n",
            "Gen 527: 889846.538151414\n",
            "Gen 528: 889715.7927457286\n",
            "Gen 529: 889504.6816526981\n",
            "Gen 530: 889457.1554648571\n",
            "Gen 531: 889681.3707133321\n",
            "Gen 532: 889532.8941122444\n",
            "Gen 533: 889565.7644038528\n",
            "Gen 534: 889053.7597205311\n",
            "Gen 535: 889222.5125081878\n",
            "Gen 536: 889315.0783045851\n",
            "Gen 537: 889237.5199126069\n",
            "Gen 538: 889145.259038961\n",
            "Gen 539: 889355.1687558205\n",
            "Gen 540: 889393.2038306583\n",
            "Gen 541: 889279.186406166\n",
            "Gen 542: 889513.4475134966\n",
            "Gen 543: 889327.1980570599\n",
            "Gen 544: 889460.1467026776\n",
            "Gen 545: 889703.457074945\n",
            "Gen 546: 889646.0839735459\n",
            "Gen 547: 889445.4088893846\n",
            "Gen 548: 889538.6921346519\n",
            "Gen 549: 889458.8176832811\n",
            "Gen 550: 889344.0495688498\n",
            "Gen 551: 889527.3793793347\n",
            "Gen 552: 889388.2237009088\n",
            "Gen 553: 889398.9529104312\n",
            "Gen 554: 889179.9320818956\n",
            "Gen 555: 889279.244680248\n",
            "Gen 556: 889338.3323665346\n",
            "Gen 557: 889295.7619561744\n",
            "Gen 558: 889178.3021081032\n",
            "Gen 559: 889175.2478655986\n",
            "Gen 560: 888917.3454421412\n",
            "Gen 561: 888953.1439635832\n",
            "Gen 562: 888753.5788479573\n",
            "Gen 563: 888774.2413058899\n",
            "Gen 564: 888577.9291832313\n",
            "Gen 565: 888699.7515823919\n",
            "Gen 566: 888603.2293507414\n",
            "Gen 567: 888482.5578793884\n",
            "Gen 568: 888847.1232398587\n",
            "Gen 569: 888849.5815755413\n",
            "Gen 570: 888882.0818149702\n",
            "Gen 571: 888947.9513524821\n",
            "Gen 572: 888755.1864522638\n",
            "Gen 573: 888805.5365418006\n",
            "Gen 574: 888903.9967234803\n",
            "Gen 575: 888790.8140117994\n",
            "Gen 576: 888804.2419671579\n",
            "Gen 577: 888909.5461666805\n",
            "Gen 578: 888995.0922513249\n",
            "Gen 579: 888713.5542974556\n",
            "Gen 580: 888885.191606396\n",
            "Gen 581: 888843.1760828529\n",
            "Gen 582: 888683.5916494335\n",
            "Gen 583: 888897.1053807703\n",
            "Gen 584: 888870.8018862725\n",
            "Gen 585: 888843.3477210972\n",
            "Gen 586: 888814.5110325505\n",
            "Gen 587: 888801.7304418642\n",
            "Gen 588: 888889.8804701612\n",
            "Gen 589: 888892.7555825032\n",
            "Gen 590: 888648.6599677963\n",
            "Gen 591: 888707.2584117852\n",
            "Gen 592: 888813.6382374754\n",
            "Gen 593: 888814.4123681008\n",
            "Gen 594: 888824.3962305435\n",
            "Gen 595: 888711.2341355446\n",
            "Gen 596: 888906.3222311185\n",
            "Gen 597: 888950.4747197443\n",
            "Gen 598: 888752.6421029879\n",
            "Gen 599: 888601.8571189326\n",
            "Gen 600: 888799.3609965032\n",
            "Gen 601: 888812.4292256559\n",
            "Gen 602: 888718.7439746899\n",
            "Gen 603: 888641.8503328371\n",
            "Gen 604: 888847.6100568146\n",
            "Gen 605: 888844.5262598753\n",
            "Gen 606: 888981.3468690731\n",
            "Gen 607: 888884.5553385558\n",
            "Gen 608: 888978.6041848183\n",
            "Gen 609: 889100.5976956493\n",
            "Gen 610: 889070.8401934473\n",
            "Gen 611: 889290.4314853057\n",
            "Gen 612: 889362.6797623707\n",
            "Gen 613: 889557.3477778739\n",
            "Gen 614: 889423.476725529\n",
            "Gen 615: 889367.5066753232\n",
            "Gen 616: 889307.4797189264\n",
            "Gen 617: 889531.4952561047\n",
            "Gen 618: 889570.6880116017\n",
            "Gen 619: 889267.0923915559\n",
            "Gen 620: 889420.3247532416\n",
            "Gen 621: 889396.2226326467\n",
            "Gen 622: 889077.8094794536\n",
            "Gen 623: 888849.8010264174\n",
            "Gen 624: 888854.470306897\n",
            "Gen 625: 888850.0682377574\n",
            "Gen 626: 888999.4332366178\n",
            "Gen 627: 889065.4858089777\n",
            "Gen 628: 888890.1527222253\n",
            "Gen 629: 888854.4759784433\n",
            "Gen 630: 888956.6299569081\n",
            "Gen 631: 888772.5637388652\n",
            "Gen 632: 888877.7970699307\n",
            "Gen 633: 888841.0117889293\n",
            "Gen 634: 888860.0991781665\n",
            "Gen 635: 888884.704148636\n",
            "Gen 636: 888903.4831892933\n",
            "Gen 637: 889137.7630017559\n",
            "Gen 638: 889094.0196680739\n",
            "Gen 639: 888992.2942781114\n",
            "Gen 640: 888927.6985335344\n",
            "Gen 641: 889143.6122577363\n",
            "Gen 642: 889141.2043055377\n",
            "Gen 643: 889042.0489012531\n",
            "Gen 644: 889112.5180747045\n",
            "Gen 645: 889112.0447237038\n",
            "Gen 646: 889054.7544611538\n",
            "Gen 647: 889133.6356661876\n",
            "Gen 648: 889177.7948547121\n",
            "Gen 649: 888989.0923265411\n",
            "Gen 650: 889043.9136711935\n",
            "Gen 651: 888999.307369072\n",
            "Gen 652: 889031.1845611117\n",
            "Gen 653: 888991.9328466904\n",
            "Gen 654: 888982.6934236789\n",
            "Gen 655: 889084.9827852632\n",
            "Gen 656: 889115.6543955288\n",
            "Gen 657: 889218.9366826394\n",
            "Gen 658: 889207.2665938247\n",
            "Gen 659: 888923.5585208016\n",
            "Gen 660: 888954.6363687491\n",
            "Gen 661: 888813.3751187349\n",
            "Gen 662: 888783.0816752368\n",
            "Gen 663: 888889.7137805466\n",
            "Gen 664: 888895.9737130627\n",
            "Gen 665: 889056.9994293051\n",
            "Gen 666: 888964.5103316519\n",
            "Gen 667: 888985.9193861267\n",
            "Gen 668: 888812.4276390634\n",
            "Gen 669: 888664.315711999\n",
            "Gen 670: 888685.270153802\n",
            "Gen 671: 888759.0690095187\n",
            "Gen 672: 888990.0276466897\n",
            "Gen 673: 888966.7949243027\n",
            "Gen 674: 889016.109864714\n",
            "Gen 675: 889139.9013203257\n",
            "Gen 676: 889067.03056241\n",
            "Gen 677: 888936.0700849259\n",
            "Gen 678: 889093.2878928259\n",
            "Gen 679: 889277.5161363609\n",
            "Gen 680: 889158.638389263\n",
            "Gen 681: 889170.0242818289\n",
            "Gen 682: 888865.33038633\n",
            "Gen 683: 888858.8743309634\n",
            "Gen 684: 889108.4308287248\n",
            "Gen 685: 889085.2295025424\n",
            "Gen 686: 889037.8676466286\n",
            "Gen 687: 889134.2813562596\n",
            "Gen 688: 889306.0502076413\n",
            "Gen 689: 889055.514736871\n",
            "Gen 690: 888589.0017886448\n",
            "Gen 691: 888676.1842257729\n",
            "Gen 692: 888733.6250713029\n",
            "Gen 693: 888756.1618450736\n",
            "Gen 694: 888861.6343254764\n",
            "Gen 695: 888768.3251274147\n",
            "Gen 696: 888998.0311515633\n",
            "Gen 697: 888746.0481852227\n",
            "Gen 698: 888398.1100556996\n",
            "Gen 699: 888578.2601838371\n",
            "Gen 700: 888648.1139541237\n",
            "Gen 701: 888471.4359729412\n",
            "Gen 702: 888594.6920601971\n",
            "Gen 703: 888623.1988899496\n",
            "Gen 704: 888640.2372872859\n",
            "Gen 705: 888791.0621192934\n",
            "Gen 706: 888700.0711785591\n",
            "Gen 707: 888647.8384144044\n",
            "Gen 708: 888441.1317197145\n",
            "Gen 709: 888694.1452978113\n",
            "Gen 710: 888688.7181543185\n",
            "Gen 711: 888761.3704136919\n",
            "Gen 712: 888639.2421690315\n",
            "Gen 713: 888526.6017697024\n",
            "Gen 714: 888717.318554109\n",
            "Gen 715: 888962.0408118196\n",
            "Gen 716: 888871.8406913279\n",
            "Gen 717: 888468.0077122351\n",
            "Gen 718: 888637.9857522857\n",
            "Gen 719: 888835.2542887185\n",
            "Gen 720: 888672.6799133338\n",
            "Gen 721: 888862.5093160032\n",
            "Gen 722: 888834.4037694815\n",
            "Gen 723: 888664.8567070493\n",
            "Gen 724: 888603.0758226063\n",
            "Gen 725: 888740.3914265119\n",
            "Gen 726: 888835.692306229\n",
            "Gen 727: 888869.508566265\n",
            "Gen 728: 888895.3283597252\n",
            "Gen 729: 888868.4912624658\n",
            "Gen 730: 888965.8665870755\n",
            "Gen 731: 888845.7884284442\n",
            "Gen 732: 889232.6741714528\n",
            "Gen 733: 889242.3423199524\n",
            "Gen 734: 889212.4837183682\n",
            "Gen 735: 889019.4851815806\n",
            "Gen 736: 888799.485313174\n",
            "Gen 737: 888867.0679373938\n",
            "Gen 738: 889071.1868163885\n",
            "Gen 739: 888984.4900692313\n",
            "Gen 740: 888699.2144344306\n",
            "Gen 741: 888949.7779649297\n",
            "Gen 742: 889132.2082038572\n",
            "Gen 743: 889018.2479596062\n",
            "Gen 744: 888705.2440750892\n",
            "Gen 745: 888796.3822105395\n",
            "Gen 746: 888288.3340012004\n",
            "Gen 747: 888451.6528523377\n",
            "Gen 748: 888198.6104066222\n",
            "Gen 749: 888656.3039369725\n",
            "Gen 750: 888589.1592103904\n",
            "Gen 751: 888551.4115102733\n",
            "Gen 752: 888734.6157097527\n",
            "Gen 753: 888719.7719848666\n",
            "Gen 754: 888344.7976741984\n",
            "Gen 755: 888516.5571029715\n",
            "Gen 756: 888553.78469752\n",
            "Gen 757: 888537.1681296944\n",
            "Gen 758: 888752.2837130347\n",
            "Gen 759: 888515.3864529945\n",
            "Gen 760: 888645.0179725462\n",
            "Gen 761: 888862.0827989376\n",
            "Gen 762: 888863.2376158213\n",
            "Gen 763: 889113.3821191472\n",
            "Gen 764: 888767.1956014123\n",
            "Gen 765: 888908.5811922731\n",
            "Gen 766: 888820.056661641\n",
            "Gen 767: 888514.3931898162\n",
            "Gen 768: 888661.2671587089\n",
            "Gen 769: 888731.210124462\n",
            "Gen 770: 888784.753906849\n",
            "Gen 771: 888772.0668611714\n",
            "Gen 772: 888660.1972037569\n",
            "Gen 773: 888723.8095473646\n",
            "Gen 774: 888819.5786042876\n",
            "Gen 775: 888716.307849272\n",
            "Gen 776: 888698.0107990177\n",
            "Gen 777: 888729.2158483694\n",
            "Gen 778: 888805.2290047115\n",
            "Gen 779: 888789.481014035\n",
            "Gen 780: 888751.306268254\n",
            "Gen 781: 888641.2003344292\n",
            "Gen 782: 888475.0314271754\n",
            "Gen 783: 888649.2616264371\n",
            "Gen 784: 888702.6687891601\n",
            "Gen 785: 888728.4795438453\n",
            "Gen 786: 888514.0118417466\n",
            "Gen 787: 888469.0148855295\n",
            "Gen 788: 888559.8247770678\n",
            "Gen 789: 888301.9460444783\n",
            "Gen 790: 888404.2468934025\n",
            "Gen 791: 888334.7757395554\n",
            "Gen 792: 888415.3236594452\n",
            "Gen 793: 888537.2167796462\n",
            "Gen 794: 888497.2264274576\n",
            "Gen 795: 888513.4456279377\n",
            "Gen 796: 888630.5214813676\n",
            "Gen 797: 888577.0714193113\n",
            "Gen 798: 888518.0480509271\n",
            "Gen 799: 888945.1495797532\n",
            "Gen 800: 888861.4078182735\n",
            "Gen 801: 888859.2090187063\n",
            "Gen 802: 888515.6163375165\n",
            "Gen 803: 888810.4552984464\n",
            "Gen 804: 888908.1538936779\n",
            "Gen 805: 888801.6119172177\n",
            "Gen 806: 889031.968560478\n",
            "Gen 807: 888633.611368877\n",
            "Gen 808: 888719.4324013748\n",
            "Gen 809: 888471.4415006418\n",
            "Gen 810: 888473.9560621581\n",
            "Gen 811: 888451.3302887505\n",
            "Gen 812: 888452.457452064\n",
            "Gen 813: 888556.7968051812\n",
            "Gen 814: 888584.0205505387\n",
            "Gen 815: 888603.6459815307\n",
            "Gen 816: 888641.8171507713\n",
            "Gen 817: 888700.6521404277\n",
            "Gen 818: 888821.2538322868\n",
            "Gen 819: 888997.5431790138\n",
            "Gen 820: 888861.3782876633\n",
            "Gen 821: 888896.9103048283\n",
            "Gen 822: 888951.978161698\n",
            "Gen 823: 888795.4275187808\n",
            "Gen 824: 889004.9085369029\n",
            "Gen 825: 888629.8324601961\n",
            "Gen 826: 888740.9377534173\n",
            "Gen 827: 888296.1858405703\n",
            "Gen 828: 888232.7730879051\n",
            "Gen 829: 888541.9141380673\n",
            "Gen 830: 888728.3898250543\n",
            "Gen 831: 888697.6919788184\n",
            "Gen 832: 888773.0692858602\n",
            "Gen 833: 888469.4081756793\n",
            "Gen 834: 888579.840030365\n",
            "Gen 835: 888779.3358948968\n",
            "Gen 836: 888640.553748509\n",
            "Gen 837: 888477.4101818756\n",
            "Gen 838: 888530.1990467743\n",
            "Gen 839: 888566.2773941588\n",
            "Gen 840: 888525.9046170214\n",
            "Gen 841: 888668.8130253517\n",
            "Gen 842: 888594.4001074004\n",
            "Gen 843: 888404.5212871814\n",
            "Gen 844: 888399.6452726322\n",
            "Gen 845: 888124.532041161\n",
            "Gen 846: 888319.835600048\n",
            "Gen 847: 888186.8600708228\n",
            "Gen 848: 888031.8053590098\n",
            "Gen 849: 888093.7205607034\n",
            "Gen 850: 888166.5295032442\n",
            "Gen 851: 888296.4710292779\n",
            "Gen 852: 888253.9744871492\n",
            "Gen 853: 888426.6749253836\n",
            "Gen 854: 888308.829412635\n",
            "Gen 855: 888303.9458321105\n",
            "Gen 856: 888133.156387284\n",
            "Gen 857: 888283.6807663153\n",
            "Gen 858: 888406.4740734926\n",
            "Gen 859: 888417.0986919347\n",
            "Gen 860: 888264.5698916365\n",
            "Gen 861: 888346.1640137399\n",
            "Gen 862: 888408.0807548882\n",
            "Gen 863: 888301.9093602311\n",
            "Gen 864: 888362.808125973\n",
            "Gen 865: 888232.0584509316\n",
            "Gen 866: 888144.1875172866\n",
            "Gen 867: 888114.6322837471\n",
            "Gen 868: 888040.2287745394\n",
            "Gen 869: 887974.7923227574\n",
            "Gen 870: 888033.4636527153\n",
            "Gen 871: 887993.0147435813\n",
            "Gen 872: 887822.081491649\n",
            "Gen 873: 887855.0714759465\n",
            "Gen 874: 887804.0923219684\n",
            "Gen 875: 888028.8397181124\n",
            "Gen 876: 888034.4697317976\n",
            "Gen 877: 888204.2892501955\n",
            "Gen 878: 888245.3689051614\n",
            "Gen 879: 888246.4081583788\n",
            "Gen 880: 888392.6378473155\n",
            "Gen 881: 888269.8349712818\n",
            "Gen 882: 888386.7417882193\n",
            "Gen 883: 888564.6792565864\n",
            "Gen 884: 888449.6754463397\n",
            "Gen 885: 888492.139029154\n",
            "Gen 886: 888109.2097566533\n",
            "Gen 887: 888043.8119837638\n",
            "Gen 888: 887962.4184160318\n",
            "Gen 889: 888135.0473251927\n",
            "Gen 890: 888221.4116211969\n",
            "Gen 891: 888043.3380194042\n",
            "Gen 892: 888211.8915694515\n",
            "Gen 893: 887974.0412545773\n",
            "Gen 894: 888097.8292905731\n",
            "Gen 895: 887985.7271511223\n",
            "Gen 896: 887994.3515527677\n",
            "Gen 897: 888161.5063869797\n",
            "Gen 898: 888213.0039740842\n",
            "Gen 899: 888328.6877465395\n",
            "Gen 900: 888249.4269366551\n",
            "Gen 901: 888237.8657265974\n",
            "Gen 902: 888426.7372315784\n",
            "Gen 903: 888228.2722115554\n",
            "Gen 904: 888308.3911947211\n",
            "Gen 905: 888047.1620456775\n",
            "Gen 906: 888192.4672750913\n",
            "Gen 907: 888224.7034869494\n",
            "Gen 908: 888052.3091754246\n",
            "Gen 909: 887833.0578762619\n",
            "Gen 910: 888021.5273457028\n",
            "Gen 911: 887964.5857619456\n",
            "Gen 912: 888079.0422963618\n",
            "Gen 913: 888310.7944370486\n",
            "Gen 914: 888247.9355024988\n",
            "Gen 915: 888240.260072996\n",
            "Gen 916: 888268.7131318493\n",
            "Gen 917: 888153.4467215204\n",
            "Gen 918: 887894.119831023\n",
            "Gen 919: 887987.955806994\n",
            "Gen 920: 888161.6649533903\n",
            "Gen 921: 888093.205713791\n",
            "Gen 922: 888309.5330595394\n",
            "Gen 923: 888301.5297294299\n",
            "Gen 924: 888332.5978698544\n",
            "Gen 925: 888155.2987378306\n",
            "Gen 926: 888224.3342999439\n",
            "Gen 927: 888342.1607983118\n",
            "Gen 928: 888270.9983431099\n",
            "Gen 929: 888266.2939109101\n",
            "Gen 930: 888350.7683943784\n",
            "Gen 931: 888363.9022914158\n",
            "Gen 932: 888497.7497734095\n",
            "Gen 933: 888470.4205797028\n",
            "Gen 934: 888654.9402780962\n",
            "Gen 935: 888544.36402536\n",
            "Gen 936: 888655.1689263491\n",
            "Gen 937: 888713.6808740674\n",
            "Gen 938: 888661.0976706308\n",
            "Gen 939: 888740.2467506567\n",
            "Gen 940: 888765.5545327235\n",
            "Gen 941: 888805.3838042481\n",
            "Gen 942: 888975.6615150989\n",
            "Gen 943: 888899.335642531\n",
            "Gen 944: 889088.6357598018\n",
            "Gen 945: 889001.4372433244\n",
            "Gen 946: 889000.3975015625\n",
            "Gen 947: 889015.2949047812\n",
            "Gen 948: 889001.8967548088\n",
            "Gen 949: 889004.7860515798\n",
            "Gen 950: 889178.5536194099\n",
            "Gen 951: 889082.7112697555\n",
            "Gen 952: 889177.1211273477\n",
            "Gen 953: 889052.7625133796\n",
            "Gen 954: 889173.6048051148\n",
            "Gen 955: 889143.270861273\n",
            "Gen 956: 888739.8938531528\n",
            "Gen 957: 888927.8114601126\n",
            "Gen 958: 888887.0646792823\n",
            "Gen 959: 888820.4957885409\n",
            "Gen 960: 888895.8142025782\n",
            "Gen 961: 888629.2807780466\n",
            "Gen 962: 888684.0527011215\n",
            "Gen 963: 888622.5495888864\n",
            "Gen 964: 888631.1385854224\n",
            "Gen 965: 888841.5051981725\n",
            "Gen 966: 888995.2035695333\n",
            "Gen 967: 888839.7406839253\n",
            "Gen 968: 888816.9316526342\n",
            "Gen 969: 888863.7902339904\n",
            "Gen 970: 888955.3676622182\n",
            "Gen 971: 888821.2052733672\n",
            "Gen 972: 888980.9142092507\n",
            "Gen 973: 889040.4132808647\n",
            "Gen 974: 889195.2529769556\n",
            "Gen 975: 889242.619458509\n",
            "Gen 976: 889187.8674796991\n",
            "Gen 977: 889227.4707634394\n",
            "Gen 978: 889376.3224720582\n",
            "Gen 979: 889077.3186413902\n",
            "Gen 980: 888909.8889863113\n",
            "Gen 981: 888910.4236889867\n",
            "Gen 982: 888985.3398737324\n",
            "Gen 983: 888976.7673685432\n",
            "Gen 984: 889027.2205082922\n",
            "Gen 985: 889153.9588665575\n",
            "Gen 986: 889311.5054892922\n",
            "Gen 987: 889014.8243657628\n",
            "Gen 988: 889214.3460020594\n",
            "Gen 989: 889191.2982494271\n",
            "Gen 990: 889367.0921277138\n",
            "Gen 991: 889318.4130830689\n",
            "Gen 992: 889244.8671742695\n",
            "Gen 993: 889489.4444087431\n",
            "Gen 994: 889476.1893909015\n",
            "Gen 995: 889622.4161952569\n",
            "Gen 996: 889537.346180055\n",
            "Gen 997: 889707.2641431126\n",
            "Gen 998: 889650.8393037688\n",
            "Gen 999: 889678.9224159729\n",
            "Gen 1000: 889671.2036593664\n",
            "Gen 1001: 889535.8653356801\n",
            "Gen 1002: 889539.3939360752\n",
            "Gen 1003: 889541.0039335965\n",
            "Gen 1004: 889466.5480264067\n",
            "Gen 1005: 889592.7291615265\n",
            "Gen 1006: 889647.0298154765\n",
            "Gen 1007: 889861.4258828067\n",
            "Gen 1008: 889783.6886897546\n",
            "Gen 1009: 889852.7789602574\n",
            "Gen 1010: 889811.5096210813\n",
            "Gen 1011: 889744.7791550513\n",
            "Gen 1012: 889804.6393799372\n",
            "Gen 1013: 889784.7191127201\n",
            "Gen 1014: 889546.3879448548\n",
            "Gen 1015: 889667.3959722994\n",
            "Gen 1016: 889745.3199002129\n",
            "Gen 1017: 889531.7348247408\n",
            "Gen 1018: 889727.0213505389\n",
            "Gen 1019: 889522.8836021415\n",
            "Gen 1020: 889601.0249306042\n",
            "Gen 1021: 889728.6674527462\n",
            "Gen 1022: 889706.4739444291\n",
            "Gen 1023: 889813.8860303048\n",
            "Gen 1024: 889555.0201766666\n",
            "Gen 1025: 889575.9420000447\n",
            "Gen 1026: 889679.3633612801\n",
            "Gen 1027: 889746.5821810575\n",
            "Gen 1028: 889508.4390973736\n",
            "Gen 1029: 889575.6393421799\n",
            "Gen 1030: 889418.4611551963\n",
            "Gen 1031: 889352.6578232573\n",
            "Gen 1032: 889504.9303993159\n",
            "Gen 1033: 889466.9956460616\n",
            "Gen 1034: 889144.2693925223\n",
            "Gen 1035: 889534.5173722544\n",
            "Gen 1036: 889427.5042294816\n",
            "Gen 1037: 889407.8815850809\n",
            "Gen 1038: 889468.3869172602\n",
            "Gen 1039: 889429.7484542456\n",
            "Gen 1040: 889312.5502161464\n",
            "Gen 1041: 889270.0001221666\n",
            "Gen 1042: 889357.3843625746\n",
            "Gen 1043: 889303.2685851878\n",
            "Gen 1044: 889540.9289174223\n",
            "Gen 1045: 889453.2506292503\n",
            "Gen 1046: 889509.8859889643\n",
            "Gen 1047: 889650.4591428599\n",
            "Gen 1048: 889452.4564199426\n",
            "Gen 1049: 889528.8139985469\n",
            "Gen 1050: 889646.4455837518\n",
            "Gen 1051: 889460.8450426571\n",
            "Gen 1052: 889209.0644967019\n",
            "Gen 1053: 889233.1578705364\n",
            "Gen 1054: 889277.6149855868\n",
            "Gen 1055: 889253.2136394259\n",
            "Gen 1056: 888991.0390664302\n",
            "Gen 1057: 889283.7503817278\n",
            "Gen 1058: 889144.2700428334\n",
            "Gen 1059: 889078.8496616007\n",
            "Gen 1060: 889022.0798125472\n",
            "Gen 1061: 889138.157063886\n",
            "Gen 1062: 889194.2345777886\n",
            "Gen 1063: 889135.9392964407\n",
            "Gen 1064: 889090.5133351993\n",
            "Gen 1065: 889180.6520764908\n",
            "Gen 1066: 889132.1001963393\n",
            "Gen 1067: 889261.5762162703\n",
            "Gen 1068: 888974.9427180277\n",
            "Gen 1069: 888885.5892162712\n",
            "Gen 1070: 889029.0345696713\n",
            "Gen 1071: 888963.8099313539\n",
            "Gen 1072: 888935.9321818845\n",
            "Gen 1073: 888965.7490492834\n",
            "Gen 1074: 888896.6751365565\n",
            "Gen 1075: 888891.3274442268\n",
            "Gen 1076: 888779.8822820018\n",
            "Gen 1077: 888744.8356625938\n",
            "Gen 1078: 888761.8423908623\n",
            "Gen 1079: 888945.9423482632\n",
            "Gen 1080: 888852.6925915276\n",
            "Gen 1081: 888776.4129555809\n",
            "Gen 1082: 888829.4997904096\n",
            "Gen 1083: 888859.6087737279\n",
            "Gen 1084: 888763.0811653852\n",
            "Gen 1085: 888927.2656612999\n",
            "Gen 1086: 888825.6526247265\n",
            "Gen 1087: 888799.1991822075\n",
            "Gen 1088: 888971.7431573665\n",
            "Gen 1089: 888861.214574317\n",
            "Gen 1090: 888979.6299246022\n",
            "Gen 1091: 888930.5603834968\n",
            "Gen 1092: 888760.9715781503\n",
            "Gen 1093: 888976.0839180803\n",
            "Gen 1094: 888759.5986265847\n",
            "Gen 1095: 888757.5302243421\n",
            "Gen 1096: 889213.9171875879\n",
            "Gen 1097: 888954.7863720333\n",
            "Gen 1098: 888816.3355450543\n",
            "Gen 1099: 888995.3649450768\n",
            "Gen 1100: 888714.6625608413\n",
            "Gen 1101: 889044.7676920644\n",
            "Gen 1102: 888915.806200646\n",
            "Gen 1103: 888774.0477079323\n",
            "Gen 1104: 888708.3241062826\n",
            "Gen 1105: 888906.4735917698\n",
            "Gen 1106: 888919.6707743318\n",
            "Gen 1107: 888933.7233066331\n",
            "Gen 1108: 888979.1960791564\n",
            "Gen 1109: 889146.0626806065\n",
            "Gen 1110: 889153.8305716169\n",
            "Gen 1111: 888921.9192820103\n",
            "Gen 1112: 889101.1120091111\n",
            "Gen 1113: 889068.5134803925\n",
            "Gen 1114: 888886.9493072764\n",
            "Gen 1115: 888925.8140498535\n",
            "Gen 1116: 888914.055247521\n",
            "Gen 1117: 888669.9958020088\n",
            "Gen 1118: 888785.3611474687\n",
            "Gen 1119: 888639.8258713121\n",
            "Gen 1120: 888629.2654013867\n",
            "Gen 1121: 888796.3910628614\n",
            "Gen 1122: 888790.8314796735\n",
            "Gen 1123: 888702.2910334995\n",
            "Gen 1124: 888902.6625967373\n",
            "Gen 1125: 888977.3075429834\n",
            "Gen 1126: 888799.2545191045\n",
            "Gen 1127: 888594.4332338987\n",
            "Gen 1128: 888708.1521638092\n",
            "Gen 1129: 888956.2491562379\n",
            "Gen 1130: 888516.9242812311\n",
            "Gen 1131: 888738.8283430923\n",
            "Gen 1132: 888641.810229392\n",
            "Gen 1133: 888940.1118436418\n",
            "Gen 1134: 888389.3522072128\n",
            "Gen 1135: 888407.531337285\n",
            "Gen 1136: 888411.4563568833\n",
            "Gen 1137: 888703.9335573853\n",
            "Gen 1138: 888760.986240633\n",
            "Gen 1139: 888670.5777974396\n",
            "Gen 1140: 888858.391081129\n",
            "Gen 1141: 888705.735502668\n",
            "Gen 1142: 888440.1936657315\n",
            "Gen 1143: 888497.4710843485\n",
            "Gen 1144: 888434.3421225279\n",
            "Gen 1145: 888577.376214995\n",
            "Gen 1146: 888493.5984821847\n",
            "Gen 1147: 888466.9463201258\n",
            "Gen 1148: 888748.678374912\n",
            "Gen 1149: 888533.4533817878\n",
            "Gen 1150: 888619.8569281644\n",
            "Gen 1151: 888900.5954398896\n",
            "Gen 1152: 888744.7646288472\n",
            "Gen 1153: 888747.0777062211\n",
            "Gen 1154: 888761.2500990873\n",
            "Gen 1155: 888842.7514187832\n",
            "Gen 1156: 888461.6947981492\n",
            "Gen 1157: 888763.7782692943\n",
            "Gen 1158: 888504.6916069585\n",
            "Gen 1159: 888231.3739512834\n",
            "Gen 1160: 888438.6163168189\n",
            "Gen 1161: 888438.9425287442\n",
            "Gen 1162: 888252.2742050434\n",
            "Gen 1163: 888403.4956277487\n",
            "Gen 1164: 888597.6176473332\n",
            "Gen 1165: 888428.1177419549\n",
            "Gen 1166: 888339.7878359767\n",
            "Gen 1167: 888347.2046922683\n",
            "Gen 1168: 888272.7765136291\n",
            "Gen 1169: 888302.2365766512\n",
            "Gen 1170: 888370.8348930699\n",
            "Gen 1171: 888461.6040476965\n",
            "Gen 1172: 888402.9471801105\n",
            "Gen 1173: 888550.1463061351\n",
            "Gen 1174: 888491.8219840851\n",
            "Gen 1175: 888361.1578843358\n",
            "Gen 1176: 888472.4655170973\n",
            "Gen 1177: 888328.9857038815\n",
            "Gen 1178: 888443.4244712106\n",
            "Gen 1179: 888388.9116602846\n",
            "Gen 1180: 888469.9635555339\n",
            "Gen 1181: 888470.3729125306\n",
            "Gen 1182: 888457.0812274951\n",
            "Gen 1183: 888611.4015021293\n",
            "Gen 1184: 888581.8845868985\n",
            "Gen 1185: 888384.8782381334\n",
            "Gen 1186: 888450.0124134485\n",
            "Gen 1187: 888566.8715642\n",
            "Gen 1188: 888575.6524262219\n",
            "Gen 1189: 888612.4875725025\n",
            "Gen 1190: 888640.0848124909\n",
            "Gen 1191: 888730.4959234663\n",
            "Gen 1192: 888585.865112562\n",
            "Gen 1193: 888334.3919120958\n",
            "Gen 1194: 888579.7883507591\n",
            "Gen 1195: 888410.9934250265\n",
            "Gen 1196: 888482.2662328862\n",
            "Gen 1197: 888492.6096768792\n",
            "Gen 1198: 888362.7310074704\n",
            "Gen 1199: 888506.0387988461\n",
            "Gen 1200: 888417.422280509\n",
            "Gen 1201: 888519.1837423122\n",
            "Gen 1202: 888453.1441783941\n",
            "Gen 1203: 888202.753905006\n",
            "Gen 1204: 888212.8916383513\n",
            "Gen 1205: 888153.2879400626\n",
            "Gen 1206: 888193.9408309514\n",
            "Gen 1207: 888346.8406701498\n",
            "Gen 1208: 888367.906572846\n",
            "Gen 1209: 888369.4772290664\n",
            "Gen 1210: 888246.9734240045\n",
            "Gen 1211: 888499.0868506245\n",
            "Gen 1212: 888575.7321005423\n",
            "Gen 1213: 888600.5138132782\n",
            "Gen 1214: 888639.0447995565\n",
            "Gen 1215: 888517.9009590668\n",
            "Gen 1216: 888410.7916818116\n",
            "Gen 1217: 888571.3686232625\n",
            "Gen 1218: 888427.7794366449\n",
            "Gen 1219: 888465.7270988491\n",
            "Gen 1220: 888470.8434443292\n",
            "Gen 1221: 888487.4500114851\n",
            "Gen 1222: 888347.9483035823\n",
            "Gen 1223: 888494.5687747746\n",
            "Gen 1224: 888592.0896619431\n",
            "Gen 1225: 888381.8595144615\n",
            "Gen 1226: 888375.3996628454\n",
            "Gen 1227: 888590.774071502\n",
            "Gen 1228: 888357.810599551\n",
            "Gen 1229: 888278.2261942921\n",
            "Gen 1230: 888225.7768206173\n",
            "Gen 1231: 888277.1942319522\n",
            "Gen 1232: 888278.104947458\n",
            "Gen 1233: 888237.9142641948\n",
            "Gen 1234: 887998.0815822148\n",
            "Gen 1235: 888108.0050308029\n",
            "Gen 1236: 887915.5933951155\n",
            "Gen 1237: 887868.0972619483\n",
            "Gen 1238: 888085.6590040656\n",
            "Gen 1239: 888112.6750352136\n",
            "Gen 1240: 888125.4258500595\n",
            "Gen 1241: 888239.1773172126\n",
            "Gen 1242: 888181.3285244299\n",
            "Gen 1243: 888181.2352484219\n",
            "Gen 1244: 888241.9467155641\n",
            "Gen 1245: 888262.6486366807\n",
            "Gen 1246: 888168.0236297188\n",
            "Gen 1247: 888040.8973175256\n",
            "Gen 1248: 887964.4320882004\n",
            "Gen 1249: 888004.8760441216\n",
            "Gen 1250: 888182.8048956511\n",
            "Gen 1251: 888207.6048263224\n",
            "Gen 1252: 888157.0519389975\n",
            "Gen 1253: 888345.2755876423\n",
            "Gen 1254: 888405.4640179526\n",
            "Gen 1255: 888381.2595438127\n",
            "Gen 1256: 888489.6878337056\n",
            "Gen 1257: 888422.1473161081\n",
            "Gen 1258: 888502.5619113208\n",
            "Gen 1259: 888378.1956552269\n",
            "Gen 1260: 888329.6271138904\n",
            "Gen 1261: 888428.4939463218\n",
            "Gen 1262: 888462.2818876072\n",
            "Gen 1263: 888425.0021847144\n",
            "Gen 1264: 888268.5082649373\n",
            "Gen 1265: 888526.102430923\n",
            "Gen 1266: 888547.1646178517\n",
            "Gen 1267: 888493.9300280353\n",
            "Gen 1268: 888405.397853433\n",
            "Gen 1269: 888451.3215066511\n",
            "Gen 1270: 888479.8780551982\n",
            "Gen 1271: 888613.3265549381\n",
            "Gen 1272: 888503.7820774345\n",
            "Gen 1273: 888539.4318580056\n",
            "Gen 1274: 888655.8527915264\n",
            "Gen 1275: 888604.4149066476\n",
            "Gen 1276: 888796.1553319554\n",
            "Gen 1277: 888691.0559968902\n",
            "Gen 1278: 888884.7694520501\n",
            "Gen 1279: 888730.3952673769\n",
            "Gen 1280: 888956.0308305474\n",
            "Gen 1281: 889026.5689918888\n",
            "Gen 1282: 889031.5176574466\n",
            "Gen 1283: 889190.3264787797\n",
            "Gen 1284: 889045.198005227\n",
            "Gen 1285: 888846.5668341661\n",
            "Gen 1286: 888741.3060685579\n",
            "Gen 1287: 888943.8384039633\n",
            "Gen 1288: 888988.3757922682\n",
            "Gen 1289: 888806.4284708343\n",
            "Gen 1290: 888971.1544266541\n",
            "Gen 1291: 888646.4746826164\n",
            "Gen 1292: 888698.8637555264\n",
            "Gen 1293: 888820.1872794533\n",
            "Gen 1294: 888922.1162609125\n",
            "Gen 1295: 888849.5555480043\n",
            "Gen 1296: 888910.8475221463\n",
            "Gen 1297: 888748.128035194\n",
            "Gen 1298: 888783.2127076113\n",
            "Gen 1299: 888636.1156943601\n",
            "Gen 1300: 888974.1621469756\n",
            "Gen 1301: 888927.4361348974\n",
            "Gen 1302: 888711.4824303625\n",
            "Gen 1303: 888845.8367629364\n",
            "Gen 1304: 888441.5189388146\n",
            "Gen 1305: 888606.687271941\n",
            "Gen 1306: 888659.0241086764\n",
            "Gen 1307: 888653.9977716855\n",
            "Gen 1308: 888636.3073796232\n",
            "Gen 1309: 888676.7718346588\n",
            "Gen 1310: 888576.5404395323\n",
            "Gen 1311: 888557.5419721453\n",
            "Gen 1312: 888543.2570655551\n",
            "Gen 1313: 888549.773299002\n",
            "Gen 1314: 888606.1749883412\n",
            "Gen 1315: 888730.8262297931\n",
            "Gen 1316: 888607.2259254023\n",
            "Gen 1317: 888810.5529150803\n",
            "Gen 1318: 888560.1683022656\n",
            "Gen 1319: 888663.1362789302\n",
            "Gen 1320: 888794.0638793395\n",
            "Gen 1321: 888947.9405121144\n",
            "Gen 1322: 888886.2001676159\n",
            "Gen 1323: 888711.989056325\n",
            "Gen 1324: 888763.0906545109\n",
            "Gen 1325: 888818.3224373738\n",
            "Gen 1326: 888530.3612171075\n",
            "Gen 1327: 888576.4494725651\n",
            "Gen 1328: 888449.5025369655\n",
            "Gen 1329: 888472.7327629084\n",
            "Gen 1330: 888626.3170755212\n",
            "Gen 1331: 888695.8484641433\n",
            "Gen 1332: 888870.7159598867\n",
            "Gen 1333: 888874.7589301356\n",
            "Gen 1334: 888946.574924256\n",
            "Gen 1335: 889031.2667567383\n",
            "Gen 1336: 888987.277627285\n",
            "Gen 1337: 888923.1567957748\n",
            "Gen 1338: 888953.3714999305\n",
            "Gen 1339: 889018.4237624565\n",
            "Gen 1340: 889083.2926744658\n",
            "Gen 1341: 889145.3616404788\n",
            "Gen 1342: 889136.1646063604\n",
            "Gen 1343: 889116.8215879768\n",
            "Gen 1344: 888968.2078379556\n",
            "Gen 1345: 889057.4406903507\n",
            "Gen 1346: 888945.1737845187\n",
            "Gen 1347: 889034.687361531\n",
            "Gen 1348: 889119.5019505211\n",
            "Gen 1349: 888859.4833177452\n",
            "Gen 1350: 888960.6891319301\n",
            "Gen 1351: 889007.3886052133\n",
            "Gen 1352: 888766.7698095255\n",
            "Gen 1353: 888842.3371824013\n",
            "Gen 1354: 888787.8979717211\n",
            "Gen 1355: 888750.2862475123\n",
            "Gen 1356: 888764.2464426252\n",
            "Gen 1357: 888810.215304014\n",
            "Gen 1358: 888965.759894899\n",
            "Gen 1359: 889068.0444042942\n",
            "Gen 1360: 888826.1480822555\n",
            "Gen 1361: 888745.7745899737\n",
            "Gen 1362: 888925.1198573513\n",
            "Gen 1363: 888900.9970982983\n",
            "Gen 1364: 889060.0112286718\n",
            "Gen 1365: 889066.6382834461\n",
            "Gen 1366: 889085.4915877085\n",
            "Gen 1367: 889004.6379412543\n",
            "Gen 1368: 888965.1148312495\n",
            "Gen 1369: 888964.9735722321\n",
            "Gen 1370: 888761.9591900354\n",
            "Gen 1371: 888693.4226358467\n",
            "Gen 1372: 888809.4328794283\n",
            "Gen 1373: 889008.0743053174\n",
            "Gen 1374: 888838.3209510524\n",
            "Gen 1375: 888949.4325556074\n",
            "Gen 1376: 889106.1183283561\n",
            "Gen 1377: 889118.1805576942\n",
            "Gen 1378: 889028.6257225617\n",
            "Gen 1379: 889076.6535713468\n",
            "Gen 1380: 888977.7748056736\n",
            "Gen 1381: 888926.4411896742\n",
            "Gen 1382: 889067.3296543002\n",
            "Gen 1383: 888973.8573345047\n",
            "Gen 1384: 889266.6090828648\n",
            "Gen 1385: 889308.182329114\n",
            "Gen 1386: 889329.7820231816\n",
            "Gen 1387: 889190.3131295714\n",
            "Gen 1388: 889014.9718351468\n",
            "Gen 1389: 889022.8471684053\n",
            "Gen 1390: 889101.831237537\n",
            "Gen 1391: 889186.3313052586\n",
            "Gen 1392: 889283.7925190849\n",
            "Gen 1393: 889129.7839850561\n",
            "Gen 1394: 889076.0562924449\n",
            "Gen 1395: 888826.345772154\n",
            "Gen 1396: 888862.6164021882\n",
            "Gen 1397: 888807.6807874555\n",
            "Gen 1398: 888609.9402266939\n",
            "Gen 1399: 888732.7681945892\n",
            "Gen 1400: 888856.409447603\n",
            "Gen 1401: 888904.1562119371\n",
            "Gen 1402: 888886.5098514828\n",
            "Gen 1403: 888693.1022598511\n",
            "Gen 1404: 888728.7321979717\n",
            "Gen 1405: 888717.2956062244\n",
            "Gen 1406: 888903.0745681765\n",
            "Gen 1407: 888740.1376565626\n",
            "Gen 1408: 888679.0027214293\n",
            "Gen 1409: 888864.8483208946\n",
            "Gen 1410: 888721.5550777349\n",
            "Gen 1411: 888745.71248379\n",
            "Gen 1412: 888882.1723405061\n",
            "Gen 1413: 888841.3402458373\n",
            "Gen 1414: 888853.6575902761\n",
            "Gen 1415: 888643.8708687667\n",
            "Gen 1416: 888573.2982217107\n",
            "Gen 1417: 888757.2940423223\n",
            "Gen 1418: 888643.8797410829\n",
            "Gen 1419: 888728.9666224414\n",
            "Gen 1420: 888470.0789830419\n",
            "Gen 1421: 888442.1081874615\n",
            "Gen 1422: 888461.149532396\n",
            "Gen 1423: 888567.6461071356\n",
            "Gen 1424: 888689.8096124295\n",
            "Gen 1425: 888647.4080550753\n",
            "Gen 1426: 888756.2883498993\n",
            "Gen 1427: 888445.0462964594\n",
            "Gen 1428: 888536.9883288671\n",
            "Gen 1429: 888448.7336798114\n",
            "Gen 1430: 888618.8991907873\n",
            "Gen 1431: 888805.618210717\n",
            "Gen 1432: 888594.7703549616\n",
            "Gen 1433: 888597.8581892048\n",
            "Gen 1434: 888806.3848837551\n",
            "Gen 1435: 888892.3125816152\n",
            "Gen 1436: 888963.3200977781\n",
            "Gen 1437: 888947.7396067996\n",
            "Gen 1438: 888785.3035194906\n",
            "Gen 1439: 888848.4239318372\n",
            "Gen 1440: 888948.1735341713\n",
            "Gen 1441: 888927.5652998283\n",
            "Gen 1442: 888818.4554430662\n",
            "Gen 1443: 888862.9158402035\n",
            "Gen 1444: 888840.0220232618\n",
            "Gen 1445: 888832.971598843\n",
            "Gen 1446: 888829.1457048247\n",
            "Gen 1447: 888914.6368004567\n",
            "Gen 1448: 888802.595018926\n",
            "Gen 1449: 888840.5845403934\n",
            "Gen 1450: 888917.0297941882\n",
            "Gen 1451: 888782.7318333251\n",
            "Gen 1452: 888862.4313826442\n",
            "Gen 1453: 888969.7561981431\n",
            "Gen 1454: 888604.2434639544\n",
            "Gen 1455: 888855.4359843826\n",
            "Gen 1456: 888680.1827170886\n",
            "Gen 1457: 888866.5555036624\n",
            "Gen 1458: 888754.6446025732\n",
            "Gen 1459: 888800.2172783113\n",
            "Gen 1460: 888793.581670161\n",
            "Gen 1461: 888859.8066912182\n",
            "Gen 1462: 888792.2020140846\n",
            "Gen 1463: 888754.2131100063\n",
            "Gen 1464: 889004.5514331972\n",
            "Gen 1465: 888943.3905072759\n",
            "Gen 1466: 888953.4378328356\n",
            "Gen 1467: 888971.4095765287\n",
            "Gen 1468: 888767.8881506948\n",
            "Gen 1469: 889077.6728765692\n",
            "Gen 1470: 889091.765523089\n",
            "Gen 1471: 888842.8477421808\n",
            "Gen 1472: 889013.3681674565\n",
            "Gen 1473: 888829.1990544945\n",
            "Gen 1474: 888876.0505469035\n",
            "Gen 1475: 889004.8255744362\n",
            "Gen 1476: 888967.7825360427\n",
            "Gen 1477: 888755.6549021143\n",
            "Gen 1478: 888694.5458645826\n",
            "Gen 1479: 888733.9701262532\n",
            "Gen 1480: 888766.6871022646\n",
            "Gen 1481: 888714.4970365893\n",
            "Gen 1482: 888836.1413030294\n",
            "Gen 1483: 888675.1773130293\n",
            "Gen 1484: 888697.6463619965\n",
            "Gen 1485: 888906.2591568767\n",
            "Gen 1486: 888947.6503385443\n",
            "Gen 1487: 888809.9452900663\n",
            "Gen 1488: 888792.0438982134\n",
            "Gen 1489: 888867.1526244392\n",
            "Gen 1490: 888898.4445105724\n",
            "Gen 1491: 888853.1906180219\n",
            "Gen 1492: 888959.3551473329\n",
            "Gen 1493: 888852.8563380565\n",
            "Gen 1494: 888946.4535603422\n",
            "Gen 1495: 888853.6909950875\n",
            "Gen 1496: 888789.0202454978\n",
            "Gen 1497: 888700.1859055947\n",
            "Gen 1498: 888791.7811998595\n",
            "Gen 1499: 888658.0230975639\n",
            "Meilleur chemin: [12, 259, 52, 296, 654, 488, 194, 97, 269, 307, 126, 693, 412, 392, 182, 328, 703, 42, 318, 652, 225, 706, 330, 267, 592, 428, 276, 419, 266, 612, 481, 174, 31, 91, 215, 285, 272, 504, 86, 416, 468, 764, 427, 240, 9, 429, 740, 474, 190, 301, 403, 487, 20, 19, 360, 469, 138, 65, 353, 755, 10, 62, 186, 540, 561, 767, 230, 623, 594, 560, 77, 278, 396, 342, 564, 753, 687, 36, 476, 573, 529, 367, 760, 697, 89, 256, 157, 711, 84, 312, 228, 691, 177, 448, 28, 72, 348, 74, 128, 326, 331, 407, 734, 646, 351, 111, 365, 580, 268, 156, 148, 163, 527, 544, 203, 456, 658, 168, 484, 398, 227, 377, 26, 720, 164, 664, 497, 355, 322, 219, 300, 495, 471, 73, 684, 492, 519, 390, 727, 520, 143, 5, 105, 152, 745, 641, 201, 192, 25, 200, 707, 534, 189, 762, 103, 590, 131, 729, 718, 442, 675, 369, 485, 287, 280, 668, 207, 144, 742, 477, 701, 613, 676, 524, 132, 437, 60, 705, 433, 59, 297, 598, 567, 27, 238, 537, 275, 34, 21, 447, 130, 49, 715, 557, 37, 648, 472, 450, 680, 630, 717, 593, 323, 216, 18, 61, 184, 635, 56, 751, 414, 415, 538, 78, 491, 221, 634, 241, 299, 712, 657, 173, 665, 233, 211, 133, 137, 574, 231, 343, 672, 314, 388, 562, 382, 523, 149, 374, 589, 457, 386, 234, 619, 417, 547, 375, 757, 291, 90, 364, 756, 141, 120, 313, 662, 670, 466, 6, 728, 3, 341, 411, 402, 134, 445, 400, 501, 80, 23, 603, 329, 473, 320, 671, 763, 69, 679, 226, 223, 245, 629, 251, 384, 418, 568, 310, 178, 446, 146, 325, 443, 765, 530, 193, 582, 68, 539, 361, 458, 371, 410, 535, 110, 357, 349, 198, 463, 383, 212, 614, 533, 583, 39, 273, 79, 405, 260, 413, 356, 75, 55, 236, 608, 7, 615, 139, 288, 498, 682, 263, 127, 16, 295, 64, 585, 244, 321, 510, 345, 695, 591, 167, 719, 293, 246, 95, 106, 150, 588, 735, 584, 0, 171, 651, 96, 98, 344, 643, 261, 237, 264, 337, 723, 502, 45, 368, 738, 289, 279, 432, 479, 724, 232, 404, 692, 605, 441, 362, 242, 702, 248, 124, 522, 644, 213, 93, 500, 136, 752, 112, 637, 316, 733, 656, 489, 493, 746, 546, 67, 552, 118, 747, 282, 222, 708, 165, 210, 319, 70, 83, 142, 185, 333, 683, 205, 667, 572, 653, 308, 46, 380, 453, 624, 579, 389, 161, 284, 359, 459, 274, 147, 525, 286, 512, 528, 758, 160, 53, 204, 187, 352, 335, 347, 109, 40, 506, 625, 438, 305, 431, 581, 100, 44, 633, 731, 521, 48, 578, 514, 596, 379, 191, 739, 505, 606, 616, 315, 425, 265, 607, 761, 461, 470, 690, 420, 617, 373, 563, 294, 101, 54, 338, 381, 117, 532, 214, 395, 449, 696, 302, 576, 397, 620, 57, 202, 609, 508, 209, 35, 749, 704, 577, 107, 172, 424, 545, 748, 659, 736, 324, 339, 639, 685, 121, 2, 480, 714, 509, 281, 334, 253, 571, 81, 391, 123, 154, 673, 409, 444, 51, 1, 179, 114, 262, 475, 548, 602, 239, 372, 317, 290, 306, 622, 518, 647, 298, 270, 113, 24, 249, 499, 370, 597, 744, 363, 180, 661, 422, 709, 482, 423, 115, 50, 87, 649, 183, 650, 387, 218, 58, 271, 570, 678, 250, 14, 750, 358, 595, 85, 604, 426, 462, 140, 490, 611, 699, 494, 621, 681, 71, 655, 63, 252, 553, 716, 452, 686, 153, 599, 304, 176, 15, 645, 243, 743, 725, 119, 38, 145, 434, 151, 199, 439, 421, 496, 551, 277, 122, 258, 311, 460, 636, 549, 8, 455, 669, 730, 309, 507, 129, 29, 754, 159, 467, 166, 175, 32, 666, 108, 536, 155, 88, 440, 366, 125, 526, 722, 17, 515, 393, 41, 642, 516, 542, 66, 196, 82, 13, 436, 541, 610, 385, 688, 618, 206, 559, 94, 30, 628, 713, 698, 116, 229, 503, 158, 430, 766, 631, 531, 454, 554, 336, 478, 556, 76, 188, 376, 435, 255, 517, 220, 575, 732, 632, 104, 47, 170, 600, 513, 737, 550, 759, 162, 674, 663, 224, 43, 4, 350, 332, 627, 217, 292, 689, 399, 511, 99, 726, 283, 346, 677, 566, 408, 543, 486, 257, 638, 558, 254, 135, 694, 587, 465, 303, 710, 451, 102, 586, 208, 235, 660, 483, 247, 197, 33, 22, 626, 92, 406, 327, 181, 394, 721, 195, 464, 354, 169, 565, 401, 11, 569, 378, 640, 601, 741, 700, 340, 555]\n",
            "Distance: 887804.0923219684\n"
          ]
        }
      ],
      "source": [
        "def fitness(path, abs_corr_matrix):\n",
        "    N = len(path)\n",
        "    distance = 0\n",
        "    for ia, dim_a in enumerate(path):\n",
        "        for ib, dim_b in enumerate(path):\n",
        "            ang_a = ia / N * 2 * np.pi\n",
        "            ang_b = ib / N * 2 * np.pi\n",
        "            ang_dist = np.pi - abs(np.pi - abs(ang_a - ang_b)) # Distance angulaire bornée par Pi\n",
        "            expected_dist = max(np.pi - 2*np.pi*abs_corr_matrix[dim_a, dim_b], 0) # Distance angulaire attendue\n",
        "            distance += (ang_dist - expected_dist) ** 2 # cout erreur quadratique\n",
        "    return distance\n",
        "\n",
        "def crossover(parent1, parent2):\n",
        "    \"\"\"Effectue un croisement en prenant un sous-chemin de parent1 et complète avec parent2.\"\"\"\n",
        "    # Sélectionne un sous-chemin aléatoire de parent1\n",
        "    start, end = random.sample(range(len(parent1)), 2)\n",
        "    \n",
        "    # Crée un enfant en copiant le sous-chemin de parent1\n",
        "    child = [-1]*len(parent1)\n",
        "    if start <= end:\n",
        "        for i in range(start, end + 1):\n",
        "            child[i] = parent1[i]\n",
        "    else:\n",
        "        for i in range(start, len(parent1)):\n",
        "            child[i] = parent1[i]\n",
        "        for i in range(0, end + 1):\n",
        "            child[i] = parent1[i]\n",
        "\n",
        "    # Complète l'enfant avec les éléments de parent2\n",
        "    pointer = 0\n",
        "    for i in range(len(child)):\n",
        "        if child[i] == -1:\n",
        "            while parent2[pointer] in child:\n",
        "                pointer += 1\n",
        "            child[i] = parent2[pointer]\n",
        "            pointer += 1\n",
        "\n",
        "    return child\n",
        "\n",
        "def mutate(path, mutation_rate, abs_corr_matrix, top_n):\n",
        "    \"\"\"Déplace quelques éléments du chemin à une autre position plus adaptée.\"\"\"\n",
        "    # Choose random elements to remove from the path\n",
        "    selected_elems = [elem for elem in path if random.random() < mutation_rate]\n",
        "    new_path = [elem for elem in path if elem not in selected_elems]\n",
        "\n",
        "    # Insert the removed elements at random best position\n",
        "    for elem in selected_elems:\n",
        "\n",
        "        # Compute the score of each position\n",
        "        scores = []\n",
        "        for i in range(len(new_path)):\n",
        "            prev = new_path[i]\n",
        "            next = new_path[(i+1)%len(new_path)]\n",
        "            scores += [abs_corr_matrix[prev, elem] + abs_corr_matrix[elem, next]]\n",
        "\n",
        "        # Select the top_n best positions\n",
        "        ranked_indices = np.argsort(scores)[-top_n:] # Index of the top_n positions\n",
        "        ranked_scores = np.sort(scores)[-top_n:] # Score of the top_n positions\n",
        "\n",
        "        # Normalize the scores to get a probability distribution\n",
        "        proba = ranked_scores / np.sum(ranked_scores)\n",
        "\n",
        "        # Choose a position according to the probability distribution\n",
        "        new_pos = np.random.choice(ranked_indices, p=proba)\n",
        "        new_path.insert(new_pos, elem)\n",
        "    \n",
        "    return new_path\n",
        "\n",
        "def genetic_algorithm(abs_corr_matrix, population_size, generations, mutation_rate, top_n_mutate, top_n_parents):\n",
        "    \"\"\"Effectue l'algorithme génétique pour le TSP.\"\"\"\n",
        "    \n",
        "    # Génère une population initiale de chemins aléatoires\n",
        "    population = [list(np.random.permutation(len(abs_corr_matrix))) for _ in range(population_size)]\n",
        "    best_distance = np.inf\n",
        "    best_path = None\n",
        "\n",
        "    for generation in range(generations):\n",
        "        # Évalue la fitness de chaque individu\n",
        "        distances = [fitness(path, abs_corr_matrix) for path in population]\n",
        "        ranked_indices = np.argsort(distances)\n",
        "        print(f\"Gen {generation}: {min(distances)}\")\n",
        "        #print('scores', distances)\n",
        "\n",
        "        # Sauvegarde le meilleur individu si meilleur que courant\n",
        "        if min(distances) < best_distance:\n",
        "            best_distance = min(distances)\n",
        "            best_path = population[np.argmin(distances)]\n",
        "\n",
        "        # Sélection des parents pour le croisement\n",
        "        parents = [population[i] for i in ranked_indices[:top_n_parents]]\n",
        "        #print('parents', parents)\n",
        "\n",
        "        # Création de la nouvelle population\n",
        "        new_population = [p for p in parents] # Copie les parents\n",
        "        while len(new_population) < population_size:\n",
        "            parent1, parent2 = random.sample(parents, 2)\n",
        "            child = crossover(parent1, parent2)\n",
        "            new_population.append(child)\n",
        "\n",
        "        # Appliquer la mutation\n",
        "        population = [mutate(path, mutation_rate, abs_corr_matrix, top_n_mutate) for path in new_population]\n",
        "\n",
        "    # Renvoie le meilleur chemin trouvé\n",
        "    return best_path, best_distance\n",
        "\n",
        "path, distance = genetic_algorithm(\n",
        "    # corr_matrix=correlation_matrix,\n",
        "    abs_corr_matrix=abs_corr_matrix, \n",
        "    population_size=100, \n",
        "    generations=1500, \n",
        "    mutation_rate=0.01, \n",
        "    top_n_mutate=5, \n",
        "    top_n_parents=10,\n",
        ")\n",
        "\n",
        "print(\"Meilleur chemin:\", path)\n",
        "print(\"Distance:\", distance)\n",
        "\n",
        "with open('path.txt', 'w') as f:\n",
        "    f.write(str(path) + '\\n')\n",
        "    f.write(str(distance))"
      ]
    },
    {
      "cell_type": "markdown",
      "metadata": {
        "id": "Dp4veVDBW321"
      },
      "source": [
        "# Radar Chart (absolute correlation)"
      ]
    },
    {
      "cell_type": "code",
      "execution_count": 9,
      "metadata": {},
      "outputs": [
        {
          "name": "stdout",
          "output_type": "stream",
          "text": [
            "[1, 1, 1, 1, 1, 1, 1, -1, 1, -1, 1, -1, -1, -1, 1, -1, -1, -1, 1, -1, -1, 1, -1, 1, -1, -1, -1, -1, 1, -1, 1, 1, 1, 1, 1, 1, -1, 1, -1, 1, 1, 1, -1, -1, -1, -1, 1, -1, 1, -1, 1, -1, -1, 1, -1, 1, 1, 1, 1, 1, 1, 1, 1, 1, -1, -1, 1, -1, 1, 1, 1, 1, 1, -1, 1, -1, 1, -1, 1, -1, -1, 1, 1, 1, 1, 1, 1, 1, -1, 1, 1, -1, 1, 1, -1, 1, 1, -1, -1, 1, -1, 1, -1, 1, -1, -1, -1, -1, 1, -1, 1, 1, -1, -1, 1, 1, 1, 1, -1, 1, -1, -1, -1, -1, 1, 1, -1, -1, 1, -1, -1, -1, 1, 1, -1, 1, 1, -1, -1, -1, 1, -1, -1, 1, -1, -1, -1, -1, -1, -1, 1, 1, -1, 1, -1, -1, -1, -1, -1, 1, -1, -1, -1, -1, 1, -1, 1, -1, -1, 1, 1, 1, -1, 1, 1, 1, 1, -1, -1, -1, -1, 1, -1, -1, 1, -1, 1, 1, 1, -1, -1, -1, 1, -1, -1, -1, 1, 1, 1, -1, 1, -1, 1, 1, -1, 1, 1, 1, -1, 1, -1, 1, -1, 1, 1, -1, -1, 1, 1, -1, -1, -1, 1, -1, -1, -1, -1, 1, 1, 1, -1, 1, -1, 1, -1, -1, 1, -1, 1, -1, 1, -1, 1, -1, 1, 1, 1, -1, 1, -1, -1, -1, 1, -1, 1, 1, 1, 1, -1, 1, -1, 1, -1, -1, 1, -1, 1, 1, 1, 1, -1, -1, -1, -1, -1, 1, -1, 1, -1, -1, -1, 1, 1, -1, -1, -1, 1, 1, 1, 1, 1, -1, 1, -1, 1, 1, -1, 1, 1, -1, -1, 1, -1, 1, 1, -1, -1, 1, -1, 1, 1, -1, -1, 1, -1, 1, -1, 1, -1, 1, -1, -1, 1, -1, -1, 1, -1, -1, -1, 1, 1, 1, -1, 1, 1, 1, -1, 1, -1, -1, -1, -1, 1, -1, -1, 1, 1, 1, -1, 1, -1, -1, 1, -1, 1, -1, -1, 1, 1, 1, 1, 1, 1, 1, 1, -1, 1, -1, 1, -1, 1, -1, -1, -1, 1, -1, 1, 1, 1, -1, 1, -1, 1, 1, 1, 1, -1, 1, -1, -1, 1, -1, 1, -1, -1, 1, 1, 1, -1, 1, -1, -1, 1, 1, -1, -1, -1, -1, 1, -1, -1, -1, 1, -1, -1, 1, -1, 1, 1, 1, -1, 1, 1, -1, 1, -1, -1, -1, -1, -1, 1, -1, -1, 1, 1, -1, -1, 1, -1, 1, -1, 1, 1, -1, -1, 1, -1, 1, 1, 1, -1, 1, -1, 1, 1, -1, 1, 1, 1, -1, -1, 1, -1, 1, 1, -1, 1, 1, 1, 1, 1, -1, -1, 1, 1, -1, -1, -1, 1, -1, 1, 1, -1, -1, -1, 1, -1, -1, 1, 1, -1, 1, 1, 1, -1, 1, 1, 1, 1, 1, 1, -1, -1, -1, -1, -1, 1, -1, -1, 1, 1, -1, -1, -1, 1, -1, -1, -1, -1, 1, 1, -1, -1, -1, 1, -1, -1, -1, 1, 1, -1, -1, 1, 1, 1, 1, -1, 1, -1, -1, -1, -1, 1, -1, 1, -1, 1, -1, -1, -1, 1, -1, -1, 1, 1, 1, -1, 1, -1, 1, 1, 1, -1, 1, 1, 1, 1, 1, -1, -1, -1, 1, 1, 1, 1, -1, 1, -1, 1, 1, 1, 1, -1, 1, -1, 1, 1, -1, 1, -1, 1, 1, 1, -1, -1, 1, 1, 1, 1, -1, 1, -1, -1, 1, 1, -1, -1, -1, -1, 1, 1, 1, -1, -1, -1, 1, -1, 1, -1, -1, 1, -1, -1, 1, -1, 1, 1, 1, -1, 1, -1, 1, 1, -1, 1, -1, 1, -1, 1, 1, -1, 1, -1, 1, 1, 1, -1, -1, -1, 1, -1, 1, -1, -1, 1, -1, -1, -1, -1, -1, -1, 1, -1, -1, 1, 1, 1, -1, 1, -1, 1, -1, 1, -1, -1, 1, -1, 1, -1, 1, 1, 1, -1, -1, -1, 1, -1, 1, 1, -1, 1, 1, -1, -1, -1, 1, -1, 1, 1, 1, -1, -1, -1, -1, 1, -1, 1, 1, 1, -1, -1, 1, -1, 1, 1, -1, 1, -1, -1, 1, -1, -1, -1, 1, 1, -1, -1, -1, 1, -1, -1, -1, 1, -1, -1, -1, 1, 1, 1, 1, -1, -1, -1, -1, -1, 1, 1, 1, -1, -1, -1, -1, -1, -1, -1, -1, -1, -1, 1, 1, -1, 1, -1, 1, 1, -1, -1, 1, 1]\n"
          ]
        }
      ],
      "source": [
        "# Load path\n",
        "with open('path.txt', 'r') as f:\n",
        "    path = eval(f.readline())\n",
        "\n",
        "# Load vocab_emb_matrix\n",
        "vocab_emb_matrix = np.load('vocab_emb_matrix.npy')\n",
        "\n",
        "# Load the correlation matrix\n",
        "correlation_matrix = np.load('correlation_matrix.npy')\n",
        "\n",
        "# Compute coef for each value in the path\n",
        "coefs = [1] # List that contains values {1, -1} for each value in the path\n",
        "current_coef = 1\n",
        "for i in range(len(path)):\n",
        "    current = path[i]\n",
        "    next = path[(i+1)%len(path)]\n",
        "    next_coef = int(np.sign(correlation_matrix[current, next]))\n",
        "    coefs += [current_coef * next_coef]\n",
        "    current_coef = next_coef\n",
        "\n",
        "print(coefs)"
      ]
    },
    {
      "cell_type": "code",
      "execution_count": 10,
      "metadata": {},
      "outputs": [
        {
          "data": {
            "application/vnd.plotly.v1+json": {
              "config": {
                "plotlyServerURL": "https://plot.ly"
              },
              "data": [
                {
                  "hovertemplate": "variable=0<br>index=%{x}<br>value=%{y}<extra></extra>",
                  "legendgroup": "0",
                  "line": {
                    "color": "#636efa",
                    "dash": "solid"
                  },
                  "marker": {
                    "symbol": "circle"
                  },
                  "mode": "lines",
                  "name": "0",
                  "orientation": "v",
                  "showlegend": true,
                  "type": "scatter",
                  "x": [
                    0,
                    1,
                    2,
                    3,
                    4,
                    5,
                    6,
                    7,
                    8,
                    9,
                    10,
                    11,
                    12,
                    13,
                    14,
                    15,
                    16,
                    17,
                    18,
                    19,
                    20,
                    21,
                    22,
                    23,
                    24,
                    25,
                    26,
                    27,
                    28,
                    29,
                    30,
                    31,
                    32,
                    33,
                    34,
                    35,
                    36,
                    37,
                    38,
                    39,
                    40,
                    41,
                    42,
                    43,
                    44,
                    45,
                    46,
                    47,
                    48,
                    49,
                    50,
                    51,
                    52,
                    53,
                    54,
                    55,
                    56,
                    57,
                    58,
                    59,
                    60,
                    61,
                    62,
                    63,
                    64,
                    65,
                    66,
                    67,
                    68,
                    69,
                    70,
                    71,
                    72,
                    73,
                    74,
                    75,
                    76,
                    77,
                    78,
                    79,
                    80,
                    81,
                    82,
                    83,
                    84,
                    85,
                    86,
                    87,
                    88,
                    89,
                    90,
                    91,
                    92,
                    93,
                    94,
                    95,
                    96,
                    97,
                    98,
                    99,
                    100,
                    101,
                    102,
                    103,
                    104,
                    105,
                    106,
                    107,
                    108,
                    109,
                    110,
                    111,
                    112,
                    113,
                    114,
                    115,
                    116,
                    117,
                    118,
                    119,
                    120,
                    121,
                    122,
                    123,
                    124,
                    125,
                    126,
                    127
                  ],
                  "xaxis": "x",
                  "y": [
                    0.0044318484119380075,
                    0.0050954251765884155,
                    0.005845500468006694,
                    0.006691272400599494,
                    0.0076426058187464025,
                    0.008710036012445266,
                    0.009904765099539109,
                    0.01123865008400194,
                    0.012724181596831433,
                    0.014374452341354899,
                    0.016203114300393225,
                    0.018224323820761695,
                    0.0204526737727814,
                    0.02290311209026528,
                    0.02559084613085239,
                    0.02853123245812904,
                    0.03173965183566742,
                    0.035231369438269634,
                    0.03902138052597502,
                    0.04312424208967724,
                    0.04755389126063963,
                    0.05232345157614031,
                    0.05744502850548769,
                    0.06292949595953445,
                    0.0687862758266919,
                    0.07502311289278962,
                    0.08164584780389299,
                    0.08865819101294195,
                    0.09606150090511335,
                    0.10385456951536318,
                    0.11203341942700748,
                    0.12059111556509673,
                    0.12951759566589174,
                    0.13879952320786465,
                    0.1484201665251779,
                    0.1583593076875465,
                    0.16859318451811514,
                    0.17909446883234686,
                    0.189832283616435,
                    0.20077226142568008,
                    0.21187664577569948,
                    0.22310443672817257,
                    0.23441158124578176,
                    0.245751208217532,
                    0.25707390734673474,
                    0.26832805036206686,
                    0.2794601522708544,
                    0.2904152696375949,
                    0.30113743215480443,
                    0.3115701030928869,
                    0.3216566635860753,
                    0.331340915147292,
                    0.3405675943198307,
                    0.34928289298062887,
                    0.3574349775195373,
                    0.36497449994040165,
                    0.37185509386976895,
                    0.3780338485219678,
                    0.38347175385694454,
                    0.3881341104785827,
                    0.39199089825257194,
                    0.3950170981677671,
                    0.39719296261432385,
                    0.39850422999422597,
                    0.3989422804014327,
                    0.39850422999422597,
                    0.39719296261432385,
                    0.3950170981677671,
                    0.39199089825257194,
                    0.3881341104785827,
                    0.38347175385694454,
                    0.3780338485219678,
                    0.37185509386976895,
                    0.36497449994040165,
                    0.3574349775195373,
                    0.34928289298062887,
                    0.3405675943198307,
                    0.331340915147292,
                    0.3216566635860753,
                    0.3115701030928869,
                    0.30113743215480443,
                    0.2904152696375949,
                    0.2794601522708544,
                    0.26832805036206686,
                    0.25707390734673474,
                    0.245751208217532,
                    0.23441158124578176,
                    0.22310443672817257,
                    0.21187664577569948,
                    0.20077226142568008,
                    0.189832283616435,
                    0.17909446883234686,
                    0.16859318451811514,
                    0.1583593076875465,
                    0.1484201665251779,
                    0.13879952320786465,
                    0.12951759566589174,
                    0.12059111556509673,
                    0.11203341942700748,
                    0.10385456951536318,
                    0.09606150090511335,
                    0.08865819101294195,
                    0.08164584780389299,
                    0.07502311289278962,
                    0.0687862758266919,
                    0.06292949595953445,
                    0.05744502850548769,
                    0.05232345157614031,
                    0.04755389126063963,
                    0.04312424208967724,
                    0.03902138052597502,
                    0.035231369438269634,
                    0.03173965183566742,
                    0.02853123245812904,
                    0.02559084613085239,
                    0.02290311209026528,
                    0.0204526737727814,
                    0.018224323820761695,
                    0.016203114300393225,
                    0.014374452341354899,
                    0.012724181596831433,
                    0.01123865008400194,
                    0.009904765099539109,
                    0.008710036012445266,
                    0.0076426058187464025,
                    0.006691272400599494,
                    0.005845500468006694,
                    0.0050954251765884155
                  ],
                  "yaxis": "y"
                }
              ],
              "layout": {
                "legend": {
                  "title": {
                    "text": "variable"
                  },
                  "tracegroupgap": 0
                },
                "margin": {
                  "t": 60
                },
                "template": {
                  "data": {
                    "bar": [
                      {
                        "error_x": {
                          "color": "#2a3f5f"
                        },
                        "error_y": {
                          "color": "#2a3f5f"
                        },
                        "marker": {
                          "line": {
                            "color": "#E5ECF6",
                            "width": 0.5
                          },
                          "pattern": {
                            "fillmode": "overlay",
                            "size": 10,
                            "solidity": 0.2
                          }
                        },
                        "type": "bar"
                      }
                    ],
                    "barpolar": [
                      {
                        "marker": {
                          "line": {
                            "color": "#E5ECF6",
                            "width": 0.5
                          },
                          "pattern": {
                            "fillmode": "overlay",
                            "size": 10,
                            "solidity": 0.2
                          }
                        },
                        "type": "barpolar"
                      }
                    ],
                    "carpet": [
                      {
                        "aaxis": {
                          "endlinecolor": "#2a3f5f",
                          "gridcolor": "white",
                          "linecolor": "white",
                          "minorgridcolor": "white",
                          "startlinecolor": "#2a3f5f"
                        },
                        "baxis": {
                          "endlinecolor": "#2a3f5f",
                          "gridcolor": "white",
                          "linecolor": "white",
                          "minorgridcolor": "white",
                          "startlinecolor": "#2a3f5f"
                        },
                        "type": "carpet"
                      }
                    ],
                    "choropleth": [
                      {
                        "colorbar": {
                          "outlinewidth": 0,
                          "ticks": ""
                        },
                        "type": "choropleth"
                      }
                    ],
                    "contour": [
                      {
                        "colorbar": {
                          "outlinewidth": 0,
                          "ticks": ""
                        },
                        "colorscale": [
                          [
                            0,
                            "#0d0887"
                          ],
                          [
                            0.1111111111111111,
                            "#46039f"
                          ],
                          [
                            0.2222222222222222,
                            "#7201a8"
                          ],
                          [
                            0.3333333333333333,
                            "#9c179e"
                          ],
                          [
                            0.4444444444444444,
                            "#bd3786"
                          ],
                          [
                            0.5555555555555556,
                            "#d8576b"
                          ],
                          [
                            0.6666666666666666,
                            "#ed7953"
                          ],
                          [
                            0.7777777777777778,
                            "#fb9f3a"
                          ],
                          [
                            0.8888888888888888,
                            "#fdca26"
                          ],
                          [
                            1,
                            "#f0f921"
                          ]
                        ],
                        "type": "contour"
                      }
                    ],
                    "contourcarpet": [
                      {
                        "colorbar": {
                          "outlinewidth": 0,
                          "ticks": ""
                        },
                        "type": "contourcarpet"
                      }
                    ],
                    "heatmap": [
                      {
                        "colorbar": {
                          "outlinewidth": 0,
                          "ticks": ""
                        },
                        "colorscale": [
                          [
                            0,
                            "#0d0887"
                          ],
                          [
                            0.1111111111111111,
                            "#46039f"
                          ],
                          [
                            0.2222222222222222,
                            "#7201a8"
                          ],
                          [
                            0.3333333333333333,
                            "#9c179e"
                          ],
                          [
                            0.4444444444444444,
                            "#bd3786"
                          ],
                          [
                            0.5555555555555556,
                            "#d8576b"
                          ],
                          [
                            0.6666666666666666,
                            "#ed7953"
                          ],
                          [
                            0.7777777777777778,
                            "#fb9f3a"
                          ],
                          [
                            0.8888888888888888,
                            "#fdca26"
                          ],
                          [
                            1,
                            "#f0f921"
                          ]
                        ],
                        "type": "heatmap"
                      }
                    ],
                    "heatmapgl": [
                      {
                        "colorbar": {
                          "outlinewidth": 0,
                          "ticks": ""
                        },
                        "colorscale": [
                          [
                            0,
                            "#0d0887"
                          ],
                          [
                            0.1111111111111111,
                            "#46039f"
                          ],
                          [
                            0.2222222222222222,
                            "#7201a8"
                          ],
                          [
                            0.3333333333333333,
                            "#9c179e"
                          ],
                          [
                            0.4444444444444444,
                            "#bd3786"
                          ],
                          [
                            0.5555555555555556,
                            "#d8576b"
                          ],
                          [
                            0.6666666666666666,
                            "#ed7953"
                          ],
                          [
                            0.7777777777777778,
                            "#fb9f3a"
                          ],
                          [
                            0.8888888888888888,
                            "#fdca26"
                          ],
                          [
                            1,
                            "#f0f921"
                          ]
                        ],
                        "type": "heatmapgl"
                      }
                    ],
                    "histogram": [
                      {
                        "marker": {
                          "pattern": {
                            "fillmode": "overlay",
                            "size": 10,
                            "solidity": 0.2
                          }
                        },
                        "type": "histogram"
                      }
                    ],
                    "histogram2d": [
                      {
                        "colorbar": {
                          "outlinewidth": 0,
                          "ticks": ""
                        },
                        "colorscale": [
                          [
                            0,
                            "#0d0887"
                          ],
                          [
                            0.1111111111111111,
                            "#46039f"
                          ],
                          [
                            0.2222222222222222,
                            "#7201a8"
                          ],
                          [
                            0.3333333333333333,
                            "#9c179e"
                          ],
                          [
                            0.4444444444444444,
                            "#bd3786"
                          ],
                          [
                            0.5555555555555556,
                            "#d8576b"
                          ],
                          [
                            0.6666666666666666,
                            "#ed7953"
                          ],
                          [
                            0.7777777777777778,
                            "#fb9f3a"
                          ],
                          [
                            0.8888888888888888,
                            "#fdca26"
                          ],
                          [
                            1,
                            "#f0f921"
                          ]
                        ],
                        "type": "histogram2d"
                      }
                    ],
                    "histogram2dcontour": [
                      {
                        "colorbar": {
                          "outlinewidth": 0,
                          "ticks": ""
                        },
                        "colorscale": [
                          [
                            0,
                            "#0d0887"
                          ],
                          [
                            0.1111111111111111,
                            "#46039f"
                          ],
                          [
                            0.2222222222222222,
                            "#7201a8"
                          ],
                          [
                            0.3333333333333333,
                            "#9c179e"
                          ],
                          [
                            0.4444444444444444,
                            "#bd3786"
                          ],
                          [
                            0.5555555555555556,
                            "#d8576b"
                          ],
                          [
                            0.6666666666666666,
                            "#ed7953"
                          ],
                          [
                            0.7777777777777778,
                            "#fb9f3a"
                          ],
                          [
                            0.8888888888888888,
                            "#fdca26"
                          ],
                          [
                            1,
                            "#f0f921"
                          ]
                        ],
                        "type": "histogram2dcontour"
                      }
                    ],
                    "mesh3d": [
                      {
                        "colorbar": {
                          "outlinewidth": 0,
                          "ticks": ""
                        },
                        "type": "mesh3d"
                      }
                    ],
                    "parcoords": [
                      {
                        "line": {
                          "colorbar": {
                            "outlinewidth": 0,
                            "ticks": ""
                          }
                        },
                        "type": "parcoords"
                      }
                    ],
                    "pie": [
                      {
                        "automargin": true,
                        "type": "pie"
                      }
                    ],
                    "scatter": [
                      {
                        "fillpattern": {
                          "fillmode": "overlay",
                          "size": 10,
                          "solidity": 0.2
                        },
                        "type": "scatter"
                      }
                    ],
                    "scatter3d": [
                      {
                        "line": {
                          "colorbar": {
                            "outlinewidth": 0,
                            "ticks": ""
                          }
                        },
                        "marker": {
                          "colorbar": {
                            "outlinewidth": 0,
                            "ticks": ""
                          }
                        },
                        "type": "scatter3d"
                      }
                    ],
                    "scattercarpet": [
                      {
                        "marker": {
                          "colorbar": {
                            "outlinewidth": 0,
                            "ticks": ""
                          }
                        },
                        "type": "scattercarpet"
                      }
                    ],
                    "scattergeo": [
                      {
                        "marker": {
                          "colorbar": {
                            "outlinewidth": 0,
                            "ticks": ""
                          }
                        },
                        "type": "scattergeo"
                      }
                    ],
                    "scattergl": [
                      {
                        "marker": {
                          "colorbar": {
                            "outlinewidth": 0,
                            "ticks": ""
                          }
                        },
                        "type": "scattergl"
                      }
                    ],
                    "scattermapbox": [
                      {
                        "marker": {
                          "colorbar": {
                            "outlinewidth": 0,
                            "ticks": ""
                          }
                        },
                        "type": "scattermapbox"
                      }
                    ],
                    "scatterpolar": [
                      {
                        "marker": {
                          "colorbar": {
                            "outlinewidth": 0,
                            "ticks": ""
                          }
                        },
                        "type": "scatterpolar"
                      }
                    ],
                    "scatterpolargl": [
                      {
                        "marker": {
                          "colorbar": {
                            "outlinewidth": 0,
                            "ticks": ""
                          }
                        },
                        "type": "scatterpolargl"
                      }
                    ],
                    "scatterternary": [
                      {
                        "marker": {
                          "colorbar": {
                            "outlinewidth": 0,
                            "ticks": ""
                          }
                        },
                        "type": "scatterternary"
                      }
                    ],
                    "surface": [
                      {
                        "colorbar": {
                          "outlinewidth": 0,
                          "ticks": ""
                        },
                        "colorscale": [
                          [
                            0,
                            "#0d0887"
                          ],
                          [
                            0.1111111111111111,
                            "#46039f"
                          ],
                          [
                            0.2222222222222222,
                            "#7201a8"
                          ],
                          [
                            0.3333333333333333,
                            "#9c179e"
                          ],
                          [
                            0.4444444444444444,
                            "#bd3786"
                          ],
                          [
                            0.5555555555555556,
                            "#d8576b"
                          ],
                          [
                            0.6666666666666666,
                            "#ed7953"
                          ],
                          [
                            0.7777777777777778,
                            "#fb9f3a"
                          ],
                          [
                            0.8888888888888888,
                            "#fdca26"
                          ],
                          [
                            1,
                            "#f0f921"
                          ]
                        ],
                        "type": "surface"
                      }
                    ],
                    "table": [
                      {
                        "cells": {
                          "fill": {
                            "color": "#EBF0F8"
                          },
                          "line": {
                            "color": "white"
                          }
                        },
                        "header": {
                          "fill": {
                            "color": "#C8D4E3"
                          },
                          "line": {
                            "color": "white"
                          }
                        },
                        "type": "table"
                      }
                    ]
                  },
                  "layout": {
                    "annotationdefaults": {
                      "arrowcolor": "#2a3f5f",
                      "arrowhead": 0,
                      "arrowwidth": 1
                    },
                    "autotypenumbers": "strict",
                    "coloraxis": {
                      "colorbar": {
                        "outlinewidth": 0,
                        "ticks": ""
                      }
                    },
                    "colorscale": {
                      "diverging": [
                        [
                          0,
                          "#8e0152"
                        ],
                        [
                          0.1,
                          "#c51b7d"
                        ],
                        [
                          0.2,
                          "#de77ae"
                        ],
                        [
                          0.3,
                          "#f1b6da"
                        ],
                        [
                          0.4,
                          "#fde0ef"
                        ],
                        [
                          0.5,
                          "#f7f7f7"
                        ],
                        [
                          0.6,
                          "#e6f5d0"
                        ],
                        [
                          0.7,
                          "#b8e186"
                        ],
                        [
                          0.8,
                          "#7fbc41"
                        ],
                        [
                          0.9,
                          "#4d9221"
                        ],
                        [
                          1,
                          "#276419"
                        ]
                      ],
                      "sequential": [
                        [
                          0,
                          "#0d0887"
                        ],
                        [
                          0.1111111111111111,
                          "#46039f"
                        ],
                        [
                          0.2222222222222222,
                          "#7201a8"
                        ],
                        [
                          0.3333333333333333,
                          "#9c179e"
                        ],
                        [
                          0.4444444444444444,
                          "#bd3786"
                        ],
                        [
                          0.5555555555555556,
                          "#d8576b"
                        ],
                        [
                          0.6666666666666666,
                          "#ed7953"
                        ],
                        [
                          0.7777777777777778,
                          "#fb9f3a"
                        ],
                        [
                          0.8888888888888888,
                          "#fdca26"
                        ],
                        [
                          1,
                          "#f0f921"
                        ]
                      ],
                      "sequentialminus": [
                        [
                          0,
                          "#0d0887"
                        ],
                        [
                          0.1111111111111111,
                          "#46039f"
                        ],
                        [
                          0.2222222222222222,
                          "#7201a8"
                        ],
                        [
                          0.3333333333333333,
                          "#9c179e"
                        ],
                        [
                          0.4444444444444444,
                          "#bd3786"
                        ],
                        [
                          0.5555555555555556,
                          "#d8576b"
                        ],
                        [
                          0.6666666666666666,
                          "#ed7953"
                        ],
                        [
                          0.7777777777777778,
                          "#fb9f3a"
                        ],
                        [
                          0.8888888888888888,
                          "#fdca26"
                        ],
                        [
                          1,
                          "#f0f921"
                        ]
                      ]
                    },
                    "colorway": [
                      "#636efa",
                      "#EF553B",
                      "#00cc96",
                      "#ab63fa",
                      "#FFA15A",
                      "#19d3f3",
                      "#FF6692",
                      "#B6E880",
                      "#FF97FF",
                      "#FECB52"
                    ],
                    "font": {
                      "color": "#2a3f5f"
                    },
                    "geo": {
                      "bgcolor": "white",
                      "lakecolor": "white",
                      "landcolor": "#E5ECF6",
                      "showlakes": true,
                      "showland": true,
                      "subunitcolor": "white"
                    },
                    "hoverlabel": {
                      "align": "left"
                    },
                    "hovermode": "closest",
                    "mapbox": {
                      "style": "light"
                    },
                    "paper_bgcolor": "white",
                    "plot_bgcolor": "#E5ECF6",
                    "polar": {
                      "angularaxis": {
                        "gridcolor": "white",
                        "linecolor": "white",
                        "ticks": ""
                      },
                      "bgcolor": "#E5ECF6",
                      "radialaxis": {
                        "gridcolor": "white",
                        "linecolor": "white",
                        "ticks": ""
                      }
                    },
                    "scene": {
                      "xaxis": {
                        "backgroundcolor": "#E5ECF6",
                        "gridcolor": "white",
                        "gridwidth": 2,
                        "linecolor": "white",
                        "showbackground": true,
                        "ticks": "",
                        "zerolinecolor": "white"
                      },
                      "yaxis": {
                        "backgroundcolor": "#E5ECF6",
                        "gridcolor": "white",
                        "gridwidth": 2,
                        "linecolor": "white",
                        "showbackground": true,
                        "ticks": "",
                        "zerolinecolor": "white"
                      },
                      "zaxis": {
                        "backgroundcolor": "#E5ECF6",
                        "gridcolor": "white",
                        "gridwidth": 2,
                        "linecolor": "white",
                        "showbackground": true,
                        "ticks": "",
                        "zerolinecolor": "white"
                      }
                    },
                    "shapedefaults": {
                      "line": {
                        "color": "#2a3f5f"
                      }
                    },
                    "ternary": {
                      "aaxis": {
                        "gridcolor": "white",
                        "linecolor": "white",
                        "ticks": ""
                      },
                      "baxis": {
                        "gridcolor": "white",
                        "linecolor": "white",
                        "ticks": ""
                      },
                      "bgcolor": "#E5ECF6",
                      "caxis": {
                        "gridcolor": "white",
                        "linecolor": "white",
                        "ticks": ""
                      }
                    },
                    "title": {
                      "x": 0.05
                    },
                    "xaxis": {
                      "automargin": true,
                      "gridcolor": "white",
                      "linecolor": "white",
                      "ticks": "",
                      "title": {
                        "standoff": 15
                      },
                      "zerolinecolor": "white",
                      "zerolinewidth": 2
                    },
                    "yaxis": {
                      "automargin": true,
                      "gridcolor": "white",
                      "linecolor": "white",
                      "ticks": "",
                      "title": {
                        "standoff": 15
                      },
                      "zerolinecolor": "white",
                      "zerolinewidth": 2
                    }
                  }
                },
                "xaxis": {
                  "anchor": "y",
                  "domain": [
                    0,
                    1
                  ],
                  "title": {
                    "text": "index"
                  }
                },
                "yaxis": {
                  "anchor": "x",
                  "domain": [
                    0,
                    1
                  ],
                  "title": {
                    "text": "value"
                  }
                }
              }
            }
          },
          "metadata": {},
          "output_type": "display_data"
        }
      ],
      "source": [
        "def circular_convolution(signal, kernel):\n",
        "    len_kernel = len(kernel)\n",
        "    half_kernel = len_kernel // 2\n",
        "    \n",
        "    # Étendre le signal aux deux extrémités pour gérer le cas circulaire\n",
        "    extended_signal = np.concatenate([signal[-half_kernel:], signal, signal[:half_kernel]])\n",
        "    \n",
        "    # Appliquer la convolution standard\n",
        "    result = np.convolve(extended_signal, kernel, mode='valid')\n",
        "    \n",
        "    return result\n",
        "\n",
        "N = 64\n",
        "filter = [scipy.stats.norm.pdf(3*x/N, 0, 1) for x in range(-N, N)]\n",
        "fig = px.line(filter)\n",
        "fig.show()"
      ]
    },
    {
      "cell_type": "code",
      "execution_count": 115,
      "metadata": {},
      "outputs": [
        {
          "name": "stdout",
          "output_type": "stream",
          "text": [
            "love hate "
          ]
        },
        {
          "data": {
            "application/vnd.plotly.v1+json": {
              "config": {
                "plotlyServerURL": "https://plot.ly"
              },
              "data": [
                {
                  "fill": "toself",
                  "name": "love",
                  "opacity": 0.5,
                  "r": [
                    -1.026591893032523,
                    -1.036329371037402,
                    -1.0515335918040363,
                    -1.0663343844662527,
                    -1.0812541250428946,
                    -1.0978453182584051,
                    -1.1147676907323893,
                    -1.1323631065698634,
                    -1.1488391788053436,
                    -1.1719973882631032,
                    -1.1969271811203575,
                    -1.221053947683132,
                    -1.2471198220710173,
                    -1.2744733262566854,
                    -1.3026006227498952,
                    -1.3298625740391739,
                    -1.3593372004570115,
                    -1.3862589027179728,
                    -1.416564377308378,
                    -1.445472915867464,
                    -1.4721698055681958,
                    -1.498680516958103,
                    -1.5260507023402963,
                    -1.5544704385344454,
                    -1.581820694966082,
                    -1.6091850100183913,
                    -1.6345802374972211,
                    -1.6584457652960936,
                    -1.6782458849576953,
                    -1.6946691855590295,
                    -1.7132527013375682,
                    -1.726218077656391,
                    -1.735775244543988,
                    -1.7441990562441063,
                    -1.7484586184151847,
                    -1.7522681818693249,
                    -1.7532036248041132,
                    -1.7488397416299475,
                    -1.7391720240411874,
                    -1.7255147999895577,
                    -1.7042151896576132,
                    -1.6850549020934364,
                    -1.662014630541385,
                    -1.6413792957467597,
                    -1.6160433884424843,
                    -1.579200359680459,
                    -1.5387475499857777,
                    -1.5002204131882402,
                    -1.4591154262620523,
                    -1.410353385710269,
                    -1.3618560723129343,
                    -1.3118625812710647,
                    -1.2562201286365815,
                    -1.2006045451852176,
                    -1.143155815761091,
                    -1.0830272174803222,
                    -1.0200698844997773,
                    -0.9536939879112676,
                    -0.8894161680478117,
                    -0.8280693063401902,
                    -0.7603393460536949,
                    -0.6968115559896102,
                    -0.6343636770476522,
                    -0.5716515091563604,
                    -0.5060564400250904,
                    -0.4408215802846702,
                    -0.3804126859083503,
                    -0.3181659639385011,
                    -0.25378332853004537,
                    -0.18957166304231043,
                    -0.130156829736461,
                    -0.0730591877171758,
                    -0.017781773015799723,
                    0.03557904555708452,
                    0.08622903518420671,
                    0.14098745257334727,
                    0.1901464193171214,
                    0.24130909978933152,
                    0.28691804655058667,
                    0.3324075561348348,
                    0.37645421528373074,
                    0.41661186012791807,
                    0.4576453928327429,
                    0.4932284040518967,
                    0.5271938422045994,
                    0.5584057232421777,
                    0.5878667320513925,
                    0.6170001257079835,
                    0.643503488715817,
                    0.6700609334213229,
                    0.6922091458996148,
                    0.7135151113401692,
                    0.7346017611622209,
                    0.7522313641819008,
                    0.7684930295014964,
                    0.7867070565380003,
                    0.7974963822068163,
                    0.808782847639786,
                    0.8154899708252389,
                    0.8222580518005829,
                    0.8277718622045083,
                    0.8299491695940574,
                    0.8252427620673564,
                    0.8246552038515288,
                    0.8192650307105126,
                    0.8096679882215823,
                    0.8037884606513195,
                    0.7929580023078768,
                    0.7798702152597147,
                    0.7653792513787809,
                    0.7517066625096217,
                    0.7313795384163597,
                    0.7094741030032129,
                    0.6896620002226744,
                    0.6680863041844223,
                    0.6411800131027654,
                    0.616801839765525,
                    0.5897574541815217,
                    0.5628138201209146,
                    0.5306988597395881,
                    0.49923266053760523,
                    0.46548664165231235,
                    0.43056558921574895,
                    0.39563789686372586,
                    0.3586786369705804,
                    0.32060700051847224,
                    0.2854720038532029,
                    0.24648959736913512,
                    0.20747659839523236,
                    0.16708781270816497,
                    0.12983151386405456,
                    0.09177851953014093,
                    0.051947264917057256,
                    0.013517280270532894,
                    -0.02559936454808509,
                    -0.06436229123766113,
                    -0.10402784878197702,
                    -0.13890457285674263,
                    -0.1757836365348594,
                    -0.20660578308566613,
                    -0.23921114339238492,
                    -0.27279132269604867,
                    -0.3037339257070988,
                    -0.33376094864645367,
                    -0.3627778657535956,
                    -0.39192826453925494,
                    -0.41368045282603916,
                    -0.43499717999396725,
                    -0.45541228825660024,
                    -0.4773871887269664,
                    -0.4936383969398361,
                    -0.5061414729690742,
                    -0.5159850602374363,
                    -0.5261871393751897,
                    -0.5343817314380302,
                    -0.5355412111110376,
                    -0.539848033369555,
                    -0.5406062359782268,
                    -0.5376982423236978,
                    -0.5331353054120583,
                    -0.5279368354743689,
                    -0.5163484371094293,
                    -0.5049185274840152,
                    -0.4905323075142861,
                    -0.47256621509435487,
                    -0.45610303174063527,
                    -0.4342592730915789,
                    -0.4126662630397162,
                    -0.3858550944593899,
                    -0.350452925060486,
                    -0.31625202160008714,
                    -0.2752146692484929,
                    -0.22995933692656773,
                    -0.18900503375157837,
                    -0.14524885575173352,
                    -0.09124220110953787,
                    -0.037238677978423396,
                    0.014585196029650568,
                    0.06812580976394252,
                    0.12843144902870962,
                    0.18720533639807485,
                    0.24723543146993995,
                    0.3096652329953439,
                    0.37296400344434,
                    0.43712404636868796,
                    0.5036757759009466,
                    0.5750405069332827,
                    0.6461582378702622,
                    0.714089876859436,
                    0.7865795258387838,
                    0.8583072278252619,
                    0.9286088662047323,
                    0.9993966229554372,
                    1.0676202590626573,
                    1.1388343016803668,
                    1.2039362329108583,
                    1.2696165247507811,
                    1.335502896199713,
                    1.4011733421176098,
                    1.460152957954699,
                    1.5202414359095218,
                    1.5788298568783896,
                    1.6372418545960779,
                    1.690003933448333,
                    1.7389933941835067,
                    1.7850226870916674,
                    1.8296475368407918,
                    1.8715724338681088,
                    1.9094071213288644,
                    1.94385406967862,
                    1.974914506742161,
                    2.005792898263681,
                    2.033661006173885,
                    2.055627391467701,
                    2.076089352120905,
                    2.090733554102652,
                    2.103296385942599,
                    2.11189070207957,
                    2.1158829555306853,
                    2.116520648073398,
                    2.1128462573919964,
                    2.1093407842350884,
                    2.100561825312986,
                    2.088193619315272,
                    2.0728094203182064,
                    2.053593540778232,
                    2.0366513169199876,
                    2.012547312684119,
                    1.9857883636066473,
                    1.9549598840500413,
                    1.924891017900523,
                    1.8934975341528864,
                    1.8604562265448275,
                    1.8239616085743315,
                    1.785079543457224,
                    1.7455344013575211,
                    1.7036155795249162,
                    1.6550016847893163,
                    1.6086849748934204,
                    1.565594870238598,
                    1.5174556256442326,
                    1.465363171324491,
                    1.4140495051962447,
                    1.3628850564848183,
                    1.3086718185657795,
                    1.2522639199166008,
                    1.1983721912523344,
                    1.144019251608963,
                    1.0876351937559439,
                    1.0307934011153632,
                    0.9711355926338324,
                    0.9118278325418981,
                    0.85000547463455,
                    0.7887531641128844,
                    0.721927096463402,
                    0.6592200549073162,
                    0.5934302088603551,
                    0.5281491829475424,
                    0.46103873595971023,
                    0.3951610333103607,
                    0.33020821175602894,
                    0.2622593811527576,
                    0.19106365784106433,
                    0.12357954765622153,
                    0.05558386805402332,
                    -0.015068354126507755,
                    -0.0852642139709536,
                    -0.15830786392155596,
                    -0.2291650715556858,
                    -0.3002279707436283,
                    -0.3697485541369219,
                    -0.4388707664692987,
                    -0.5066405652366553,
                    -0.5774098905895009,
                    -0.6502718838646333,
                    -0.7196358801480868,
                    -0.7892549323397035,
                    -0.8526350490304861,
                    -0.9184356068482273,
                    -0.9810944110382422,
                    -1.0425195735588488,
                    -1.1013156158820407,
                    -1.1586711647673056,
                    -1.2157560223859492,
                    -1.2674303828287734,
                    -1.3180386063787157,
                    -1.365589991528323,
                    -1.4104967432578812,
                    -1.4528798794567925,
                    -1.496229200549121,
                    -1.5323576822087293,
                    -1.5649465923031607,
                    -1.5979391117024848,
                    -1.6256215757574877,
                    -1.652732809767247,
                    -1.676537212432398,
                    -1.6999653818216656,
                    -1.722937599962603,
                    -1.737195658541375,
                    -1.7480015860938616,
                    -1.7576887937941885,
                    -1.7669227379911852,
                    -1.7693833611196546,
                    -1.7718445064662967,
                    -1.7676459626518053,
                    -1.760935095422462,
                    -1.746347697071967,
                    -1.7386320408115172,
                    -1.7269353987676133,
                    -1.7102597293829036,
                    -1.69403445345718,
                    -1.6753467772957218,
                    -1.6550158950694227,
                    -1.6374686556240774,
                    -1.6150994703454338,
                    -1.5928574432013485,
                    -1.565581849836006,
                    -1.5439550317371866,
                    -1.5187046053620619,
                    -1.4921436590168808,
                    -1.465709511488426,
                    -1.4413547511139004,
                    -1.4171473075480363,
                    -1.3894837341471507,
                    -1.3640613207565868,
                    -1.3364648545387663,
                    -1.3050943231230503,
                    -1.274665751823269,
                    -1.244704886455326,
                    -1.216949724922717,
                    -1.1888771333006665,
                    -1.163797951475173,
                    -1.139207322823711,
                    -1.1120817054268435,
                    -1.0881090618835352,
                    -1.0607416303982369,
                    -1.0342083139877103,
                    -1.010279525960096,
                    -0.9850148305970341,
                    -0.958457907795949,
                    -0.9301188598052708,
                    -0.9017100641222697,
                    -0.8758589154199534,
                    -0.8497544890135742,
                    -0.824448251612125,
                    -0.7967122909759552,
                    -0.7683893628238808,
                    -0.7388971203463834,
                    -0.707768884923482,
                    -0.6799244730950025,
                    -0.6471294980364385,
                    -0.6152189453773949,
                    -0.5831495445262252,
                    -0.5475223523566958,
                    -0.514234354580696,
                    -0.5068697003164602,
                    -0.478302116209827,
                    -0.4442695110502549,
                    -0.4114398032267083,
                    -0.37893248074237135,
                    -0.34748172944623246,
                    -0.31334148500155706,
                    -0.2812873093025583,
                    -0.2496327493317173,
                    -0.21326353106438073,
                    -0.17691674284393205,
                    -0.14395630878844595,
                    -0.11687597056990717,
                    -0.09030080880422253,
                    -0.06243051462444271,
                    -0.033437880351039895,
                    -0.010874853296692022,
                    0.009036057030449407,
                    0.029604312581009595,
                    0.0411888212486623,
                    0.05522150507451473,
                    0.06478234985476938,
                    0.07054007760587444,
                    0.07276298431338246,
                    0.06902714784387753,
                    0.06420658343521057,
                    0.051428544492302275,
                    0.03595728461982739,
                    0.013659146332649752,
                    -0.013412715419173216,
                    -0.047083719925759104,
                    -0.08545746921170516,
                    -0.13030110363394665,
                    -0.18421518042542262,
                    -0.2398049972450892,
                    -0.29733739822574623,
                    -0.3640472001425612,
                    -0.4348989074089884,
                    -0.5125743696781309,
                    -0.5921532637906716,
                    -0.6778849792776322,
                    -0.7688486504341345,
                    -0.8613326338198097,
                    -0.9578424005975479,
                    -1.0602412953510707,
                    -1.158808311748931,
                    -1.2594302493584457,
                    -1.362877879458046,
                    -1.468948770353896,
                    -1.5697285028977852,
                    -1.6730111058359818,
                    -1.7733923525316189,
                    -1.8705445364154762,
                    -1.9633388626923853,
                    -2.05132271043225,
                    -2.1372221442857295,
                    -2.2191527232451036,
                    -2.294778941166096,
                    -2.3611869392120393,
                    -2.420413123682709,
                    -2.4733879108223933,
                    -2.5168920032702005,
                    -2.554674222808673,
                    -2.5843951390234103,
                    -2.5997869045508297,
                    -2.610657253188142,
                    -2.6101090635515853,
                    -2.5999159281006543,
                    -2.58076919048027,
                    -2.552130893352825,
                    -2.51443647917516,
                    -2.4710563339499236,
                    -2.4183087897825732,
                    -2.3550472426179963,
                    -2.2819112092663625,
                    -2.2020426060766902,
                    -2.1145967977281197,
                    -2.0211699472791644,
                    -1.9216320656599257,
                    -1.8236640619526112,
                    -1.7134414118857706,
                    -1.5976462661296293,
                    -1.4803626054088688,
                    -1.358326499923128,
                    -1.2331492642886444,
                    -1.107556911816033,
                    -0.9798774324207213,
                    -0.8555927169612703,
                    -0.7302669178514196,
                    -0.6072385743897499,
                    -0.4810959414883107,
                    -0.3592037747993029,
                    -0.23738589428582846,
                    -0.1235051060239275,
                    -0.00947209947266181,
                    0.09865914955870803,
                    0.20295528013867814,
                    0.305498925959462,
                    0.39776504923457995,
                    0.48582060242248415,
                    0.5675099055392595,
                    0.644002837615708,
                    0.715521551424857,
                    0.7831464188040934,
                    0.8463639874520652,
                    0.9024788455735764,
                    0.9504298112638004,
                    0.9916855906275848,
                    1.028447973274387,
                    1.0572056792769302,
                    1.0795497159876934,
                    1.0980297445821408,
                    1.1051692097064416,
                    1.108930400610265,
                    1.108226111056661,
                    1.1034368119917106,
                    1.0963236094461601,
                    1.0859806463318438,
                    1.0673855519372424,
                    1.0412659877355543,
                    1.0130285627440163,
                    0.9787663363779754,
                    0.94386594561564,
                    0.9010621661926451,
                    0.8581958772854799,
                    0.8138510308766553,
                    0.7659446579741687,
                    0.713712411606763,
                    0.6898515487645492,
                    0.6343373451874793,
                    0.5740883485928983,
                    0.5135123164722528,
                    0.4504705821570661,
                    0.39219247893710024,
                    0.3276690857755348,
                    0.2683527763223451,
                    0.20756811085639787,
                    0.14533348179432448,
                    0.0861044387117321,
                    0.02874060784818347,
                    -0.027214765337426172,
                    -0.0811362141436622,
                    -0.13503098872516117,
                    -0.19079999864868974,
                    -0.24237120905731915,
                    -0.2910353076402278,
                    -0.34130281969168363,
                    -0.38897739718306956,
                    -0.4354126673453371,
                    -0.4794801602520121,
                    -0.5205291453163653,
                    -0.5583409580841957,
                    -0.5979380168372092,
                    -0.6364891217273585,
                    -0.6705463285942893,
                    -0.7052397763505566,
                    -0.7378141302745326,
                    -0.7687117313436748,
                    -0.7984949616424437,
                    -0.8274672954276184,
                    -0.8541413225257988,
                    -0.8807436237710332,
                    -0.9043616967530158,
                    -0.9271068464640593,
                    -0.9513800796228927,
                    -0.9741425381156864,
                    -0.9921691996624306,
                    -1.0143979374955985,
                    -1.0337126957728364,
                    -1.053377662472648,
                    -1.0716527973461722,
                    -1.090318828533387,
                    -1.105931942962525,
                    -1.1255661523409421,
                    -1.1421915536224767,
                    -1.156544514011101,
                    -1.1699008159733792,
                    -1.184307980415939,
                    -1.196408638639727,
                    -1.2084091764681097,
                    -1.2194004312443247,
                    -1.2349242439516117,
                    -1.2477932725347414,
                    -1.2577411703403938,
                    -1.2649546227293866,
                    -1.2698613430638703,
                    -1.2771283904672281,
                    -1.284678181560571,
                    -1.2894023112465836,
                    -1.2894889282263118,
                    -1.2856413970055045,
                    -1.28302564234873,
                    -1.2824548732326182,
                    -1.2730136633199416,
                    -1.2626475994908894,
                    -1.2533210851744148,
                    -1.2384791232014019,
                    -1.2242365281587941,
                    -1.2047914381481468,
                    -1.1825152375908219,
                    -1.159899249923507,
                    -1.1367698217814373,
                    -1.1077559025870374,
                    -1.0798160812100828,
                    -1.0465277403008522,
                    -1.0155618618512467,
                    -0.981333100840909,
                    -0.9413367698723825,
                    -0.898928775297285,
                    -0.8586855844852428,
                    -0.8137621060497023,
                    -0.7688230624546886,
                    -0.7247088400199397,
                    -0.680052075700768,
                    -0.6309096373044389,
                    -0.5792781130818898,
                    -0.5281989846718986,
                    -0.4760833646446938,
                    -0.4258019714438187,
                    -0.37495872557405685,
                    -0.3248127718918563,
                    -0.2717461464428793,
                    -0.22144952423406383,
                    -0.1685550637973015,
                    -0.12385339904369458,
                    -0.07752428882820267,
                    -0.027778522290571594,
                    0.01995227040809927,
                    0.07111148401027034,
                    0.11595893547621366,
                    0.1587288650063437,
                    0.19935331886874214,
                    0.24134238605454877,
                    0.28342365217581006,
                    0.31961090220245836,
                    0.3568796163892692,
                    0.38878631441366956,
                    0.41901503521998595,
                    0.4504946160912543,
                    0.4739771720177892,
                    0.49709873635621593,
                    0.5175549671185514,
                    0.5341640364452562,
                    0.5487663301877571,
                    0.5590286749065464,
                    0.5684723965478069,
                    0.577421763049997,
                    0.5828750221791251,
                    0.5866086470397749,
                    0.5892783507133561,
                    0.5848563356611752,
                    0.5790176481823373,
                    0.5728199225659933,
                    0.5585574822115418,
                    0.5433783423887787,
                    0.5263889453769902,
                    0.5074264108356603,
                    0.4870888150990407,
                    0.4636628702211345,
                    0.436875974294907,
                    0.40903701402116754,
                    0.3767204305209344,
                    0.3485136020510816,
                    0.3123099693782321,
                    0.2757369791425389,
                    0.23559111865778182,
                    0.19591896607627235,
                    0.15528033617866333,
                    0.11695075453041348,
                    0.07450373675852762,
                    0.029393145648572205,
                    -0.016980416331986103,
                    -0.06054209967465518,
                    -0.10866083494599044,
                    -0.15161570241076783,
                    -0.19609881654501915,
                    -0.24174761908718445,
                    -0.29016159492028015,
                    -0.3362622011391203,
                    -0.3825238869972609,
                    -0.42591490568647816,
                    -0.47041841778426374,
                    -0.5141286675835579,
                    -0.5538721178840851,
                    -0.5953115411182113,
                    -0.6383456005145794,
                    -0.6787036446934747,
                    -0.7156671590883965,
                    -0.7544546689562119,
                    -0.7891330088672457,
                    -0.8257318842870607,
                    -0.8609449354784056,
                    -0.8939921379368582,
                    -0.9271382150744683,
                    -0.9570485567605809,
                    -0.9815826632502296,
                    -1.0093117429030922,
                    -1.0308302162316214,
                    -1.052874072343049,
                    -1.0729269312025744,
                    -1.0912542896278294,
                    -1.1063463306469574,
                    -1.1214458606509115,
                    -1.1346820343203634,
                    -1.147550262779972,
                    -1.1604889741584767,
                    -1.1694451150861784,
                    -1.1765352764931618,
                    -1.183494206685795,
                    -1.185382277949162,
                    -1.184677669344836,
                    -1.1805483715264038,
                    -1.178740434362262,
                    -1.1765015871741575,
                    -1.1733637124304517,
                    -1.1654757408727112,
                    -1.1591337957229377,
                    -1.1535161768813258,
                    -1.1454396740697388,
                    -1.1357825720976678,
                    -1.1236156843328626,
                    -1.10892221585903,
                    -1.095410508428082,
                    -1.080910646969311,
                    -1.0665814320071472,
                    -1.0506715565397897,
                    -1.033384021426303,
                    -1.0142294583969356,
                    -0.9892913882695498,
                    -0.9650408656455665,
                    -0.9428377919953093,
                    -0.9178392418667141,
                    -0.8957165477326464,
                    -0.8682981086777746,
                    -0.8418205811138959,
                    -0.8136142706473521,
                    -0.7865321589815468,
                    -0.7588440968074741,
                    -0.7332590776527372,
                    -0.706445605548876,
                    -0.6798962089020095,
                    -0.6520570629792407,
                    -0.6273075468516027,
                    -0.6050521155397254,
                    -0.5763663280894933,
                    -0.5528628655627974,
                    -0.5264201417930128,
                    -0.5005142265021398,
                    -0.47858654384958316,
                    -0.4590978804114555,
                    -0.4393814588148548,
                    -0.420791789747087,
                    -0.398775793798651,
                    -0.38338627639641554,
                    -0.3726388057886397,
                    -0.3633086204082071,
                    -0.35274143948802006,
                    -0.3427636242979269,
                    -0.33412120828403236,
                    -0.3287738628832715,
                    -0.32979895290554295,
                    -0.3281605525886311,
                    -0.3292457594807265,
                    -0.3295839324005694,
                    -0.33466484046893397,
                    -0.33946728489839595,
                    -0.34690572485744564,
                    -0.3564695425749246,
                    -0.36612016284917165,
                    -0.3795717729360622,
                    -0.3908550846781608,
                    -0.40386276961554257,
                    -0.41713359522742777,
                    -0.43510996573870936,
                    -0.45733878170463066,
                    -0.4728316013140974,
                    -0.49386339210987257,
                    -0.5152181985692154,
                    -0.5349851482593928,
                    -0.5558647118490768,
                    -0.581637231202702,
                    -0.5998897471733153,
                    -0.6235578477246861,
                    -0.6459534455666525,
                    -0.6695242732342317,
                    -0.6914894908088374,
                    -0.711315954009295,
                    -0.7271266269305245,
                    -0.7473600185718164,
                    -0.7649890492747029,
                    -0.7801064058571312,
                    -0.7967202953737099,
                    -0.8120236889389362,
                    -0.8259127057656115,
                    -0.8395299862731928,
                    -0.8564229853733928,
                    -0.8700358464225197,
                    -0.8794207983057838,
                    -0.8879468891459454,
                    -0.8979123151800923,
                    -0.9074879420256361,
                    -0.9153819537978389,
                    -0.925700337186152,
                    -0.9347130609732011,
                    -0.944286120560181,
                    -0.9512429794567361,
                    -0.9606436402429764,
                    -0.9695262201182558,
                    -0.9782320751967423,
                    -0.9862730313078524,
                    -0.9961936318213678,
                    -1.0086703715908416,
                    -1.0190690334743238,
                    -1.026591893032523
                  ],
                  "type": "scatterpolar"
                },
                {
                  "fill": "toself",
                  "name": "hate",
                  "opacity": 0.5,
                  "r": [
                    0.7365310569132706,
                    0.71602058770378,
                    0.6935733862049676,
                    0.6750006275339943,
                    0.648351643247584,
                    0.6287718099103925,
                    0.6114118338033147,
                    0.5946595707865782,
                    0.5786723524099084,
                    0.5610889237394802,
                    0.5440092950994292,
                    0.5231884098005921,
                    0.5114598158141983,
                    0.5000771323822532,
                    0.4850237246987108,
                    0.4793082003520717,
                    0.47065128210220675,
                    0.4666373782910237,
                    0.45474789101873975,
                    0.45216495233468335,
                    0.44951099356062313,
                    0.447790814615427,
                    0.4466971193104972,
                    0.4416536416524958,
                    0.44324979292663924,
                    0.4489866652542669,
                    0.45772074532279416,
                    0.4613333846098997,
                    0.4641484861368549,
                    0.46792021986381466,
                    0.4743865868444043,
                    0.4805478892039381,
                    0.48682659617860696,
                    0.4941249237364153,
                    0.49798479140971996,
                    0.5019585903995065,
                    0.5037459205239244,
                    0.5021685356218591,
                    0.5029266004714497,
                    0.5026175758242598,
                    0.5058079360726307,
                    0.5012945850761398,
                    0.489317828507287,
                    0.48240109147103216,
                    0.47227779894636335,
                    0.45472388753933,
                    0.438678878744059,
                    0.41540268215691034,
                    0.3933346590807427,
                    0.3649244434383436,
                    0.33097652937548916,
                    0.3005360916338804,
                    0.2614055782724116,
                    0.2196878803981086,
                    0.17726760569358868,
                    0.1342749864673345,
                    0.07988336243707783,
                    0.024824969674727138,
                    -0.03570831834447641,
                    -0.09527285895337978,
                    -0.15340077477840297,
                    -0.21723887590005497,
                    -0.2804663961139813,
                    -0.344299809578656,
                    -0.41210199148858595,
                    -0.47966396045099846,
                    -0.547991083745504,
                    -0.6128283907241523,
                    -0.6836294786705244,
                    -0.7552655812495435,
                    -0.8253386183411651,
                    -0.8985199724579425,
                    -0.9628457036235423,
                    -1.0244086804869534,
                    -1.0890466701623356,
                    -1.1470858719283918,
                    -1.204153618650793,
                    -1.2646067272456047,
                    -1.3138205518606383,
                    -1.3664882606801583,
                    -1.4173773881597111,
                    -1.45700522493451,
                    -1.504166786559205,
                    -1.5474186296808474,
                    -1.5753895174212187,
                    -1.598528212093238,
                    -1.627828912074264,
                    -1.64621546346295,
                    -1.663618275657335,
                    -1.6781182553091594,
                    -1.6831547463861434,
                    -1.6862257673731609,
                    -1.6833840085940834,
                    -1.6792989655713517,
                    -1.6674894079646894,
                    -1.6461763288758913,
                    -1.624209901557708,
                    -1.6079988621077654,
                    -1.577580682479661,
                    -1.542010607163716,
                    -1.5088639459228996,
                    -1.4743700854574922,
                    -1.4335794418518806,
                    -1.3943324827456856,
                    -1.3499659009345935,
                    -1.3083141747873852,
                    -1.2583732169603894,
                    -1.211803251240575,
                    -1.161795458503538,
                    -1.1130793005091093,
                    -1.0617779687508435,
                    -1.0114845128792025,
                    -0.9657199150548517,
                    -0.9098258366927097,
                    -0.8607463962908242,
                    -0.8152234724319125,
                    -0.7637962167564961,
                    -0.7201586237529995,
                    -0.6820567430816835,
                    -0.6391306639690032,
                    -0.6049049038741744,
                    -0.5703041887642294,
                    -0.5346928764170179,
                    -0.5117722780153665,
                    -0.48545424007495397,
                    -0.46488433684133473,
                    -0.4424996180622046,
                    -0.43011529074991783,
                    -0.41643595933831545,
                    -0.40815917472122853,
                    -0.40359890231819195,
                    -0.4016313880745965,
                    -0.39813024982081874,
                    -0.405256300941381,
                    -0.4150362332087469,
                    -0.4250767593106798,
                    -0.4420448993952194,
                    -0.4564743845266083,
                    -0.46823766087118085,
                    -0.49077545491103014,
                    -0.510647584101865,
                    -0.5396746951601046,
                    -0.5633216187923473,
                    -0.5892308575071609,
                    -0.6229978864241436,
                    -0.6527884755846625,
                    -0.6830122796506262,
                    -0.7210078967827098,
                    -0.7546860680107346,
                    -0.787062114190686,
                    -0.8205827839030184,
                    -0.8566122832033977,
                    -0.8974238279244927,
                    -0.933380905108211,
                    -0.9753398865041134,
                    -1.0109993112495923,
                    -1.0457883557044,
                    -1.0839850505977255,
                    -1.1266783585329807,
                    -1.173505866539798,
                    -1.214959002195298,
                    -1.2611553797146047,
                    -1.3080056178812371,
                    -1.356729044477007,
                    -1.3965604400477178,
                    -1.4475731120495605,
                    -1.4924725026784653,
                    -1.5390795910038109,
                    -1.593387042658331,
                    -1.646350474989207,
                    -1.6959275490705208,
                    -1.7476488358473468,
                    -1.8020750075635499,
                    -1.8545688318657156,
                    -1.9070087590022964,
                    -1.959797589235066,
                    -2.0154141194929203,
                    -2.065999722909253,
                    -2.1098098277399524,
                    -2.157568569337981,
                    -2.2077610780782306,
                    -2.2553214849761947,
                    -2.2994111230627508,
                    -2.3464762057727766,
                    -2.38164683743659,
                    -2.4159327193824685,
                    -2.4465204794069466,
                    -2.477014632323855,
                    -2.501161475901303,
                    -2.5169046310111334,
                    -2.5402118028133707,
                    -2.548846950900895,
                    -2.5543300820951,
                    -2.5531989275298748,
                    -2.543500811496788,
                    -2.5371970461066558,
                    -2.523521650687923,
                    -2.5025281264238153,
                    -2.4782885021068832,
                    -2.4459372079858817,
                    -2.4128416687227423,
                    -2.3821536003249597,
                    -2.34002349033885,
                    -2.301102473474022,
                    -2.2523618252691278,
                    -2.1829732149730847,
                    -2.1278767416823197,
                    -2.062819627742031,
                    -1.998508425788397,
                    -1.9394564087166566,
                    -1.861000446096122,
                    -1.7859611077161595,
                    -1.7262146331935457,
                    -1.660844774052701,
                    -1.5852993147756256,
                    -1.5140719105403606,
                    -1.445355003203096,
                    -1.3741392242165014,
                    -1.307996751413236,
                    -1.2397418474274706,
                    -1.1781991425359044,
                    -1.1137070174231685,
                    -1.0559606558149068,
                    -1.0005295839551023,
                    -0.9490350116876054,
                    -0.8901114512970866,
                    -0.843821242042587,
                    -0.7991879054040827,
                    -0.7548334643387902,
                    -0.7028015576649855,
                    -0.6652510685234325,
                    -0.626312808301741,
                    -0.5991684640915103,
                    -0.5666771593597228,
                    -0.5472073565159752,
                    -0.5318839966396023,
                    -0.520025233337778,
                    -0.5121242978736019,
                    -0.4936806796298848,
                    -0.486513496651201,
                    -0.47551708028239287,
                    -0.4873378348247332,
                    -0.4813589348835538,
                    -0.49045414187069464,
                    -0.5059926546108267,
                    -0.5133507018981438,
                    -0.5223935385657809,
                    -0.5444842596056295,
                    -0.5625029248939779,
                    -0.5878685456896505,
                    -0.6118337349432095,
                    -0.6352272332146134,
                    -0.6666547467453644,
                    -0.7019267221226636,
                    -0.7404535328092513,
                    -0.7742857969777657,
                    -0.8158260618636917,
                    -0.8647345330120525,
                    -0.9016071882126344,
                    -0.9505733558044122,
                    -1.0005083463903075,
                    -1.0473165307629706,
                    -1.0946993631505384,
                    -1.1473646003131235,
                    -1.1933791376355567,
                    -1.2487683523110913,
                    -1.3046962755687581,
                    -1.3517013347076596,
                    -1.403273408434109,
                    -1.4512362416837143,
                    -1.4960599616591832,
                    -1.5539184774298163,
                    -1.5956553408469925,
                    -1.6475436546271995,
                    -1.6856338943766571,
                    -1.7246934160303784,
                    -1.765602978913388,
                    -1.8026272332171895,
                    -1.8420706855104265,
                    -1.8701882065609727,
                    -1.8899040619998346,
                    -1.9072737136780307,
                    -1.917009254870628,
                    -1.9237307754505992,
                    -1.9235012704403618,
                    -1.9160798573431106,
                    -1.9009029676134976,
                    -1.8840951647896316,
                    -1.8646336316173637,
                    -1.8377841742088368,
                    -1.8086414205175003,
                    -1.7664803531765707,
                    -1.7188113281991837,
                    -1.6583217421290826,
                    -1.6002101761304255,
                    -1.5374975281163636,
                    -1.4659862716349732,
                    -1.3917082293442817,
                    -1.3143616503918842,
                    -1.2336370874038072,
                    -1.1452977774821216,
                    -1.0507270824374741,
                    -0.9510672338738746,
                    -0.8482600755196347,
                    -0.7371774668105614,
                    -0.625722800512273,
                    -0.515806262556236,
                    -0.4009899706637787,
                    -0.28089917784454677,
                    -0.16661150611828635,
                    -0.051161571228431235,
                    0.06995707625164682,
                    0.18430820065313247,
                    0.30558144039375,
                    0.4253426715709905,
                    0.5378769720895991,
                    0.6455953580044305,
                    0.7493373649659036,
                    0.8594068163260993,
                    0.9582530557491153,
                    1.0533493336455086,
                    1.1398214007841847,
                    1.2210691443812978,
                    1.2994018729459582,
                    1.3753410780676003,
                    1.4373534346636654,
                    1.4943129734454512,
                    1.5436083716234577,
                    1.5894997155053352,
                    1.6330944054225613,
                    1.6606833633581466,
                    1.6862589751378945,
                    1.6962477953591513,
                    1.6874415066246977,
                    1.6786263118366838,
                    1.660332708451437,
                    1.6398449503505357,
                    1.6139080936272723,
                    1.5742202001360333,
                    1.5239731169497832,
                    1.4707182891566575,
                    1.4081037400821022,
                    1.3409550899040856,
                    1.2715678738715197,
                    1.1947947056883144,
                    1.1049802468502363,
                    1.0122440762880294,
                    0.9151088471609046,
                    0.8188180660939826,
                    0.7165959381341871,
                    0.6152203494205004,
                    0.5101204338170877,
                    0.4103026127650278,
                    0.3020038400108289,
                    0.2013846605780838,
                    0.0873535693102363,
                    -0.01847934546637031,
                    -0.12763583802789658,
                    -0.22158889576693208,
                    -0.3166615163314239,
                    -0.40085950816978344,
                    -0.489147014929187,
                    -0.5622297012782116,
                    -0.6328765594150645,
                    -0.6987390601818806,
                    -0.7587234831047456,
                    -0.8194893813911197,
                    -0.8692942011517379,
                    -0.9187462387431997,
                    -0.9477402052601023,
                    -0.9794024690352283,
                    -0.9991045498006585,
                    -1.010373943022321,
                    -1.018908968877659,
                    -1.0158712169432065,
                    -1.0000250133693307,
                    -0.9813899114818576,
                    -0.9582331603864032,
                    -0.9363204738440307,
                    -0.8990525886747984,
                    -0.8609747472859997,
                    -0.8053781723606286,
                    -0.7536969292987281,
                    -0.7002343663902362,
                    -0.6374996991437829,
                    -0.5633680364862395,
                    -0.4955128827343769,
                    -0.41867001970050177,
                    -0.3327309472170048,
                    -0.2512200050044282,
                    -0.169161922442576,
                    -0.08062829099558333,
                    0.0031517423668379063,
                    0.09494796185524756,
                    0.1777959302128247,
                    0.26328916971756744,
                    0.3489688215026676,
                    0.4322014733135444,
                    0.5110913307941121,
                    0.602940962198427,
                    0.6813821813536536,
                    0.763025318395564,
                    0.8392838627408099,
                    0.9106117601474348,
                    0.9871142345662947,
                    1.0542769542627366,
                    1.12505366149643,
                    1.1784347477029176,
                    1.2365579244745568,
                    1.2870212118572593,
                    1.327593346100252,
                    1.3754394226819924,
                    1.406403205727634,
                    1.4471119562323493,
                    1.4798486877526351,
                    1.5141408237922853,
                    1.5410638413033368,
                    1.5623737881612922,
                    1.5841212428068805,
                    1.5966631084859237,
                    1.6032486310148355,
                    1.6095621406628187,
                    1.6123058418604945,
                    1.6078789235454374,
                    1.6044427830559178,
                    1.5987709912839445,
                    1.5906541293530019,
                    1.572914559925119,
                    1.5493573406367909,
                    1.528426595024356,
                    1.4946727380985436,
                    1.4696723511668157,
                    1.4300823270350504,
                    1.3899663828167068,
                    1.3437456065392688,
                    1.3039533363902331,
                    1.2619252568177306,
                    1.2233808051326003,
                    1.1812964635868124,
                    1.1325426043072666,
                    1.0760946610880646,
                    1.0205983524156976,
                    0.9669850152666064,
                    0.9156303937055137,
                    0.8536074784049791,
                    0.7967341238249857,
                    0.7434394766398463,
                    0.6851970183911422,
                    0.6220433633092397,
                    0.5686460358030828,
                    0.5119717068957187,
                    0.4562220466603435,
                    0.40288935210305576,
                    0.35195021895946543,
                    0.29708497047567867,
                    0.24202205004427058,
                    0.18685604781332452,
                    0.13268693649620175,
                    0.08295364607151601,
                    0.03443255945179191,
                    -0.010111322055885719,
                    -0.047783080918313015,
                    -0.08898197763971566,
                    -0.12408979700330475,
                    -0.15834373037018845,
                    -0.19371922307645206,
                    -0.22700609186248671,
                    -0.2552965488217527,
                    -0.2724104856264329,
                    -0.294036795438997,
                    -0.31308315528335146,
                    -0.3385075112475295,
                    -0.3574012868842109,
                    -0.36273129219792144,
                    -0.36904976889299196,
                    -0.3759958482662327,
                    -0.38470995626151977,
                    -0.39102828428498887,
                    -0.39385615427145776,
                    -0.39955527890661136,
                    -0.39828039133650156,
                    -0.3948580555709399,
                    -0.3975469213333258,
                    -0.38375837751433817,
                    -0.3736372810290943,
                    -0.37079578106751054,
                    -0.36965575107447846,
                    -0.3629068270152921,
                    -0.35418373476510256,
                    -0.34600123647399716,
                    -0.3404741071609627,
                    -0.33375462449583704,
                    -0.3249325033209679,
                    -0.3151561341106265,
                    -0.31287989738280186,
                    -0.30454722157294367,
                    -0.29113255829555895,
                    -0.2867990247322588,
                    -0.2828001712372388,
                    -0.27485059749771124,
                    -0.2698512558802877,
                    -0.2662896855014093,
                    -0.25754280816356134,
                    -0.25695613703448617,
                    -0.252160480911637,
                    -0.24480842725490015,
                    -0.23980554326571946,
                    -0.24334454669308098,
                    -0.23781570513073702,
                    -0.23778247409454348,
                    -0.23591889738075014,
                    -0.23418115709101933,
                    -0.23566395662240924,
                    -0.23931144677106653,
                    -0.2420186236875756,
                    -0.24485265530923678,
                    -0.245420524852344,
                    -0.23767703094036147,
                    -0.22664439538943404,
                    -0.2278176514409354,
                    -0.22721005511638992,
                    -0.22691137448266993,
                    -0.22297863841637727,
                    -0.21867073006268428,
                    -0.2208712419153253,
                    -0.2159607840468094,
                    -0.21039413328631146,
                    -0.21185514870773925,
                    -0.21154949972505377,
                    -0.20652029903116498,
                    -0.20133575958251204,
                    -0.19425474154915512,
                    -0.1984192026548376,
                    -0.20110839869075514,
                    -0.20003910440958084,
                    -0.193857277870368,
                    -0.19600764537467874,
                    -0.1982891371407245,
                    -0.2016077483306672,
                    -0.20993842910148863,
                    -0.21075004413170362,
                    -0.22819508520560117,
                    -0.23736046758271612,
                    -0.2512585815825439,
                    -0.2619370080316109,
                    -0.2727621986026224,
                    -0.2917325545742836,
                    -0.31117345946051,
                    -0.3323303677762397,
                    -0.35325747220071757,
                    -0.36964000229948113,
                    -0.38807764814851375,
                    -0.40977952008405605,
                    -0.4328478672936408,
                    -0.4623267029022804,
                    -0.4867656800273392,
                    -0.5124373796963663,
                    -0.539947827752877,
                    -0.5637972442750877,
                    -0.5950399885909043,
                    -0.6215876301688309,
                    -0.6492025438336326,
                    -0.671970604123401,
                    -0.7031522471168965,
                    -0.7341608686129775,
                    -0.7653402366364869,
                    -0.796361324711379,
                    -0.8212144386268383,
                    -0.8383607317241573,
                    -0.8587792537138683,
                    -0.8741733649862604,
                    -0.8908339919550604,
                    -0.9027757416422455,
                    -0.9155671377216283,
                    -0.9256490284148915,
                    -0.9263800504453046,
                    -0.923658736491851,
                    -0.9251169478321296,
                    -0.9184933814718227,
                    -0.9079529763079499,
                    -0.895253753509971,
                    -0.8761208559967082,
                    -0.8522646719690278,
                    -0.8204535433819442,
                    -0.7905088290596944,
                    -0.7544635570548881,
                    -0.7162289575196693,
                    -0.6738659965054056,
                    -0.6269893817337879,
                    -0.5733553207353341,
                    -0.5193001095950733,
                    -0.4655732782622913,
                    -0.4030578597723178,
                    -0.33987676264659306,
                    -0.2756995353209523,
                    -0.2002275736279036,
                    -0.1287607065145358,
                    -0.05667750272649191,
                    0.021137533172788436,
                    0.10258109846589009,
                    0.1866379161584994,
                    0.26937685329868954,
                    0.3507258490973416,
                    0.43611224740779064,
                    0.5210650466171836,
                    0.6090660517407713,
                    0.6991794747880984,
                    0.7885447114285089,
                    0.8691594677093063,
                    0.9568112162993366,
                    1.0422155584794608,
                    1.1244943138643597,
                    1.2010799091770668,
                    1.283230325814873,
                    1.3580852097899885,
                    1.4304861383709722,
                    1.4947924518320033,
                    1.5577378020178885,
                    1.6184105871684977,
                    1.6825054181408734,
                    1.7373673960596374,
                    1.7877253343695183,
                    1.8384887760074542,
                    1.8785192140286098,
                    1.918158656835863,
                    1.9534749014543702,
                    1.9809952889288844,
                    2.0019926691927266,
                    2.021477794723774,
                    2.0375225558157406,
                    2.0430579954312673,
                    2.049242042216213,
                    2.048347619660982,
                    2.043813575469527,
                    2.0367624510294804,
                    2.0238784821943074,
                    2.0052053806535257,
                    1.9814678491900737,
                    1.9562826662256345,
                    1.9302378291675835,
                    1.8911911426169703,
                    1.8549080249997982,
                    1.8150040359760462,
                    1.771129736614482,
                    1.7220345137252862,
                    1.6663580469716797,
                    1.6048022695987036,
                    1.552466807740787,
                    1.4991517317696,
                    1.4434614258018947,
                    1.3869078238098904,
                    1.335253927531765,
                    1.281565606129345,
                    1.2271923373249252,
                    1.1709779212683218,
                    1.1145408316813348,
                    1.0662755224679539,
                    1.0125835204456104,
                    0.9620237570298369,
                    0.9162902182847152,
                    0.8762229454910637,
                    0.8424644058206857,
                    0.8066422595976567,
                    0.7813830181457928,
                    0.7564266708284583,
                    0.7372310859097875,
                    0.7278558937226425,
                    0.7171665844325872,
                    0.7165037140016246,
                    0.7248138256454899,
                    0.7304559490384437,
                    0.7453043414974255,
                    0.7595191027989994,
                    0.7794094779895429,
                    0.8128592313979738,
                    0.848028721527623,
                    0.8872100908743262,
                    0.9337868082395144,
                    0.9763979972645502,
                    1.0278049968495182,
                    1.079783952736777,
                    1.136143427511334,
                    1.199017400256395,
                    1.260337422415501,
                    1.3251624554218087,
                    1.3889010556734478,
                    1.4558475045884893,
                    1.5247849436422762,
                    1.5933016985180561,
                    1.6625480072967211,
                    1.730309111568533,
                    1.7955520410832801,
                    1.8650110705960832,
                    1.9332470104229293,
                    1.9962488336864173,
                    2.0543475708972885,
                    2.1153538502616365,
                    2.1691033170125245,
                    2.215124658210615,
                    2.2627572824274647,
                    2.310984054505894,
                    2.353741590123654,
                    2.3899712732824496,
                    2.417155229009696,
                    2.4465638843899074,
                    2.4693750745049288,
                    2.48477175060049,
                    2.4983004054265954,
                    2.5075455334112453,
                    2.5150533117764993,
                    2.516366674403751,
                    2.5126865353885677,
                    2.5031634117618835,
                    2.4929914127242907,
                    2.4823063757931667,
                    2.4654420818200027,
                    2.4452528537543277,
                    2.4127752745597455,
                    2.3876157658497816,
                    2.3610375379973405,
                    2.325655462725897,
                    2.2903848445265464,
                    2.259390950217293,
                    2.2235140951432157,
                    2.1839751524035225,
                    2.149279868418569,
                    2.1080499842639906,
                    2.0653370084979064,
                    2.0234689650077655,
                    1.979540916259125,
                    1.9350495810349577,
                    1.8897705929674546,
                    1.8487670246085814,
                    1.8068875155900708,
                    1.7591514201457652,
                    1.7155990225566635,
                    1.675333274144,
                    1.6341543686660556,
                    1.5960947003679657,
                    1.5550922588036133,
                    1.5188238951493571,
                    1.481222219341396,
                    1.4462168443177499,
                    1.4119250908956777,
                    1.3789346893601928,
                    1.3487843470426797,
                    1.3128347885823357,
                    1.2791115281101222,
                    1.2507332613017672,
                    1.2228717582201336,
                    1.1910906047415757,
                    1.166218429110524,
                    1.1376931752550408,
                    1.1130624062288865,
                    1.0846175234222255,
                    1.064058161816261,
                    1.0359099811040564,
                    1.0083817504311532,
                    0.9823516641575598,
                    0.956553331315454,
                    0.9311307119462112,
                    0.9017945566512992,
                    0.872442458693207,
                    0.8523001905318074,
                    0.8304259935280212,
                    0.8065626516628601,
                    0.7818278034422472,
                    0.7548944222056613,
                    0.7365310569132706
                  ],
                  "type": "scatterpolar"
                }
              ],
              "layout": {
                "polar": {
                  "radialaxis": {
                    "range": [
                      -3,
                      3
                    ]
                  }
                },
                "template": {
                  "data": {
                    "bar": [
                      {
                        "error_x": {
                          "color": "#2a3f5f"
                        },
                        "error_y": {
                          "color": "#2a3f5f"
                        },
                        "marker": {
                          "line": {
                            "color": "#E5ECF6",
                            "width": 0.5
                          },
                          "pattern": {
                            "fillmode": "overlay",
                            "size": 10,
                            "solidity": 0.2
                          }
                        },
                        "type": "bar"
                      }
                    ],
                    "barpolar": [
                      {
                        "marker": {
                          "line": {
                            "color": "#E5ECF6",
                            "width": 0.5
                          },
                          "pattern": {
                            "fillmode": "overlay",
                            "size": 10,
                            "solidity": 0.2
                          }
                        },
                        "type": "barpolar"
                      }
                    ],
                    "carpet": [
                      {
                        "aaxis": {
                          "endlinecolor": "#2a3f5f",
                          "gridcolor": "white",
                          "linecolor": "white",
                          "minorgridcolor": "white",
                          "startlinecolor": "#2a3f5f"
                        },
                        "baxis": {
                          "endlinecolor": "#2a3f5f",
                          "gridcolor": "white",
                          "linecolor": "white",
                          "minorgridcolor": "white",
                          "startlinecolor": "#2a3f5f"
                        },
                        "type": "carpet"
                      }
                    ],
                    "choropleth": [
                      {
                        "colorbar": {
                          "outlinewidth": 0,
                          "ticks": ""
                        },
                        "type": "choropleth"
                      }
                    ],
                    "contour": [
                      {
                        "colorbar": {
                          "outlinewidth": 0,
                          "ticks": ""
                        },
                        "colorscale": [
                          [
                            0,
                            "#0d0887"
                          ],
                          [
                            0.1111111111111111,
                            "#46039f"
                          ],
                          [
                            0.2222222222222222,
                            "#7201a8"
                          ],
                          [
                            0.3333333333333333,
                            "#9c179e"
                          ],
                          [
                            0.4444444444444444,
                            "#bd3786"
                          ],
                          [
                            0.5555555555555556,
                            "#d8576b"
                          ],
                          [
                            0.6666666666666666,
                            "#ed7953"
                          ],
                          [
                            0.7777777777777778,
                            "#fb9f3a"
                          ],
                          [
                            0.8888888888888888,
                            "#fdca26"
                          ],
                          [
                            1,
                            "#f0f921"
                          ]
                        ],
                        "type": "contour"
                      }
                    ],
                    "contourcarpet": [
                      {
                        "colorbar": {
                          "outlinewidth": 0,
                          "ticks": ""
                        },
                        "type": "contourcarpet"
                      }
                    ],
                    "heatmap": [
                      {
                        "colorbar": {
                          "outlinewidth": 0,
                          "ticks": ""
                        },
                        "colorscale": [
                          [
                            0,
                            "#0d0887"
                          ],
                          [
                            0.1111111111111111,
                            "#46039f"
                          ],
                          [
                            0.2222222222222222,
                            "#7201a8"
                          ],
                          [
                            0.3333333333333333,
                            "#9c179e"
                          ],
                          [
                            0.4444444444444444,
                            "#bd3786"
                          ],
                          [
                            0.5555555555555556,
                            "#d8576b"
                          ],
                          [
                            0.6666666666666666,
                            "#ed7953"
                          ],
                          [
                            0.7777777777777778,
                            "#fb9f3a"
                          ],
                          [
                            0.8888888888888888,
                            "#fdca26"
                          ],
                          [
                            1,
                            "#f0f921"
                          ]
                        ],
                        "type": "heatmap"
                      }
                    ],
                    "heatmapgl": [
                      {
                        "colorbar": {
                          "outlinewidth": 0,
                          "ticks": ""
                        },
                        "colorscale": [
                          [
                            0,
                            "#0d0887"
                          ],
                          [
                            0.1111111111111111,
                            "#46039f"
                          ],
                          [
                            0.2222222222222222,
                            "#7201a8"
                          ],
                          [
                            0.3333333333333333,
                            "#9c179e"
                          ],
                          [
                            0.4444444444444444,
                            "#bd3786"
                          ],
                          [
                            0.5555555555555556,
                            "#d8576b"
                          ],
                          [
                            0.6666666666666666,
                            "#ed7953"
                          ],
                          [
                            0.7777777777777778,
                            "#fb9f3a"
                          ],
                          [
                            0.8888888888888888,
                            "#fdca26"
                          ],
                          [
                            1,
                            "#f0f921"
                          ]
                        ],
                        "type": "heatmapgl"
                      }
                    ],
                    "histogram": [
                      {
                        "marker": {
                          "pattern": {
                            "fillmode": "overlay",
                            "size": 10,
                            "solidity": 0.2
                          }
                        },
                        "type": "histogram"
                      }
                    ],
                    "histogram2d": [
                      {
                        "colorbar": {
                          "outlinewidth": 0,
                          "ticks": ""
                        },
                        "colorscale": [
                          [
                            0,
                            "#0d0887"
                          ],
                          [
                            0.1111111111111111,
                            "#46039f"
                          ],
                          [
                            0.2222222222222222,
                            "#7201a8"
                          ],
                          [
                            0.3333333333333333,
                            "#9c179e"
                          ],
                          [
                            0.4444444444444444,
                            "#bd3786"
                          ],
                          [
                            0.5555555555555556,
                            "#d8576b"
                          ],
                          [
                            0.6666666666666666,
                            "#ed7953"
                          ],
                          [
                            0.7777777777777778,
                            "#fb9f3a"
                          ],
                          [
                            0.8888888888888888,
                            "#fdca26"
                          ],
                          [
                            1,
                            "#f0f921"
                          ]
                        ],
                        "type": "histogram2d"
                      }
                    ],
                    "histogram2dcontour": [
                      {
                        "colorbar": {
                          "outlinewidth": 0,
                          "ticks": ""
                        },
                        "colorscale": [
                          [
                            0,
                            "#0d0887"
                          ],
                          [
                            0.1111111111111111,
                            "#46039f"
                          ],
                          [
                            0.2222222222222222,
                            "#7201a8"
                          ],
                          [
                            0.3333333333333333,
                            "#9c179e"
                          ],
                          [
                            0.4444444444444444,
                            "#bd3786"
                          ],
                          [
                            0.5555555555555556,
                            "#d8576b"
                          ],
                          [
                            0.6666666666666666,
                            "#ed7953"
                          ],
                          [
                            0.7777777777777778,
                            "#fb9f3a"
                          ],
                          [
                            0.8888888888888888,
                            "#fdca26"
                          ],
                          [
                            1,
                            "#f0f921"
                          ]
                        ],
                        "type": "histogram2dcontour"
                      }
                    ],
                    "mesh3d": [
                      {
                        "colorbar": {
                          "outlinewidth": 0,
                          "ticks": ""
                        },
                        "type": "mesh3d"
                      }
                    ],
                    "parcoords": [
                      {
                        "line": {
                          "colorbar": {
                            "outlinewidth": 0,
                            "ticks": ""
                          }
                        },
                        "type": "parcoords"
                      }
                    ],
                    "pie": [
                      {
                        "automargin": true,
                        "type": "pie"
                      }
                    ],
                    "scatter": [
                      {
                        "fillpattern": {
                          "fillmode": "overlay",
                          "size": 10,
                          "solidity": 0.2
                        },
                        "type": "scatter"
                      }
                    ],
                    "scatter3d": [
                      {
                        "line": {
                          "colorbar": {
                            "outlinewidth": 0,
                            "ticks": ""
                          }
                        },
                        "marker": {
                          "colorbar": {
                            "outlinewidth": 0,
                            "ticks": ""
                          }
                        },
                        "type": "scatter3d"
                      }
                    ],
                    "scattercarpet": [
                      {
                        "marker": {
                          "colorbar": {
                            "outlinewidth": 0,
                            "ticks": ""
                          }
                        },
                        "type": "scattercarpet"
                      }
                    ],
                    "scattergeo": [
                      {
                        "marker": {
                          "colorbar": {
                            "outlinewidth": 0,
                            "ticks": ""
                          }
                        },
                        "type": "scattergeo"
                      }
                    ],
                    "scattergl": [
                      {
                        "marker": {
                          "colorbar": {
                            "outlinewidth": 0,
                            "ticks": ""
                          }
                        },
                        "type": "scattergl"
                      }
                    ],
                    "scattermapbox": [
                      {
                        "marker": {
                          "colorbar": {
                            "outlinewidth": 0,
                            "ticks": ""
                          }
                        },
                        "type": "scattermapbox"
                      }
                    ],
                    "scatterpolar": [
                      {
                        "marker": {
                          "colorbar": {
                            "outlinewidth": 0,
                            "ticks": ""
                          }
                        },
                        "type": "scatterpolar"
                      }
                    ],
                    "scatterpolargl": [
                      {
                        "marker": {
                          "colorbar": {
                            "outlinewidth": 0,
                            "ticks": ""
                          }
                        },
                        "type": "scatterpolargl"
                      }
                    ],
                    "scatterternary": [
                      {
                        "marker": {
                          "colorbar": {
                            "outlinewidth": 0,
                            "ticks": ""
                          }
                        },
                        "type": "scatterternary"
                      }
                    ],
                    "surface": [
                      {
                        "colorbar": {
                          "outlinewidth": 0,
                          "ticks": ""
                        },
                        "colorscale": [
                          [
                            0,
                            "#0d0887"
                          ],
                          [
                            0.1111111111111111,
                            "#46039f"
                          ],
                          [
                            0.2222222222222222,
                            "#7201a8"
                          ],
                          [
                            0.3333333333333333,
                            "#9c179e"
                          ],
                          [
                            0.4444444444444444,
                            "#bd3786"
                          ],
                          [
                            0.5555555555555556,
                            "#d8576b"
                          ],
                          [
                            0.6666666666666666,
                            "#ed7953"
                          ],
                          [
                            0.7777777777777778,
                            "#fb9f3a"
                          ],
                          [
                            0.8888888888888888,
                            "#fdca26"
                          ],
                          [
                            1,
                            "#f0f921"
                          ]
                        ],
                        "type": "surface"
                      }
                    ],
                    "table": [
                      {
                        "cells": {
                          "fill": {
                            "color": "#EBF0F8"
                          },
                          "line": {
                            "color": "white"
                          }
                        },
                        "header": {
                          "fill": {
                            "color": "#C8D4E3"
                          },
                          "line": {
                            "color": "white"
                          }
                        },
                        "type": "table"
                      }
                    ]
                  },
                  "layout": {
                    "annotationdefaults": {
                      "arrowcolor": "#2a3f5f",
                      "arrowhead": 0,
                      "arrowwidth": 1
                    },
                    "autotypenumbers": "strict",
                    "coloraxis": {
                      "colorbar": {
                        "outlinewidth": 0,
                        "ticks": ""
                      }
                    },
                    "colorscale": {
                      "diverging": [
                        [
                          0,
                          "#8e0152"
                        ],
                        [
                          0.1,
                          "#c51b7d"
                        ],
                        [
                          0.2,
                          "#de77ae"
                        ],
                        [
                          0.3,
                          "#f1b6da"
                        ],
                        [
                          0.4,
                          "#fde0ef"
                        ],
                        [
                          0.5,
                          "#f7f7f7"
                        ],
                        [
                          0.6,
                          "#e6f5d0"
                        ],
                        [
                          0.7,
                          "#b8e186"
                        ],
                        [
                          0.8,
                          "#7fbc41"
                        ],
                        [
                          0.9,
                          "#4d9221"
                        ],
                        [
                          1,
                          "#276419"
                        ]
                      ],
                      "sequential": [
                        [
                          0,
                          "#0d0887"
                        ],
                        [
                          0.1111111111111111,
                          "#46039f"
                        ],
                        [
                          0.2222222222222222,
                          "#7201a8"
                        ],
                        [
                          0.3333333333333333,
                          "#9c179e"
                        ],
                        [
                          0.4444444444444444,
                          "#bd3786"
                        ],
                        [
                          0.5555555555555556,
                          "#d8576b"
                        ],
                        [
                          0.6666666666666666,
                          "#ed7953"
                        ],
                        [
                          0.7777777777777778,
                          "#fb9f3a"
                        ],
                        [
                          0.8888888888888888,
                          "#fdca26"
                        ],
                        [
                          1,
                          "#f0f921"
                        ]
                      ],
                      "sequentialminus": [
                        [
                          0,
                          "#0d0887"
                        ],
                        [
                          0.1111111111111111,
                          "#46039f"
                        ],
                        [
                          0.2222222222222222,
                          "#7201a8"
                        ],
                        [
                          0.3333333333333333,
                          "#9c179e"
                        ],
                        [
                          0.4444444444444444,
                          "#bd3786"
                        ],
                        [
                          0.5555555555555556,
                          "#d8576b"
                        ],
                        [
                          0.6666666666666666,
                          "#ed7953"
                        ],
                        [
                          0.7777777777777778,
                          "#fb9f3a"
                        ],
                        [
                          0.8888888888888888,
                          "#fdca26"
                        ],
                        [
                          1,
                          "#f0f921"
                        ]
                      ]
                    },
                    "colorway": [
                      "#636efa",
                      "#EF553B",
                      "#00cc96",
                      "#ab63fa",
                      "#FFA15A",
                      "#19d3f3",
                      "#FF6692",
                      "#B6E880",
                      "#FF97FF",
                      "#FECB52"
                    ],
                    "font": {
                      "color": "#2a3f5f"
                    },
                    "geo": {
                      "bgcolor": "white",
                      "lakecolor": "white",
                      "landcolor": "#E5ECF6",
                      "showlakes": true,
                      "showland": true,
                      "subunitcolor": "white"
                    },
                    "hoverlabel": {
                      "align": "left"
                    },
                    "hovermode": "closest",
                    "mapbox": {
                      "style": "light"
                    },
                    "paper_bgcolor": "white",
                    "plot_bgcolor": "#E5ECF6",
                    "polar": {
                      "angularaxis": {
                        "gridcolor": "white",
                        "linecolor": "white",
                        "ticks": ""
                      },
                      "bgcolor": "#E5ECF6",
                      "radialaxis": {
                        "gridcolor": "white",
                        "linecolor": "white",
                        "ticks": ""
                      }
                    },
                    "scene": {
                      "xaxis": {
                        "backgroundcolor": "#E5ECF6",
                        "gridcolor": "white",
                        "gridwidth": 2,
                        "linecolor": "white",
                        "showbackground": true,
                        "ticks": "",
                        "zerolinecolor": "white"
                      },
                      "yaxis": {
                        "backgroundcolor": "#E5ECF6",
                        "gridcolor": "white",
                        "gridwidth": 2,
                        "linecolor": "white",
                        "showbackground": true,
                        "ticks": "",
                        "zerolinecolor": "white"
                      },
                      "zaxis": {
                        "backgroundcolor": "#E5ECF6",
                        "gridcolor": "white",
                        "gridwidth": 2,
                        "linecolor": "white",
                        "showbackground": true,
                        "ticks": "",
                        "zerolinecolor": "white"
                      }
                    },
                    "shapedefaults": {
                      "line": {
                        "color": "#2a3f5f"
                      }
                    },
                    "ternary": {
                      "aaxis": {
                        "gridcolor": "white",
                        "linecolor": "white",
                        "ticks": ""
                      },
                      "baxis": {
                        "gridcolor": "white",
                        "linecolor": "white",
                        "ticks": ""
                      },
                      "bgcolor": "#E5ECF6",
                      "caxis": {
                        "gridcolor": "white",
                        "linecolor": "white",
                        "ticks": ""
                      }
                    },
                    "title": {
                      "x": 0.05
                    },
                    "xaxis": {
                      "automargin": true,
                      "gridcolor": "white",
                      "linecolor": "white",
                      "ticks": "",
                      "title": {
                        "standoff": 15
                      },
                      "zerolinecolor": "white",
                      "zerolinewidth": 2
                    },
                    "yaxis": {
                      "automargin": true,
                      "gridcolor": "white",
                      "linecolor": "white",
                      "ticks": "",
                      "title": {
                        "standoff": 15
                      },
                      "zerolinecolor": "white",
                      "zerolinewidth": 2
                    }
                  }
                }
              }
            }
          },
          "metadata": {},
          "output_type": "display_data"
        }
      ],
      "source": [
        "def compute_representation(word, vocab_emb_matrix, path, coefs, filter):\n",
        "    \"\"\"Compute the word representation after applying coefficient and convolution filter.\"\"\"\n",
        "    id = tokenizer.convert_tokens_to_ids([word])[0]\n",
        "    print(str(tokenizer.decode([id])), end=' ')\n",
        "    word_repr = np.array([vocab_emb_matrix[id, dim] * coefs[i] for i, dim in enumerate(path)])\n",
        "    word_repr = circular_convolution(word_repr, filter)\n",
        "    return word_repr\n",
        "\n",
        "# List of words\n",
        "words = [\"love\", \"hate\"]\n",
        "\n",
        "# Compute representations for each word\n",
        "word_representations = [compute_representation(word, vocab_emb_matrix, path, coefs, filter) for word in words]\n",
        "\n",
        "# Plot the words\n",
        "fig = go.Figure()\n",
        "\n",
        "for word_repr, word in zip(word_representations, words):\n",
        "    fig.add_trace(go.Scatterpolar(r=word_repr, name=word, fill='toself', opacity=0.50))\n",
        "\n",
        "fig.update_layout(polar=dict(radialaxis=dict(range=[-3, 3])))\n",
        "fig.show()\n"
      ]
    },
    {
      "cell_type": "code",
      "execution_count": null,
      "metadata": {},
      "outputs": [],
      "source": []
    }
  ],
  "metadata": {
    "colab": {
      "provenance": []
    },
    "kernelspec": {
      "display_name": "Python 3",
      "name": "python3"
    },
    "language_info": {
      "codemirror_mode": {
        "name": "ipython",
        "version": 3
      },
      "file_extension": ".py",
      "mimetype": "text/x-python",
      "name": "python",
      "nbconvert_exporter": "python",
      "pygments_lexer": "ipython3",
      "version": "3.11.6"
    }
  },
  "nbformat": 4,
  "nbformat_minor": 0
}
