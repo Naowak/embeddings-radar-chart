{
  "cells": [
    {
      "cell_type": "markdown",
      "metadata": {
        "id": "m1pNf54eW96N"
      },
      "source": [
        "# Install & load model"
      ]
    },
    {
      "cell_type": "code",
      "execution_count": 1,
      "metadata": {
        "colab": {
          "base_uri": "https://localhost:8080/"
        },
        "id": "CKcdwIbCQkSb",
        "outputId": "4e087d4a-1772-4f97-dd04-d539fe3f2ecb"
      },
      "outputs": [
        {
          "name": "stdout",
          "output_type": "stream",
          "text": [
            "\n",
            "\u001b[1m[\u001b[0m\u001b[34;49mnotice\u001b[0m\u001b[1;39;49m]\u001b[0m\u001b[39;49m A new release of pip is available: \u001b[0m\u001b[31;49m23.2.1\u001b[0m\u001b[39;49m -> \u001b[0m\u001b[32;49m23.3.1\u001b[0m\n",
            "\u001b[1m[\u001b[0m\u001b[34;49mnotice\u001b[0m\u001b[1;39;49m]\u001b[0m\u001b[39;49m To update, run: \u001b[0m\u001b[32;49mpip install --upgrade pip\u001b[0m\n",
            "Note: you may need to restart the kernel to use updated packages.\n"
          ]
        }
      ],
      "source": [
        "%pip install transformers plotly tqdm numpy torch torchvision torchaudio pandas nbformat scipy"
      ]
    },
    {
      "cell_type": "code",
      "execution_count": 2,
      "metadata": {
        "colab": {
          "base_uri": "https://localhost:8080/"
        },
        "id": "gPoskQM7dXC-",
        "outputId": "2d27d097-29ba-4c39-f806-20378cd5a363"
      },
      "outputs": [
        {
          "name": "stderr",
          "output_type": "stream",
          "text": [
            "/Users/naowak/Thesis/code/embeddings-radar-chart/venv/lib/python3.11/site-packages/tqdm/auto.py:21: TqdmWarning: IProgress not found. Please update jupyter and ipywidgets. See https://ipywidgets.readthedocs.io/en/stable/user_install.html\n",
            "  from .autonotebook import tqdm as notebook_tqdm\n"
          ]
        },
        {
          "data": {
            "text/plain": [
              "<torch.autograd.grad_mode.no_grad at 0x105e14090>"
            ]
          },
          "execution_count": 2,
          "metadata": {},
          "output_type": "execute_result"
        }
      ],
      "source": [
        "from transformers import BertModel, BertTokenizer\n",
        "import plotly.express as px\n",
        "from tqdm import tqdm\n",
        "import glob\n",
        "import numpy as np\n",
        "import scipy\n",
        "import torch\n",
        "import random\n",
        "import plotly.graph_objects as go\n",
        "torch.no_grad()"
      ]
    },
    {
      "cell_type": "code",
      "execution_count": 3,
      "metadata": {
        "id": "zVtaIIEnPbw1"
      },
      "outputs": [],
      "source": [
        "model = BertModel.from_pretrained('bert-base-uncased')\n",
        "tokenizer = BertTokenizer.from_pretrained('bert-base-uncased')"
      ]
    },
    {
      "cell_type": "markdown",
      "metadata": {
        "id": "oepUZ3mZXDWy"
      },
      "source": [
        "# First view of the embeddings"
      ]
    },
    {
      "cell_type": "code",
      "execution_count": null,
      "metadata": {
        "colab": {
          "base_uri": "https://localhost:8080/"
        },
        "id": "P_lLeTTRRghL",
        "outputId": "b62cbd95-0e36-4498-c194-4f57720e108e"
      },
      "outputs": [],
      "source": [
        "text = \"The cat hunts the mice, it will kill\"\n",
        "tokens = tokenizer.tokenize(text)\n",
        "input_ids = tokenizer.convert_tokens_to_ids(tokens)\n",
        "print('\\n'.join([f\"{k}: {v}\" for k, v in dict(zip(tokens, input_ids)).items()]))"
      ]
    },
    {
      "cell_type": "code",
      "execution_count": null,
      "metadata": {
        "colab": {
          "base_uri": "https://localhost:8080/"
        },
        "id": "p2UUHz1mRpXS",
        "outputId": "b10bcc1b-8917-49bc-916d-e0d02cd33647"
      },
      "outputs": [],
      "source": [
        "input_tensor = torch.tensor(input_ids).unsqueeze(0)\n",
        "outputs = model(input_tensor)\n",
        "embeddings = outputs.last_hidden_state[0]\n",
        "print(embeddings, '\\n')\n",
        "print(embeddings.shape)"
      ]
    },
    {
      "cell_type": "code",
      "execution_count": null,
      "metadata": {
        "colab": {
          "base_uri": "https://localhost:8080/"
        },
        "id": "wa3sjy8VU8qG",
        "outputId": "67c03efa-f58b-4933-e640-47edae53d61c"
      },
      "outputs": [],
      "source": [
        "outputs = model(torch.tensor([4937]).unsqueeze(0))\n",
        "cat_embed = outputs.last_hidden_state[0]\n",
        "print(embeddings[1, :3])\n",
        "print(cat_embed[:,:3])"
      ]
    },
    {
      "cell_type": "markdown",
      "metadata": {
        "id": "AoDCae63XNNH"
      },
      "source": [
        "# Get \"raw\" embeddings for each token"
      ]
    },
    {
      "cell_type": "code",
      "execution_count": null,
      "metadata": {
        "colab": {
          "base_uri": "https://localhost:8080/"
        },
        "id": "okHZzGFwTMPH",
        "outputId": "4ca06550-30c9-4572-dee7-2b0c5c791792"
      },
      "outputs": [],
      "source": [
        "vocab = list(tokenizer.get_vocab().keys())\n",
        "print(vocab[10000:10010])\n",
        "print(\"Length:\", len(vocab))"
      ]
    },
    {
      "cell_type": "code",
      "execution_count": null,
      "metadata": {
        "colab": {
          "base_uri": "https://localhost:8080/"
        },
        "id": "8jwKzuReXyn4",
        "outputId": "656aa8db-2c58-4c25-b0dc-cdfbcff3914e"
      },
      "outputs": [],
      "source": [
        "tokenizer.convert_tokens_to_ids(tokenizer.tokenize(\"hello\"))"
      ]
    },
    {
      "cell_type": "code",
      "execution_count": null,
      "metadata": {
        "colab": {
          "base_uri": "https://localhost:8080/",
          "height": 56
        },
        "id": "krMbg2HtYO2N",
        "outputId": "143d8f7d-958d-4930-f972-26890a2cd4cf"
      },
      "outputs": [],
      "source": [
        "tokenizer.decode(torch.tensor([7592]))"
      ]
    },
    {
      "cell_type": "code",
      "execution_count": null,
      "metadata": {
        "colab": {
          "base_uri": "https://localhost:8080/"
        },
        "id": "-h8lj2rOTDjt",
        "outputId": "040d0682-fa70-49ff-a6da-09153825e984"
      },
      "outputs": [],
      "source": [
        "begin = 0\n",
        "end = len(vocab)\n",
        "\n",
        "vocab_emb = [model(torch.tensor([i]).unsqueeze(0)).last_hidden_state[0] for i in tqdm(range(begin, end))]\n",
        "vocab_emb = torch.stack(vocab_emb).reshape(-1, 768).detach().numpy()\n",
        "np.save(f\"vocab_emb_matrix.npy\", vocab_emb)\n",
        "#np.save(f\"vocab_emb_matrix_{begin}-{end}.npy\", vocab_emb)"
      ]
    },
    {
      "cell_type": "code",
      "execution_count": null,
      "metadata": {
        "id": "i600DH9Tptcx"
      },
      "outputs": [],
      "source": [
        "# In case you want to concatenate the matrices from different runs\n",
        "\n",
        "file_list = glob.glob(\"*.npy\")\n",
        "matrices = [np.load(file) for file in file_list]\n",
        "vocab_emb_matrix = np.concatenate(matrices, axis=0)\n",
        "np.save('vocab_emb_matrix.npy', vocab_emb_matrix)"
      ]
    },
    {
      "cell_type": "code",
      "execution_count": null,
      "metadata": {
        "colab": {
          "base_uri": "https://localhost:8080/"
        },
        "id": "TYzwdkONqKgK",
        "outputId": "29e8f613-2c32-410a-8798-ee772e5070c6"
      },
      "outputs": [],
      "source": [
        "vocab_emb_matrix.shape"
      ]
    },
    {
      "cell_type": "code",
      "execution_count": null,
      "metadata": {},
      "outputs": [],
      "source": [
        "fig = px.histogram(vocab_emb_matrix[:, 200])\n",
        "fig.show()"
      ]
    },
    {
      "cell_type": "markdown",
      "metadata": {
        "id": "u_-kpq6NqPM-"
      },
      "source": [
        "Compute correlation and display it"
      ]
    },
    {
      "cell_type": "code",
      "execution_count": null,
      "metadata": {
        "colab": {
          "base_uri": "https://localhost:8080/"
        },
        "id": "XEfRZ6ASqUtZ",
        "outputId": "9a3de68d-da26-4322-9604-9a0ac4d44df6"
      },
      "outputs": [],
      "source": [
        "# Charger la matrice concaténée\n",
        "vocab_emb_matrix = np.load('vocab_emb_matrix.npy')\n",
        "\n",
        "# Calculer la moyenne et l'écart-type pour chaque colonne\n",
        "means = np.mean(vocab_emb_matrix, axis=0)\n",
        "std_devs = np.std(vocab_emb_matrix, axis=0)\n",
        "\n",
        "# Normalisation : soustraire la moyenne et diviser par l'écart-type pour chaque colonne\n",
        "vocab_emb_matrix = (vocab_emb_matrix - means) / std_devs\n",
        "\n",
        "# Vérification\n",
        "print(\"Moyennes:\", np.mean(vocab_emb_matrix, axis=0)[:5])\n",
        "print(\"Écarts-types:\", np.std(vocab_emb_matrix, axis=0)[:5])"
      ]
    },
    {
      "cell_type": "code",
      "execution_count": null,
      "metadata": {},
      "outputs": [],
      "source": [
        "# Calculer la matrice de corrélation\n",
        "correlation_matrix = np.corrcoef(vocab_emb_matrix, rowvar=False)\n",
        "np.save('correlation_matrix.npy', correlation_matrix)\n",
        "\n",
        "# Print the shape\n",
        "print('shape', correlation_matrix.shape)\n",
        "\n",
        "# Display heatmap\n",
        "fig = px.imshow(correlation_matrix)\n",
        "fig.show()"
      ]
    },
    {
      "cell_type": "code",
      "execution_count": null,
      "metadata": {},
      "outputs": [],
      "source": [
        "import numpy as np\n",
        "import plotly.graph_objects as go\n",
        "\n",
        "def matrix_stats(matrix):\n",
        "    \"\"\"Retourne les statistiques de la matrice en excluant la diagonale.\"\"\"\n",
        "    values = matrix[~np.eye(matrix.shape[0],dtype=bool)]\n",
        "    return {\n",
        "        'min': np.min(values),\n",
        "        'max': np.max(values),\n",
        "        'mean': np.mean(values),\n",
        "        'median': np.median(values)\n",
        "    }\n",
        "\n",
        "# Supposons que corr_matrix soit votre matrice de corrélation\n",
        "# corr_matrix = np.corrcoef(data, rowvar=False)  # Exemple\n",
        "\n",
        "stats = matrix_stats(correlation_matrix)\n",
        "print(\"Statistics:\", stats)\n",
        "\n",
        "# Histogramme des valeurs de corrélation\n",
        "fig2 = go.Figure(data=go.Histogram(x=correlation_matrix[~np.eye(correlation_matrix.shape[0], dtype=bool)], nbinsx=50))\n",
        "fig2.update_layout(title='Distribution des Valeurs de Corrélation', xaxis_title='Valeur de Corrélation', yaxis_title='Compte')\n",
        "fig2.show()\n"
      ]
    },
    {
      "cell_type": "code",
      "execution_count": null,
      "metadata": {
        "colab": {
          "base_uri": "https://localhost:8080/",
          "height": 562
        },
        "id": "jrE_RC9lrUV1",
        "outputId": "3896c6ba-d484-4fd3-c78a-3139b4e34136"
      },
      "outputs": [],
      "source": [
        "fig = px.line(correlation_matrix[100])\n",
        "fig.show()"
      ]
    },
    {
      "cell_type": "code",
      "execution_count": null,
      "metadata": {},
      "outputs": [],
      "source": [
        "corr_matrix_no_diag = np.copy(correlation_matrix)\n",
        "np.fill_diagonal(corr_matrix_no_diag, 0)\n",
        "maxs = np.max(corr_matrix_no_diag, axis=1)\n",
        "mins = np.min(corr_matrix_no_diag, axis=1)\n",
        "\n",
        "# Création des histogrammes avec plotly.graph_objects\n",
        "fig = go.Figure()\n",
        "fig.add_trace(go.Histogram(x=maxs, name='Maxs', opacity=0.75))\n",
        "fig.add_trace(go.Histogram(x=mins, name='Mins', opacity=0.75))\n",
        "\n",
        "# Mise à jour du layout pour mieux visualiser les histogrammes superposés\n",
        "fig.update_layout(barmode='overlay', title=\"Distribution des Maxs et Mins\")\n",
        "fig.show()"
      ]
    },
    {
      "cell_type": "code",
      "execution_count": null,
      "metadata": {},
      "outputs": [],
      "source": [
        "coef_corr = 0.5\n",
        "no_corr_dims = [dmax < coef_corr and dmin > -coef_corr for dmax, dmin in zip(maxs, mins)]\n",
        "print(f\"Nombre de dimensions sans corrélation: {sum(no_corr_dims)}/{len(no_corr_dims)}\")\n",
        "#print(f\"Dimensions sans corrélation: {np.where(no_corr_dims)}\")\n",
        "\n",
        "print('Moyenne des correlations max pour les dim sans corr:', np.mean(maxs[no_corr_dims]))\n",
        "print('Moyenne des correlations min pour les dim sans corr:', np.mean(mins[no_corr_dims]))"
      ]
    },
    {
      "cell_type": "markdown",
      "metadata": {},
      "source": [
        "# Study absolute correlation "
      ]
    },
    {
      "cell_type": "code",
      "execution_count": null,
      "metadata": {},
      "outputs": [],
      "source": [
        "# Charger la matrice concaténée\n",
        "correlation_matrix = np.load('correlation_matrix.npy')\n",
        "\n",
        "# Calculer la matrice de corrélation absolue\n",
        "abs_corr_matrix = np.abs(correlation_matrix)\n",
        "\n",
        "# Display heatmap\n",
        "fig = px.imshow(abs_corr_matrix)\n",
        "fig.show()\n",
        "\n",
        "# Histogramme des valeurs de corrélation absolue\n",
        "fig2 = go.Figure(data=go.Histogram(x=abs_corr_matrix[~np.eye(correlation_matrix.shape[0], dtype=bool)], nbinsx=50))\n",
        "fig2.update_layout(title='Distribution des Valeurs de Corrélation', xaxis_title='Valeur de Corrélation', yaxis_title='Compte')\n",
        "fig2.show()"
      ]
    },
    {
      "cell_type": "markdown",
      "metadata": {},
      "source": [
        "# Sort dimensions (absolute correlation)"
      ]
    },
    {
      "cell_type": "code",
      "execution_count": 45,
      "metadata": {},
      "outputs": [
        {
          "name": "stdout",
          "output_type": "stream",
          "text": [
            "Gen 0: 1085794.1356755034\n",
            "Gen 1: 1085643.418171864\n",
            "Gen 2: 1084824.2151979185\n",
            "Gen 3: 1084348.0236226844\n",
            "Gen 4: 1082817.056391608\n",
            "Gen 5: 1082290.0322586985\n",
            "Gen 6: 1081241.4408383835\n",
            "Gen 7: 1080115.1656163265\n",
            "Gen 8: 1079152.4288942986\n",
            "Gen 9: 1077364.3173742716\n",
            "Gen 10: 1075586.4845291423\n",
            "Gen 11: 1073924.99164325\n",
            "Gen 12: 1072395.5149253255\n",
            "Gen 13: 1070902.653328526\n",
            "Gen 14: 1068881.2657587673\n",
            "Gen 15: 1067558.5982620735\n",
            "Gen 16: 1065692.2082789359\n",
            "Gen 17: 1063155.6839707985\n",
            "Gen 18: 1061190.7020502056\n",
            "Gen 19: 1059052.819226459\n",
            "Gen 20: 1055963.476367694\n",
            "Gen 21: 1054495.98836774\n",
            "Gen 22: 1052445.2166018372\n",
            "Gen 23: 1051306.6335522057\n",
            "Gen 24: 1050050.2486386658\n",
            "Gen 25: 1048384.9362980399\n",
            "Gen 26: 1046300.5401706774\n",
            "Gen 27: 1044422.3200015379\n",
            "Gen 28: 1042190.1445735891\n",
            "Gen 29: 1041364.3004994459\n",
            "Gen 30: 1039118.6055399809\n",
            "Gen 31: 1038350.9711677422\n",
            "Gen 32: 1036989.1890940322\n",
            "Gen 33: 1035016.3315702028\n",
            "Gen 34: 1032540.8266377762\n",
            "Gen 35: 1030987.4130681419\n",
            "Gen 36: 1027438.5201953356\n",
            "Gen 37: 1026255.4308109595\n",
            "Gen 38: 1024741.4179758038\n",
            "Gen 39: 1022678.5882815862\n",
            "Gen 40: 1020843.1553006852\n",
            "Gen 41: 1017906.0761117914\n",
            "Gen 42: 1017039.1174630953\n",
            "Gen 43: 1015115.5275463935\n",
            "Gen 44: 1014052.6190152366\n",
            "Gen 45: 1011503.9497248388\n",
            "Gen 46: 1009900.0398343097\n",
            "Gen 47: 1007756.2777078699\n",
            "Gen 48: 1004844.1954526324\n",
            "Gen 49: 1004177.5025416106\n",
            "Gen 50: 1003096.5967478139\n",
            "Gen 51: 1001642.8699718976\n",
            "Gen 52: 1000247.2844345323\n",
            "Gen 53: 998212.578143732\n",
            "Gen 54: 995739.1372051432\n",
            "Gen 55: 994348.1708695021\n",
            "Gen 56: 993028.8416223961\n",
            "Gen 57: 992032.5895235459\n",
            "Gen 58: 989086.7581652411\n",
            "Gen 59: 988431.820962752\n",
            "Gen 60: 986725.8951850865\n",
            "Gen 61: 985156.1185466886\n",
            "Gen 62: 983414.1952797454\n",
            "Gen 63: 982348.3131985667\n",
            "Gen 64: 981529.8433886092\n",
            "Gen 65: 980815.0416589645\n",
            "Gen 66: 978455.2128800598\n",
            "Gen 67: 977878.6237660857\n",
            "Gen 68: 977036.4357338254\n",
            "Gen 69: 975498.6291303511\n",
            "Gen 70: 973995.2170741227\n",
            "Gen 71: 973618.0434879466\n",
            "Gen 72: 972571.143829144\n",
            "Gen 73: 971436.1241160688\n",
            "Gen 74: 970456.4507545236\n",
            "Gen 75: 968535.6546386173\n",
            "Gen 76: 967164.9363227356\n",
            "Gen 77: 966290.194493119\n",
            "Gen 78: 965283.3064766608\n",
            "Gen 79: 963259.9462533803\n",
            "Gen 80: 962126.9508999687\n",
            "Gen 81: 960744.7728684039\n",
            "Gen 82: 959719.1725810833\n",
            "Gen 83: 958471.7809806304\n",
            "Gen 84: 957225.8577401717\n",
            "Gen 85: 956522.012441248\n",
            "Gen 86: 955581.4414609141\n",
            "Gen 87: 954286.7617351295\n",
            "Gen 88: 953500.1998935802\n",
            "Gen 89: 952179.243629407\n",
            "Gen 90: 950713.033906931\n",
            "Gen 91: 949827.7481820062\n",
            "Gen 92: 948828.8722238465\n",
            "Gen 93: 948206.9185432624\n",
            "Gen 94: 947421.032947469\n",
            "Gen 95: 946021.6563108985\n",
            "Gen 96: 944750.1403036318\n",
            "Gen 97: 944321.8823510336\n",
            "Gen 98: 943141.5153256231\n",
            "Gen 99: 942145.5209911718\n",
            "Gen 100: 941317.7854814355\n",
            "Gen 101: 939866.3443414955\n",
            "Gen 102: 939287.2823122767\n",
            "Gen 103: 938127.2046935705\n",
            "Gen 104: 936951.5623142727\n",
            "Gen 105: 936251.480271284\n",
            "Gen 106: 935677.4857538746\n",
            "Gen 107: 935250.8620101336\n",
            "Gen 108: 934526.5298864171\n",
            "Gen 109: 933222.7741332189\n",
            "Gen 110: 932676.7122164601\n",
            "Gen 111: 931789.6669837392\n",
            "Gen 112: 931436.1507116306\n",
            "Gen 113: 931296.5792537018\n",
            "Gen 114: 931036.9285903941\n",
            "Gen 115: 930590.9190332592\n",
            "Gen 116: 929538.8952847301\n",
            "Gen 117: 929458.9226571776\n",
            "Gen 118: 928652.9172393251\n",
            "Gen 119: 928318.594132277\n",
            "Gen 120: 927403.2433755249\n",
            "Gen 121: 927389.9981613427\n",
            "Gen 122: 926969.6464530664\n",
            "Gen 123: 926024.8630222537\n",
            "Gen 124: 925600.8375293679\n",
            "Gen 125: 924853.5799430273\n",
            "Gen 126: 925070.0173756656\n",
            "Gen 127: 924375.1679718024\n",
            "Gen 128: 924228.739839697\n",
            "Gen 129: 923890.6852238288\n",
            "Gen 130: 923421.0996058149\n",
            "Gen 131: 922638.1849593285\n",
            "Gen 132: 922033.1757745817\n",
            "Gen 133: 921790.7983066222\n",
            "Gen 134: 921440.2954625504\n",
            "Gen 135: 921208.9765857231\n",
            "Gen 136: 920858.7594340912\n",
            "Gen 137: 920358.3685949472\n",
            "Gen 138: 919646.3143393383\n",
            "Gen 139: 919341.2076061094\n",
            "Gen 140: 919122.6673714851\n",
            "Gen 141: 918573.2449396608\n",
            "Gen 142: 917867.4691967351\n",
            "Gen 143: 917952.0772281257\n",
            "Gen 144: 917842.2562678731\n",
            "Gen 145: 917414.4037073154\n",
            "Gen 146: 916586.0673977067\n",
            "Gen 147: 915961.0831960634\n",
            "Gen 148: 915779.0543871623\n",
            "Gen 149: 915078.6986837287\n",
            "Gen 150: 915042.0093292036\n",
            "Gen 151: 914283.0911492393\n",
            "Gen 152: 914177.9587040703\n",
            "Gen 153: 913864.5340981784\n",
            "Gen 154: 913613.8176792609\n",
            "Gen 155: 913193.4735140301\n",
            "Gen 156: 912452.0385883586\n",
            "Gen 157: 912091.6578212099\n",
            "Gen 158: 911973.9828392579\n",
            "Gen 159: 911899.1539741507\n",
            "Gen 160: 911429.8517032553\n",
            "Gen 161: 911058.2097395731\n",
            "Gen 162: 911297.0864258625\n",
            "Gen 163: 911067.3671333638\n",
            "Gen 164: 910673.5519940616\n",
            "Gen 165: 910530.9569197051\n",
            "Gen 166: 910197.2594076573\n",
            "Gen 167: 909938.6987382713\n",
            "Gen 168: 909820.4362508715\n",
            "Gen 169: 909216.9890868568\n",
            "Gen 170: 908774.6406837649\n",
            "Gen 171: 908706.461469224\n",
            "Gen 172: 908842.070345916\n",
            "Gen 173: 908358.4721773755\n",
            "Gen 174: 908427.4577896792\n",
            "Gen 175: 908173.4434748957\n",
            "Gen 176: 908042.9046651968\n",
            "Gen 177: 907815.4132564968\n",
            "Gen 178: 907718.8718197307\n",
            "Gen 179: 907822.2208350702\n",
            "Gen 180: 907742.8985293584\n",
            "Gen 181: 907600.366143367\n",
            "Gen 182: 907564.735003001\n",
            "Gen 183: 907321.4826054754\n",
            "Gen 184: 907203.0387469023\n",
            "Gen 185: 907008.5181647147\n",
            "Gen 186: 907252.8414926617\n",
            "Gen 187: 906885.0420600907\n",
            "Gen 188: 906917.9270549251\n",
            "Gen 189: 906751.211372945\n",
            "Gen 190: 906646.6583294567\n",
            "Gen 191: 906494.8696275979\n",
            "Gen 192: 906085.6969800806\n",
            "Gen 193: 905577.5634303065\n",
            "Gen 194: 905200.3555278059\n",
            "Gen 195: 905036.0487920766\n",
            "Gen 196: 904799.2364776235\n",
            "Gen 197: 904068.7971602204\n",
            "Gen 198: 904187.0133684281\n",
            "Gen 199: 904322.2297475798\n",
            "Gen 200: 904204.7411128384\n",
            "Gen 201: 904224.170120649\n",
            "Gen 202: 903972.1319372512\n",
            "Gen 203: 903772.3789375996\n",
            "Gen 204: 903902.3491068706\n",
            "Gen 205: 903524.5620806416\n",
            "Gen 206: 902643.1442117089\n",
            "Gen 207: 902863.842031009\n",
            "Gen 208: 902754.744892141\n",
            "Gen 209: 902975.8662798429\n",
            "Gen 210: 902896.6552058752\n",
            "Gen 211: 902540.3902686232\n",
            "Gen 212: 902031.9236702175\n",
            "Gen 213: 902178.7781447908\n",
            "Gen 214: 902254.6038720196\n",
            "Gen 215: 902207.5821705132\n",
            "Gen 216: 902190.0144448575\n",
            "Gen 217: 902243.7267854778\n",
            "Gen 218: 901995.0777907176\n",
            "Gen 219: 901931.0073157409\n",
            "Gen 220: 901844.8492220769\n",
            "Gen 221: 901599.6770535214\n",
            "Gen 222: 901943.6339169813\n",
            "Gen 223: 901756.2931420278\n",
            "Gen 224: 901470.7488384147\n",
            "Gen 225: 901488.2645795211\n",
            "Gen 226: 901601.453767678\n",
            "Gen 227: 901281.3528305659\n",
            "Gen 228: 901197.9538813763\n",
            "Gen 229: 900797.6683586771\n",
            "Gen 230: 900974.5314032286\n",
            "Gen 231: 900677.8410776266\n",
            "Gen 232: 900289.2140437004\n",
            "Gen 233: 900703.4386845323\n",
            "Gen 234: 900270.3874958016\n",
            "Gen 235: 899995.3968327522\n",
            "Gen 236: 899947.3100195578\n",
            "Gen 237: 900084.1373074581\n",
            "Gen 238: 899717.7474383835\n",
            "Gen 239: 899928.6589490743\n",
            "Gen 240: 899785.2162001785\n",
            "Gen 241: 899826.5413211295\n",
            "Gen 242: 899777.0001695756\n",
            "Gen 243: 899705.8210175018\n",
            "Gen 244: 899856.2530652084\n",
            "Gen 245: 899781.4632930744\n",
            "Gen 246: 899763.1142042786\n",
            "Gen 247: 899659.2139578502\n",
            "Gen 248: 899430.2559149804\n",
            "Gen 249: 899307.6776096161\n",
            "Gen 250: 899303.3092429087\n",
            "Gen 251: 899209.2235324893\n",
            "Gen 252: 899085.2438615958\n",
            "Gen 253: 898333.5048852938\n",
            "Gen 254: 898528.24921998\n",
            "Gen 255: 898554.4830003859\n",
            "Gen 256: 898331.8622440527\n",
            "Gen 257: 898389.0305497742\n",
            "Gen 258: 898586.7868922612\n",
            "Gen 259: 898261.4713981079\n",
            "Gen 260: 898505.1183757506\n",
            "Gen 261: 898431.735538493\n",
            "Gen 262: 898354.6381198124\n",
            "Gen 263: 898550.6326388572\n",
            "Gen 264: 898547.4117837129\n",
            "Gen 265: 898644.7437008189\n",
            "Gen 266: 898640.1267151209\n",
            "Gen 267: 898370.2937013328\n",
            "Gen 268: 898354.9014571069\n",
            "Gen 269: 898420.2336691137\n",
            "Gen 270: 898022.8578500699\n",
            "Gen 271: 898173.894254662\n",
            "Gen 272: 898255.813520197\n",
            "Gen 273: 897885.8688601886\n",
            "Gen 274: 898289.806401738\n",
            "Gen 275: 898380.5720232528\n",
            "Gen 276: 897768.3848080382\n",
            "Gen 277: 897669.7446261849\n",
            "Gen 278: 897856.0802572176\n",
            "Gen 279: 897539.7525003204\n",
            "Gen 280: 897880.4424773846\n",
            "Gen 281: 897731.1520068904\n",
            "Gen 282: 897667.3061178436\n",
            "Gen 283: 897763.1613510832\n",
            "Gen 284: 897560.1725378024\n",
            "Gen 285: 897624.1213542791\n",
            "Gen 286: 897439.478561369\n",
            "Gen 287: 897450.4559329565\n",
            "Gen 288: 897356.6339716141\n",
            "Gen 289: 897380.8111762302\n",
            "Gen 290: 897467.397903529\n",
            "Gen 291: 897498.9707440602\n",
            "Gen 292: 897370.7054613444\n",
            "Gen 293: 897135.390888664\n",
            "Gen 294: 897213.1688704825\n",
            "Gen 295: 897136.6845557599\n",
            "Gen 296: 896844.498312376\n",
            "Gen 297: 896807.577470527\n",
            "Gen 298: 896638.7724041117\n",
            "Gen 299: 896979.3832802951\n",
            "Gen 300: 896844.4416580747\n",
            "Gen 301: 896847.1300851005\n",
            "Gen 302: 896797.003447377\n",
            "Gen 303: 896466.0530232235\n",
            "Gen 304: 896514.2742536194\n",
            "Gen 305: 896628.6405901602\n",
            "Gen 306: 896548.1005013388\n",
            "Gen 307: 896479.7862891925\n",
            "Gen 308: 896524.7093716183\n",
            "Gen 309: 896469.9697767436\n",
            "Gen 310: 896562.4982197096\n",
            "Gen 311: 896338.9022983562\n",
            "Gen 312: 896482.5741392908\n",
            "Gen 313: 896520.4750447623\n",
            "Gen 314: 896700.4613705658\n",
            "Gen 315: 896408.912190763\n",
            "Gen 316: 896225.6095307274\n",
            "Gen 317: 896485.1452816506\n",
            "Gen 318: 896231.4688204761\n",
            "Gen 319: 896374.1970839172\n",
            "Gen 320: 896284.6689337144\n",
            "Gen 321: 896354.6678782599\n",
            "Gen 322: 896326.1950615024\n",
            "Gen 323: 896495.1444345837\n",
            "Gen 324: 895919.3272432989\n",
            "Gen 325: 896142.1834704694\n",
            "Gen 326: 896266.4060492628\n",
            "Gen 327: 896232.0914420071\n",
            "Gen 328: 895457.6765406162\n",
            "Gen 329: 895553.8487133661\n",
            "Gen 330: 895362.6576153967\n",
            "Gen 331: 895641.4581289255\n",
            "Gen 332: 895687.8240019795\n",
            "Gen 333: 895645.7073127195\n",
            "Gen 334: 895593.5833352964\n",
            "Gen 335: 895736.7399623435\n",
            "Gen 336: 895633.0796265634\n",
            "Gen 337: 895478.6185977854\n",
            "Gen 338: 895290.6681627696\n",
            "Gen 339: 895331.1827275148\n",
            "Gen 340: 895305.2187448891\n",
            "Gen 341: 895259.8851781054\n",
            "Gen 342: 895318.5769016155\n",
            "Gen 343: 895283.7602147771\n",
            "Gen 344: 895271.2040670833\n",
            "Gen 345: 895406.2793531329\n",
            "Gen 346: 895159.7689836049\n",
            "Gen 347: 894888.2582269146\n",
            "Gen 348: 894908.2831132953\n",
            "Gen 349: 894842.5563237108\n",
            "Gen 350: 894862.4014353636\n",
            "Gen 351: 894873.2734959183\n",
            "Gen 352: 894731.9575651707\n",
            "Gen 353: 894789.4418073067\n",
            "Gen 354: 894592.1426597346\n",
            "Gen 355: 894527.3617605483\n",
            "Gen 356: 894675.7762911788\n",
            "Gen 357: 894683.8483083122\n",
            "Gen 358: 894584.6647030085\n",
            "Gen 359: 894455.3350090462\n",
            "Gen 360: 894526.9211019975\n",
            "Gen 361: 894448.2465915176\n",
            "Gen 362: 894060.4114208904\n",
            "Gen 363: 894108.0135304971\n",
            "Gen 364: 894114.2833768035\n",
            "Gen 365: 894115.396562527\n",
            "Gen 366: 893834.8046833139\n",
            "Gen 367: 894151.2835437718\n",
            "Gen 368: 893564.0141035987\n",
            "Gen 369: 893912.3763580367\n",
            "Gen 370: 893744.2669019842\n",
            "Gen 371: 894000.9469986672\n",
            "Gen 372: 893860.1527995765\n",
            "Gen 373: 893589.612115692\n",
            "Gen 374: 893605.276377063\n",
            "Gen 375: 893478.662026668\n",
            "Gen 376: 893182.8863952564\n",
            "Gen 377: 893298.4840759776\n",
            "Gen 378: 893249.2861291473\n",
            "Gen 379: 893172.162852108\n",
            "Gen 380: 892888.587906553\n",
            "Gen 381: 893079.2558449322\n",
            "Gen 382: 893080.7874242464\n",
            "Gen 383: 892937.0485367789\n",
            "Gen 384: 892952.3894952838\n",
            "Gen 385: 893085.3826997956\n",
            "Gen 386: 893020.9229066933\n",
            "Gen 387: 893115.8380357209\n",
            "Gen 388: 892813.1126122414\n",
            "Gen 389: 892788.0920200126\n",
            "Gen 390: 892565.626602486\n",
            "Gen 391: 892640.0937824256\n",
            "Gen 392: 892754.9716313959\n",
            "Gen 393: 892663.1115415485\n",
            "Gen 394: 892795.9847336329\n",
            "Gen 395: 892564.9952839197\n",
            "Gen 396: 892449.0482432592\n",
            "Gen 397: 892458.2635235982\n",
            "Gen 398: 892476.4551190749\n",
            "Gen 399: 892309.4663443672\n",
            "Gen 400: 892361.9377936162\n",
            "Gen 401: 892448.2798149264\n",
            "Gen 402: 892534.2171497266\n",
            "Gen 403: 892465.790037004\n",
            "Gen 404: 892695.3964823909\n",
            "Gen 405: 892693.6642016958\n",
            "Gen 406: 892621.5793543203\n",
            "Gen 407: 892673.0816288423\n",
            "Gen 408: 892573.4697386556\n",
            "Gen 409: 892526.7790116534\n",
            "Gen 410: 892564.4679932942\n",
            "Gen 411: 892511.5763744942\n",
            "Gen 412: 892468.6085839813\n",
            "Gen 413: 892429.4704558799\n",
            "Gen 414: 892652.7683206056\n",
            "Gen 415: 892500.8623084555\n",
            "Gen 416: 892516.7699426668\n",
            "Gen 417: 892610.7840351316\n",
            "Gen 418: 892797.4916616401\n",
            "Gen 419: 892767.8279728137\n",
            "Gen 420: 892887.9600624793\n",
            "Gen 421: 892685.9221134603\n",
            "Gen 422: 892481.5450479995\n",
            "Gen 423: 892680.8837475493\n",
            "Gen 424: 892471.162533099\n",
            "Gen 425: 892376.8699674101\n",
            "Gen 426: 892022.9127169243\n",
            "Gen 427: 892195.676609589\n",
            "Gen 428: 892261.9413595246\n",
            "Gen 429: 892330.1790278886\n",
            "Gen 430: 892324.5448951361\n",
            "Gen 431: 892120.3085215195\n",
            "Gen 432: 891890.0750274407\n",
            "Gen 433: 892116.7435272863\n",
            "Gen 434: 892067.5819583032\n",
            "Gen 435: 892065.7608881298\n",
            "Gen 436: 892074.5589837165\n",
            "Gen 437: 892084.3839776181\n",
            "Gen 438: 892154.4247109263\n",
            "Gen 439: 892023.2637135924\n",
            "Gen 440: 892055.7390692054\n",
            "Gen 441: 892003.0360166739\n",
            "Gen 442: 891986.6626034905\n",
            "Gen 443: 891630.8326535807\n",
            "Gen 444: 891943.3226855269\n",
            "Gen 445: 891871.4052371\n",
            "Gen 446: 891520.5441538865\n",
            "Gen 447: 891556.9744635007\n",
            "Gen 448: 891384.2980084256\n",
            "Gen 449: 891932.8526627882\n",
            "Gen 450: 891786.3423941567\n",
            "Gen 451: 891709.519357561\n",
            "Gen 452: 891857.1892884639\n",
            "Gen 453: 891578.5050651529\n",
            "Gen 454: 891693.1891464152\n",
            "Gen 455: 891711.1752628178\n",
            "Gen 456: 891672.3175450761\n",
            "Gen 457: 891869.2203169795\n",
            "Gen 458: 891749.1944675342\n",
            "Gen 459: 891677.6697490179\n",
            "Gen 460: 891729.9075215671\n",
            "Gen 461: 891390.7194995725\n",
            "Gen 462: 891618.3146364498\n",
            "Gen 463: 891512.8685955058\n",
            "Gen 464: 891535.5554388459\n",
            "Gen 465: 891446.1327577891\n",
            "Gen 466: 891454.5350189264\n",
            "Gen 467: 891597.4076412795\n",
            "Gen 468: 891617.9523385739\n",
            "Gen 469: 891496.1771323243\n",
            "Gen 470: 891566.1299018587\n",
            "Gen 471: 891324.6136383705\n",
            "Gen 472: 891349.9418800226\n",
            "Gen 473: 891409.1934609973\n",
            "Gen 474: 891383.2563312147\n",
            "Gen 475: 891377.2847369697\n",
            "Gen 476: 891504.7322056909\n",
            "Gen 477: 891251.8072070436\n",
            "Gen 478: 891232.6118530391\n",
            "Gen 479: 891177.9372051876\n",
            "Gen 480: 891167.2977441015\n",
            "Gen 481: 891281.2139274738\n",
            "Gen 482: 891346.735857121\n",
            "Gen 483: 891271.4434653666\n",
            "Gen 484: 891336.2948466841\n",
            "Gen 485: 891124.8600554725\n",
            "Gen 486: 890509.870658035\n",
            "Gen 487: 890824.3027462909\n",
            "Gen 488: 890820.7920929409\n",
            "Gen 489: 890672.6783498884\n",
            "Gen 490: 890660.4425440019\n",
            "Gen 491: 890668.6492128\n",
            "Gen 492: 890689.4965584701\n",
            "Gen 493: 890603.6201048258\n",
            "Gen 494: 890325.6133211676\n",
            "Gen 495: 890274.3380541977\n",
            "Gen 496: 890157.0379620885\n",
            "Gen 497: 890162.257521502\n",
            "Gen 498: 890156.4638503246\n",
            "Gen 499: 890149.2700587726\n",
            "Gen 500: 890261.7474929038\n",
            "Gen 501: 890158.9434751153\n",
            "Gen 502: 890250.8896168249\n",
            "Gen 503: 890238.1036782111\n",
            "Gen 504: 890158.185217142\n",
            "Gen 505: 890237.7262876072\n",
            "Gen 506: 890127.1518848942\n",
            "Gen 507: 890087.4272995314\n",
            "Gen 508: 890017.4974114858\n",
            "Gen 509: 890049.1374030898\n",
            "Gen 510: 890121.9650103837\n",
            "Gen 511: 890047.8808058705\n",
            "Gen 512: 890074.7646931543\n",
            "Gen 513: 889939.3723355697\n",
            "Gen 514: 889738.9389068348\n",
            "Gen 515: 889859.7054419107\n",
            "Gen 516: 889927.5121217793\n",
            "Gen 517: 889753.9496643821\n",
            "Gen 518: 889743.8223949673\n",
            "Gen 519: 889822.4353968316\n",
            "Gen 520: 889731.1665156572\n",
            "Gen 521: 889998.6297437496\n",
            "Gen 522: 889693.608655096\n",
            "Gen 523: 889787.8601032917\n",
            "Gen 524: 890024.0979507477\n",
            "Gen 525: 889840.1551306958\n",
            "Gen 526: 889820.1753140895\n",
            "Gen 527: 889846.538151414\n",
            "Gen 528: 889715.7927457286\n",
            "Gen 529: 889504.6816526981\n",
            "Gen 530: 889457.1554648571\n",
            "Gen 531: 889681.3707133321\n",
            "Gen 532: 889532.8941122444\n",
            "Gen 533: 889565.7644038528\n",
            "Gen 534: 889053.7597205311\n",
            "Gen 535: 889222.5125081878\n",
            "Gen 536: 889315.0783045851\n",
            "Gen 537: 889237.5199126069\n",
            "Gen 538: 889145.259038961\n",
            "Gen 539: 889355.1687558205\n",
            "Gen 540: 889393.2038306583\n",
            "Gen 541: 889279.186406166\n",
            "Gen 542: 889513.4475134966\n",
            "Gen 543: 889327.1980570599\n",
            "Gen 544: 889460.1467026776\n",
            "Gen 545: 889703.457074945\n",
            "Gen 546: 889646.0839735459\n",
            "Gen 547: 889445.4088893846\n",
            "Gen 548: 889538.6921346519\n",
            "Gen 549: 889458.8176832811\n",
            "Gen 550: 889344.0495688498\n",
            "Gen 551: 889527.3793793347\n",
            "Gen 552: 889388.2237009088\n",
            "Gen 553: 889398.9529104312\n",
            "Gen 554: 889179.9320818956\n",
            "Gen 555: 889279.244680248\n",
            "Gen 556: 889338.3323665346\n",
            "Gen 557: 889295.7619561744\n",
            "Gen 558: 889178.3021081032\n",
            "Gen 559: 889175.2478655986\n",
            "Gen 560: 888917.3454421412\n",
            "Gen 561: 888953.1439635832\n",
            "Gen 562: 888753.5788479573\n",
            "Gen 563: 888774.2413058899\n",
            "Gen 564: 888577.9291832313\n",
            "Gen 565: 888699.7515823919\n",
            "Gen 566: 888603.2293507414\n",
            "Gen 567: 888482.5578793884\n",
            "Gen 568: 888847.1232398587\n",
            "Gen 569: 888849.5815755413\n",
            "Gen 570: 888882.0818149702\n",
            "Gen 571: 888947.9513524821\n",
            "Gen 572: 888755.1864522638\n",
            "Gen 573: 888805.5365418006\n",
            "Gen 574: 888903.9967234803\n",
            "Gen 575: 888790.8140117994\n",
            "Gen 576: 888804.2419671579\n",
            "Gen 577: 888909.5461666805\n",
            "Gen 578: 888995.0922513249\n",
            "Gen 579: 888713.5542974556\n",
            "Gen 580: 888885.191606396\n",
            "Gen 581: 888843.1760828529\n",
            "Gen 582: 888683.5916494335\n",
            "Gen 583: 888897.1053807703\n",
            "Gen 584: 888870.8018862725\n",
            "Gen 585: 888843.3477210972\n",
            "Gen 586: 888814.5110325505\n",
            "Gen 587: 888801.7304418642\n",
            "Gen 588: 888889.8804701612\n",
            "Gen 589: 888892.7555825032\n",
            "Gen 590: 888648.6599677963\n",
            "Gen 591: 888707.2584117852\n",
            "Gen 592: 888813.6382374754\n",
            "Gen 593: 888814.4123681008\n",
            "Gen 594: 888824.3962305435\n",
            "Gen 595: 888711.2341355446\n",
            "Gen 596: 888906.3222311185\n",
            "Gen 597: 888950.4747197443\n",
            "Gen 598: 888752.6421029879\n",
            "Gen 599: 888601.8571189326\n",
            "Gen 600: 888799.3609965032\n",
            "Gen 601: 888812.4292256559\n",
            "Gen 602: 888718.7439746899\n",
            "Gen 603: 888641.8503328371\n",
            "Gen 604: 888847.6100568146\n",
            "Gen 605: 888844.5262598753\n",
            "Gen 606: 888981.3468690731\n",
            "Gen 607: 888884.5553385558\n",
            "Gen 608: 888978.6041848183\n",
            "Gen 609: 889100.5976956493\n",
            "Gen 610: 889070.8401934473\n",
            "Gen 611: 889290.4314853057\n",
            "Gen 612: 889362.6797623707\n",
            "Gen 613: 889557.3477778739\n",
            "Gen 614: 889423.476725529\n",
            "Gen 615: 889367.5066753232\n",
            "Gen 616: 889307.4797189264\n",
            "Gen 617: 889531.4952561047\n",
            "Gen 618: 889570.6880116017\n",
            "Gen 619: 889267.0923915559\n",
            "Gen 620: 889420.3247532416\n",
            "Gen 621: 889396.2226326467\n",
            "Gen 622: 889077.8094794536\n",
            "Gen 623: 888849.8010264174\n",
            "Gen 624: 888854.470306897\n",
            "Gen 625: 888850.0682377574\n",
            "Gen 626: 888999.4332366178\n",
            "Gen 627: 889065.4858089777\n",
            "Gen 628: 888890.1527222253\n",
            "Gen 629: 888854.4759784433\n",
            "Gen 630: 888956.6299569081\n",
            "Gen 631: 888772.5637388652\n",
            "Gen 632: 888877.7970699307\n",
            "Gen 633: 888841.0117889293\n",
            "Gen 634: 888860.0991781665\n",
            "Gen 635: 888884.704148636\n",
            "Gen 636: 888903.4831892933\n",
            "Gen 637: 889137.7630017559\n",
            "Gen 638: 889094.0196680739\n",
            "Gen 639: 888992.2942781114\n",
            "Gen 640: 888927.6985335344\n",
            "Gen 641: 889143.6122577363\n",
            "Gen 642: 889141.2043055377\n",
            "Gen 643: 889042.0489012531\n",
            "Gen 644: 889112.5180747045\n",
            "Gen 645: 889112.0447237038\n",
            "Gen 646: 889054.7544611538\n",
            "Gen 647: 889133.6356661876\n",
            "Gen 648: 889177.7948547121\n",
            "Gen 649: 888989.0923265411\n",
            "Gen 650: 889043.9136711935\n",
            "Gen 651: 888999.307369072\n",
            "Gen 652: 889031.1845611117\n",
            "Gen 653: 888991.9328466904\n",
            "Gen 654: 888982.6934236789\n",
            "Gen 655: 889084.9827852632\n",
            "Gen 656: 889115.6543955288\n",
            "Gen 657: 889218.9366826394\n",
            "Gen 658: 889207.2665938247\n",
            "Gen 659: 888923.5585208016\n",
            "Gen 660: 888954.6363687491\n",
            "Gen 661: 888813.3751187349\n",
            "Gen 662: 888783.0816752368\n",
            "Gen 663: 888889.7137805466\n",
            "Gen 664: 888895.9737130627\n",
            "Gen 665: 889056.9994293051\n",
            "Gen 666: 888964.5103316519\n",
            "Gen 667: 888985.9193861267\n",
            "Gen 668: 888812.4276390634\n",
            "Gen 669: 888664.315711999\n",
            "Gen 670: 888685.270153802\n",
            "Gen 671: 888759.0690095187\n",
            "Gen 672: 888990.0276466897\n",
            "Gen 673: 888966.7949243027\n",
            "Gen 674: 889016.109864714\n",
            "Gen 675: 889139.9013203257\n",
            "Gen 676: 889067.03056241\n",
            "Gen 677: 888936.0700849259\n",
            "Gen 678: 889093.2878928259\n",
            "Gen 679: 889277.5161363609\n",
            "Gen 680: 889158.638389263\n",
            "Gen 681: 889170.0242818289\n",
            "Gen 682: 888865.33038633\n",
            "Gen 683: 888858.8743309634\n",
            "Gen 684: 889108.4308287248\n",
            "Gen 685: 889085.2295025424\n",
            "Gen 686: 889037.8676466286\n",
            "Gen 687: 889134.2813562596\n",
            "Gen 688: 889306.0502076413\n",
            "Gen 689: 889055.514736871\n",
            "Gen 690: 888589.0017886448\n",
            "Gen 691: 888676.1842257729\n",
            "Gen 692: 888733.6250713029\n",
            "Gen 693: 888756.1618450736\n",
            "Gen 694: 888861.6343254764\n",
            "Gen 695: 888768.3251274147\n",
            "Gen 696: 888998.0311515633\n",
            "Gen 697: 888746.0481852227\n",
            "Gen 698: 888398.1100556996\n",
            "Gen 699: 888578.2601838371\n",
            "Gen 700: 888648.1139541237\n",
            "Gen 701: 888471.4359729412\n",
            "Gen 702: 888594.6920601971\n",
            "Gen 703: 888623.1988899496\n",
            "Gen 704: 888640.2372872859\n",
            "Gen 705: 888791.0621192934\n",
            "Gen 706: 888700.0711785591\n",
            "Gen 707: 888647.8384144044\n",
            "Gen 708: 888441.1317197145\n",
            "Gen 709: 888694.1452978113\n",
            "Gen 710: 888688.7181543185\n",
            "Gen 711: 888761.3704136919\n",
            "Gen 712: 888639.2421690315\n",
            "Gen 713: 888526.6017697024\n",
            "Gen 714: 888717.318554109\n",
            "Gen 715: 888962.0408118196\n",
            "Gen 716: 888871.8406913279\n",
            "Gen 717: 888468.0077122351\n",
            "Gen 718: 888637.9857522857\n",
            "Gen 719: 888835.2542887185\n",
            "Gen 720: 888672.6799133338\n",
            "Gen 721: 888862.5093160032\n",
            "Gen 722: 888834.4037694815\n",
            "Gen 723: 888664.8567070493\n",
            "Gen 724: 888603.0758226063\n",
            "Gen 725: 888740.3914265119\n",
            "Gen 726: 888835.692306229\n",
            "Gen 727: 888869.508566265\n",
            "Gen 728: 888895.3283597252\n",
            "Gen 729: 888868.4912624658\n",
            "Gen 730: 888965.8665870755\n",
            "Gen 731: 888845.7884284442\n",
            "Gen 732: 889232.6741714528\n",
            "Gen 733: 889242.3423199524\n",
            "Gen 734: 889212.4837183682\n",
            "Gen 735: 889019.4851815806\n",
            "Gen 736: 888799.485313174\n",
            "Gen 737: 888867.0679373938\n",
            "Gen 738: 889071.1868163885\n",
            "Gen 739: 888984.4900692313\n",
            "Gen 740: 888699.2144344306\n",
            "Gen 741: 888949.7779649297\n",
            "Gen 742: 889132.2082038572\n",
            "Gen 743: 889018.2479596062\n",
            "Gen 744: 888705.2440750892\n",
            "Gen 745: 888796.3822105395\n",
            "Gen 746: 888288.3340012004\n",
            "Gen 747: 888451.6528523377\n",
            "Gen 748: 888198.6104066222\n",
            "Gen 749: 888656.3039369725\n",
            "Gen 750: 888589.1592103904\n",
            "Gen 751: 888551.4115102733\n",
            "Gen 752: 888734.6157097527\n",
            "Gen 753: 888719.7719848666\n",
            "Gen 754: 888344.7976741984\n",
            "Gen 755: 888516.5571029715\n",
            "Gen 756: 888553.78469752\n",
            "Gen 757: 888537.1681296944\n",
            "Gen 758: 888752.2837130347\n",
            "Gen 759: 888515.3864529945\n",
            "Gen 760: 888645.0179725462\n",
            "Gen 761: 888862.0827989376\n",
            "Gen 762: 888863.2376158213\n",
            "Gen 763: 889113.3821191472\n",
            "Gen 764: 888767.1956014123\n",
            "Gen 765: 888908.5811922731\n",
            "Gen 766: 888820.056661641\n",
            "Gen 767: 888514.3931898162\n",
            "Gen 768: 888661.2671587089\n",
            "Gen 769: 888731.210124462\n",
            "Gen 770: 888784.753906849\n",
            "Gen 771: 888772.0668611714\n",
            "Gen 772: 888660.1972037569\n",
            "Gen 773: 888723.8095473646\n",
            "Gen 774: 888819.5786042876\n",
            "Gen 775: 888716.307849272\n",
            "Gen 776: 888698.0107990177\n",
            "Gen 777: 888729.2158483694\n",
            "Gen 778: 888805.2290047115\n",
            "Gen 779: 888789.481014035\n",
            "Gen 780: 888751.306268254\n",
            "Gen 781: 888641.2003344292\n",
            "Gen 782: 888475.0314271754\n",
            "Gen 783: 888649.2616264371\n",
            "Gen 784: 888702.6687891601\n",
            "Gen 785: 888728.4795438453\n",
            "Gen 786: 888514.0118417466\n",
            "Gen 787: 888469.0148855295\n",
            "Gen 788: 888559.8247770678\n",
            "Gen 789: 888301.9460444783\n",
            "Gen 790: 888404.2468934025\n",
            "Gen 791: 888334.7757395554\n",
            "Gen 792: 888415.3236594452\n",
            "Gen 793: 888537.2167796462\n",
            "Gen 794: 888497.2264274576\n",
            "Gen 795: 888513.4456279377\n",
            "Gen 796: 888630.5214813676\n",
            "Gen 797: 888577.0714193113\n",
            "Gen 798: 888518.0480509271\n",
            "Gen 799: 888945.1495797532\n",
            "Gen 800: 888861.4078182735\n",
            "Gen 801: 888859.2090187063\n",
            "Gen 802: 888515.6163375165\n",
            "Gen 803: 888810.4552984464\n",
            "Gen 804: 888908.1538936779\n",
            "Gen 805: 888801.6119172177\n",
            "Gen 806: 889031.968560478\n",
            "Gen 807: 888633.611368877\n",
            "Gen 808: 888719.4324013748\n",
            "Gen 809: 888471.4415006418\n",
            "Gen 810: 888473.9560621581\n",
            "Gen 811: 888451.3302887505\n",
            "Gen 812: 888452.457452064\n",
            "Gen 813: 888556.7968051812\n",
            "Gen 814: 888584.0205505387\n",
            "Gen 815: 888603.6459815307\n",
            "Gen 816: 888641.8171507713\n",
            "Gen 817: 888700.6521404277\n",
            "Gen 818: 888821.2538322868\n",
            "Gen 819: 888997.5431790138\n",
            "Gen 820: 888861.3782876633\n",
            "Gen 821: 888896.9103048283\n",
            "Gen 822: 888951.978161698\n",
            "Gen 823: 888795.4275187808\n",
            "Gen 824: 889004.9085369029\n",
            "Gen 825: 888629.8324601961\n",
            "Gen 826: 888740.9377534173\n",
            "Gen 827: 888296.1858405703\n",
            "Gen 828: 888232.7730879051\n",
            "Gen 829: 888541.9141380673\n",
            "Gen 830: 888728.3898250543\n",
            "Gen 831: 888697.6919788184\n",
            "Gen 832: 888773.0692858602\n",
            "Gen 833: 888469.4081756793\n",
            "Gen 834: 888579.840030365\n",
            "Gen 835: 888779.3358948968\n",
            "Gen 836: 888640.553748509\n",
            "Gen 837: 888477.4101818756\n",
            "Gen 838: 888530.1990467743\n",
            "Gen 839: 888566.2773941588\n",
            "Gen 840: 888525.9046170214\n",
            "Gen 841: 888668.8130253517\n",
            "Gen 842: 888594.4001074004\n",
            "Gen 843: 888404.5212871814\n",
            "Gen 844: 888399.6452726322\n",
            "Gen 845: 888124.532041161\n",
            "Gen 846: 888319.835600048\n",
            "Gen 847: 888186.8600708228\n",
            "Gen 848: 888031.8053590098\n",
            "Gen 849: 888093.7205607034\n",
            "Gen 850: 888166.5295032442\n",
            "Gen 851: 888296.4710292779\n",
            "Gen 852: 888253.9744871492\n",
            "Gen 853: 888426.6749253836\n",
            "Gen 854: 888308.829412635\n",
            "Gen 855: 888303.9458321105\n",
            "Gen 856: 888133.156387284\n",
            "Gen 857: 888283.6807663153\n",
            "Gen 858: 888406.4740734926\n",
            "Gen 859: 888417.0986919347\n",
            "Gen 860: 888264.5698916365\n",
            "Gen 861: 888346.1640137399\n",
            "Gen 862: 888408.0807548882\n",
            "Gen 863: 888301.9093602311\n",
            "Gen 864: 888362.808125973\n",
            "Gen 865: 888232.0584509316\n",
            "Gen 866: 888144.1875172866\n",
            "Gen 867: 888114.6322837471\n",
            "Gen 868: 888040.2287745394\n",
            "Gen 869: 887974.7923227574\n",
            "Gen 870: 888033.4636527153\n",
            "Gen 871: 887993.0147435813\n",
            "Gen 872: 887822.081491649\n",
            "Gen 873: 887855.0714759465\n",
            "Gen 874: 887804.0923219684\n",
            "Gen 875: 888028.8397181124\n",
            "Gen 876: 888034.4697317976\n",
            "Gen 877: 888204.2892501955\n",
            "Gen 878: 888245.3689051614\n",
            "Gen 879: 888246.4081583788\n",
            "Gen 880: 888392.6378473155\n",
            "Gen 881: 888269.8349712818\n",
            "Gen 882: 888386.7417882193\n",
            "Gen 883: 888564.6792565864\n",
            "Gen 884: 888449.6754463397\n",
            "Gen 885: 888492.139029154\n",
            "Gen 886: 888109.2097566533\n",
            "Gen 887: 888043.8119837638\n",
            "Gen 888: 887962.4184160318\n",
            "Gen 889: 888135.0473251927\n",
            "Gen 890: 888221.4116211969\n",
            "Gen 891: 888043.3380194042\n",
            "Gen 892: 888211.8915694515\n",
            "Gen 893: 887974.0412545773\n",
            "Gen 894: 888097.8292905731\n",
            "Gen 895: 887985.7271511223\n",
            "Gen 896: 887994.3515527677\n",
            "Gen 897: 888161.5063869797\n",
            "Gen 898: 888213.0039740842\n",
            "Gen 899: 888328.6877465395\n",
            "Gen 900: 888249.4269366551\n",
            "Gen 901: 888237.8657265974\n",
            "Gen 902: 888426.7372315784\n",
            "Gen 903: 888228.2722115554\n",
            "Gen 904: 888308.3911947211\n",
            "Gen 905: 888047.1620456775\n",
            "Gen 906: 888192.4672750913\n",
            "Gen 907: 888224.7034869494\n",
            "Gen 908: 888052.3091754246\n",
            "Gen 909: 887833.0578762619\n",
            "Gen 910: 888021.5273457028\n",
            "Gen 911: 887964.5857619456\n",
            "Gen 912: 888079.0422963618\n",
            "Gen 913: 888310.7944370486\n",
            "Gen 914: 888247.9355024988\n",
            "Gen 915: 888240.260072996\n",
            "Gen 916: 888268.7131318493\n",
            "Gen 917: 888153.4467215204\n",
            "Gen 918: 887894.119831023\n",
            "Gen 919: 887987.955806994\n",
            "Gen 920: 888161.6649533903\n",
            "Gen 921: 888093.205713791\n",
            "Gen 922: 888309.5330595394\n",
            "Gen 923: 888301.5297294299\n",
            "Gen 924: 888332.5978698544\n",
            "Gen 925: 888155.2987378306\n",
            "Gen 926: 888224.3342999439\n",
            "Gen 927: 888342.1607983118\n",
            "Gen 928: 888270.9983431099\n",
            "Gen 929: 888266.2939109101\n",
            "Gen 930: 888350.7683943784\n",
            "Gen 931: 888363.9022914158\n",
            "Gen 932: 888497.7497734095\n",
            "Gen 933: 888470.4205797028\n",
            "Gen 934: 888654.9402780962\n",
            "Gen 935: 888544.36402536\n",
            "Gen 936: 888655.1689263491\n",
            "Gen 937: 888713.6808740674\n",
            "Gen 938: 888661.0976706308\n",
            "Gen 939: 888740.2467506567\n",
            "Gen 940: 888765.5545327235\n",
            "Gen 941: 888805.3838042481\n",
            "Gen 942: 888975.6615150989\n",
            "Gen 943: 888899.335642531\n",
            "Gen 944: 889088.6357598018\n",
            "Gen 945: 889001.4372433244\n",
            "Gen 946: 889000.3975015625\n",
            "Gen 947: 889015.2949047812\n",
            "Gen 948: 889001.8967548088\n",
            "Gen 949: 889004.7860515798\n",
            "Gen 950: 889178.5536194099\n",
            "Gen 951: 889082.7112697555\n",
            "Gen 952: 889177.1211273477\n",
            "Gen 953: 889052.7625133796\n",
            "Gen 954: 889173.6048051148\n",
            "Gen 955: 889143.270861273\n",
            "Gen 956: 888739.8938531528\n",
            "Gen 957: 888927.8114601126\n",
            "Gen 958: 888887.0646792823\n",
            "Gen 959: 888820.4957885409\n",
            "Gen 960: 888895.8142025782\n",
            "Gen 961: 888629.2807780466\n",
            "Gen 962: 888684.0527011215\n",
            "Gen 963: 888622.5495888864\n",
            "Gen 964: 888631.1385854224\n",
            "Gen 965: 888841.5051981725\n",
            "Gen 966: 888995.2035695333\n",
            "Gen 967: 888839.7406839253\n",
            "Gen 968: 888816.9316526342\n",
            "Gen 969: 888863.7902339904\n",
            "Gen 970: 888955.3676622182\n",
            "Gen 971: 888821.2052733672\n",
            "Gen 972: 888980.9142092507\n",
            "Gen 973: 889040.4132808647\n",
            "Gen 974: 889195.2529769556\n",
            "Gen 975: 889242.619458509\n",
            "Gen 976: 889187.8674796991\n",
            "Gen 977: 889227.4707634394\n",
            "Gen 978: 889376.3224720582\n",
            "Gen 979: 889077.3186413902\n",
            "Gen 980: 888909.8889863113\n",
            "Gen 981: 888910.4236889867\n",
            "Gen 982: 888985.3398737324\n",
            "Gen 983: 888976.7673685432\n",
            "Gen 984: 889027.2205082922\n",
            "Gen 985: 889153.9588665575\n",
            "Gen 986: 889311.5054892922\n",
            "Gen 987: 889014.8243657628\n",
            "Gen 988: 889214.3460020594\n",
            "Gen 989: 889191.2982494271\n",
            "Gen 990: 889367.0921277138\n",
            "Gen 991: 889318.4130830689\n",
            "Gen 992: 889244.8671742695\n",
            "Gen 993: 889489.4444087431\n",
            "Gen 994: 889476.1893909015\n",
            "Gen 995: 889622.4161952569\n",
            "Gen 996: 889537.346180055\n",
            "Gen 997: 889707.2641431126\n",
            "Gen 998: 889650.8393037688\n",
            "Gen 999: 889678.9224159729\n",
            "Gen 1000: 889671.2036593664\n",
            "Gen 1001: 889535.8653356801\n",
            "Gen 1002: 889539.3939360752\n",
            "Gen 1003: 889541.0039335965\n",
            "Gen 1004: 889466.5480264067\n",
            "Gen 1005: 889592.7291615265\n",
            "Gen 1006: 889647.0298154765\n",
            "Gen 1007: 889861.4258828067\n",
            "Gen 1008: 889783.6886897546\n",
            "Gen 1009: 889852.7789602574\n",
            "Gen 1010: 889811.5096210813\n",
            "Gen 1011: 889744.7791550513\n",
            "Gen 1012: 889804.6393799372\n",
            "Gen 1013: 889784.7191127201\n",
            "Gen 1014: 889546.3879448548\n",
            "Gen 1015: 889667.3959722994\n",
            "Gen 1016: 889745.3199002129\n",
            "Gen 1017: 889531.7348247408\n",
            "Gen 1018: 889727.0213505389\n",
            "Gen 1019: 889522.8836021415\n",
            "Gen 1020: 889601.0249306042\n",
            "Gen 1021: 889728.6674527462\n",
            "Gen 1022: 889706.4739444291\n",
            "Gen 1023: 889813.8860303048\n",
            "Gen 1024: 889555.0201766666\n",
            "Gen 1025: 889575.9420000447\n",
            "Gen 1026: 889679.3633612801\n",
            "Gen 1027: 889746.5821810575\n",
            "Gen 1028: 889508.4390973736\n",
            "Gen 1029: 889575.6393421799\n",
            "Gen 1030: 889418.4611551963\n",
            "Gen 1031: 889352.6578232573\n",
            "Gen 1032: 889504.9303993159\n",
            "Gen 1033: 889466.9956460616\n",
            "Gen 1034: 889144.2693925223\n",
            "Gen 1035: 889534.5173722544\n",
            "Gen 1036: 889427.5042294816\n",
            "Gen 1037: 889407.8815850809\n",
            "Gen 1038: 889468.3869172602\n",
            "Gen 1039: 889429.7484542456\n",
            "Gen 1040: 889312.5502161464\n",
            "Gen 1041: 889270.0001221666\n",
            "Gen 1042: 889357.3843625746\n",
            "Gen 1043: 889303.2685851878\n",
            "Gen 1044: 889540.9289174223\n",
            "Gen 1045: 889453.2506292503\n",
            "Gen 1046: 889509.8859889643\n",
            "Gen 1047: 889650.4591428599\n",
            "Gen 1048: 889452.4564199426\n",
            "Gen 1049: 889528.8139985469\n",
            "Gen 1050: 889646.4455837518\n",
            "Gen 1051: 889460.8450426571\n",
            "Gen 1052: 889209.0644967019\n",
            "Gen 1053: 889233.1578705364\n",
            "Gen 1054: 889277.6149855868\n",
            "Gen 1055: 889253.2136394259\n",
            "Gen 1056: 888991.0390664302\n",
            "Gen 1057: 889283.7503817278\n",
            "Gen 1058: 889144.2700428334\n",
            "Gen 1059: 889078.8496616007\n",
            "Gen 1060: 889022.0798125472\n",
            "Gen 1061: 889138.157063886\n",
            "Gen 1062: 889194.2345777886\n",
            "Gen 1063: 889135.9392964407\n",
            "Gen 1064: 889090.5133351993\n",
            "Gen 1065: 889180.6520764908\n",
            "Gen 1066: 889132.1001963393\n",
            "Gen 1067: 889261.5762162703\n",
            "Gen 1068: 888974.9427180277\n",
            "Gen 1069: 888885.5892162712\n",
            "Gen 1070: 889029.0345696713\n",
            "Gen 1071: 888963.8099313539\n",
            "Gen 1072: 888935.9321818845\n",
            "Gen 1073: 888965.7490492834\n",
            "Gen 1074: 888896.6751365565\n",
            "Gen 1075: 888891.3274442268\n",
            "Gen 1076: 888779.8822820018\n",
            "Gen 1077: 888744.8356625938\n",
            "Gen 1078: 888761.8423908623\n",
            "Gen 1079: 888945.9423482632\n",
            "Gen 1080: 888852.6925915276\n",
            "Gen 1081: 888776.4129555809\n",
            "Gen 1082: 888829.4997904096\n",
            "Gen 1083: 888859.6087737279\n",
            "Gen 1084: 888763.0811653852\n",
            "Gen 1085: 888927.2656612999\n",
            "Gen 1086: 888825.6526247265\n",
            "Gen 1087: 888799.1991822075\n",
            "Gen 1088: 888971.7431573665\n",
            "Gen 1089: 888861.214574317\n",
            "Gen 1090: 888979.6299246022\n",
            "Gen 1091: 888930.5603834968\n",
            "Gen 1092: 888760.9715781503\n",
            "Gen 1093: 888976.0839180803\n",
            "Gen 1094: 888759.5986265847\n",
            "Gen 1095: 888757.5302243421\n",
            "Gen 1096: 889213.9171875879\n",
            "Gen 1097: 888954.7863720333\n",
            "Gen 1098: 888816.3355450543\n",
            "Gen 1099: 888995.3649450768\n",
            "Gen 1100: 888714.6625608413\n",
            "Gen 1101: 889044.7676920644\n",
            "Gen 1102: 888915.806200646\n",
            "Gen 1103: 888774.0477079323\n",
            "Gen 1104: 888708.3241062826\n",
            "Gen 1105: 888906.4735917698\n",
            "Gen 1106: 888919.6707743318\n",
            "Gen 1107: 888933.7233066331\n",
            "Gen 1108: 888979.1960791564\n",
            "Gen 1109: 889146.0626806065\n",
            "Gen 1110: 889153.8305716169\n",
            "Gen 1111: 888921.9192820103\n",
            "Gen 1112: 889101.1120091111\n",
            "Gen 1113: 889068.5134803925\n",
            "Gen 1114: 888886.9493072764\n",
            "Gen 1115: 888925.8140498535\n",
            "Gen 1116: 888914.055247521\n",
            "Gen 1117: 888669.9958020088\n",
            "Gen 1118: 888785.3611474687\n",
            "Gen 1119: 888639.8258713121\n",
            "Gen 1120: 888629.2654013867\n",
            "Gen 1121: 888796.3910628614\n",
            "Gen 1122: 888790.8314796735\n",
            "Gen 1123: 888702.2910334995\n",
            "Gen 1124: 888902.6625967373\n",
            "Gen 1125: 888977.3075429834\n",
            "Gen 1126: 888799.2545191045\n",
            "Gen 1127: 888594.4332338987\n",
            "Gen 1128: 888708.1521638092\n",
            "Gen 1129: 888956.2491562379\n",
            "Gen 1130: 888516.9242812311\n",
            "Gen 1131: 888738.8283430923\n",
            "Gen 1132: 888641.810229392\n",
            "Gen 1133: 888940.1118436418\n",
            "Gen 1134: 888389.3522072128\n",
            "Gen 1135: 888407.531337285\n",
            "Gen 1136: 888411.4563568833\n",
            "Gen 1137: 888703.9335573853\n",
            "Gen 1138: 888760.986240633\n",
            "Gen 1139: 888670.5777974396\n",
            "Gen 1140: 888858.391081129\n",
            "Gen 1141: 888705.735502668\n",
            "Gen 1142: 888440.1936657315\n",
            "Gen 1143: 888497.4710843485\n",
            "Gen 1144: 888434.3421225279\n",
            "Gen 1145: 888577.376214995\n",
            "Gen 1146: 888493.5984821847\n",
            "Gen 1147: 888466.9463201258\n",
            "Gen 1148: 888748.678374912\n",
            "Gen 1149: 888533.4533817878\n",
            "Gen 1150: 888619.8569281644\n",
            "Gen 1151: 888900.5954398896\n",
            "Gen 1152: 888744.7646288472\n",
            "Gen 1153: 888747.0777062211\n",
            "Gen 1154: 888761.2500990873\n",
            "Gen 1155: 888842.7514187832\n",
            "Gen 1156: 888461.6947981492\n",
            "Gen 1157: 888763.7782692943\n",
            "Gen 1158: 888504.6916069585\n",
            "Gen 1159: 888231.3739512834\n",
            "Gen 1160: 888438.6163168189\n",
            "Gen 1161: 888438.9425287442\n",
            "Gen 1162: 888252.2742050434\n",
            "Gen 1163: 888403.4956277487\n",
            "Gen 1164: 888597.6176473332\n",
            "Gen 1165: 888428.1177419549\n",
            "Gen 1166: 888339.7878359767\n",
            "Gen 1167: 888347.2046922683\n",
            "Gen 1168: 888272.7765136291\n",
            "Gen 1169: 888302.2365766512\n",
            "Gen 1170: 888370.8348930699\n",
            "Gen 1171: 888461.6040476965\n",
            "Gen 1172: 888402.9471801105\n",
            "Gen 1173: 888550.1463061351\n",
            "Gen 1174: 888491.8219840851\n",
            "Gen 1175: 888361.1578843358\n",
            "Gen 1176: 888472.4655170973\n",
            "Gen 1177: 888328.9857038815\n",
            "Gen 1178: 888443.4244712106\n",
            "Gen 1179: 888388.9116602846\n",
            "Gen 1180: 888469.9635555339\n",
            "Gen 1181: 888470.3729125306\n",
            "Gen 1182: 888457.0812274951\n",
            "Gen 1183: 888611.4015021293\n",
            "Gen 1184: 888581.8845868985\n",
            "Gen 1185: 888384.8782381334\n",
            "Gen 1186: 888450.0124134485\n",
            "Gen 1187: 888566.8715642\n",
            "Gen 1188: 888575.6524262219\n",
            "Gen 1189: 888612.4875725025\n",
            "Gen 1190: 888640.0848124909\n",
            "Gen 1191: 888730.4959234663\n",
            "Gen 1192: 888585.865112562\n",
            "Gen 1193: 888334.3919120958\n",
            "Gen 1194: 888579.7883507591\n",
            "Gen 1195: 888410.9934250265\n",
            "Gen 1196: 888482.2662328862\n",
            "Gen 1197: 888492.6096768792\n",
            "Gen 1198: 888362.7310074704\n",
            "Gen 1199: 888506.0387988461\n",
            "Gen 1200: 888417.422280509\n",
            "Gen 1201: 888519.1837423122\n",
            "Gen 1202: 888453.1441783941\n",
            "Gen 1203: 888202.753905006\n",
            "Gen 1204: 888212.8916383513\n",
            "Gen 1205: 888153.2879400626\n",
            "Gen 1206: 888193.9408309514\n",
            "Gen 1207: 888346.8406701498\n",
            "Gen 1208: 888367.906572846\n",
            "Gen 1209: 888369.4772290664\n",
            "Gen 1210: 888246.9734240045\n",
            "Gen 1211: 888499.0868506245\n",
            "Gen 1212: 888575.7321005423\n",
            "Gen 1213: 888600.5138132782\n",
            "Gen 1214: 888639.0447995565\n",
            "Gen 1215: 888517.9009590668\n",
            "Gen 1216: 888410.7916818116\n",
            "Gen 1217: 888571.3686232625\n",
            "Gen 1218: 888427.7794366449\n",
            "Gen 1219: 888465.7270988491\n",
            "Gen 1220: 888470.8434443292\n",
            "Gen 1221: 888487.4500114851\n",
            "Gen 1222: 888347.9483035823\n",
            "Gen 1223: 888494.5687747746\n",
            "Gen 1224: 888592.0896619431\n",
            "Gen 1225: 888381.8595144615\n",
            "Gen 1226: 888375.3996628454\n",
            "Gen 1227: 888590.774071502\n",
            "Gen 1228: 888357.810599551\n",
            "Gen 1229: 888278.2261942921\n",
            "Gen 1230: 888225.7768206173\n",
            "Gen 1231: 888277.1942319522\n",
            "Gen 1232: 888278.104947458\n",
            "Gen 1233: 888237.9142641948\n",
            "Gen 1234: 887998.0815822148\n",
            "Gen 1235: 888108.0050308029\n",
            "Gen 1236: 887915.5933951155\n",
            "Gen 1237: 887868.0972619483\n",
            "Gen 1238: 888085.6590040656\n",
            "Gen 1239: 888112.6750352136\n",
            "Gen 1240: 888125.4258500595\n",
            "Gen 1241: 888239.1773172126\n",
            "Gen 1242: 888181.3285244299\n",
            "Gen 1243: 888181.2352484219\n",
            "Gen 1244: 888241.9467155641\n",
            "Gen 1245: 888262.6486366807\n",
            "Gen 1246: 888168.0236297188\n",
            "Gen 1247: 888040.8973175256\n",
            "Gen 1248: 887964.4320882004\n",
            "Gen 1249: 888004.8760441216\n",
            "Gen 1250: 888182.8048956511\n",
            "Gen 1251: 888207.6048263224\n",
            "Gen 1252: 888157.0519389975\n",
            "Gen 1253: 888345.2755876423\n",
            "Gen 1254: 888405.4640179526\n",
            "Gen 1255: 888381.2595438127\n",
            "Gen 1256: 888489.6878337056\n",
            "Gen 1257: 888422.1473161081\n",
            "Gen 1258: 888502.5619113208\n",
            "Gen 1259: 888378.1956552269\n",
            "Gen 1260: 888329.6271138904\n",
            "Gen 1261: 888428.4939463218\n",
            "Gen 1262: 888462.2818876072\n",
            "Gen 1263: 888425.0021847144\n",
            "Gen 1264: 888268.5082649373\n",
            "Gen 1265: 888526.102430923\n",
            "Gen 1266: 888547.1646178517\n",
            "Gen 1267: 888493.9300280353\n",
            "Gen 1268: 888405.397853433\n",
            "Gen 1269: 888451.3215066511\n",
            "Gen 1270: 888479.8780551982\n",
            "Gen 1271: 888613.3265549381\n",
            "Gen 1272: 888503.7820774345\n",
            "Gen 1273: 888539.4318580056\n",
            "Gen 1274: 888655.8527915264\n",
            "Gen 1275: 888604.4149066476\n",
            "Gen 1276: 888796.1553319554\n",
            "Gen 1277: 888691.0559968902\n",
            "Gen 1278: 888884.7694520501\n",
            "Gen 1279: 888730.3952673769\n",
            "Gen 1280: 888956.0308305474\n",
            "Gen 1281: 889026.5689918888\n",
            "Gen 1282: 889031.5176574466\n",
            "Gen 1283: 889190.3264787797\n",
            "Gen 1284: 889045.198005227\n",
            "Gen 1285: 888846.5668341661\n",
            "Gen 1286: 888741.3060685579\n",
            "Gen 1287: 888943.8384039633\n",
            "Gen 1288: 888988.3757922682\n",
            "Gen 1289: 888806.4284708343\n",
            "Gen 1290: 888971.1544266541\n",
            "Gen 1291: 888646.4746826164\n",
            "Gen 1292: 888698.8637555264\n",
            "Gen 1293: 888820.1872794533\n",
            "Gen 1294: 888922.1162609125\n",
            "Gen 1295: 888849.5555480043\n",
            "Gen 1296: 888910.8475221463\n",
            "Gen 1297: 888748.128035194\n",
            "Gen 1298: 888783.2127076113\n",
            "Gen 1299: 888636.1156943601\n",
            "Gen 1300: 888974.1621469756\n",
            "Gen 1301: 888927.4361348974\n",
            "Gen 1302: 888711.4824303625\n",
            "Gen 1303: 888845.8367629364\n",
            "Gen 1304: 888441.5189388146\n",
            "Gen 1305: 888606.687271941\n",
            "Gen 1306: 888659.0241086764\n",
            "Gen 1307: 888653.9977716855\n",
            "Gen 1308: 888636.3073796232\n",
            "Gen 1309: 888676.7718346588\n",
            "Gen 1310: 888576.5404395323\n",
            "Gen 1311: 888557.5419721453\n",
            "Gen 1312: 888543.2570655551\n",
            "Gen 1313: 888549.773299002\n",
            "Gen 1314: 888606.1749883412\n",
            "Gen 1315: 888730.8262297931\n",
            "Gen 1316: 888607.2259254023\n",
            "Gen 1317: 888810.5529150803\n",
            "Gen 1318: 888560.1683022656\n",
            "Gen 1319: 888663.1362789302\n",
            "Gen 1320: 888794.0638793395\n",
            "Gen 1321: 888947.9405121144\n",
            "Gen 1322: 888886.2001676159\n",
            "Gen 1323: 888711.989056325\n",
            "Gen 1324: 888763.0906545109\n",
            "Gen 1325: 888818.3224373738\n",
            "Gen 1326: 888530.3612171075\n",
            "Gen 1327: 888576.4494725651\n",
            "Gen 1328: 888449.5025369655\n",
            "Gen 1329: 888472.7327629084\n",
            "Gen 1330: 888626.3170755212\n",
            "Gen 1331: 888695.8484641433\n",
            "Gen 1332: 888870.7159598867\n",
            "Gen 1333: 888874.7589301356\n",
            "Gen 1334: 888946.574924256\n",
            "Gen 1335: 889031.2667567383\n",
            "Gen 1336: 888987.277627285\n",
            "Gen 1337: 888923.1567957748\n",
            "Gen 1338: 888953.3714999305\n",
            "Gen 1339: 889018.4237624565\n",
            "Gen 1340: 889083.2926744658\n",
            "Gen 1341: 889145.3616404788\n",
            "Gen 1342: 889136.1646063604\n",
            "Gen 1343: 889116.8215879768\n",
            "Gen 1344: 888968.2078379556\n",
            "Gen 1345: 889057.4406903507\n",
            "Gen 1346: 888945.1737845187\n",
            "Gen 1347: 889034.687361531\n",
            "Gen 1348: 889119.5019505211\n",
            "Gen 1349: 888859.4833177452\n",
            "Gen 1350: 888960.6891319301\n",
            "Gen 1351: 889007.3886052133\n",
            "Gen 1352: 888766.7698095255\n",
            "Gen 1353: 888842.3371824013\n",
            "Gen 1354: 888787.8979717211\n",
            "Gen 1355: 888750.2862475123\n",
            "Gen 1356: 888764.2464426252\n",
            "Gen 1357: 888810.215304014\n",
            "Gen 1358: 888965.759894899\n",
            "Gen 1359: 889068.0444042942\n",
            "Gen 1360: 888826.1480822555\n",
            "Gen 1361: 888745.7745899737\n",
            "Gen 1362: 888925.1198573513\n",
            "Gen 1363: 888900.9970982983\n",
            "Gen 1364: 889060.0112286718\n",
            "Gen 1365: 889066.6382834461\n",
            "Gen 1366: 889085.4915877085\n",
            "Gen 1367: 889004.6379412543\n",
            "Gen 1368: 888965.1148312495\n",
            "Gen 1369: 888964.9735722321\n",
            "Gen 1370: 888761.9591900354\n",
            "Gen 1371: 888693.4226358467\n",
            "Gen 1372: 888809.4328794283\n",
            "Gen 1373: 889008.0743053174\n",
            "Gen 1374: 888838.3209510524\n",
            "Gen 1375: 888949.4325556074\n",
            "Gen 1376: 889106.1183283561\n",
            "Gen 1377: 889118.1805576942\n",
            "Gen 1378: 889028.6257225617\n",
            "Gen 1379: 889076.6535713468\n",
            "Gen 1380: 888977.7748056736\n",
            "Gen 1381: 888926.4411896742\n",
            "Gen 1382: 889067.3296543002\n",
            "Gen 1383: 888973.8573345047\n",
            "Gen 1384: 889266.6090828648\n",
            "Gen 1385: 889308.182329114\n",
            "Gen 1386: 889329.7820231816\n",
            "Gen 1387: 889190.3131295714\n",
            "Gen 1388: 889014.9718351468\n",
            "Gen 1389: 889022.8471684053\n",
            "Gen 1390: 889101.831237537\n",
            "Gen 1391: 889186.3313052586\n",
            "Gen 1392: 889283.7925190849\n",
            "Gen 1393: 889129.7839850561\n",
            "Gen 1394: 889076.0562924449\n",
            "Gen 1395: 888826.345772154\n",
            "Gen 1396: 888862.6164021882\n",
            "Gen 1397: 888807.6807874555\n",
            "Gen 1398: 888609.9402266939\n",
            "Gen 1399: 888732.7681945892\n",
            "Gen 1400: 888856.409447603\n",
            "Gen 1401: 888904.1562119371\n",
            "Gen 1402: 888886.5098514828\n",
            "Gen 1403: 888693.1022598511\n",
            "Gen 1404: 888728.7321979717\n",
            "Gen 1405: 888717.2956062244\n",
            "Gen 1406: 888903.0745681765\n",
            "Gen 1407: 888740.1376565626\n",
            "Gen 1408: 888679.0027214293\n",
            "Gen 1409: 888864.8483208946\n",
            "Gen 1410: 888721.5550777349\n",
            "Gen 1411: 888745.71248379\n",
            "Gen 1412: 888882.1723405061\n",
            "Gen 1413: 888841.3402458373\n",
            "Gen 1414: 888853.6575902761\n",
            "Gen 1415: 888643.8708687667\n",
            "Gen 1416: 888573.2982217107\n",
            "Gen 1417: 888757.2940423223\n",
            "Gen 1418: 888643.8797410829\n",
            "Gen 1419: 888728.9666224414\n",
            "Gen 1420: 888470.0789830419\n",
            "Gen 1421: 888442.1081874615\n",
            "Gen 1422: 888461.149532396\n",
            "Gen 1423: 888567.6461071356\n",
            "Gen 1424: 888689.8096124295\n",
            "Gen 1425: 888647.4080550753\n",
            "Gen 1426: 888756.2883498993\n",
            "Gen 1427: 888445.0462964594\n",
            "Gen 1428: 888536.9883288671\n",
            "Gen 1429: 888448.7336798114\n",
            "Gen 1430: 888618.8991907873\n",
            "Gen 1431: 888805.618210717\n",
            "Gen 1432: 888594.7703549616\n",
            "Gen 1433: 888597.8581892048\n",
            "Gen 1434: 888806.3848837551\n",
            "Gen 1435: 888892.3125816152\n",
            "Gen 1436: 888963.3200977781\n",
            "Gen 1437: 888947.7396067996\n",
            "Gen 1438: 888785.3035194906\n",
            "Gen 1439: 888848.4239318372\n",
            "Gen 1440: 888948.1735341713\n",
            "Gen 1441: 888927.5652998283\n",
            "Gen 1442: 888818.4554430662\n",
            "Gen 1443: 888862.9158402035\n",
            "Gen 1444: 888840.0220232618\n",
            "Gen 1445: 888832.971598843\n",
            "Gen 1446: 888829.1457048247\n",
            "Gen 1447: 888914.6368004567\n",
            "Gen 1448: 888802.595018926\n",
            "Gen 1449: 888840.5845403934\n",
            "Gen 1450: 888917.0297941882\n",
            "Gen 1451: 888782.7318333251\n",
            "Gen 1452: 888862.4313826442\n",
            "Gen 1453: 888969.7561981431\n",
            "Gen 1454: 888604.2434639544\n",
            "Gen 1455: 888855.4359843826\n",
            "Gen 1456: 888680.1827170886\n",
            "Gen 1457: 888866.5555036624\n",
            "Gen 1458: 888754.6446025732\n",
            "Gen 1459: 888800.2172783113\n",
            "Gen 1460: 888793.581670161\n",
            "Gen 1461: 888859.8066912182\n",
            "Gen 1462: 888792.2020140846\n",
            "Gen 1463: 888754.2131100063\n",
            "Gen 1464: 889004.5514331972\n",
            "Gen 1465: 888943.3905072759\n",
            "Gen 1466: 888953.4378328356\n",
            "Gen 1467: 888971.4095765287\n",
            "Gen 1468: 888767.8881506948\n",
            "Gen 1469: 889077.6728765692\n",
            "Gen 1470: 889091.765523089\n",
            "Gen 1471: 888842.8477421808\n",
            "Gen 1472: 889013.3681674565\n",
            "Gen 1473: 888829.1990544945\n",
            "Gen 1474: 888876.0505469035\n",
            "Gen 1475: 889004.8255744362\n",
            "Gen 1476: 888967.7825360427\n",
            "Gen 1477: 888755.6549021143\n",
            "Gen 1478: 888694.5458645826\n",
            "Gen 1479: 888733.9701262532\n",
            "Gen 1480: 888766.6871022646\n",
            "Gen 1481: 888714.4970365893\n",
            "Gen 1482: 888836.1413030294\n",
            "Gen 1483: 888675.1773130293\n",
            "Gen 1484: 888697.6463619965\n",
            "Gen 1485: 888906.2591568767\n",
            "Gen 1486: 888947.6503385443\n",
            "Gen 1487: 888809.9452900663\n",
            "Gen 1488: 888792.0438982134\n",
            "Gen 1489: 888867.1526244392\n",
            "Gen 1490: 888898.4445105724\n",
            "Gen 1491: 888853.1906180219\n",
            "Gen 1492: 888959.3551473329\n",
            "Gen 1493: 888852.8563380565\n",
            "Gen 1494: 888946.4535603422\n",
            "Gen 1495: 888853.6909950875\n",
            "Gen 1496: 888789.0202454978\n",
            "Gen 1497: 888700.1859055947\n",
            "Gen 1498: 888791.7811998595\n",
            "Gen 1499: 888658.0230975639\n",
            "Meilleur chemin: [12, 259, 52, 296, 654, 488, 194, 97, 269, 307, 126, 693, 412, 392, 182, 328, 703, 42, 318, 652, 225, 706, 330, 267, 592, 428, 276, 419, 266, 612, 481, 174, 31, 91, 215, 285, 272, 504, 86, 416, 468, 764, 427, 240, 9, 429, 740, 474, 190, 301, 403, 487, 20, 19, 360, 469, 138, 65, 353, 755, 10, 62, 186, 540, 561, 767, 230, 623, 594, 560, 77, 278, 396, 342, 564, 753, 687, 36, 476, 573, 529, 367, 760, 697, 89, 256, 157, 711, 84, 312, 228, 691, 177, 448, 28, 72, 348, 74, 128, 326, 331, 407, 734, 646, 351, 111, 365, 580, 268, 156, 148, 163, 527, 544, 203, 456, 658, 168, 484, 398, 227, 377, 26, 720, 164, 664, 497, 355, 322, 219, 300, 495, 471, 73, 684, 492, 519, 390, 727, 520, 143, 5, 105, 152, 745, 641, 201, 192, 25, 200, 707, 534, 189, 762, 103, 590, 131, 729, 718, 442, 675, 369, 485, 287, 280, 668, 207, 144, 742, 477, 701, 613, 676, 524, 132, 437, 60, 705, 433, 59, 297, 598, 567, 27, 238, 537, 275, 34, 21, 447, 130, 49, 715, 557, 37, 648, 472, 450, 680, 630, 717, 593, 323, 216, 18, 61, 184, 635, 56, 751, 414, 415, 538, 78, 491, 221, 634, 241, 299, 712, 657, 173, 665, 233, 211, 133, 137, 574, 231, 343, 672, 314, 388, 562, 382, 523, 149, 374, 589, 457, 386, 234, 619, 417, 547, 375, 757, 291, 90, 364, 756, 141, 120, 313, 662, 670, 466, 6, 728, 3, 341, 411, 402, 134, 445, 400, 501, 80, 23, 603, 329, 473, 320, 671, 763, 69, 679, 226, 223, 245, 629, 251, 384, 418, 568, 310, 178, 446, 146, 325, 443, 765, 530, 193, 582, 68, 539, 361, 458, 371, 410, 535, 110, 357, 349, 198, 463, 383, 212, 614, 533, 583, 39, 273, 79, 405, 260, 413, 356, 75, 55, 236, 608, 7, 615, 139, 288, 498, 682, 263, 127, 16, 295, 64, 585, 244, 321, 510, 345, 695, 591, 167, 719, 293, 246, 95, 106, 150, 588, 735, 584, 0, 171, 651, 96, 98, 344, 643, 261, 237, 264, 337, 723, 502, 45, 368, 738, 289, 279, 432, 479, 724, 232, 404, 692, 605, 441, 362, 242, 702, 248, 124, 522, 644, 213, 93, 500, 136, 752, 112, 637, 316, 733, 656, 489, 493, 746, 546, 67, 552, 118, 747, 282, 222, 708, 165, 210, 319, 70, 83, 142, 185, 333, 683, 205, 667, 572, 653, 308, 46, 380, 453, 624, 579, 389, 161, 284, 359, 459, 274, 147, 525, 286, 512, 528, 758, 160, 53, 204, 187, 352, 335, 347, 109, 40, 506, 625, 438, 305, 431, 581, 100, 44, 633, 731, 521, 48, 578, 514, 596, 379, 191, 739, 505, 606, 616, 315, 425, 265, 607, 761, 461, 470, 690, 420, 617, 373, 563, 294, 101, 54, 338, 381, 117, 532, 214, 395, 449, 696, 302, 576, 397, 620, 57, 202, 609, 508, 209, 35, 749, 704, 577, 107, 172, 424, 545, 748, 659, 736, 324, 339, 639, 685, 121, 2, 480, 714, 509, 281, 334, 253, 571, 81, 391, 123, 154, 673, 409, 444, 51, 1, 179, 114, 262, 475, 548, 602, 239, 372, 317, 290, 306, 622, 518, 647, 298, 270, 113, 24, 249, 499, 370, 597, 744, 363, 180, 661, 422, 709, 482, 423, 115, 50, 87, 649, 183, 650, 387, 218, 58, 271, 570, 678, 250, 14, 750, 358, 595, 85, 604, 426, 462, 140, 490, 611, 699, 494, 621, 681, 71, 655, 63, 252, 553, 716, 452, 686, 153, 599, 304, 176, 15, 645, 243, 743, 725, 119, 38, 145, 434, 151, 199, 439, 421, 496, 551, 277, 122, 258, 311, 460, 636, 549, 8, 455, 669, 730, 309, 507, 129, 29, 754, 159, 467, 166, 175, 32, 666, 108, 536, 155, 88, 440, 366, 125, 526, 722, 17, 515, 393, 41, 642, 516, 542, 66, 196, 82, 13, 436, 541, 610, 385, 688, 618, 206, 559, 94, 30, 628, 713, 698, 116, 229, 503, 158, 430, 766, 631, 531, 454, 554, 336, 478, 556, 76, 188, 376, 435, 255, 517, 220, 575, 732, 632, 104, 47, 170, 600, 513, 737, 550, 759, 162, 674, 663, 224, 43, 4, 350, 332, 627, 217, 292, 689, 399, 511, 99, 726, 283, 346, 677, 566, 408, 543, 486, 257, 638, 558, 254, 135, 694, 587, 465, 303, 710, 451, 102, 586, 208, 235, 660, 483, 247, 197, 33, 22, 626, 92, 406, 327, 181, 394, 721, 195, 464, 354, 169, 565, 401, 11, 569, 378, 640, 601, 741, 700, 340, 555]\n",
            "Distance: 887804.0923219684\n"
          ]
        }
      ],
      "source": [
        "def fitness(path, abs_corr_matrix):\n",
        "    N = len(path)\n",
        "    distance = 0\n",
        "    for ia, dim_a in enumerate(path):\n",
        "        for ib, dim_b in enumerate(path):\n",
        "            ang_a = ia / N * 2 * np.pi\n",
        "            ang_b = ib / N * 2 * np.pi\n",
        "            ang_dist = np.pi - abs(np.pi - abs(ang_a - ang_b)) # Distance angulaire bornée par Pi\n",
        "            expected_dist = max(np.pi - 2*np.pi*abs_corr_matrix[dim_a, dim_b], 0) # Distance angulaire attendue\n",
        "            distance += (ang_dist - expected_dist) ** 2 # cout erreur quadratique\n",
        "    return distance\n",
        "\n",
        "def crossover(parent1, parent2):\n",
        "    \"\"\"Effectue un croisement en prenant un sous-chemin de parent1 et complète avec parent2.\"\"\"\n",
        "    # Sélectionne un sous-chemin aléatoire de parent1\n",
        "    start, end = random.sample(range(len(parent1)), 2)\n",
        "    \n",
        "    # Crée un enfant en copiant le sous-chemin de parent1\n",
        "    child = [-1]*len(parent1)\n",
        "    if start <= end:\n",
        "        for i in range(start, end + 1):\n",
        "            child[i] = parent1[i]\n",
        "    else:\n",
        "        for i in range(start, len(parent1)):\n",
        "            child[i] = parent1[i]\n",
        "        for i in range(0, end + 1):\n",
        "            child[i] = parent1[i]\n",
        "\n",
        "    # Complète l'enfant avec les éléments de parent2\n",
        "    pointer = 0\n",
        "    for i in range(len(child)):\n",
        "        if child[i] == -1:\n",
        "            while parent2[pointer] in child:\n",
        "                pointer += 1\n",
        "            child[i] = parent2[pointer]\n",
        "            pointer += 1\n",
        "\n",
        "    return child\n",
        "\n",
        "def mutate(path, mutation_rate, abs_corr_matrix, top_n):\n",
        "    \"\"\"Déplace quelques éléments du chemin à une autre position plus adaptée.\"\"\"\n",
        "    # Choose random elements to remove from the path\n",
        "    selected_elems = [elem for elem in path if random.random() < mutation_rate]\n",
        "    new_path = [elem for elem in path if elem not in selected_elems]\n",
        "\n",
        "    # Insert the removed elements at random best position\n",
        "    for elem in selected_elems:\n",
        "\n",
        "        # Compute the score of each position\n",
        "        scores = []\n",
        "        for i in range(len(new_path)):\n",
        "            prev = new_path[i]\n",
        "            next = new_path[(i+1)%len(new_path)]\n",
        "            scores += [abs_corr_matrix[prev, elem] + abs_corr_matrix[elem, next]]\n",
        "\n",
        "        # Select the top_n best positions\n",
        "        ranked_indices = np.argsort(scores)[-top_n:] # Index of the top_n positions\n",
        "        ranked_scores = np.sort(scores)[-top_n:] # Score of the top_n positions\n",
        "\n",
        "        # Normalize the scores to get a probability distribution\n",
        "        proba = ranked_scores / np.sum(ranked_scores)\n",
        "\n",
        "        # Choose a position according to the probability distribution\n",
        "        new_pos = np.random.choice(ranked_indices, p=proba)\n",
        "        new_path.insert(new_pos, elem)\n",
        "    \n",
        "    return new_path\n",
        "\n",
        "def genetic_algorithm(abs_corr_matrix, population_size, generations, mutation_rate, top_n_mutate, top_n_parents):\n",
        "    \"\"\"Effectue l'algorithme génétique pour le TSP.\"\"\"\n",
        "    \n",
        "    # Génère une population initiale de chemins aléatoires\n",
        "    population = [list(np.random.permutation(len(abs_corr_matrix))) for _ in range(population_size)]\n",
        "    best_distance = np.inf\n",
        "    best_path = None\n",
        "\n",
        "    for generation in range(generations):\n",
        "        # Évalue la fitness de chaque individu\n",
        "        distances = [fitness(path, abs_corr_matrix) for path in population]\n",
        "        ranked_indices = np.argsort(distances)\n",
        "        print(f\"Gen {generation}: {min(distances)}\")\n",
        "        #print('scores', distances)\n",
        "\n",
        "        # Sauvegarde le meilleur individu si meilleur que courant\n",
        "        if min(distances) < best_distance:\n",
        "            best_distance = min(distances)\n",
        "            best_path = population[np.argmin(distances)]\n",
        "\n",
        "        # Sélection des parents pour le croisement\n",
        "        parents = [population[i] for i in ranked_indices[:top_n_parents]]\n",
        "        #print('parents', parents)\n",
        "\n",
        "        # Création de la nouvelle population\n",
        "        new_population = [p for p in parents] # Copie les parents\n",
        "        while len(new_population) < population_size:\n",
        "            parent1, parent2 = random.sample(parents, 2)\n",
        "            child = crossover(parent1, parent2)\n",
        "            new_population.append(child)\n",
        "\n",
        "        # Appliquer la mutation\n",
        "        population = [mutate(path, mutation_rate, abs_corr_matrix, top_n_mutate) for path in new_population]\n",
        "\n",
        "    # Renvoie le meilleur chemin trouvé\n",
        "    return best_path, best_distance\n",
        "\n",
        "path, distance = genetic_algorithm(\n",
        "    # corr_matrix=correlation_matrix,\n",
        "    abs_corr_matrix=abs_corr_matrix, \n",
        "    population_size=100, \n",
        "    generations=1500, \n",
        "    mutation_rate=0.01, \n",
        "    top_n_mutate=5, \n",
        "    top_n_parents=10,\n",
        ")\n",
        "\n",
        "print(\"Meilleur chemin:\", path)\n",
        "print(\"Distance:\", distance)\n",
        "\n",
        "with open('path.txt', 'w') as f:\n",
        "    f.write(str(path) + '\\n')\n",
        "    f.write(str(distance))"
      ]
    },
    {
      "cell_type": "markdown",
      "metadata": {
        "id": "Dp4veVDBW321"
      },
      "source": [
        "# Radar Chart (absolute correlation)"
      ]
    },
    {
      "cell_type": "code",
      "execution_count": 9,
      "metadata": {},
      "outputs": [
        {
          "name": "stdout",
          "output_type": "stream",
          "text": [
            "[1, 1, 1, 1, 1, 1, 1, -1, 1, -1, 1, -1, -1, -1, 1, -1, -1, -1, 1, -1, -1, 1, -1, 1, -1, -1, -1, -1, 1, -1, 1, 1, 1, 1, 1, 1, -1, 1, -1, 1, 1, 1, -1, -1, -1, -1, 1, -1, 1, -1, 1, -1, -1, 1, -1, 1, 1, 1, 1, 1, 1, 1, 1, 1, -1, -1, 1, -1, 1, 1, 1, 1, 1, -1, 1, -1, 1, -1, 1, -1, -1, 1, 1, 1, 1, 1, 1, 1, -1, 1, 1, -1, 1, 1, -1, 1, 1, -1, -1, 1, -1, 1, -1, 1, -1, -1, -1, -1, 1, -1, 1, 1, -1, -1, 1, 1, 1, 1, -1, 1, -1, -1, -1, -1, 1, 1, -1, -1, 1, -1, -1, -1, 1, 1, -1, 1, 1, -1, -1, -1, 1, -1, -1, 1, -1, -1, -1, -1, -1, -1, 1, 1, -1, 1, -1, -1, -1, -1, -1, 1, -1, -1, -1, -1, 1, -1, 1, -1, -1, 1, 1, 1, -1, 1, 1, 1, 1, -1, -1, -1, -1, 1, -1, -1, 1, -1, 1, 1, 1, -1, -1, -1, 1, -1, -1, -1, 1, 1, 1, -1, 1, -1, 1, 1, -1, 1, 1, 1, -1, 1, -1, 1, -1, 1, 1, -1, -1, 1, 1, -1, -1, -1, 1, -1, -1, -1, -1, 1, 1, 1, -1, 1, -1, 1, -1, -1, 1, -1, 1, -1, 1, -1, 1, -1, 1, 1, 1, -1, 1, -1, -1, -1, 1, -1, 1, 1, 1, 1, -1, 1, -1, 1, -1, -1, 1, -1, 1, 1, 1, 1, -1, -1, -1, -1, -1, 1, -1, 1, -1, -1, -1, 1, 1, -1, -1, -1, 1, 1, 1, 1, 1, -1, 1, -1, 1, 1, -1, 1, 1, -1, -1, 1, -1, 1, 1, -1, -1, 1, -1, 1, 1, -1, -1, 1, -1, 1, -1, 1, -1, 1, -1, -1, 1, -1, -1, 1, -1, -1, -1, 1, 1, 1, -1, 1, 1, 1, -1, 1, -1, -1, -1, -1, 1, -1, -1, 1, 1, 1, -1, 1, -1, -1, 1, -1, 1, -1, -1, 1, 1, 1, 1, 1, 1, 1, 1, -1, 1, -1, 1, -1, 1, -1, -1, -1, 1, -1, 1, 1, 1, -1, 1, -1, 1, 1, 1, 1, -1, 1, -1, -1, 1, -1, 1, -1, -1, 1, 1, 1, -1, 1, -1, -1, 1, 1, -1, -1, -1, -1, 1, -1, -1, -1, 1, -1, -1, 1, -1, 1, 1, 1, -1, 1, 1, -1, 1, -1, -1, -1, -1, -1, 1, -1, -1, 1, 1, -1, -1, 1, -1, 1, -1, 1, 1, -1, -1, 1, -1, 1, 1, 1, -1, 1, -1, 1, 1, -1, 1, 1, 1, -1, -1, 1, -1, 1, 1, -1, 1, 1, 1, 1, 1, -1, -1, 1, 1, -1, -1, -1, 1, -1, 1, 1, -1, -1, -1, 1, -1, -1, 1, 1, -1, 1, 1, 1, -1, 1, 1, 1, 1, 1, 1, -1, -1, -1, -1, -1, 1, -1, -1, 1, 1, -1, -1, -1, 1, -1, -1, -1, -1, 1, 1, -1, -1, -1, 1, -1, -1, -1, 1, 1, -1, -1, 1, 1, 1, 1, -1, 1, -1, -1, -1, -1, 1, -1, 1, -1, 1, -1, -1, -1, 1, -1, -1, 1, 1, 1, -1, 1, -1, 1, 1, 1, -1, 1, 1, 1, 1, 1, -1, -1, -1, 1, 1, 1, 1, -1, 1, -1, 1, 1, 1, 1, -1, 1, -1, 1, 1, -1, 1, -1, 1, 1, 1, -1, -1, 1, 1, 1, 1, -1, 1, -1, -1, 1, 1, -1, -1, -1, -1, 1, 1, 1, -1, -1, -1, 1, -1, 1, -1, -1, 1, -1, -1, 1, -1, 1, 1, 1, -1, 1, -1, 1, 1, -1, 1, -1, 1, -1, 1, 1, -1, 1, -1, 1, 1, 1, -1, -1, -1, 1, -1, 1, -1, -1, 1, -1, -1, -1, -1, -1, -1, 1, -1, -1, 1, 1, 1, -1, 1, -1, 1, -1, 1, -1, -1, 1, -1, 1, -1, 1, 1, 1, -1, -1, -1, 1, -1, 1, 1, -1, 1, 1, -1, -1, -1, 1, -1, 1, 1, 1, -1, -1, -1, -1, 1, -1, 1, 1, 1, -1, -1, 1, -1, 1, 1, -1, 1, -1, -1, 1, -1, -1, -1, 1, 1, -1, -1, -1, 1, -1, -1, -1, 1, -1, -1, -1, 1, 1, 1, 1, -1, -1, -1, -1, -1, 1, 1, 1, -1, -1, -1, -1, -1, -1, -1, -1, -1, -1, 1, 1, -1, 1, -1, 1, 1, -1, -1, 1, 1]\n"
          ]
        }
      ],
      "source": [
        "# Load path\n",
        "with open('path.txt', 'r') as f:\n",
        "    path = eval(f.readline())\n",
        "\n",
        "# Load vocab_emb_matrix\n",
        "vocab_emb_matrix = np.load('vocab_emb_matrix.npy')\n",
        "\n",
        "# Load the correlation matrix\n",
        "correlation_matrix = np.load('correlation_matrix.npy')\n",
        "\n",
        "# Compute coef for each value in the path\n",
        "coefs = [1] # List that contains values {1, -1} for each value in the path\n",
        "current_coef = 1\n",
        "for i in range(len(path)):\n",
        "    current = path[i]\n",
        "    next = path[(i+1)%len(path)]\n",
        "    next_coef = int(np.sign(correlation_matrix[current, next]))\n",
        "    coefs += [current_coef * next_coef]\n",
        "    current_coef = next_coef\n",
        "\n",
        "print(coefs)"
      ]
    },
    {
      "cell_type": "code",
      "execution_count": 10,
      "metadata": {},
      "outputs": [
        {
          "data": {
            "application/vnd.plotly.v1+json": {
              "config": {
                "plotlyServerURL": "https://plot.ly"
              },
              "data": [
                {
                  "hovertemplate": "variable=0<br>index=%{x}<br>value=%{y}<extra></extra>",
                  "legendgroup": "0",
                  "line": {
                    "color": "#636efa",
                    "dash": "solid"
                  },
                  "marker": {
                    "symbol": "circle"
                  },
                  "mode": "lines",
                  "name": "0",
                  "orientation": "v",
                  "showlegend": true,
                  "type": "scatter",
                  "x": [
                    0,
                    1,
                    2,
                    3,
                    4,
                    5,
                    6,
                    7,
                    8,
                    9,
                    10,
                    11,
                    12,
                    13,
                    14,
                    15,
                    16,
                    17,
                    18,
                    19,
                    20,
                    21,
                    22,
                    23,
                    24,
                    25,
                    26,
                    27,
                    28,
                    29,
                    30,
                    31,
                    32,
                    33,
                    34,
                    35,
                    36,
                    37,
                    38,
                    39,
                    40,
                    41,
                    42,
                    43,
                    44,
                    45,
                    46,
                    47,
                    48,
                    49,
                    50,
                    51,
                    52,
                    53,
                    54,
                    55,
                    56,
                    57,
                    58,
                    59,
                    60,
                    61,
                    62,
                    63,
                    64,
                    65,
                    66,
                    67,
                    68,
                    69,
                    70,
                    71,
                    72,
                    73,
                    74,
                    75,
                    76,
                    77,
                    78,
                    79,
                    80,
                    81,
                    82,
                    83,
                    84,
                    85,
                    86,
                    87,
                    88,
                    89,
                    90,
                    91,
                    92,
                    93,
                    94,
                    95,
                    96,
                    97,
                    98,
                    99,
                    100,
                    101,
                    102,
                    103,
                    104,
                    105,
                    106,
                    107,
                    108,
                    109,
                    110,
                    111,
                    112,
                    113,
                    114,
                    115,
                    116,
                    117,
                    118,
                    119,
                    120,
                    121,
                    122,
                    123,
                    124,
                    125,
                    126,
                    127
                  ],
                  "xaxis": "x",
                  "y": [
                    0.0044318484119380075,
                    0.0050954251765884155,
                    0.005845500468006694,
                    0.006691272400599494,
                    0.0076426058187464025,
                    0.008710036012445266,
                    0.009904765099539109,
                    0.01123865008400194,
                    0.012724181596831433,
                    0.014374452341354899,
                    0.016203114300393225,
                    0.018224323820761695,
                    0.0204526737727814,
                    0.02290311209026528,
                    0.02559084613085239,
                    0.02853123245812904,
                    0.03173965183566742,
                    0.035231369438269634,
                    0.03902138052597502,
                    0.04312424208967724,
                    0.04755389126063963,
                    0.05232345157614031,
                    0.05744502850548769,
                    0.06292949595953445,
                    0.0687862758266919,
                    0.07502311289278962,
                    0.08164584780389299,
                    0.08865819101294195,
                    0.09606150090511335,
                    0.10385456951536318,
                    0.11203341942700748,
                    0.12059111556509673,
                    0.12951759566589174,
                    0.13879952320786465,
                    0.1484201665251779,
                    0.1583593076875465,
                    0.16859318451811514,
                    0.17909446883234686,
                    0.189832283616435,
                    0.20077226142568008,
                    0.21187664577569948,
                    0.22310443672817257,
                    0.23441158124578176,
                    0.245751208217532,
                    0.25707390734673474,
                    0.26832805036206686,
                    0.2794601522708544,
                    0.2904152696375949,
                    0.30113743215480443,
                    0.3115701030928869,
                    0.3216566635860753,
                    0.331340915147292,
                    0.3405675943198307,
                    0.34928289298062887,
                    0.3574349775195373,
                    0.36497449994040165,
                    0.37185509386976895,
                    0.3780338485219678,
                    0.38347175385694454,
                    0.3881341104785827,
                    0.39199089825257194,
                    0.3950170981677671,
                    0.39719296261432385,
                    0.39850422999422597,
                    0.3989422804014327,
                    0.39850422999422597,
                    0.39719296261432385,
                    0.3950170981677671,
                    0.39199089825257194,
                    0.3881341104785827,
                    0.38347175385694454,
                    0.3780338485219678,
                    0.37185509386976895,
                    0.36497449994040165,
                    0.3574349775195373,
                    0.34928289298062887,
                    0.3405675943198307,
                    0.331340915147292,
                    0.3216566635860753,
                    0.3115701030928869,
                    0.30113743215480443,
                    0.2904152696375949,
                    0.2794601522708544,
                    0.26832805036206686,
                    0.25707390734673474,
                    0.245751208217532,
                    0.23441158124578176,
                    0.22310443672817257,
                    0.21187664577569948,
                    0.20077226142568008,
                    0.189832283616435,
                    0.17909446883234686,
                    0.16859318451811514,
                    0.1583593076875465,
                    0.1484201665251779,
                    0.13879952320786465,
                    0.12951759566589174,
                    0.12059111556509673,
                    0.11203341942700748,
                    0.10385456951536318,
                    0.09606150090511335,
                    0.08865819101294195,
                    0.08164584780389299,
                    0.07502311289278962,
                    0.0687862758266919,
                    0.06292949595953445,
                    0.05744502850548769,
                    0.05232345157614031,
                    0.04755389126063963,
                    0.04312424208967724,
                    0.03902138052597502,
                    0.035231369438269634,
                    0.03173965183566742,
                    0.02853123245812904,
                    0.02559084613085239,
                    0.02290311209026528,
                    0.0204526737727814,
                    0.018224323820761695,
                    0.016203114300393225,
                    0.014374452341354899,
                    0.012724181596831433,
                    0.01123865008400194,
                    0.009904765099539109,
                    0.008710036012445266,
                    0.0076426058187464025,
                    0.006691272400599494,
                    0.005845500468006694,
                    0.0050954251765884155
                  ],
                  "yaxis": "y"
                }
              ],
              "layout": {
                "legend": {
                  "title": {
                    "text": "variable"
                  },
                  "tracegroupgap": 0
                },
                "margin": {
                  "t": 60
                },
                "template": {
                  "data": {
                    "bar": [
                      {
                        "error_x": {
                          "color": "#2a3f5f"
                        },
                        "error_y": {
                          "color": "#2a3f5f"
                        },
                        "marker": {
                          "line": {
                            "color": "#E5ECF6",
                            "width": 0.5
                          },
                          "pattern": {
                            "fillmode": "overlay",
                            "size": 10,
                            "solidity": 0.2
                          }
                        },
                        "type": "bar"
                      }
                    ],
                    "barpolar": [
                      {
                        "marker": {
                          "line": {
                            "color": "#E5ECF6",
                            "width": 0.5
                          },
                          "pattern": {
                            "fillmode": "overlay",
                            "size": 10,
                            "solidity": 0.2
                          }
                        },
                        "type": "barpolar"
                      }
                    ],
                    "carpet": [
                      {
                        "aaxis": {
                          "endlinecolor": "#2a3f5f",
                          "gridcolor": "white",
                          "linecolor": "white",
                          "minorgridcolor": "white",
                          "startlinecolor": "#2a3f5f"
                        },
                        "baxis": {
                          "endlinecolor": "#2a3f5f",
                          "gridcolor": "white",
                          "linecolor": "white",
                          "minorgridcolor": "white",
                          "startlinecolor": "#2a3f5f"
                        },
                        "type": "carpet"
                      }
                    ],
                    "choropleth": [
                      {
                        "colorbar": {
                          "outlinewidth": 0,
                          "ticks": ""
                        },
                        "type": "choropleth"
                      }
                    ],
                    "contour": [
                      {
                        "colorbar": {
                          "outlinewidth": 0,
                          "ticks": ""
                        },
                        "colorscale": [
                          [
                            0,
                            "#0d0887"
                          ],
                          [
                            0.1111111111111111,
                            "#46039f"
                          ],
                          [
                            0.2222222222222222,
                            "#7201a8"
                          ],
                          [
                            0.3333333333333333,
                            "#9c179e"
                          ],
                          [
                            0.4444444444444444,
                            "#bd3786"
                          ],
                          [
                            0.5555555555555556,
                            "#d8576b"
                          ],
                          [
                            0.6666666666666666,
                            "#ed7953"
                          ],
                          [
                            0.7777777777777778,
                            "#fb9f3a"
                          ],
                          [
                            0.8888888888888888,
                            "#fdca26"
                          ],
                          [
                            1,
                            "#f0f921"
                          ]
                        ],
                        "type": "contour"
                      }
                    ],
                    "contourcarpet": [
                      {
                        "colorbar": {
                          "outlinewidth": 0,
                          "ticks": ""
                        },
                        "type": "contourcarpet"
                      }
                    ],
                    "heatmap": [
                      {
                        "colorbar": {
                          "outlinewidth": 0,
                          "ticks": ""
                        },
                        "colorscale": [
                          [
                            0,
                            "#0d0887"
                          ],
                          [
                            0.1111111111111111,
                            "#46039f"
                          ],
                          [
                            0.2222222222222222,
                            "#7201a8"
                          ],
                          [
                            0.3333333333333333,
                            "#9c179e"
                          ],
                          [
                            0.4444444444444444,
                            "#bd3786"
                          ],
                          [
                            0.5555555555555556,
                            "#d8576b"
                          ],
                          [
                            0.6666666666666666,
                            "#ed7953"
                          ],
                          [
                            0.7777777777777778,
                            "#fb9f3a"
                          ],
                          [
                            0.8888888888888888,
                            "#fdca26"
                          ],
                          [
                            1,
                            "#f0f921"
                          ]
                        ],
                        "type": "heatmap"
                      }
                    ],
                    "heatmapgl": [
                      {
                        "colorbar": {
                          "outlinewidth": 0,
                          "ticks": ""
                        },
                        "colorscale": [
                          [
                            0,
                            "#0d0887"
                          ],
                          [
                            0.1111111111111111,
                            "#46039f"
                          ],
                          [
                            0.2222222222222222,
                            "#7201a8"
                          ],
                          [
                            0.3333333333333333,
                            "#9c179e"
                          ],
                          [
                            0.4444444444444444,
                            "#bd3786"
                          ],
                          [
                            0.5555555555555556,
                            "#d8576b"
                          ],
                          [
                            0.6666666666666666,
                            "#ed7953"
                          ],
                          [
                            0.7777777777777778,
                            "#fb9f3a"
                          ],
                          [
                            0.8888888888888888,
                            "#fdca26"
                          ],
                          [
                            1,
                            "#f0f921"
                          ]
                        ],
                        "type": "heatmapgl"
                      }
                    ],
                    "histogram": [
                      {
                        "marker": {
                          "pattern": {
                            "fillmode": "overlay",
                            "size": 10,
                            "solidity": 0.2
                          }
                        },
                        "type": "histogram"
                      }
                    ],
                    "histogram2d": [
                      {
                        "colorbar": {
                          "outlinewidth": 0,
                          "ticks": ""
                        },
                        "colorscale": [
                          [
                            0,
                            "#0d0887"
                          ],
                          [
                            0.1111111111111111,
                            "#46039f"
                          ],
                          [
                            0.2222222222222222,
                            "#7201a8"
                          ],
                          [
                            0.3333333333333333,
                            "#9c179e"
                          ],
                          [
                            0.4444444444444444,
                            "#bd3786"
                          ],
                          [
                            0.5555555555555556,
                            "#d8576b"
                          ],
                          [
                            0.6666666666666666,
                            "#ed7953"
                          ],
                          [
                            0.7777777777777778,
                            "#fb9f3a"
                          ],
                          [
                            0.8888888888888888,
                            "#fdca26"
                          ],
                          [
                            1,
                            "#f0f921"
                          ]
                        ],
                        "type": "histogram2d"
                      }
                    ],
                    "histogram2dcontour": [
                      {
                        "colorbar": {
                          "outlinewidth": 0,
                          "ticks": ""
                        },
                        "colorscale": [
                          [
                            0,
                            "#0d0887"
                          ],
                          [
                            0.1111111111111111,
                            "#46039f"
                          ],
                          [
                            0.2222222222222222,
                            "#7201a8"
                          ],
                          [
                            0.3333333333333333,
                            "#9c179e"
                          ],
                          [
                            0.4444444444444444,
                            "#bd3786"
                          ],
                          [
                            0.5555555555555556,
                            "#d8576b"
                          ],
                          [
                            0.6666666666666666,
                            "#ed7953"
                          ],
                          [
                            0.7777777777777778,
                            "#fb9f3a"
                          ],
                          [
                            0.8888888888888888,
                            "#fdca26"
                          ],
                          [
                            1,
                            "#f0f921"
                          ]
                        ],
                        "type": "histogram2dcontour"
                      }
                    ],
                    "mesh3d": [
                      {
                        "colorbar": {
                          "outlinewidth": 0,
                          "ticks": ""
                        },
                        "type": "mesh3d"
                      }
                    ],
                    "parcoords": [
                      {
                        "line": {
                          "colorbar": {
                            "outlinewidth": 0,
                            "ticks": ""
                          }
                        },
                        "type": "parcoords"
                      }
                    ],
                    "pie": [
                      {
                        "automargin": true,
                        "type": "pie"
                      }
                    ],
                    "scatter": [
                      {
                        "fillpattern": {
                          "fillmode": "overlay",
                          "size": 10,
                          "solidity": 0.2
                        },
                        "type": "scatter"
                      }
                    ],
                    "scatter3d": [
                      {
                        "line": {
                          "colorbar": {
                            "outlinewidth": 0,
                            "ticks": ""
                          }
                        },
                        "marker": {
                          "colorbar": {
                            "outlinewidth": 0,
                            "ticks": ""
                          }
                        },
                        "type": "scatter3d"
                      }
                    ],
                    "scattercarpet": [
                      {
                        "marker": {
                          "colorbar": {
                            "outlinewidth": 0,
                            "ticks": ""
                          }
                        },
                        "type": "scattercarpet"
                      }
                    ],
                    "scattergeo": [
                      {
                        "marker": {
                          "colorbar": {
                            "outlinewidth": 0,
                            "ticks": ""
                          }
                        },
                        "type": "scattergeo"
                      }
                    ],
                    "scattergl": [
                      {
                        "marker": {
                          "colorbar": {
                            "outlinewidth": 0,
                            "ticks": ""
                          }
                        },
                        "type": "scattergl"
                      }
                    ],
                    "scattermapbox": [
                      {
                        "marker": {
                          "colorbar": {
                            "outlinewidth": 0,
                            "ticks": ""
                          }
                        },
                        "type": "scattermapbox"
                      }
                    ],
                    "scatterpolar": [
                      {
                        "marker": {
                          "colorbar": {
                            "outlinewidth": 0,
                            "ticks": ""
                          }
                        },
                        "type": "scatterpolar"
                      }
                    ],
                    "scatterpolargl": [
                      {
                        "marker": {
                          "colorbar": {
                            "outlinewidth": 0,
                            "ticks": ""
                          }
                        },
                        "type": "scatterpolargl"
                      }
                    ],
                    "scatterternary": [
                      {
                        "marker": {
                          "colorbar": {
                            "outlinewidth": 0,
                            "ticks": ""
                          }
                        },
                        "type": "scatterternary"
                      }
                    ],
                    "surface": [
                      {
                        "colorbar": {
                          "outlinewidth": 0,
                          "ticks": ""
                        },
                        "colorscale": [
                          [
                            0,
                            "#0d0887"
                          ],
                          [
                            0.1111111111111111,
                            "#46039f"
                          ],
                          [
                            0.2222222222222222,
                            "#7201a8"
                          ],
                          [
                            0.3333333333333333,
                            "#9c179e"
                          ],
                          [
                            0.4444444444444444,
                            "#bd3786"
                          ],
                          [
                            0.5555555555555556,
                            "#d8576b"
                          ],
                          [
                            0.6666666666666666,
                            "#ed7953"
                          ],
                          [
                            0.7777777777777778,
                            "#fb9f3a"
                          ],
                          [
                            0.8888888888888888,
                            "#fdca26"
                          ],
                          [
                            1,
                            "#f0f921"
                          ]
                        ],
                        "type": "surface"
                      }
                    ],
                    "table": [
                      {
                        "cells": {
                          "fill": {
                            "color": "#EBF0F8"
                          },
                          "line": {
                            "color": "white"
                          }
                        },
                        "header": {
                          "fill": {
                            "color": "#C8D4E3"
                          },
                          "line": {
                            "color": "white"
                          }
                        },
                        "type": "table"
                      }
                    ]
                  },
                  "layout": {
                    "annotationdefaults": {
                      "arrowcolor": "#2a3f5f",
                      "arrowhead": 0,
                      "arrowwidth": 1
                    },
                    "autotypenumbers": "strict",
                    "coloraxis": {
                      "colorbar": {
                        "outlinewidth": 0,
                        "ticks": ""
                      }
                    },
                    "colorscale": {
                      "diverging": [
                        [
                          0,
                          "#8e0152"
                        ],
                        [
                          0.1,
                          "#c51b7d"
                        ],
                        [
                          0.2,
                          "#de77ae"
                        ],
                        [
                          0.3,
                          "#f1b6da"
                        ],
                        [
                          0.4,
                          "#fde0ef"
                        ],
                        [
                          0.5,
                          "#f7f7f7"
                        ],
                        [
                          0.6,
                          "#e6f5d0"
                        ],
                        [
                          0.7,
                          "#b8e186"
                        ],
                        [
                          0.8,
                          "#7fbc41"
                        ],
                        [
                          0.9,
                          "#4d9221"
                        ],
                        [
                          1,
                          "#276419"
                        ]
                      ],
                      "sequential": [
                        [
                          0,
                          "#0d0887"
                        ],
                        [
                          0.1111111111111111,
                          "#46039f"
                        ],
                        [
                          0.2222222222222222,
                          "#7201a8"
                        ],
                        [
                          0.3333333333333333,
                          "#9c179e"
                        ],
                        [
                          0.4444444444444444,
                          "#bd3786"
                        ],
                        [
                          0.5555555555555556,
                          "#d8576b"
                        ],
                        [
                          0.6666666666666666,
                          "#ed7953"
                        ],
                        [
                          0.7777777777777778,
                          "#fb9f3a"
                        ],
                        [
                          0.8888888888888888,
                          "#fdca26"
                        ],
                        [
                          1,
                          "#f0f921"
                        ]
                      ],
                      "sequentialminus": [
                        [
                          0,
                          "#0d0887"
                        ],
                        [
                          0.1111111111111111,
                          "#46039f"
                        ],
                        [
                          0.2222222222222222,
                          "#7201a8"
                        ],
                        [
                          0.3333333333333333,
                          "#9c179e"
                        ],
                        [
                          0.4444444444444444,
                          "#bd3786"
                        ],
                        [
                          0.5555555555555556,
                          "#d8576b"
                        ],
                        [
                          0.6666666666666666,
                          "#ed7953"
                        ],
                        [
                          0.7777777777777778,
                          "#fb9f3a"
                        ],
                        [
                          0.8888888888888888,
                          "#fdca26"
                        ],
                        [
                          1,
                          "#f0f921"
                        ]
                      ]
                    },
                    "colorway": [
                      "#636efa",
                      "#EF553B",
                      "#00cc96",
                      "#ab63fa",
                      "#FFA15A",
                      "#19d3f3",
                      "#FF6692",
                      "#B6E880",
                      "#FF97FF",
                      "#FECB52"
                    ],
                    "font": {
                      "color": "#2a3f5f"
                    },
                    "geo": {
                      "bgcolor": "white",
                      "lakecolor": "white",
                      "landcolor": "#E5ECF6",
                      "showlakes": true,
                      "showland": true,
                      "subunitcolor": "white"
                    },
                    "hoverlabel": {
                      "align": "left"
                    },
                    "hovermode": "closest",
                    "mapbox": {
                      "style": "light"
                    },
                    "paper_bgcolor": "white",
                    "plot_bgcolor": "#E5ECF6",
                    "polar": {
                      "angularaxis": {
                        "gridcolor": "white",
                        "linecolor": "white",
                        "ticks": ""
                      },
                      "bgcolor": "#E5ECF6",
                      "radialaxis": {
                        "gridcolor": "white",
                        "linecolor": "white",
                        "ticks": ""
                      }
                    },
                    "scene": {
                      "xaxis": {
                        "backgroundcolor": "#E5ECF6",
                        "gridcolor": "white",
                        "gridwidth": 2,
                        "linecolor": "white",
                        "showbackground": true,
                        "ticks": "",
                        "zerolinecolor": "white"
                      },
                      "yaxis": {
                        "backgroundcolor": "#E5ECF6",
                        "gridcolor": "white",
                        "gridwidth": 2,
                        "linecolor": "white",
                        "showbackground": true,
                        "ticks": "",
                        "zerolinecolor": "white"
                      },
                      "zaxis": {
                        "backgroundcolor": "#E5ECF6",
                        "gridcolor": "white",
                        "gridwidth": 2,
                        "linecolor": "white",
                        "showbackground": true,
                        "ticks": "",
                        "zerolinecolor": "white"
                      }
                    },
                    "shapedefaults": {
                      "line": {
                        "color": "#2a3f5f"
                      }
                    },
                    "ternary": {
                      "aaxis": {
                        "gridcolor": "white",
                        "linecolor": "white",
                        "ticks": ""
                      },
                      "baxis": {
                        "gridcolor": "white",
                        "linecolor": "white",
                        "ticks": ""
                      },
                      "bgcolor": "#E5ECF6",
                      "caxis": {
                        "gridcolor": "white",
                        "linecolor": "white",
                        "ticks": ""
                      }
                    },
                    "title": {
                      "x": 0.05
                    },
                    "xaxis": {
                      "automargin": true,
                      "gridcolor": "white",
                      "linecolor": "white",
                      "ticks": "",
                      "title": {
                        "standoff": 15
                      },
                      "zerolinecolor": "white",
                      "zerolinewidth": 2
                    },
                    "yaxis": {
                      "automargin": true,
                      "gridcolor": "white",
                      "linecolor": "white",
                      "ticks": "",
                      "title": {
                        "standoff": 15
                      },
                      "zerolinecolor": "white",
                      "zerolinewidth": 2
                    }
                  }
                },
                "xaxis": {
                  "anchor": "y",
                  "domain": [
                    0,
                    1
                  ],
                  "title": {
                    "text": "index"
                  }
                },
                "yaxis": {
                  "anchor": "x",
                  "domain": [
                    0,
                    1
                  ],
                  "title": {
                    "text": "value"
                  }
                }
              }
            }
          },
          "metadata": {},
          "output_type": "display_data"
        }
      ],
      "source": [
        "def circular_convolution(signal, kernel):\n",
        "    len_kernel = len(kernel)\n",
        "    half_kernel = len_kernel // 2\n",
        "    \n",
        "    # Étendre le signal aux deux extrémités pour gérer le cas circulaire\n",
        "    extended_signal = np.concatenate([signal[-half_kernel:], signal, signal[:half_kernel]])\n",
        "    \n",
        "    # Appliquer la convolution standard\n",
        "    result = np.convolve(extended_signal, kernel, mode='valid')\n",
        "    \n",
        "    return result\n",
        "\n",
        "N = 64\n",
        "filter = [scipy.stats.norm.pdf(3*x/N, 0, 1) for x in range(-N, N)]\n",
        "fig = px.line(filter)\n",
        "fig.show()"
      ]
    },
    {
      "cell_type": "code",
      "execution_count": 11,
      "metadata": {
        "colab": {
          "base_uri": "https://localhost:8080/",
          "height": 562
        },
        "id": "dfi2JSwr5WzM",
        "outputId": "7b0d502a-0421-46a0-af62-f91144a8f9d6"
      },
      "outputs": [
        {
          "name": "stdout",
          "output_type": "stream",
          "text": [
            "brave courageous\n"
          ]
        },
        {
          "data": {
            "application/vnd.plotly.v1+json": {
              "config": {
                "plotlyServerURL": "https://plot.ly"
              },
              "data": [
                {
                  "fill": "toself",
                  "name": "brave",
                  "r": [
                    -0.9437803852153047,
                    -0.9377143680116006,
                    -0.9292033108700111,
                    -0.9222919622863112,
                    -0.9138800355244567,
                    -0.9028885433443318,
                    -0.8949553587794704,
                    -0.8884143616318934,
                    -0.880950523160409,
                    -0.8761079715337428,
                    -0.8740335087194551,
                    -0.8648893691500001,
                    -0.86113802262517,
                    -0.8530585375155024,
                    -0.8513074648699492,
                    -0.8474847647290493,
                    -0.8428041139026459,
                    -0.8350864752344354,
                    -0.8308629850006206,
                    -0.8303898410827943,
                    -0.8281520489010563,
                    -0.8255124830560223,
                    -0.8211884881639681,
                    -0.8198445588199027,
                    -0.8149225801904312,
                    -0.8088986410002108,
                    -0.8016227102770548,
                    -0.7985657256675635,
                    -0.7931113428697705,
                    -0.7885720618419121,
                    -0.7843419707211607,
                    -0.7753388604492262,
                    -0.7673883717904024,
                    -0.7619097292424819,
                    -0.7524340922389315,
                    -0.741100079844596,
                    -0.72532726213288,
                    -0.7145372675283859,
                    -0.7006254648085102,
                    -0.6898682665144842,
                    -0.6722780557086643,
                    -0.6577835794110479,
                    -0.6429342212647666,
                    -0.6289844775556086,
                    -0.611503784268255,
                    -0.5912450140582657,
                    -0.5697427018194747,
                    -0.5490517255382132,
                    -0.5333096435711768,
                    -0.5094399180088665,
                    -0.48307518603570343,
                    -0.46155732391115056,
                    -0.4379879817782157,
                    -0.41073576016506114,
                    -0.3874602395439673,
                    -0.36422049654700295,
                    -0.3402580463602551,
                    -0.3124340526112449,
                    -0.28285849234215,
                    -0.26082066914688706,
                    -0.2338840130831391,
                    -0.2060012630894686,
                    -0.18184094856995314,
                    -0.15600093944548843,
                    -0.1303391697098074,
                    -0.10318859525602675,
                    -0.07596975288360114,
                    -0.04885512870471115,
                    -0.019729536790170255,
                    0.007819553627187614,
                    0.03260381922555372,
                    0.05601582203124045,
                    0.08366465049032057,
                    0.10687803119309591,
                    0.13226631663591643,
                    0.15809296057161976,
                    0.18313237064974341,
                    0.20910321431243356,
                    0.22892990734002105,
                    0.2526862795035842,
                    0.2783643383208509,
                    0.30332088462435314,
                    0.3266759405599014,
                    0.3462505780616905,
                    0.36730260228062817,
                    0.39373515328324027,
                    0.4169112280741886,
                    0.44116890855075536,
                    0.46153012793105963,
                    0.4821724015942711,
                    0.505960573067854,
                    0.5317446737298757,
                    0.5571924195062633,
                    0.58525482008172,
                    0.6108600242069111,
                    0.6376521584126311,
                    0.6620728985605632,
                    0.6867692244672619,
                    0.7121787678922669,
                    0.7432653313682841,
                    0.7717753526354013,
                    0.7996165498322193,
                    0.8244022640610179,
                    0.8515187321908534,
                    0.8799831369630846,
                    0.9065139619739994,
                    0.9366322961544084,
                    0.9603172808963232,
                    0.9884191194680245,
                    1.0149824609082376,
                    1.0431163058247994,
                    1.0691985060585867,
                    1.093874333701534,
                    1.1240934927358102,
                    1.1523983024804223,
                    1.1780818776266158,
                    1.2061790474976783,
                    1.229975131816185,
                    1.2542964960633904,
                    1.2764635302150005,
                    1.2923055518395241,
                    1.3120402423196176,
                    1.3253315194748363,
                    1.3420491579899179,
                    1.3520073765633847,
                    1.3643806675121932,
                    1.3719933019158284,
                    1.3802130510687576,
                    1.3857714848784806,
                    1.3909128453073465,
                    1.393731133675816,
                    1.3966181834812605,
                    1.393402081013915,
                    1.3898051574077677,
                    1.3871935247007783,
                    1.3825058226357787,
                    1.378137507097251,
                    1.3722549394974812,
                    1.3654372167355586,
                    1.3540658896682638,
                    1.3457412828256747,
                    1.3330099361451555,
                    1.3257730508049637,
                    1.314584541272557,
                    1.3074583533808841,
                    1.2933126104561325,
                    1.2844072946134149,
                    1.2771865270106768,
                    1.2713652302135827,
                    1.2640524054700366,
                    1.2562793005795676,
                    1.2516420907484394,
                    1.2452654043383073,
                    1.240426525840607,
                    1.2331043294259763,
                    1.2296245560465784,
                    1.2241467390147989,
                    1.2186985098194787,
                    1.2159065500232034,
                    1.2114762824765042,
                    1.2089476035183586,
                    1.209606830025728,
                    1.207284061896795,
                    1.2068452814616475,
                    1.206811226149287,
                    1.2083140338647558,
                    1.2095091700505212,
                    1.212909606812928,
                    1.215368168175699,
                    1.2188327757143986,
                    1.2201701043298319,
                    1.2253534812390305,
                    1.230664711661461,
                    1.2316233945006752,
                    1.2350672616664957,
                    1.2404183991405795,
                    1.2460996616592164,
                    1.249859880226328,
                    1.2498378794245786,
                    1.253808548982788,
                    1.2560009873517155,
                    1.2579031265908591,
                    1.2640756407019655,
                    1.270328470459362,
                    1.2783658450589468,
                    1.2840828308236705,
                    1.293035733914628,
                    1.3058108578440377,
                    1.3158483001425911,
                    1.328273503762662,
                    1.3396390968360574,
                    1.3508340291694305,
                    1.3714456457256015,
                    1.3900839950408135,
                    1.4085792066138196,
                    1.4298598644725444,
                    1.4475098195987375,
                    1.4727557538478813,
                    1.4944006772851761,
                    1.518129090922603,
                    1.5425396225000523,
                    1.570447925768085,
                    1.597998163685788,
                    1.626626945422351,
                    1.6581093523561796,
                    1.6860664044625033,
                    1.7185261083843058,
                    1.753290287860294,
                    1.7855284506537612,
                    1.8133240771424468,
                    1.8456814920591542,
                    1.8757405439092025,
                    1.9045113898755046,
                    1.9295231185697417,
                    1.9557191757401065,
                    1.9808698088434795,
                    2.0040292800937207,
                    2.0221057257650923,
                    2.0345431732593013,
                    2.04975850438718,
                    2.059183298240825,
                    2.070704279285322,
                    2.078794071260418,
                    2.0840061985998943,
                    2.084726387720847,
                    2.08375872806012,
                    2.0772917973224745,
                    2.0637409552009585,
                    2.0473945358909376,
                    2.0312653708841717,
                    2.0143778817906584,
                    1.9952972172068983,
                    1.9711912916121737,
                    1.9472019314340443,
                    1.9143330625536636,
                    1.8808332225328923,
                    1.8433186993534334,
                    1.8018024778205515,
                    1.7601126184346914,
                    1.7138955022916722,
                    1.6671973178158987,
                    1.6138923915706656,
                    1.5639437554390598,
                    1.5104202708150953,
                    1.4535363468838218,
                    1.3958417588529453,
                    1.3366357632999408,
                    1.2753030833518995,
                    1.2149653018387183,
                    1.1518008410407918,
                    1.0906840932423807,
                    1.0258787444368924,
                    0.9640381032850188,
                    0.9030854902540985,
                    0.8356478424957581,
                    0.7713357020056751,
                    0.7077702987320993,
                    0.6403059962105893,
                    0.5760972192025465,
                    0.5136071643060618,
                    0.45168254265735924,
                    0.39044800170225064,
                    0.3264445145263237,
                    0.27015422019782565,
                    0.21405472274152954,
                    0.15854282868593156,
                    0.10132496712472383,
                    0.04848439176455954,
                    -0.00699073097611852,
                    -0.05731231200268927,
                    -0.10405597190214583,
                    -0.1474444706407756,
                    -0.19175755747664247,
                    -0.23403648120078624,
                    -0.2738596182592589,
                    -0.310294653273602,
                    -0.35005353867953987,
                    -0.3790921772710581,
                    -0.40811825181901185,
                    -0.4342381787542544,
                    -0.45436280175372734,
                    -0.4714739904013557,
                    -0.48668533858719815,
                    -0.5015150692250849,
                    -0.5123705494707683,
                    -0.5202717031439524,
                    -0.5220229686944062,
                    -0.5243450183245052,
                    -0.5284726498231702,
                    -0.530520478419203,
                    -0.5272053308612986,
                    -0.5234448952129647,
                    -0.5168719384607546,
                    -0.5077612425425527,
                    -0.49824626130370225,
                    -0.48711848041217864,
                    -0.4747032774460118,
                    -0.46157171497749583,
                    -0.44528507367754666,
                    -0.4304823937599639,
                    -0.41516307857619555,
                    -0.39539707404717045,
                    -0.3750923727102652,
                    -0.3556137638166041,
                    -0.33348028538631713,
                    -0.3130080260059918,
                    -0.2810389038742519,
                    -0.25375539855364215,
                    -0.2345754684163915,
                    -0.21163931092641342,
                    -0.19028374123930916,
                    -0.16992399299683372,
                    -0.15091479611507952,
                    -0.13098678119302415,
                    -0.11368813492795211,
                    -0.09376474243893144,
                    -0.07273266431794391,
                    -0.057443020999523135,
                    -0.040077434557599795,
                    -0.020628282373130122,
                    -0.007690761835330032,
                    0.0034583909005624913,
                    0.01983202723791845,
                    0.030846040070750633,
                    0.04774549870589129,
                    0.05731415165722887,
                    0.07457102481698438,
                    0.08610785305828686,
                    0.09588850000674147,
                    0.10475871829582796,
                    0.11320095243851241,
                    0.11894703739946183,
                    0.11958993715090259,
                    0.12584434840599443,
                    0.12708183309681761,
                    0.12846839259367476,
                    0.13227574209956075,
                    0.13422549245195164,
                    0.1349602080665255,
                    0.14146786243416917,
                    0.14554847130028525,
                    0.14555108366188818,
                    0.15000782689738634,
                    0.15332914891219457,
                    0.1574553610910281,
                    0.15920918010889973,
                    0.16067654368110998,
                    0.15990979840067707,
                    0.16011317108089385,
                    0.16387859389084797,
                    0.16688504970493478,
                    0.16574732776719542,
                    0.17193683362709977,
                    0.17302268254051664,
                    0.17731212433268448,
                    0.1537881386497656,
                    0.14912024476496652,
                    0.1439557421023648,
                    0.13787699665895384,
                    0.13296299243882398,
                    0.12633426985895618,
                    0.11937428190548446,
                    0.11521359791093155,
                    0.10746727701160488,
                    0.0971330795477568,
                    0.08827635723108976,
                    0.07848529187117834,
                    0.06303211500553363,
                    0.04500070590842348,
                    0.026674456107388556,
                    0.0037765079787339118,
                    -0.02097410072829775,
                    -0.048159029899775996,
                    -0.07152891952415608,
                    -0.10345575241881882,
                    -0.13413339405016284,
                    -0.17030196335586317,
                    -0.2076008698256414,
                    -0.2525609226339679,
                    -0.3001191333993356,
                    -0.3506353790968928,
                    -0.40810702365240203,
                    -0.4640231934690838,
                    -0.5208618649856223,
                    -0.5853024025998261,
                    -0.6502921146921605,
                    -0.7174827397617878,
                    -0.7912107795660033,
                    -0.865420821696326,
                    -0.9449383650977566,
                    -1.0260605343452376,
                    -1.1131550438683742,
                    -1.20216092627782,
                    -1.290835547243397,
                    -1.3784017134575863,
                    -1.4700841640292883,
                    -1.5583402728180473,
                    -1.6523438920579585,
                    -1.7492951035051902,
                    -1.8456499016898866,
                    -1.938972457036129,
                    -2.029306950300004,
                    -2.1183390276661123,
                    -2.209923534414334,
                    -2.29556445234439,
                    -2.3835342955159566,
                    -2.4677761487332166,
                    -2.5462631884324107,
                    -2.6225137118922017,
                    -2.693270069911338,
                    -2.7607545081618583,
                    -2.8183782940259916,
                    -2.8733404313972137,
                    -2.9219911906058096,
                    -2.9674745112026435,
                    -3.008627459990706,
                    -3.0410474181501526,
                    -3.0652379133088647,
                    -3.085675735947033,
                    -3.0942316070905957,
                    -3.0993597848752446,
                    -3.0956411489321067,
                    -3.085432175330186,
                    -3.0719002876366512,
                    -3.0506532093290795,
                    -3.020730725680527,
                    -2.984612521470388,
                    -2.9469922009542975,
                    -2.898343415189634,
                    -2.848622997444892,
                    -2.7915660426988738,
                    -2.732215976068364,
                    -2.669288381113202,
                    -2.604364408909495,
                    -2.5417534793128365,
                    -2.4683004063292313,
                    -2.389772267543177,
                    -2.309277891559705,
                    -2.2312368368786317,
                    -2.149813906697281,
                    -2.0713505590678025,
                    -1.991986052517971,
                    -1.912377901710419,
                    -1.8348593887416669,
                    -1.7617899346982897,
                    -1.6855474913515924,
                    -1.611436049410466,
                    -1.5417646127125852,
                    -1.4797071025001312,
                    -1.414416486184574,
                    -1.3561927355858332,
                    -1.295984214504449,
                    -1.2436382618589716,
                    -1.1926410447552889,
                    -1.1455997598714633,
                    -1.1033662177334267,
                    -1.0647653000986839,
                    -1.0287562437519702,
                    -0.9976161528242564,
                    -0.9655512556221002,
                    -0.9421788724400209,
                    -0.9210923699888958,
                    -0.8993659037044794,
                    -0.884518057859951,
                    -0.8751271685780249,
                    -0.8634192118046586,
                    -0.8548225584643905,
                    -0.8524852288151081,
                    -0.8492647734823344,
                    -0.8437315461220796,
                    -0.8439270015843288,
                    -0.8438301832347568,
                    -0.842341917127845,
                    -0.8390180325628982,
                    -0.8350371454253283,
                    -0.8317421397405023,
                    -0.8302570804467919,
                    -0.8322417712575287,
                    -0.8322623501994681,
                    -0.8292280069274319,
                    -0.8236831395087831,
                    -0.8157609975273951,
                    -0.8126898256183293,
                    -0.7791977991240557,
                    -0.7677590564623697,
                    -0.7575296744843599,
                    -0.7508792446905774,
                    -0.7432755374820103,
                    -0.7282632364721958,
                    -0.7170372898994527,
                    -0.7019086697016172,
                    -0.6822831648553023,
                    -0.6612955714044784,
                    -0.642744358951937,
                    -0.6231165400941536,
                    -0.5967427143788033,
                    -0.5664427874617981,
                    -0.5431082957040894,
                    -0.5142864636161107,
                    -0.48489113488544855,
                    -0.4550969581772678,
                    -0.42885352151635314,
                    -0.3975304485862021,
                    -0.36486759616166464,
                    -0.3335844477878618,
                    -0.30604644942795534,
                    -0.27166218583170876,
                    -0.24376344140705497,
                    -0.21334177052879744,
                    -0.1819296323020474,
                    -0.15175389988710286,
                    -0.12697579885310306,
                    -0.09866464508341055,
                    -0.07258391498538397,
                    -0.05004888265166285,
                    -0.025654651034982434,
                    -0.003392544207178938,
                    0.021715477299642738,
                    0.04672930801492836,
                    0.06656013882182454,
                    0.08458231959709483,
                    0.10401022663655213,
                    0.11900519469250626,
                    0.1357132826806806,
                    0.14558591742242222,
                    0.16030727583281568,
                    0.17490067459770187,
                    0.18463128459537664,
                    0.19377947727256473,
                    0.19751080803302273,
                    0.1980557497235078,
                    0.20231249019207165,
                    0.20365204758088695,
                    0.20110436730206646,
                    0.19702351156307885,
                    0.19131176399020056,
                    0.18087373042116686,
                    0.171180739312768,
                    0.1558345254326936,
                    0.14344001832950806,
                    0.13006188084744622,
                    0.11501563141091957,
                    0.09411977761798535,
                    0.07581768233974406,
                    0.054506857000346465,
                    0.03529296967433443,
                    0.00942934620192154,
                    -0.022013352156748822,
                    -0.049114787947643845,
                    -0.07761736720997803,
                    -0.10711290898378895,
                    -0.13674807342301043,
                    -0.16689180190185804,
                    -0.19720239865489742,
                    -0.22961746803970917,
                    -0.2559246870376097,
                    -0.2900648850083875,
                    -0.32044291105742173,
                    -0.35265803297087833,
                    -0.38017942385760656,
                    -0.40728092406471245,
                    -0.4349909724371578,
                    -0.457420919623247,
                    -0.48313822409302143,
                    -0.5045541340435384,
                    -0.5258324825704945,
                    -0.544154638837518,
                    -0.5625499261600968,
                    -0.5717930333553589,
                    -0.5822219642536952,
                    -0.5889224504510763,
                    -0.5928744344506827,
                    -0.58986103218787,
                    -0.5884166517807762,
                    -0.5769355848669689,
                    -0.5650035137183194,
                    -0.5441891741304049,
                    -0.530814510489115,
                    -0.5087069390197143,
                    -0.48607205561383293,
                    -0.4560894142793521,
                    -0.42238013069917035,
                    -0.38584611219005965,
                    -0.3390903837463227,
                    -0.29383672709941666,
                    -0.24415779981430355,
                    -0.1944667886369062,
                    -0.14091134118034782,
                    -0.07990477449085981,
                    -0.019192009817071642,
                    0.04209205058217513,
                    0.10299735785433728,
                    0.16762909905228157,
                    0.23140049132996926,
                    0.29199458612315715,
                    0.3607754537831014,
                    0.42430685468602375,
                    0.48863467270192823,
                    0.5483779213800517,
                    0.6064914086945967,
                    0.6647252962201324,
                    0.7164470837135739,
                    0.7679810099003932,
                    0.817737109969232,
                    0.8680788201294496,
                    0.9109736814457524,
                    0.9539357808690136,
                    0.9908341607836053,
                    1.0192327987350032,
                    1.0448317889276684,
                    1.069354352405353,
                    1.0879222853443686,
                    1.0970085699881678,
                    1.1042596662420556,
                    1.108557350527747,
                    1.1067536863488145,
                    1.0939233355343538,
                    1.0825319071049004,
                    1.0611222633401822,
                    1.0364119326973664,
                    1.0068370427783102,
                    0.9745855485567914,
                    0.9407197424467575,
                    0.8983444856651467,
                    0.8519684782100468,
                    0.8053197411960382,
                    0.7504326608448608,
                    0.6976547310128164,
                    0.6378322115986602,
                    0.5770335416454445,
                    0.5124193914795672,
                    0.45002902631568137,
                    0.3835194275213274,
                    0.322714053406937,
                    0.2583714982268595,
                    0.1978430141132108,
                    0.1381812648975803,
                    0.07220751414061433,
                    0.009406948358425704,
                    -0.05013435451513587,
                    -0.1120852718980086,
                    -0.1673662516007286,
                    -0.22314171632573765,
                    -0.2777528070555253,
                    -0.32971349492758256,
                    -0.38370754703277155,
                    -0.43493236978762767,
                    -0.4805013109888072,
                    -0.5246530075791047,
                    -0.5694151429320797,
                    -0.605290717085653,
                    -0.6448422415807658,
                    -0.6752318259824116,
                    -0.7076798364172162,
                    -0.7372451555459303,
                    -0.7618162359800712,
                    -0.7874415883899131,
                    -0.8066120783007241,
                    -0.8251241230214733,
                    -0.8421464897147561,
                    -0.8560235922119332,
                    -0.8662923430931958,
                    -0.8742423733411613,
                    -0.8814051072094387,
                    -0.8871413343920549,
                    -0.8955397025667069,
                    -0.8958164251398136,
                    -0.901235262709106,
                    -0.9035978181751603,
                    -0.9040826795086526,
                    -0.9016152701261972,
                    -0.8994319128321102,
                    -0.8917324827708933,
                    -0.8886099504858206,
                    -0.8791942502482143,
                    -0.87180494772521,
                    -0.8689490243858057,
                    -0.8613579800498341,
                    -0.8531832494514016,
                    -0.8418954435745107,
                    -0.8348235088844608,
                    -0.8247663204347654,
                    -0.812306159182691,
                    -0.8000293318149412,
                    -0.7884504399913612,
                    -0.7772061523327328,
                    -0.7656656771051087,
                    -0.754456003812681,
                    -0.7401761094539695,
                    -0.7264100572350866,
                    -0.7189736068591015,
                    -0.7066118808938965,
                    -0.6912580715414336,
                    -0.6828296729368801,
                    -0.6700668169389279,
                    -0.6563926587760248,
                    -0.6459269837725556,
                    -0.634764799015098,
                    -0.6261916169455237,
                    -0.6147073826828835,
                    -0.6065807952195515,
                    -0.597244333957655,
                    -0.5903788433653955,
                    -0.5834804967604452,
                    -0.5787261972820412,
                    -0.5678525317300376,
                    -0.5633024549817386,
                    -0.558028979913641,
                    -0.5562756322882929,
                    -0.5546050189262365,
                    -0.5536866987453527,
                    -0.5557567216195596,
                    -0.5582061507534163,
                    -0.5618944898018573,
                    -0.5634651597579037,
                    -0.5702919071046038,
                    -0.5753702036077126,
                    -0.5836757346851745,
                    -0.5868409198566578,
                    -0.594025940317465,
                    -0.6042017662421006,
                    -0.6128214982364879,
                    -0.6210450290989866,
                    -0.6350381739722721,
                    -0.6461447391037928,
                    -0.6609157531115262,
                    -0.6732285314468482,
                    -0.686787260322374,
                    -0.7024587979505104,
                    -0.7139713165806488,
                    -0.7278645993843338,
                    -0.745264409776728,
                    -0.7608269351021993,
                    -0.7785288817162641,
                    -0.7980155384092237,
                    -0.8141348494810937,
                    -0.8328920307895671,
                    -0.8501472476515024,
                    -0.8654607134481898,
                    -0.88250581980871,
                    -0.8945614536528029,
                    -0.9100475077290567,
                    -0.9216328380542401,
                    -0.9351238888052769,
                    -0.9454792462779541,
                    -0.9570723450064549,
                    -0.9666314011197364,
                    -0.9751873762160795,
                    -0.982468824406984,
                    -0.987148592099867,
                    -0.997045547795393,
                    -0.9973630169200727,
                    -0.9997997279293082,
                    -0.9999588591224066,
                    -1.0010174855885194,
                    -1.0024803199005021,
                    -1.0015995678984873,
                    -1.0011212778709893,
                    -0.9977775272998768,
                    -0.9995083650605439,
                    -0.9919049240805257,
                    -0.9904715590164465,
                    -0.9851853880167216,
                    -0.9791413836283617,
                    -0.9772403813465573,
                    -0.9706722776163782,
                    -0.9606481838709975,
                    -0.9546618525438094,
                    -0.9437803852153047
                  ],
                  "type": "scatterpolar"
                },
                {
                  "fill": "toself",
                  "name": "courageous",
                  "r": [
                    -1.4311011070967588,
                    -1.4124718976398294,
                    -1.3946738788659405,
                    -1.3778555179090017,
                    -1.3570650531066453,
                    -1.344047998222754,
                    -1.3222508533112087,
                    -1.295759491517404,
                    -1.2756325999483762,
                    -1.260878336436519,
                    -1.2436783487268632,
                    -1.2281726011122849,
                    -1.2109933303140965,
                    -1.1983125486335147,
                    -1.189447002770499,
                    -1.1739706662707632,
                    -1.1634084734101728,
                    -1.1514348137426724,
                    -1.1433943900954526,
                    -1.1393487353924274,
                    -1.1386432766998924,
                    -1.1351779406366393,
                    -1.1347830621564792,
                    -1.1330204753687472,
                    -1.1377642820079163,
                    -1.140319791388798,
                    -1.1461249653943777,
                    -1.1558970883725013,
                    -1.1683010280873707,
                    -1.1798700327041924,
                    -1.1951636634977136,
                    -1.204342099953617,
                    -1.2176999079823152,
                    -1.232550039512148,
                    -1.2510645607158613,
                    -1.2701449930825337,
                    -1.2918799610799887,
                    -1.312717313337671,
                    -1.3313298123175479,
                    -1.3517782175182782,
                    -1.3749176265801593,
                    -1.3974463082345072,
                    -1.414932299330038,
                    -1.4348412525291987,
                    -1.4542466508071665,
                    -1.4708858108612497,
                    -1.4880293112627827,
                    -1.5065054764871975,
                    -1.5260433461327625,
                    -1.5429178660365537,
                    -1.5571883855185225,
                    -1.5699981570900785,
                    -1.5807560132319494,
                    -1.585897490301073,
                    -1.5889878694193191,
                    -1.5934912963077614,
                    -1.5946286997827277,
                    -1.5890415165350755,
                    -1.5802083381319,
                    -1.576454843556977,
                    -1.5626599870133477,
                    -1.5508016201547759,
                    -1.534686149504189,
                    -1.5150260076461812,
                    -1.4892427667686141,
                    -1.4596751172928473,
                    -1.432002725857478,
                    -1.398722435734789,
                    -1.3549094649025477,
                    -1.309902804184319,
                    -1.2664297653362049,
                    -1.216694556136368,
                    -1.1570942235892896,
                    -1.1000316083889967,
                    -1.0379061027919068,
                    -0.9666034958076718,
                    -0.8960533892467235,
                    -0.8211355808116408,
                    -0.7466760052698966,
                    -0.6660953981470771,
                    -0.5838585520160169,
                    -0.4997451076774494,
                    -0.4171542208180826,
                    -0.334656876857961,
                    -0.24429043224722946,
                    -0.15380512538061408,
                    -0.06479812775135674,
                    0.023026987825643552,
                    0.11532077495503779,
                    0.20343889409799415,
                    0.29293349967375487,
                    0.38315672040535353,
                    0.4703749996184578,
                    0.5582514341446685,
                    0.6396370555361004,
                    0.7247118806802559,
                    0.8026893187793566,
                    0.8809899612274601,
                    0.9535031423062776,
                    1.0296621052450972,
                    1.0987559494745258,
                    1.1564775733093717,
                    1.2164481261331261,
                    1.2739844271343108,
                    1.3245037104580417,
                    1.3734422921189278,
                    1.418691320441693,
                    1.4510604357069177,
                    1.4895497180132495,
                    1.5207684086817135,
                    1.551994907603103,
                    1.5708936906150874,
                    1.5860837500983966,
                    1.5982123449849839,
                    1.6053732241525267,
                    1.6061363891211642,
                    1.6051039236766118,
                    1.5956037195238588,
                    1.582457105646685,
                    1.5685832664380053,
                    1.548055872002422,
                    1.5274465650115192,
                    1.5017987832747814,
                    1.4696289321615787,
                    1.429859229997122,
                    1.3911323692337074,
                    1.347185449144845,
                    1.3015621518682043,
                    1.256049941175649,
                    1.2087109509132359,
                    1.15682660507766,
                    1.1037822187340292,
                    1.041751578285999,
                    0.9858082218697433,
                    0.9246031537539349,
                    0.8632761145785492,
                    0.7939062348367258,
                    0.7322303978817384,
                    0.6728634235182218,
                    0.6070312926656507,
                    0.5424903601112306,
                    0.47940505364716446,
                    0.41703908713580706,
                    0.3524884989521007,
                    0.29123604203295994,
                    0.23149221719111268,
                    0.1743400152886464,
                    0.11959234524272973,
                    0.06470386266611494,
                    0.009297290298012933,
                    -0.045608732486988435,
                    -0.10093279118232523,
                    -0.1491771008496202,
                    -0.19705723835029107,
                    -0.24251393677724148,
                    -0.2800774046162714,
                    -0.32209192066406206,
                    -0.360398043833957,
                    -0.39553994363183353,
                    -0.4289132425610124,
                    -0.45814676544569255,
                    -0.4832398371956048,
                    -0.5067056772335947,
                    -0.5306362200571604,
                    -0.5489831518182196,
                    -0.5692136931025558,
                    -0.585274659941536,
                    -0.59749070596823,
                    -0.6113867889892812,
                    -0.6214012556964169,
                    -0.6314983240042263,
                    -0.6380257124564431,
                    -0.6446776759138853,
                    -0.6514174585512832,
                    -0.6541051117125344,
                    -0.6501673427130263,
                    -0.6518906814033858,
                    -0.6485800676062831,
                    -0.6459967783890894,
                    -0.6435144017501893,
                    -0.640752110170274,
                    -0.6372747725174348,
                    -0.6293631841232772,
                    -0.622972577806692,
                    -0.6125745172127244,
                    -0.6065509227566468,
                    -0.5940066972076894,
                    -0.5791613556777186,
                    -0.572198695654518,
                    -0.5504085600258587,
                    -0.5335817029995292,
                    -0.5100369623207368,
                    -0.4839613105732846,
                    -0.45912425723953987,
                    -0.4268193607910863,
                    -0.39891655833339545,
                    -0.3701470129446748,
                    -0.3327246652716591,
                    -0.2955682801770023,
                    -0.25887369948917416,
                    -0.21928363340179302,
                    -0.1746251140613022,
                    -0.12501622580793015,
                    -0.07707315159607031,
                    -0.02728262471416154,
                    0.028874731487233962,
                    0.09025608684605313,
                    0.1583827398538291,
                    0.2185975701217613,
                    0.282063125245984,
                    0.3593711751874643,
                    0.43108370137566177,
                    0.49880011233210664,
                    0.5695633645163534,
                    0.645105900224942,
                    0.7246325728473051,
                    0.8031075141754036,
                    0.8860069684353311,
                    0.9601120300167926,
                    1.0449967539090397,
                    1.1292761032183205,
                    1.215990747684851,
                    1.299994501884406,
                    1.3794686607813076,
                    1.459213481724685,
                    1.539837975375142,
                    1.6220681119362643,
                    1.696900898566004,
                    1.7705273248776705,
                    1.8515898053240192,
                    1.9238053065244263,
                    1.9953187010388103,
                    2.0624229079654075,
                    2.126901263073366,
                    2.186658802131979,
                    2.2447236256860386,
                    2.289790040779206,
                    2.3311838304869847,
                    2.3750122996360234,
                    2.413860642053863,
                    2.4513407835641376,
                    2.474879777516947,
                    2.4964855869413425,
                    2.5145034345325814,
                    2.525778463395133,
                    2.5283263709595802,
                    2.527588219627511,
                    2.5172253520573844,
                    2.5018458205508085,
                    2.4776958078776232,
                    2.4507632154450083,
                    2.4161633376059095,
                    2.379167497452349,
                    2.331512024692044,
                    2.275194960383574,
                    2.2189088724007693,
                    2.1536423277330554,
                    2.080974579468446,
                    2.0078962640803057,
                    1.9272422097302397,
                    1.8430396000245928,
                    1.757877664146455,
                    1.6637068474687502,
                    1.5643580585902443,
                    1.4683586467504486,
                    1.363690081997712,
                    1.2486144847575964,
                    1.1400930043821642,
                    1.027057607787206,
                    0.9114061976513752,
                    0.791968772705406,
                    0.6660317270164337,
                    0.548358450558222,
                    0.4247662920426959,
                    0.30664499484127017,
                    0.18966905531017497,
                    0.07742382063554698,
                    -0.0350253701439559,
                    -0.14591556186563281,
                    -0.24706677520806575,
                    -0.34902622616071166,
                    -0.4481447872459586,
                    -0.5415225534272703,
                    -0.6326256590424997,
                    -0.7129733764322088,
                    -0.7896709158282978,
                    -0.8606923244106783,
                    -0.9322875590509718,
                    -0.9907083125190906,
                    -1.0478293625310389,
                    -1.099667334213148,
                    -1.1395905306903567,
                    -1.1713986209098601,
                    -1.1933612575214936,
                    -1.2136030414633079,
                    -1.2287419697101682,
                    -1.2335994857932335,
                    -1.230032643977248,
                    -1.2251244047805336,
                    -1.2154712774046623,
                    -1.1974210157754939,
                    -1.1689172827407655,
                    -1.1406367656741205,
                    -1.1091591965272503,
                    -1.0670821436585145,
                    -1.0214070090699405,
                    -0.9683048006592356,
                    -0.9124851219950091,
                    -0.8533680569058856,
                    -0.7942539269964567,
                    -0.7371254130437048,
                    -0.6735831910970144,
                    -0.6109807777939664,
                    -0.5441676401992148,
                    -0.4799550862991737,
                    -0.4158235119237231,
                    -0.3468233577246825,
                    -0.28646506239045844,
                    -0.2246932043569629,
                    -0.16812824086664302,
                    -0.11263883510384387,
                    -0.05923756189021301,
                    -0.010250013446677309,
                    0.044055948012891866,
                    0.09171511304051433,
                    0.13182388698862257,
                    0.1747508676482707,
                    0.2158828631461603,
                    0.25478951096430813,
                    0.2873891116315246,
                    0.3139181707343426,
                    0.33576397789874735,
                    0.3539421597007498,
                    0.3664792171339436,
                    0.37221749371435586,
                    0.3759859928768332,
                    0.3830695055183764,
                    0.3829031269390855,
                    0.3753735200732123,
                    0.3681265370449784,
                    0.3581438027314831,
                    0.3460246769422815,
                    0.3317773183161886,
                    0.3103686468204145,
                    0.28747702737653413,
                    0.26376562004978565,
                    0.23646726619136976,
                    0.2033618540839569,
                    0.1700637098206097,
                    0.13578344588118268,
                    0.11124757702364446,
                    0.08208789242294395,
                    0.054512942796888564,
                    0.021502254379870245,
                    -0.0058685600514918335,
                    -0.05954142500557025,
                    -0.09694126870020509,
                    -0.13380079437166803,
                    -0.16686614254809878,
                    -0.2004613551978875,
                    -0.2308182767624677,
                    -0.2658786670697157,
                    -0.29590723107924977,
                    -0.323862509584933,
                    -0.35061968187214937,
                    -0.3765534940798101,
                    -0.41073375858015293,
                    -0.44275870120121874,
                    -0.4784651753173258,
                    -0.504496169883841,
                    -0.5356348220386843,
                    -0.5690112722843372,
                    -0.6043579078835081,
                    -0.6315124597569848,
                    -0.6632953265500935,
                    -0.6946709672506225,
                    -0.729770878381525,
                    -0.7675495668680168,
                    -0.8108182733550373,
                    -0.8548690347824535,
                    -0.8993502869210961,
                    -0.944580509142716,
                    -0.988666324357752,
                    -1.0399305840549666,
                    -1.093266432903817,
                    -1.1505775573910362,
                    -1.2074710251434224,
                    -1.2686150149427355,
                    -1.329621797823137,
                    -1.4014125930339438,
                    -1.4714115574757807,
                    -1.5471553431276044,
                    -1.6183730494182362,
                    -1.6944921870771603,
                    -1.7686786659775886,
                    -1.8481509616355616,
                    -1.928744205038337,
                    -2.0107503444137143,
                    -2.088600524122722,
                    -2.1657008522093117,
                    -2.2459840370971333,
                    -2.3231799416509524,
                    -2.401141941688817,
                    -2.4787819959356656,
                    -2.5482905880627236,
                    -2.618818000692869,
                    -2.683337169289044,
                    -2.748905722972171,
                    -2.8042116914001425,
                    -2.855035365753343,
                    -2.899831169230825,
                    -2.940807747567473,
                    -2.9722913182684447,
                    -2.9946977889682933,
                    -3.009837754016496,
                    -3.018049070932739,
                    -3.020755802399574,
                    -3.0142688225307834,
                    -2.999882611076896,
                    -2.9747375412124724,
                    -2.9454309738480946,
                    -2.9067225649756288,
                    -2.8564705382888396,
                    -2.8005760055469313,
                    -2.733227915203323,
                    -2.6655423899503905,
                    -2.5865051938750114,
                    -2.4988476780196893,
                    -2.4045853508859816,
                    -2.3076058029825073,
                    -2.2040780627478815,
                    -2.09580641549394,
                    -1.9832194784001973,
                    -1.8725901937570784,
                    -1.7628500677652832,
                    -1.6429898921866801,
                    -1.5193680051918412,
                    -1.3932552375213516,
                    -1.2655182256423865,
                    -1.1375170016228735,
                    -1.016537401040915,
                    -0.8975476324491873,
                    -0.7760955482619164,
                    -0.6592850842735062,
                    -0.5500333046106181,
                    -0.4411315301994968,
                    -0.3385398769892003,
                    -0.23444926062380278,
                    -0.14086770645382896,
                    -0.05201179314211912,
                    0.03195233703579392,
                    0.10921621966038919,
                    0.1802118353462795,
                    0.24635397195288866,
                    0.3046947785277192,
                    0.35400035098305005,
                    0.39497419605005724,
                    0.4338562768422347,
                    0.46765825442858533,
                    0.4934649053070995,
                    0.5138435464254537,
                    0.5315522153902319,
                    0.5381211193238871,
                    0.5405261748730054,
                    0.5383612156579369,
                    0.5302541089059492,
                    0.520684668132704,
                    0.5051001427076911,
                    0.48940886845865283,
                    0.4701985700677793,
                    0.4426740022925808,
                    0.4160876557869684,
                    0.38836062930118553,
                    0.3567838868576414,
                    0.32527457787383607,
                    0.2934071440295732,
                    0.2611282031892786,
                    0.22726834952334612,
                    0.18782959695707774,
                    0.15298720297273083,
                    0.11932123151019391,
                    0.08980358453916076,
                    0.05684891651806312,
                    0.054537079415144685,
                    0.030539696640822206,
                    0.003103046612837307,
                    -0.022572288117572656,
                    -0.04583696060936984,
                    -0.06238978095315012,
                    -0.077766834792296,
                    -0.08748266068125879,
                    -0.10034870592782301,
                    -0.11191260146977497,
                    -0.11653944612128092,
                    -0.11970608495482177,
                    -0.12116401002613336,
                    -0.1198036933798926,
                    -0.12349663094061364,
                    -0.11510254275794285,
                    -0.1112407800854876,
                    -0.09951067066691899,
                    -0.095595488883424,
                    -0.09103283550650498,
                    -0.08064579726316634,
                    -0.07308218150836521,
                    -0.06655225651686392,
                    -0.054579524033530835,
                    -0.04493796592743493,
                    -0.03430167068134826,
                    -0.025127390287810858,
                    -0.01952813495028849,
                    -0.013942771654039787,
                    -0.0054818737371339354,
                    0.003657575378396727,
                    0.00927283354239139,
                    0.012035344990275698,
                    0.01286425388475132,
                    0.017794833482867367,
                    0.02386735227837733,
                    0.027201244275121383,
                    0.022317279080288577,
                    0.023102589797220574,
                    0.015191205862205015,
                    0.010161717750517774,
                    0.0034192206843223216,
                    -0.0023856623679925915,
                    -0.009007009324099813,
                    -0.01791240081790485,
                    -0.029854085395019714,
                    -0.040225190907945185,
                    -0.05181147204702352,
                    -0.06223539382358939,
                    -0.07535321620982718,
                    -0.08400889180210575,
                    -0.09519832385286964,
                    -0.10451296068929516,
                    -0.12336959952392601,
                    -0.13310817648287507,
                    -0.15207549043963187,
                    -0.16664352569334506,
                    -0.18158165912539942,
                    -0.20250138651811653,
                    -0.22275335550758382,
                    -0.23796341898024648,
                    -0.25584386300387496,
                    -0.2718143809736252,
                    -0.2854557398936537,
                    -0.30529587798731694,
                    -0.32719264928387415,
                    -0.34333212029840865,
                    -0.36235467615178785,
                    -0.38292514089059304,
                    -0.4009472892518853,
                    -0.4165406569916096,
                    -0.4302196489281938,
                    -0.4465677773720086,
                    -0.4617008014934084,
                    -0.47757655786009773,
                    -0.4891579673294566,
                    -0.5047590267434371,
                    -0.5202684230684395,
                    -0.5318257657158714,
                    -0.5399301737292438,
                    -0.5473092446305894,
                    -0.5573282011525686,
                    -0.5608337640196593,
                    -0.5649807039935207,
                    -0.5688421902323535,
                    -0.5625410086044788,
                    -0.5556526864278338,
                    -0.5498624546683922,
                    -0.5410471639973313,
                    -0.5239750454576846,
                    -0.511127418944019,
                    -0.4923249636844691,
                    -0.47530400352043717,
                    -0.4506746172195273,
                    -0.42703933138028677,
                    -0.3972856308096385,
                    -0.369643804164908,
                    -0.335844221967825,
                    -0.2957948971456146,
                    -0.25982848414232396,
                    -0.21422178158996802,
                    -0.17075085540931367,
                    -0.12575580003285067,
                    -0.08386978425625381,
                    -0.03562233051010735,
                    0.01163421692703076,
                    0.056480490160169095,
                    0.10281649363428616,
                    0.14781403431895776,
                    0.1937547705689328,
                    0.23929218162975563,
                    0.2797414813733422,
                    0.3212895706321666,
                    0.3604630575169934,
                    0.39144304850184014,
                    0.42328015003077224,
                    0.45786628267097546,
                    0.4838565230220436,
                    0.5099022437135514,
                    0.5376445766669031,
                    0.5594322649843098,
                    0.5792828266451916,
                    0.5924710454036314,
                    0.6033667602064158,
                    0.6093398507331902,
                    0.6103083227975022,
                    0.6084850281416725,
                    0.5999331163768624,
                    0.5830446705506556,
                    0.5696414478037153,
                    0.5518140572289036,
                    0.5301813272202944,
                    0.5032966318565548,
                    0.4708855663866116,
                    0.4418836843015643,
                    0.4024958096983674,
                    0.36797504178886165,
                    0.3305670917101549,
                    0.2856504834410777,
                    0.24239615159586364,
                    0.19792619387267052,
                    0.1447406368168137,
                    0.0940765744775911,
                    0.03151695725809567,
                    -0.028150358686659382,
                    -0.09249888420913666,
                    -0.14811488854752797,
                    -0.20768359956269034,
                    -0.26698085074113054,
                    -0.32486686569193485,
                    -0.3790195180612764,
                    -0.43865652231782687,
                    -0.4965966673354074,
                    -0.5570719808737824,
                    -0.6174581540188042,
                    -0.6733608686668598,
                    -0.733287865828617,
                    -0.7956727557693551,
                    -0.849931187302627,
                    -0.9046591882327013,
                    -0.9512080063824029,
                    -0.9955869733875895,
                    -1.0386553441160906,
                    -1.084507793514571,
                    -1.1280369607892249,
                    -1.1640649728523451,
                    -1.2018894118592747,
                    -1.231890622540049,
                    -1.2622694733309898,
                    -1.2899564541112838,
                    -1.3152295381553418,
                    -1.3388450516402235,
                    -1.3589827495394882,
                    -1.378782544316449,
                    -1.3975158973301582,
                    -1.4137831591438232,
                    -1.4251210670651289,
                    -1.4360455843645916,
                    -1.4461000769804386,
                    -1.4513224866862173,
                    -1.4571422370711553,
                    -1.4536376374329105,
                    -1.4573554635871286,
                    -1.4494520591074043,
                    -1.4443636913724591,
                    -1.4372471001644973,
                    -1.4265105571770071,
                    -1.4150025255587986,
                    -1.408744830175725,
                    -1.4020415908056898,
                    -1.395212418278381,
                    -1.385778931680175,
                    -1.3746912206045305,
                    -1.3582159218297676,
                    -1.3488322731371616,
                    -1.3395523956348412,
                    -1.3246168608445867,
                    -1.3109560762231782,
                    -1.298900835869895,
                    -1.2908588484559054,
                    -1.278707570511339,
                    -1.2679335568205918,
                    -1.2583966485683709,
                    -1.250688655895374,
                    -1.2392722528939895,
                    -1.2255631708059425,
                    -1.2130590545254674,
                    -1.2029887821503535,
                    -1.1963412914994946,
                    -1.1863589041579397,
                    -1.1847127641628281,
                    -1.179647511462977,
                    -1.1708991685376975,
                    -1.163268794082264,
                    -1.156864669694665,
                    -1.1560161778116695,
                    -1.1473670104171056,
                    -1.1419507795891002,
                    -1.1357683482916434,
                    -1.127005705020076,
                    -1.1226339823491513,
                    -1.120813895865008,
                    -1.1148838757509898,
                    -1.1085932031043897,
                    -1.1000060224648844,
                    -1.0954529801906692,
                    -1.096592721489267,
                    -1.088182922443695,
                    -1.0830515875529645,
                    -1.0812869035547992,
                    -1.0764623576403696,
                    -1.0706449001663918,
                    -1.071371500036217,
                    -1.0665824855604213,
                    -1.0685103379119174,
                    -1.063151277971374,
                    -1.0667305147412787,
                    -1.0699353633514996,
                    -1.071378328608315,
                    -1.0765316472837103,
                    -1.0797077662481986,
                    -1.088915975284583,
                    -1.0919073261311874,
                    -1.0983719369559832,
                    -1.1111215481133125,
                    -1.123581837486379,
                    -1.1390373681542174,
                    -1.1529553964457464,
                    -1.1731130240688015,
                    -1.1911841456546826,
                    -1.2091780291631409,
                    -1.2274944602921904,
                    -1.2465866745916452,
                    -1.26350039970277,
                    -1.2868481883225638,
                    -1.3083836172508208,
                    -1.3294760983003777,
                    -1.3514203220794414,
                    -1.3694411916842206,
                    -1.3876005336656982,
                    -1.405290978313806,
                    -1.422934560191357,
                    -1.440770804923119,
                    -1.4589710664878481,
                    -1.4763730627598561,
                    -1.4925863961626724,
                    -1.5073773163304423,
                    -1.525747119561903,
                    -1.5353848852297391,
                    -1.5399730320196126,
                    -1.54352749969425,
                    -1.546372789786621,
                    -1.5440635495315234,
                    -1.5447932863054779,
                    -1.5474725452217823,
                    -1.5440033474337531,
                    -1.5470546204012805,
                    -1.5435511463732696,
                    -1.5419544570863715,
                    -1.5364723707479118,
                    -1.5217909863570407,
                    -1.5059630594015805,
                    -1.4911751494124372,
                    -1.4747570718114176,
                    -1.4544156598658877,
                    -1.4311011070967588
                  ],
                  "type": "scatterpolar"
                }
              ],
              "layout": {
                "polar": {
                  "radialaxis": {
                    "range": [
                      -3,
                      3
                    ]
                  }
                },
                "template": {
                  "data": {
                    "bar": [
                      {
                        "error_x": {
                          "color": "#2a3f5f"
                        },
                        "error_y": {
                          "color": "#2a3f5f"
                        },
                        "marker": {
                          "line": {
                            "color": "#E5ECF6",
                            "width": 0.5
                          },
                          "pattern": {
                            "fillmode": "overlay",
                            "size": 10,
                            "solidity": 0.2
                          }
                        },
                        "type": "bar"
                      }
                    ],
                    "barpolar": [
                      {
                        "marker": {
                          "line": {
                            "color": "#E5ECF6",
                            "width": 0.5
                          },
                          "pattern": {
                            "fillmode": "overlay",
                            "size": 10,
                            "solidity": 0.2
                          }
                        },
                        "type": "barpolar"
                      }
                    ],
                    "carpet": [
                      {
                        "aaxis": {
                          "endlinecolor": "#2a3f5f",
                          "gridcolor": "white",
                          "linecolor": "white",
                          "minorgridcolor": "white",
                          "startlinecolor": "#2a3f5f"
                        },
                        "baxis": {
                          "endlinecolor": "#2a3f5f",
                          "gridcolor": "white",
                          "linecolor": "white",
                          "minorgridcolor": "white",
                          "startlinecolor": "#2a3f5f"
                        },
                        "type": "carpet"
                      }
                    ],
                    "choropleth": [
                      {
                        "colorbar": {
                          "outlinewidth": 0,
                          "ticks": ""
                        },
                        "type": "choropleth"
                      }
                    ],
                    "contour": [
                      {
                        "colorbar": {
                          "outlinewidth": 0,
                          "ticks": ""
                        },
                        "colorscale": [
                          [
                            0,
                            "#0d0887"
                          ],
                          [
                            0.1111111111111111,
                            "#46039f"
                          ],
                          [
                            0.2222222222222222,
                            "#7201a8"
                          ],
                          [
                            0.3333333333333333,
                            "#9c179e"
                          ],
                          [
                            0.4444444444444444,
                            "#bd3786"
                          ],
                          [
                            0.5555555555555556,
                            "#d8576b"
                          ],
                          [
                            0.6666666666666666,
                            "#ed7953"
                          ],
                          [
                            0.7777777777777778,
                            "#fb9f3a"
                          ],
                          [
                            0.8888888888888888,
                            "#fdca26"
                          ],
                          [
                            1,
                            "#f0f921"
                          ]
                        ],
                        "type": "contour"
                      }
                    ],
                    "contourcarpet": [
                      {
                        "colorbar": {
                          "outlinewidth": 0,
                          "ticks": ""
                        },
                        "type": "contourcarpet"
                      }
                    ],
                    "heatmap": [
                      {
                        "colorbar": {
                          "outlinewidth": 0,
                          "ticks": ""
                        },
                        "colorscale": [
                          [
                            0,
                            "#0d0887"
                          ],
                          [
                            0.1111111111111111,
                            "#46039f"
                          ],
                          [
                            0.2222222222222222,
                            "#7201a8"
                          ],
                          [
                            0.3333333333333333,
                            "#9c179e"
                          ],
                          [
                            0.4444444444444444,
                            "#bd3786"
                          ],
                          [
                            0.5555555555555556,
                            "#d8576b"
                          ],
                          [
                            0.6666666666666666,
                            "#ed7953"
                          ],
                          [
                            0.7777777777777778,
                            "#fb9f3a"
                          ],
                          [
                            0.8888888888888888,
                            "#fdca26"
                          ],
                          [
                            1,
                            "#f0f921"
                          ]
                        ],
                        "type": "heatmap"
                      }
                    ],
                    "heatmapgl": [
                      {
                        "colorbar": {
                          "outlinewidth": 0,
                          "ticks": ""
                        },
                        "colorscale": [
                          [
                            0,
                            "#0d0887"
                          ],
                          [
                            0.1111111111111111,
                            "#46039f"
                          ],
                          [
                            0.2222222222222222,
                            "#7201a8"
                          ],
                          [
                            0.3333333333333333,
                            "#9c179e"
                          ],
                          [
                            0.4444444444444444,
                            "#bd3786"
                          ],
                          [
                            0.5555555555555556,
                            "#d8576b"
                          ],
                          [
                            0.6666666666666666,
                            "#ed7953"
                          ],
                          [
                            0.7777777777777778,
                            "#fb9f3a"
                          ],
                          [
                            0.8888888888888888,
                            "#fdca26"
                          ],
                          [
                            1,
                            "#f0f921"
                          ]
                        ],
                        "type": "heatmapgl"
                      }
                    ],
                    "histogram": [
                      {
                        "marker": {
                          "pattern": {
                            "fillmode": "overlay",
                            "size": 10,
                            "solidity": 0.2
                          }
                        },
                        "type": "histogram"
                      }
                    ],
                    "histogram2d": [
                      {
                        "colorbar": {
                          "outlinewidth": 0,
                          "ticks": ""
                        },
                        "colorscale": [
                          [
                            0,
                            "#0d0887"
                          ],
                          [
                            0.1111111111111111,
                            "#46039f"
                          ],
                          [
                            0.2222222222222222,
                            "#7201a8"
                          ],
                          [
                            0.3333333333333333,
                            "#9c179e"
                          ],
                          [
                            0.4444444444444444,
                            "#bd3786"
                          ],
                          [
                            0.5555555555555556,
                            "#d8576b"
                          ],
                          [
                            0.6666666666666666,
                            "#ed7953"
                          ],
                          [
                            0.7777777777777778,
                            "#fb9f3a"
                          ],
                          [
                            0.8888888888888888,
                            "#fdca26"
                          ],
                          [
                            1,
                            "#f0f921"
                          ]
                        ],
                        "type": "histogram2d"
                      }
                    ],
                    "histogram2dcontour": [
                      {
                        "colorbar": {
                          "outlinewidth": 0,
                          "ticks": ""
                        },
                        "colorscale": [
                          [
                            0,
                            "#0d0887"
                          ],
                          [
                            0.1111111111111111,
                            "#46039f"
                          ],
                          [
                            0.2222222222222222,
                            "#7201a8"
                          ],
                          [
                            0.3333333333333333,
                            "#9c179e"
                          ],
                          [
                            0.4444444444444444,
                            "#bd3786"
                          ],
                          [
                            0.5555555555555556,
                            "#d8576b"
                          ],
                          [
                            0.6666666666666666,
                            "#ed7953"
                          ],
                          [
                            0.7777777777777778,
                            "#fb9f3a"
                          ],
                          [
                            0.8888888888888888,
                            "#fdca26"
                          ],
                          [
                            1,
                            "#f0f921"
                          ]
                        ],
                        "type": "histogram2dcontour"
                      }
                    ],
                    "mesh3d": [
                      {
                        "colorbar": {
                          "outlinewidth": 0,
                          "ticks": ""
                        },
                        "type": "mesh3d"
                      }
                    ],
                    "parcoords": [
                      {
                        "line": {
                          "colorbar": {
                            "outlinewidth": 0,
                            "ticks": ""
                          }
                        },
                        "type": "parcoords"
                      }
                    ],
                    "pie": [
                      {
                        "automargin": true,
                        "type": "pie"
                      }
                    ],
                    "scatter": [
                      {
                        "fillpattern": {
                          "fillmode": "overlay",
                          "size": 10,
                          "solidity": 0.2
                        },
                        "type": "scatter"
                      }
                    ],
                    "scatter3d": [
                      {
                        "line": {
                          "colorbar": {
                            "outlinewidth": 0,
                            "ticks": ""
                          }
                        },
                        "marker": {
                          "colorbar": {
                            "outlinewidth": 0,
                            "ticks": ""
                          }
                        },
                        "type": "scatter3d"
                      }
                    ],
                    "scattercarpet": [
                      {
                        "marker": {
                          "colorbar": {
                            "outlinewidth": 0,
                            "ticks": ""
                          }
                        },
                        "type": "scattercarpet"
                      }
                    ],
                    "scattergeo": [
                      {
                        "marker": {
                          "colorbar": {
                            "outlinewidth": 0,
                            "ticks": ""
                          }
                        },
                        "type": "scattergeo"
                      }
                    ],
                    "scattergl": [
                      {
                        "marker": {
                          "colorbar": {
                            "outlinewidth": 0,
                            "ticks": ""
                          }
                        },
                        "type": "scattergl"
                      }
                    ],
                    "scattermapbox": [
                      {
                        "marker": {
                          "colorbar": {
                            "outlinewidth": 0,
                            "ticks": ""
                          }
                        },
                        "type": "scattermapbox"
                      }
                    ],
                    "scatterpolar": [
                      {
                        "marker": {
                          "colorbar": {
                            "outlinewidth": 0,
                            "ticks": ""
                          }
                        },
                        "type": "scatterpolar"
                      }
                    ],
                    "scatterpolargl": [
                      {
                        "marker": {
                          "colorbar": {
                            "outlinewidth": 0,
                            "ticks": ""
                          }
                        },
                        "type": "scatterpolargl"
                      }
                    ],
                    "scatterternary": [
                      {
                        "marker": {
                          "colorbar": {
                            "outlinewidth": 0,
                            "ticks": ""
                          }
                        },
                        "type": "scatterternary"
                      }
                    ],
                    "surface": [
                      {
                        "colorbar": {
                          "outlinewidth": 0,
                          "ticks": ""
                        },
                        "colorscale": [
                          [
                            0,
                            "#0d0887"
                          ],
                          [
                            0.1111111111111111,
                            "#46039f"
                          ],
                          [
                            0.2222222222222222,
                            "#7201a8"
                          ],
                          [
                            0.3333333333333333,
                            "#9c179e"
                          ],
                          [
                            0.4444444444444444,
                            "#bd3786"
                          ],
                          [
                            0.5555555555555556,
                            "#d8576b"
                          ],
                          [
                            0.6666666666666666,
                            "#ed7953"
                          ],
                          [
                            0.7777777777777778,
                            "#fb9f3a"
                          ],
                          [
                            0.8888888888888888,
                            "#fdca26"
                          ],
                          [
                            1,
                            "#f0f921"
                          ]
                        ],
                        "type": "surface"
                      }
                    ],
                    "table": [
                      {
                        "cells": {
                          "fill": {
                            "color": "#EBF0F8"
                          },
                          "line": {
                            "color": "white"
                          }
                        },
                        "header": {
                          "fill": {
                            "color": "#C8D4E3"
                          },
                          "line": {
                            "color": "white"
                          }
                        },
                        "type": "table"
                      }
                    ]
                  },
                  "layout": {
                    "annotationdefaults": {
                      "arrowcolor": "#2a3f5f",
                      "arrowhead": 0,
                      "arrowwidth": 1
                    },
                    "autotypenumbers": "strict",
                    "coloraxis": {
                      "colorbar": {
                        "outlinewidth": 0,
                        "ticks": ""
                      }
                    },
                    "colorscale": {
                      "diverging": [
                        [
                          0,
                          "#8e0152"
                        ],
                        [
                          0.1,
                          "#c51b7d"
                        ],
                        [
                          0.2,
                          "#de77ae"
                        ],
                        [
                          0.3,
                          "#f1b6da"
                        ],
                        [
                          0.4,
                          "#fde0ef"
                        ],
                        [
                          0.5,
                          "#f7f7f7"
                        ],
                        [
                          0.6,
                          "#e6f5d0"
                        ],
                        [
                          0.7,
                          "#b8e186"
                        ],
                        [
                          0.8,
                          "#7fbc41"
                        ],
                        [
                          0.9,
                          "#4d9221"
                        ],
                        [
                          1,
                          "#276419"
                        ]
                      ],
                      "sequential": [
                        [
                          0,
                          "#0d0887"
                        ],
                        [
                          0.1111111111111111,
                          "#46039f"
                        ],
                        [
                          0.2222222222222222,
                          "#7201a8"
                        ],
                        [
                          0.3333333333333333,
                          "#9c179e"
                        ],
                        [
                          0.4444444444444444,
                          "#bd3786"
                        ],
                        [
                          0.5555555555555556,
                          "#d8576b"
                        ],
                        [
                          0.6666666666666666,
                          "#ed7953"
                        ],
                        [
                          0.7777777777777778,
                          "#fb9f3a"
                        ],
                        [
                          0.8888888888888888,
                          "#fdca26"
                        ],
                        [
                          1,
                          "#f0f921"
                        ]
                      ],
                      "sequentialminus": [
                        [
                          0,
                          "#0d0887"
                        ],
                        [
                          0.1111111111111111,
                          "#46039f"
                        ],
                        [
                          0.2222222222222222,
                          "#7201a8"
                        ],
                        [
                          0.3333333333333333,
                          "#9c179e"
                        ],
                        [
                          0.4444444444444444,
                          "#bd3786"
                        ],
                        [
                          0.5555555555555556,
                          "#d8576b"
                        ],
                        [
                          0.6666666666666666,
                          "#ed7953"
                        ],
                        [
                          0.7777777777777778,
                          "#fb9f3a"
                        ],
                        [
                          0.8888888888888888,
                          "#fdca26"
                        ],
                        [
                          1,
                          "#f0f921"
                        ]
                      ]
                    },
                    "colorway": [
                      "#636efa",
                      "#EF553B",
                      "#00cc96",
                      "#ab63fa",
                      "#FFA15A",
                      "#19d3f3",
                      "#FF6692",
                      "#B6E880",
                      "#FF97FF",
                      "#FECB52"
                    ],
                    "font": {
                      "color": "#2a3f5f"
                    },
                    "geo": {
                      "bgcolor": "white",
                      "lakecolor": "white",
                      "landcolor": "#E5ECF6",
                      "showlakes": true,
                      "showland": true,
                      "subunitcolor": "white"
                    },
                    "hoverlabel": {
                      "align": "left"
                    },
                    "hovermode": "closest",
                    "mapbox": {
                      "style": "light"
                    },
                    "paper_bgcolor": "white",
                    "plot_bgcolor": "#E5ECF6",
                    "polar": {
                      "angularaxis": {
                        "gridcolor": "white",
                        "linecolor": "white",
                        "ticks": ""
                      },
                      "bgcolor": "#E5ECF6",
                      "radialaxis": {
                        "gridcolor": "white",
                        "linecolor": "white",
                        "ticks": ""
                      }
                    },
                    "scene": {
                      "xaxis": {
                        "backgroundcolor": "#E5ECF6",
                        "gridcolor": "white",
                        "gridwidth": 2,
                        "linecolor": "white",
                        "showbackground": true,
                        "ticks": "",
                        "zerolinecolor": "white"
                      },
                      "yaxis": {
                        "backgroundcolor": "#E5ECF6",
                        "gridcolor": "white",
                        "gridwidth": 2,
                        "linecolor": "white",
                        "showbackground": true,
                        "ticks": "",
                        "zerolinecolor": "white"
                      },
                      "zaxis": {
                        "backgroundcolor": "#E5ECF6",
                        "gridcolor": "white",
                        "gridwidth": 2,
                        "linecolor": "white",
                        "showbackground": true,
                        "ticks": "",
                        "zerolinecolor": "white"
                      }
                    },
                    "shapedefaults": {
                      "line": {
                        "color": "#2a3f5f"
                      }
                    },
                    "ternary": {
                      "aaxis": {
                        "gridcolor": "white",
                        "linecolor": "white",
                        "ticks": ""
                      },
                      "baxis": {
                        "gridcolor": "white",
                        "linecolor": "white",
                        "ticks": ""
                      },
                      "bgcolor": "#E5ECF6",
                      "caxis": {
                        "gridcolor": "white",
                        "linecolor": "white",
                        "ticks": ""
                      }
                    },
                    "title": {
                      "x": 0.05
                    },
                    "xaxis": {
                      "automargin": true,
                      "gridcolor": "white",
                      "linecolor": "white",
                      "ticks": "",
                      "title": {
                        "standoff": 15
                      },
                      "zerolinecolor": "white",
                      "zerolinewidth": 2
                    },
                    "yaxis": {
                      "automargin": true,
                      "gridcolor": "white",
                      "linecolor": "white",
                      "ticks": "",
                      "title": {
                        "standoff": 15
                      },
                      "zerolinecolor": "white",
                      "zerolinewidth": 2
                    }
                  }
                }
              }
            }
          },
          "metadata": {},
          "output_type": "display_data"
        }
      ],
      "source": [
        "# Select word\n",
        "word1 = 'brave'\n",
        "word2 = 'courageous'\n",
        "\n",
        "# Retrieve a word embedding and apply sort & coef\n",
        "id1 = tokenizer.convert_tokens_to_ids([word1])[0]\n",
        "id2 = tokenizer.convert_tokens_to_ids([word2])[0]\n",
        "print(tokenizer.decode(torch.tensor([id1])), tokenizer.decode(torch.tensor([id2])))\n",
        "word_repr1 = np.array([vocab_emb_matrix[id1, dim] * coefs[i] for i, dim in enumerate(path)])\n",
        "word_repr2 = np.array([vocab_emb_matrix[id2, dim] * coefs[i] for i, dim in enumerate(path)])\n",
        "\n",
        "# Apply the filter\n",
        "word_repr1 = circular_convolution(word_repr1, filter)\n",
        "word_repr2 = circular_convolution(word_repr2, filter)\n",
        "\n",
        "# Plot the two words\n",
        "fig = go.Figure()\n",
        "fig.add_trace(go.Scatterpolar(r=word_repr1, name=word1))\n",
        "fig.add_trace(go.Scatterpolar(r=word_repr2, name=word2))\n",
        "fig.update_traces(fill='toself')\n",
        "fig.update_layout(polar=dict(radialaxis=dict(range=[-3, 3])))\n",
        "fig.show()"
      ]
    },
    {
      "cell_type": "code",
      "execution_count": null,
      "metadata": {},
      "outputs": [],
      "source": []
    }
  ],
  "metadata": {
    "colab": {
      "provenance": []
    },
    "kernelspec": {
      "display_name": "Python 3",
      "name": "python3"
    },
    "language_info": {
      "codemirror_mode": {
        "name": "ipython",
        "version": 3
      },
      "file_extension": ".py",
      "mimetype": "text/x-python",
      "name": "python",
      "nbconvert_exporter": "python",
      "pygments_lexer": "ipython3",
      "version": "3.11.6"
    }
  },
  "nbformat": 4,
  "nbformat_minor": 0
}
